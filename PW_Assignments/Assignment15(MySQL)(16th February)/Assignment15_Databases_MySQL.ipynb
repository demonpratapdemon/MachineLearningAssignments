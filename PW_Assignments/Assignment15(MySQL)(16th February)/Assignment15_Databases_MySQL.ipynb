{
 "cells": [
  {
   "cell_type": "markdown",
   "id": "46582d9b",
   "metadata": {},
   "source": [
    "## Q1. What is a database? Differentiate between SQL and NoSQL databases."
   ]
  },
  {
   "cell_type": "markdown",
   "id": "d6b2935e",
   "metadata": {},
   "source": [
    "Database is defined as a storage place where all the related datas are stored for a particular application in an organized structured or unstructured way. The database is a persistent memory where all the data can be stored unless deleted intentionally. \n",
    "\n",
    "SQL databse is a structured database where each and every table has a particular structure with a specific number of columns at any point of time. Eg: MySQL, DB2, Oracle Database\n",
    "\n",
    "NoSQL databases are unstructured databases where datas are stored in key-value formats mostly in JSON. In case of NoSQL databases, the datas stored for a particular document can have different number of keys(columns in SQL database). Eg: MongoDB, Cassandra, Neo4j."
   ]
  },
  {
   "cell_type": "markdown",
   "id": "b557eafd",
   "metadata": {},
   "source": [
    "## Q2. What is DDL? Explain why CREATE, DROP, ALTER, and TRUNCATE are used with an example."
   ]
  },
  {
   "cell_type": "markdown",
   "id": "d4837aa7",
   "metadata": {},
   "source": [
    "The full form of DDL is Data Definition Language. It is a syntax for creating and modifying database objects such as tables, indices, and users. DDL statements are similar to a computer programming language for defining data structures, especially database schemas."
   ]
  },
  {
   "cell_type": "code",
   "execution_count": 5,
   "id": "412a1ae1",
   "metadata": {},
   "outputs": [
    {
     "name": "stdout",
     "output_type": "stream",
     "text": [
      "Collecting mysql-connector-python\n",
      "  Downloading mysql_connector_python-8.0.33-cp39-cp39-win_amd64.whl (9.6 MB)\n",
      "Requirement already satisfied: protobuf<=3.20.3,>=3.11.0 in c:\\users\\lenovo\\anaconda3\\lib\\site-packages (from mysql-connector-python) (3.19.1)\n",
      "Installing collected packages: mysql-connector-python\n",
      "Successfully installed mysql-connector-python-8.0.33\n",
      "Note: you may need to restart the kernel to use updated packages.\n"
     ]
    }
   ],
   "source": [
    "pip install mysql-connector-python"
   ]
  },
  {
   "cell_type": "code",
   "execution_count": 7,
   "id": "1b96d974",
   "metadata": {},
   "outputs": [],
   "source": [
    "import mysql.connector as connector"
   ]
  },
  {
   "cell_type": "code",
   "execution_count": 27,
   "id": "1f5ca222",
   "metadata": {},
   "outputs": [
    {
     "name": "stdout",
     "output_type": "stream",
     "text": [
      "<mysql.connector.connection_cext.CMySQLConnection object at 0x000001C3392C56D0>\n",
      "('information_schema',)\n",
      "('mysql',)\n",
      "('performance_schema',)\n",
      "('pw_skills_db',)\n",
      "('sakila',)\n",
      "('sys',)\n",
      "('world',)\n"
     ]
    }
   ],
   "source": [
    "db = connector.connect(\n",
    "    host=\"localhost\",\n",
    "    port = 3306,\n",
    "    user=\"abc\",\n",
    "    password=\"password\")\n",
    "\n",
    "print(db)\n",
    "cursor = db.cursor()\n",
    "cursor.execute(\"SHOW DATABASES;\")\n",
    "for x in cursor:\n",
    "    print(x)"
   ]
  },
  {
   "cell_type": "code",
   "execution_count": 28,
   "id": "e70b4a02",
   "metadata": {},
   "outputs": [],
   "source": [
    "# Creating a table\n",
    "# Creating a table is used to create a structured way to store the data.\n",
    "cursor.execute(\"CREATE DATABASE if not exists pw_skills_db\")\n",
    "cursor.execute(\"CREATE TABLE if not exists pw_skills_db.test_table(c1 INT, c2 VARCHAR(50), c3 INT, c4 FLOAT, c5 VARCHAR(40))\")"
   ]
  },
  {
   "cell_type": "code",
   "execution_count": 29,
   "id": "d2424759",
   "metadata": {},
   "outputs": [],
   "source": [
    "# Drop a table column\n",
    "# Drop is used to either drop a column or a table from the database as and when required.\n",
    "cursor.execute(\"ALTER TABLE pw_skills_db.test_table DROP c5\")"
   ]
  },
  {
   "cell_type": "code",
   "execution_count": 30,
   "id": "6d1f0828",
   "metadata": {},
   "outputs": [],
   "source": [
    "# Altering a table\n",
    "# Altering a table is used hen we need to modify the type of a column in a table as and when required.\n",
    "cursor.execute(\"ALTER TABLE pw_skills_db.test_table ADD c5 VARCHAR(40)\")"
   ]
  },
  {
   "cell_type": "code",
   "execution_count": 36,
   "id": "4ed80b0c",
   "metadata": {},
   "outputs": [],
   "source": [
    "# Truncate a column in table\n",
    "# The TRUNCATE statement in MySQL removes the complete data without removing its structure. It is a part of DDL or data definition language command. Generally, we use this command when we want to delete an entire data from a table without removing the table structure.\n",
    "cursor.execute(\"INSERT into pw_skills_db.test_table values(1,'pratap',10,92.23,'Good')\")\n",
    "db.commit()\n",
    "cursor.execute(\"TRUNCATE TABLE pw_skills_db.test_table\")\n",
    "db.commit()"
   ]
  },
  {
   "cell_type": "markdown",
   "id": "a56aab84",
   "metadata": {},
   "source": [
    "## Q3. What is DML? Explain INSERT, UPDATE, and DELETE with an example."
   ]
  },
  {
   "cell_type": "markdown",
   "id": "a2efc632",
   "metadata": {},
   "source": [
    "The full form of DML is Data Manipulation Language. It is sed for adding, deleting, and modifying data in a database. A DML is often a sublanguage of a broader database language such as SQL, with the DML comprising some of the operators in the language. "
   ]
  },
  {
   "cell_type": "code",
   "execution_count": 37,
   "id": "bec268a3",
   "metadata": {},
   "outputs": [],
   "source": [
    "# Insert\n",
    "# Insert is used for inserting data into the table created inside a database. Insert happens according to the schema of the table.\n",
    "cursor.execute(\"INSERT into pw_skills_db.test_table values(1,'pratap',10,92.23,'Good')\")\n",
    "cursor.execute(\"INSERT into pw_skills_db.test_table values(2,'ranjan',12,80.10,'Worst')\")\n",
    "db.commit()"
   ]
  },
  {
   "cell_type": "code",
   "execution_count": 39,
   "id": "b28b60ef",
   "metadata": {},
   "outputs": [],
   "source": [
    "# Update\n",
    "# The UPDATE statement is used to modify the existing records in a table.\n",
    "cursor.execute(\"UPDATE pw_skills_db.test_table SET c2 = 'pratap_chandra', c3 = 100 WHERE c1 = 1\")\n",
    "db.commit()"
   ]
  },
  {
   "cell_type": "code",
   "execution_count": 42,
   "id": "dd85e97e",
   "metadata": {},
   "outputs": [],
   "source": [
    "# Delete\n",
    "# The DELETE statement is used to delete existing records in a table.\n",
    "cursor.execute(\"DELETE FROM pw_skills_db.test_table WHERE c1 = 2\")\n",
    "db.commit()"
   ]
  },
  {
   "cell_type": "markdown",
   "id": "1ba7da2c",
   "metadata": {},
   "source": [
    "## Q4. What is DQL? Explain SELECT with an example."
   ]
  },
  {
   "cell_type": "markdown",
   "id": "0fc2962c",
   "metadata": {},
   "source": [
    "The full form of DQL is Data Query Language. DQL is part of the base grouping of SQL sub-languages. These sub-languages are mainly categorized into four categories: a data query language, a data definition language, a data control language, and a data manipulation language.\n",
    "\n",
    "The SELECT statement is used to select data from a database.The data returned is stored in a result table, called the result-set.Either we can select all, multiple or any single columns using SELECT statement as per the requirement."
   ]
  },
  {
   "cell_type": "code",
   "execution_count": 52,
   "id": "5b961209",
   "metadata": {},
   "outputs": [
    {
     "name": "stdout",
     "output_type": "stream",
     "text": [
      "(1, 'pratap_chandra', 100, 92.23, 'Good')\n"
     ]
    }
   ],
   "source": [
    "cursor.execute(\"SELECT * from pw_skills_db.test_table\")\n",
    "for row in cursor.fetchall():\n",
    "    print(row)"
   ]
  },
  {
   "cell_type": "markdown",
   "id": "16c12c3b",
   "metadata": {},
   "source": [
    "## Q5. Explain Primary Key and Foreign Key."
   ]
  },
  {
   "cell_type": "markdown",
   "id": "9a89c3c4",
   "metadata": {},
   "source": [
    "In SQL databases, in every table there is a column called Primary Key which is used to uniquely identify each and every row of the table. The Primary Key remains always unique and it cannot be overwritten.\n",
    "\n",
    "Foreign key is the key which refers to the Primary Key of another table. For eg: There is a student and course tables in the database with unique Primary Keys as StudentID and CourseID respectively and each student takes only once course. Then in the student table, the course column can refer to the CourseID Primary Key of Course table."
   ]
  },
  {
   "cell_type": "code",
   "execution_count": 56,
   "id": "8cc75e65",
   "metadata": {},
   "outputs": [],
   "source": [
    "cursor.execute(\"CREATE TABLE if not exists pw_skills_db.course(CourseID INT NOT NULL PRIMARY KEY, CourseName VARCHAR(100))\")\n",
    "cursor.execute(\"CREATE TABLE if not exists pw_skills_db.student(StudentID INT, StudentName VARCHAR(100), Course INT, FOREIGN KEY(Course) REFERENCES COURSE(CourseID))\")"
   ]
  },
  {
   "cell_type": "code",
   "execution_count": 57,
   "id": "2d360b3c",
   "metadata": {},
   "outputs": [],
   "source": [
    "cursor.execute(\"INSERT INTO pw_skills_db.course values(1, 'DS')\")\n",
    "cursor.execute(\"INSERT INTO pw_skills_db.course values(2, 'ML')\")\n",
    "db.commit()\n",
    "cursor.execute(\"INSERT INTO pw_skills_db.student values(1,'Pratap',2)\")\n",
    "db.commit()"
   ]
  },
  {
   "cell_type": "code",
   "execution_count": 59,
   "id": "f924ac27",
   "metadata": {},
   "outputs": [
    {
     "ename": "IntegrityError",
     "evalue": "1452 (23000): Cannot add or update a child row: a foreign key constraint fails (`pw_skills_db`.`student`, CONSTRAINT `student_ibfk_1` FOREIGN KEY (`Course`) REFERENCES `course` (`CourseID`))",
     "output_type": "error",
     "traceback": [
      "\u001b[1;31m---------------------------------------------------------------------------\u001b[0m",
      "\u001b[1;31mMySQLInterfaceError\u001b[0m                       Traceback (most recent call last)",
      "File \u001b[1;32m~\\anaconda3\\lib\\site-packages\\mysql\\connector\\connection_cext.py:611\u001b[0m, in \u001b[0;36mCMySQLConnection.cmd_query\u001b[1;34m(self, query, raw, buffered, raw_as_string)\u001b[0m\n\u001b[0;32m    610\u001b[0m         query \u001b[38;5;241m=\u001b[39m query\u001b[38;5;241m.\u001b[39mencode(\u001b[38;5;124m\"\u001b[39m\u001b[38;5;124mutf-8\u001b[39m\u001b[38;5;124m\"\u001b[39m)\n\u001b[1;32m--> 611\u001b[0m     \u001b[38;5;28;43mself\u001b[39;49m\u001b[38;5;241;43m.\u001b[39;49m\u001b[43m_cmysql\u001b[49m\u001b[38;5;241;43m.\u001b[39;49m\u001b[43mquery\u001b[49m\u001b[43m(\u001b[49m\n\u001b[0;32m    612\u001b[0m \u001b[43m        \u001b[49m\u001b[43mquery\u001b[49m\u001b[43m,\u001b[49m\n\u001b[0;32m    613\u001b[0m \u001b[43m        \u001b[49m\u001b[43mraw\u001b[49m\u001b[38;5;241;43m=\u001b[39;49m\u001b[43mraw\u001b[49m\u001b[43m,\u001b[49m\n\u001b[0;32m    614\u001b[0m \u001b[43m        \u001b[49m\u001b[43mbuffered\u001b[49m\u001b[38;5;241;43m=\u001b[39;49m\u001b[43mbuffered\u001b[49m\u001b[43m,\u001b[49m\n\u001b[0;32m    615\u001b[0m \u001b[43m        \u001b[49m\u001b[43mraw_as_string\u001b[49m\u001b[38;5;241;43m=\u001b[39;49m\u001b[43mraw_as_string\u001b[49m\u001b[43m,\u001b[49m\n\u001b[0;32m    616\u001b[0m \u001b[43m        \u001b[49m\u001b[43mquery_attrs\u001b[49m\u001b[38;5;241;43m=\u001b[39;49m\u001b[38;5;28;43mself\u001b[39;49m\u001b[38;5;241;43m.\u001b[39;49m\u001b[43m_query_attrs\u001b[49m\u001b[43m,\u001b[49m\n\u001b[0;32m    617\u001b[0m \u001b[43m    \u001b[49m\u001b[43m)\u001b[49m\n\u001b[0;32m    618\u001b[0m \u001b[38;5;28;01mexcept\u001b[39;00m MySQLInterfaceError \u001b[38;5;28;01mas\u001b[39;00m err:\n",
      "\u001b[1;31mMySQLInterfaceError\u001b[0m: Cannot add or update a child row: a foreign key constraint fails (`pw_skills_db`.`student`, CONSTRAINT `student_ibfk_1` FOREIGN KEY (`Course`) REFERENCES `course` (`CourseID`))",
      "\nThe above exception was the direct cause of the following exception:\n",
      "\u001b[1;31mIntegrityError\u001b[0m                            Traceback (most recent call last)",
      "Input \u001b[1;32mIn [59]\u001b[0m, in \u001b[0;36m<cell line: 1>\u001b[1;34m()\u001b[0m\n\u001b[1;32m----> 1\u001b[0m \u001b[43mcursor\u001b[49m\u001b[38;5;241;43m.\u001b[39;49m\u001b[43mexecute\u001b[49m\u001b[43m(\u001b[49m\u001b[38;5;124;43m\"\u001b[39;49m\u001b[38;5;124;43mINSERT INTO pw_skills_db.student values(1,\u001b[39;49m\u001b[38;5;124;43m'\u001b[39;49m\u001b[38;5;124;43mPratap\u001b[39;49m\u001b[38;5;124;43m'\u001b[39;49m\u001b[38;5;124;43m,3)\u001b[39;49m\u001b[38;5;124;43m\"\u001b[39;49m\u001b[43m)\u001b[49m\n\u001b[0;32m      2\u001b[0m db\u001b[38;5;241m.\u001b[39mcommit()\n",
      "File \u001b[1;32m~\\anaconda3\\lib\\site-packages\\mysql\\connector\\cursor_cext.py:330\u001b[0m, in \u001b[0;36mCMySQLCursor.execute\u001b[1;34m(self, operation, params, multi)\u001b[0m\n\u001b[0;32m    325\u001b[0m             \u001b[38;5;28;01mraise\u001b[39;00m ProgrammingError(\n\u001b[0;32m    326\u001b[0m                 \u001b[38;5;124m\"\u001b[39m\u001b[38;5;124mNot all parameters were used in the SQL statement\u001b[39m\u001b[38;5;124m\"\u001b[39m\n\u001b[0;32m    327\u001b[0m             )\n\u001b[0;32m    329\u001b[0m \u001b[38;5;28;01mtry\u001b[39;00m:\n\u001b[1;32m--> 330\u001b[0m     result \u001b[38;5;241m=\u001b[39m \u001b[38;5;28;43mself\u001b[39;49m\u001b[38;5;241;43m.\u001b[39;49m\u001b[43m_cnx\u001b[49m\u001b[38;5;241;43m.\u001b[39;49m\u001b[43mcmd_query\u001b[49m\u001b[43m(\u001b[49m\n\u001b[0;32m    331\u001b[0m \u001b[43m        \u001b[49m\u001b[43mstmt\u001b[49m\u001b[43m,\u001b[49m\n\u001b[0;32m    332\u001b[0m \u001b[43m        \u001b[49m\u001b[43mraw\u001b[49m\u001b[38;5;241;43m=\u001b[39;49m\u001b[38;5;28;43mself\u001b[39;49m\u001b[38;5;241;43m.\u001b[39;49m\u001b[43m_raw\u001b[49m\u001b[43m,\u001b[49m\n\u001b[0;32m    333\u001b[0m \u001b[43m        \u001b[49m\u001b[43mbuffered\u001b[49m\u001b[38;5;241;43m=\u001b[39;49m\u001b[38;5;28;43mself\u001b[39;49m\u001b[38;5;241;43m.\u001b[39;49m\u001b[43m_buffered\u001b[49m\u001b[43m,\u001b[49m\n\u001b[0;32m    334\u001b[0m \u001b[43m        \u001b[49m\u001b[43mraw_as_string\u001b[49m\u001b[38;5;241;43m=\u001b[39;49m\u001b[38;5;28;43mself\u001b[39;49m\u001b[38;5;241;43m.\u001b[39;49m\u001b[43m_raw_as_string\u001b[49m\u001b[43m,\u001b[49m\n\u001b[0;32m    335\u001b[0m \u001b[43m    \u001b[49m\u001b[43m)\u001b[49m\n\u001b[0;32m    336\u001b[0m \u001b[38;5;28;01mexcept\u001b[39;00m MySQLInterfaceError \u001b[38;5;28;01mas\u001b[39;00m err:\n\u001b[0;32m    337\u001b[0m     \u001b[38;5;28;01mraise\u001b[39;00m get_mysql_exception(\n\u001b[0;32m    338\u001b[0m         msg\u001b[38;5;241m=\u001b[39merr\u001b[38;5;241m.\u001b[39mmsg, errno\u001b[38;5;241m=\u001b[39merr\u001b[38;5;241m.\u001b[39merrno, sqlstate\u001b[38;5;241m=\u001b[39merr\u001b[38;5;241m.\u001b[39msqlstate\n\u001b[0;32m    339\u001b[0m     ) \u001b[38;5;28;01mfrom\u001b[39;00m \u001b[38;5;21;01merr\u001b[39;00m\n",
      "File \u001b[1;32m~\\anaconda3\\lib\\site-packages\\mysql\\connector\\connection_cext.py:619\u001b[0m, in \u001b[0;36mCMySQLConnection.cmd_query\u001b[1;34m(self, query, raw, buffered, raw_as_string)\u001b[0m\n\u001b[0;32m    611\u001b[0m     \u001b[38;5;28mself\u001b[39m\u001b[38;5;241m.\u001b[39m_cmysql\u001b[38;5;241m.\u001b[39mquery(\n\u001b[0;32m    612\u001b[0m         query,\n\u001b[0;32m    613\u001b[0m         raw\u001b[38;5;241m=\u001b[39mraw,\n\u001b[1;32m   (...)\u001b[0m\n\u001b[0;32m    616\u001b[0m         query_attrs\u001b[38;5;241m=\u001b[39m\u001b[38;5;28mself\u001b[39m\u001b[38;5;241m.\u001b[39m_query_attrs,\n\u001b[0;32m    617\u001b[0m     )\n\u001b[0;32m    618\u001b[0m \u001b[38;5;28;01mexcept\u001b[39;00m MySQLInterfaceError \u001b[38;5;28;01mas\u001b[39;00m err:\n\u001b[1;32m--> 619\u001b[0m     \u001b[38;5;28;01mraise\u001b[39;00m get_mysql_exception(\n\u001b[0;32m    620\u001b[0m         err\u001b[38;5;241m.\u001b[39merrno, msg\u001b[38;5;241m=\u001b[39merr\u001b[38;5;241m.\u001b[39mmsg, sqlstate\u001b[38;5;241m=\u001b[39merr\u001b[38;5;241m.\u001b[39msqlstate\n\u001b[0;32m    621\u001b[0m     ) \u001b[38;5;28;01mfrom\u001b[39;00m \u001b[38;5;21;01merr\u001b[39;00m\n\u001b[0;32m    622\u001b[0m \u001b[38;5;28;01mexcept\u001b[39;00m \u001b[38;5;167;01mAttributeError\u001b[39;00m \u001b[38;5;28;01mas\u001b[39;00m err:\n\u001b[0;32m    623\u001b[0m     addr \u001b[38;5;241m=\u001b[39m (\n\u001b[0;32m    624\u001b[0m         \u001b[38;5;28mself\u001b[39m\u001b[38;5;241m.\u001b[39m_unix_socket \u001b[38;5;28;01mif\u001b[39;00m \u001b[38;5;28mself\u001b[39m\u001b[38;5;241m.\u001b[39m_unix_socket \u001b[38;5;28;01melse\u001b[39;00m \u001b[38;5;124mf\u001b[39m\u001b[38;5;124m\"\u001b[39m\u001b[38;5;132;01m{\u001b[39;00m\u001b[38;5;28mself\u001b[39m\u001b[38;5;241m.\u001b[39m_host\u001b[38;5;132;01m}\u001b[39;00m\u001b[38;5;124m:\u001b[39m\u001b[38;5;132;01m{\u001b[39;00m\u001b[38;5;28mself\u001b[39m\u001b[38;5;241m.\u001b[39m_port\u001b[38;5;132;01m}\u001b[39;00m\u001b[38;5;124m\"\u001b[39m\n\u001b[0;32m    625\u001b[0m     )\n",
      "\u001b[1;31mIntegrityError\u001b[0m: 1452 (23000): Cannot add or update a child row: a foreign key constraint fails (`pw_skills_db`.`student`, CONSTRAINT `student_ibfk_1` FOREIGN KEY (`Course`) REFERENCES `course` (`CourseID`))"
     ]
    }
   ],
   "source": [
    "cursor.execute(\"INSERT INTO pw_skills_db.student values(1,'Pratap',3)\")\n",
    "db.commit()"
   ]
  },
  {
   "cell_type": "markdown",
   "id": "6246abd5",
   "metadata": {},
   "source": [
    "## Q6. Write a python code to connect MySQL to python. Explain the cursor() and execute() method."
   ]
  },
  {
   "cell_type": "code",
   "execution_count": 61,
   "id": "d97846c6",
   "metadata": {},
   "outputs": [
    {
     "name": "stdout",
     "output_type": "stream",
     "text": [
      "<mysql.connector.connection_cext.CMySQLConnection object at 0x000001C3396FDD00>\n"
     ]
    }
   ],
   "source": [
    "db1 = connector.connect(\n",
    "    host=\"localhost\",\n",
    "    port = 3306,\n",
    "    user=\"abc\",\n",
    "    password=\"password\")\n",
    "\n",
    "print(db1)"
   ]
  },
  {
   "cell_type": "markdown",
   "id": "6179ae1f",
   "metadata": {},
   "source": [
    "The cursor method is just like a cursor towards the SQL database. Whatever queries we are going to execute should be done using a cursor. Even for a SELECT statement cursor points to the first row in the result-set object returned by it and we can iterate using that cursor.\n",
    "\n",
    "Execute method is used to execute a particular query in the selected database. In case of insert or delete statements, we also need to commit along with the execute method. various examples are shown above."
   ]
  },
  {
   "cell_type": "markdown",
   "id": "3535dffc",
   "metadata": {},
   "source": [
    "## Q7. Give the order of execution of SQL clauses in an SQL query."
   ]
  },
  {
   "cell_type": "markdown",
   "id": "3f9d13d1",
   "metadata": {},
   "source": [
    "The order in which the SQL clauses in queries are executed is as follows:\n",
    "\n",
    "\n",
    "**1. SELECT:** The SELECT clause is executed to derive all desired columns and expressions.\n",
    "\n",
    "**2. FROM/JOIN:** The FROM and/or JOIN clauses are executed first to determine the data of interest.\n",
    "\n",
    "**3. WHERE:** The WHERE clause is executed to filter out records that do not meet the constraints.\n",
    "\n",
    "**4. GROUP BY:** The GROUP BY clause is executed to group the data based on the values in one or more columns.\n",
    "\n",
    "**5. HAVING:** The HAVING clause is executed to remove the created grouped records that don’t meet the constraints.\n",
    "\n",
    "**6. ORDER BY:** The ORDER BY clause is executed to sort the derived values in ascending or descending order.\n",
    "\n",
    "**7. LIMIT/OFFSET:** Finally, the LIMIT and/or OFFSET clauses are executed to keep or skip a specified number of rows."
   ]
  }
 ],
 "metadata": {
  "kernelspec": {
   "display_name": "Python 3 (ipykernel)",
   "language": "python",
   "name": "python3"
  },
  "language_info": {
   "codemirror_mode": {
    "name": "ipython",
    "version": 3
   },
   "file_extension": ".py",
   "mimetype": "text/x-python",
   "name": "python",
   "nbconvert_exporter": "python",
   "pygments_lexer": "ipython3",
   "version": "3.9.12"
  }
 },
 "nbformat": 4,
 "nbformat_minor": 5
}
