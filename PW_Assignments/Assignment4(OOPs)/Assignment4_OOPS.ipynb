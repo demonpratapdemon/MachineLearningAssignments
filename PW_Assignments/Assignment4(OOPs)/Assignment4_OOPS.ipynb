{
 "cells": [
  {
   "cell_type": "markdown",
   "id": "9a583a3b-ace2-4156-93ff-5c14fafa19f8",
   "metadata": {},
   "source": [
    "**Q1. Explain Class and Object with respect to Object-Oriented Programming. Give a suitable example.**"
   ]
  },
  {
   "cell_type": "markdown",
   "id": "b47c81c6-702d-479f-b147-767eb8eb9270",
   "metadata": {},
   "source": [
    "***Class*** - Class can be defined as a blueprint of the object with all the variables and methods defined for it. For e.g. - Car can be defined as a class which implements the blueprint of the generic functions of a car.  \n",
    "\n",
    "***Object*** - Object can be defined as a real world entity which exists. For e.g. - Toyota car cab be defined as an object of the class Car."
   ]
  },
  {
   "cell_type": "code",
   "execution_count": 5,
   "id": "5ea8e531-a532-4c05-a0ba-8b8ffeffda0a",
   "metadata": {},
   "outputs": [
    {
     "data": {
      "text/plain": [
       "'No of wheels 4 and the mode of car is manual'"
      ]
     },
     "execution_count": 5,
     "metadata": {},
     "output_type": "execute_result"
    }
   ],
   "source": [
    "class Car:\n",
    "    def __init__(self, wheels, mode):\n",
    "        self.wheels = wheels\n",
    "        self.mode = mode\n",
    "    def printCar(self):\n",
    "        return \"No of wheels {w} and the mode of car is {m}\".format(w = self.wheels, m = self.mode)\n",
    "    \n",
    "toyota = Car(4, \"manual\")\n",
    "toyota.printCar()"
   ]
  },
  {
   "cell_type": "markdown",
   "id": "f5729597-9901-44a9-9f52-10564edf9c57",
   "metadata": {},
   "source": [
    "**Q2. Name the four pillars of OOPs.**"
   ]
  },
  {
   "cell_type": "markdown",
   "id": "1e87c1c5-e143-4ad5-8e25-508a235a6f8e",
   "metadata": {},
   "source": [
    "The 4 pillars of OOPs are as follows:  \n",
    "1. Abstraction  \n",
    "2. Encapsulation  \n",
    "3. Polymorphism  \n",
    "4. Inheritance"
   ]
  },
  {
   "cell_type": "markdown",
   "id": "a84490b6-45a9-453e-8e36-63244169ae59",
   "metadata": {},
   "source": [
    "**Q3. Explain why the __init__() function is used. Give a suitable example.**"
   ]
  },
  {
   "cell_type": "markdown",
   "id": "73d16929-7adf-47ad-8c14-e5fdcae09207",
   "metadata": {},
   "source": [
    "The \"init\" function can also be called as a constructor for a particular class to define the variables and initialize them."
   ]
  },
  {
   "cell_type": "code",
   "execution_count": 9,
   "id": "49040c8b-77dd-4824-be47-703f4f10743e",
   "metadata": {},
   "outputs": [
    {
     "name": "stdout",
     "output_type": "stream",
     "text": [
      "The machine has 10 buttons and the operations of the machine are ['coin insertion', 'choosing item', 'output that item']\n"
     ]
    }
   ],
   "source": [
    "class Machine:\n",
    "    def __init__(self, buttons, ops):\n",
    "        self.buttons = buttons\n",
    "        self.ops = ops\n",
    "\n",
    "machine = Machine(10, [\"coin insertion\", \"choosing item\", \"output that item\"])\n",
    "print(\"The machine has {b} buttons and the operations of the machine are {ops}\".format(b = machine.buttons, ops = machine.ops))"
   ]
  },
  {
   "cell_type": "markdown",
   "id": "ffb8e01b-d3b3-4f12-b019-b81020f3dce4",
   "metadata": {},
   "source": [
    "**Q4. Why self is used in OOPs?**"
   ]
  },
  {
   "cell_type": "markdown",
   "id": "c319eba3-02a4-473b-8195-7a8a261cdcd6",
   "metadata": {},
   "source": [
    "The \"self\" parameter is a reference to the current instance of the class, and is used to access variables that belongs to the class."
   ]
  },
  {
   "cell_type": "markdown",
   "id": "87e218c3-7b56-4c3a-96ef-13ee23ec5e23",
   "metadata": {},
   "source": [
    "**Q5. What is inheritance? Give an example for each type of inheritance.**"
   ]
  },
  {
   "cell_type": "markdown",
   "id": "43c93b42-cf42-4afe-87a8-217a580fabea",
   "metadata": {},
   "source": [
    "Inheritance ca be defined as one of the 4 pillars of OOPs concept which means one class can inherit the properties and methods of another class."
   ]
  },
  {
   "cell_type": "code",
   "execution_count": 11,
   "id": "d3508497-6b22-4e3c-aff9-454c3d83c597",
   "metadata": {},
   "outputs": [
    {
     "name": "stdout",
     "output_type": "stream",
     "text": [
      "I am Parent\n",
      "I am Child\n"
     ]
    }
   ],
   "source": [
    "# Single Level Inheritance\n",
    "\n",
    "class Parent:    \n",
    "    def printParent(self):\n",
    "        print(\"I am Parent\")\n",
    "\n",
    "class Child(Parent):\n",
    "    def printChild(self):\n",
    "        print(\"I am Child\")\n",
    "\n",
    "obj = Child()\n",
    "obj.printParent()\n",
    "obj.printChild()"
   ]
  },
  {
   "cell_type": "code",
   "execution_count": 13,
   "id": "500cb0c8-1b04-487a-9707-2863313ed218",
   "metadata": {},
   "outputs": [
    {
     "name": "stdout",
     "output_type": "stream",
     "text": [
      "I am Parent1\n",
      "I am Parent2\n",
      "I am Child\n"
     ]
    }
   ],
   "source": [
    "# Multiple Inheritance\n",
    "\n",
    "class Parent1:\n",
    "    def printParent1(self):\n",
    "        print(\"I am Parent1\")\n",
    "\n",
    "class Parent2:\n",
    "    def printParent2(self):\n",
    "        print(\"I am Parent2\")\n",
    "        \n",
    "class Child(Parent1, Parent2):\n",
    "    def printChild(self):\n",
    "        print(\"I am Child\")\n",
    "        \n",
    "obj = Child()\n",
    "obj.printParent1()\n",
    "obj.printParent2()\n",
    "obj.printChild()"
   ]
  },
  {
   "cell_type": "code",
   "execution_count": 14,
   "id": "06ed2167-aac4-4e92-8a0b-7bc6cb251109",
   "metadata": {},
   "outputs": [
    {
     "name": "stdout",
     "output_type": "stream",
     "text": [
      "I am Parent1\n",
      "I am Parent2\n",
      "I am Child\n"
     ]
    }
   ],
   "source": [
    "# Multilevel Inheritance\n",
    "\n",
    "class Parent1:\n",
    "    def printParent1(self):\n",
    "        print(\"I am Parent1\")\n",
    "        \n",
    "class Parent2(Parent1):\n",
    "    def printParent2(self):\n",
    "        print(\"I am Parent2\")\n",
    "        \n",
    "class Child(Parent2):\n",
    "    def printChild(self):\n",
    "        print(\"I am Child\")\n",
    "        \n",
    "obj = Child()\n",
    "obj.printParent1()\n",
    "obj.printParent2()\n",
    "obj.printChild()"
   ]
  },
  {
   "cell_type": "code",
   "execution_count": 15,
   "id": "7889a5d9-33ae-407c-ae92-6f98cdd5cd8f",
   "metadata": {},
   "outputs": [
    {
     "name": "stdout",
     "output_type": "stream",
     "text": [
      "I am Parent\n",
      "I am Child1\n",
      "I am Parent\n",
      "I am Child2\n"
     ]
    }
   ],
   "source": [
    "# Hierarchical Inheritance\n",
    "\n",
    "class Parent:\n",
    "    def printParent(self):\n",
    "        print(\"I am Parent\")\n",
    "        \n",
    "class Child1(Parent):\n",
    "    def printChild1(self):\n",
    "        print(\"I am Child1\")\n",
    "        \n",
    "class Child2(Parent):\n",
    "    def printChild2(self):\n",
    "        print(\"I am Child2\")\n",
    "        \n",
    "obj1 = Child1()\n",
    "obj2 = Child2()\n",
    "obj1.printParent()\n",
    "obj1.printChild1()\n",
    "\n",
    "obj2.printParent()\n",
    "obj2.printChild2()"
   ]
  },
  {
   "cell_type": "code",
   "execution_count": 16,
   "id": "67838699-2e34-4547-b88d-5df3b6f4f6de",
   "metadata": {},
   "outputs": [
    {
     "name": "stdout",
     "output_type": "stream",
     "text": [
      "This function is in Parent.\n",
      "This function is in Child1 \n"
     ]
    }
   ],
   "source": [
    "# Hybrid Inheritance\n",
    "\n",
    "class Parent:\n",
    "    def func1(self):\n",
    "        print(\"This function is in Parent.\")\n",
    " \n",
    " \n",
    "class Child1(Parent):\n",
    "    def func2(self):\n",
    "        print(\"This function is in Child1 \")\n",
    " \n",
    " \n",
    "class Child2(Parent):\n",
    "    def func3(self):\n",
    "        print(\"This function is in Child2\")\n",
    " \n",
    " \n",
    "class Child3(Child1, Parent):\n",
    "    def func4(self):\n",
    "        print(\"This function is in Child3\")\n",
    " \n",
    "\n",
    "object = Child3()\n",
    "object.func1()\n",
    "object.func2()"
   ]
  }
 ],
 "metadata": {
  "kernelspec": {
   "display_name": "Python 3 (ipykernel)",
   "language": "python",
   "name": "python3"
  },
  "language_info": {
   "codemirror_mode": {
    "name": "ipython",
    "version": 3
   },
   "file_extension": ".py",
   "mimetype": "text/x-python",
   "name": "python",
   "nbconvert_exporter": "python",
   "pygments_lexer": "ipython3",
   "version": "3.10.8"
  }
 },
 "nbformat": 4,
 "nbformat_minor": 5
}
