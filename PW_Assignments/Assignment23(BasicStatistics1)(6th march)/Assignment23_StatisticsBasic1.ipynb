{
 "cells": [
  {
   "cell_type": "markdown",
   "id": "c3b01a2f",
   "metadata": {},
   "source": [
    "## Q1. What is Statistics?"
   ]
  },
  {
   "cell_type": "markdown",
   "id": "316c6c91",
   "metadata": {},
   "source": [
    "Statistics is defined as a tool used for collecting, analyzing and organizing various datas from differnet fields"
   ]
  },
  {
   "cell_type": "markdown",
   "id": "3976b84b",
   "metadata": {},
   "source": [
    "## Q2. Define the different types of statistics and give an example of when each type might be used."
   ]
  },
  {
   "cell_type": "markdown",
   "id": "9e4e3f43",
   "metadata": {},
   "source": [
    "There are 2 types of statistics as follows:\n",
    "\n",
    "1. **Descriptive Statistics** - It consists of organizing and summarizing the data. E.g: Measure of central tendency(Mean,Median,Mode), Measure of Dispersion(Variance, Standard Deviation, etc.\n",
    "2. **Inferential Statistics** - It consists of the data collected to be measured and form conclusion. E.g: Hypothesis Testing, Finding average salary of a data analyst across India whether equal to the expectation, etc"
   ]
  },
  {
   "cell_type": "markdown",
   "id": "83d28f79",
   "metadata": {},
   "source": [
    "## Q3. What are the different types of data and how do they differ from each other? Provide an example of each type of data."
   ]
  },
  {
   "cell_type": "markdown",
   "id": "39043a39",
   "metadata": {},
   "source": [
    "The different types of data are as follows:\n",
    "\n",
    "1. **Quantitative -** It deals with numerical data.  \n",
    "    i. **Discrete -** Deals with whole numbers, integers (Eg: no bank accounts, no of mobile phones)  \n",
    "    ii. **Continuous -** Deals with any value (Eg: weight, height, temperatur, speed)  \n",
    "2. **Qualitative -** It deals with categorical data  \n",
    "    i. **Nominal -** It deals with data with no order or rank. (Eg: gender)  \n",
    "    ii. **Ordinal -** It deals with data having order and rank. (Eg: Grades order)  "
   ]
  },
  {
   "cell_type": "markdown",
   "id": "e9446c7e",
   "metadata": {},
   "source": [
    "## Q4. Categorise the following datasets with respect to quantitative and qualitative data types:\n",
    "## (i) Grading in exam: A+, A, B+, B, C+, C, D, E\n",
    "## (ii) Colour of mangoes: yellow, green, orange, red\n",
    "## (iii) Height data of a class: [178.9, 179, 179.5, 176, 177.2, 178.3, 175.8,...]\n",
    "## (iv) Number of mangoes exported by a farm: [500, 600, 478, 672, ...]"
   ]
  },
  {
   "cell_type": "markdown",
   "id": "526bd2a7",
   "metadata": {},
   "source": [
    "The categorization is as follows:\n",
    "\n",
    "1. **Grading in exam: A+, A, B+, B, C+, C, D, E -** This is Ordinal Data as there is rank and order\n",
    "2. **Colour of mangoes: yellow, green, orange, red -** This is Nominal Data\n",
    "3. **Height data of a class: [178.9, 179, 179.5, 176, 177.2, 178.3, 175.8,...] -** This is Continuous Data\n",
    "4. **Number of mangoes exported by a farm: [500, 600, 478, 672, ...] -** This is Discrete Data"
   ]
  },
  {
   "cell_type": "markdown",
   "id": "43056852",
   "metadata": {},
   "source": [
    "## Q5. Explain the concept of levels of measurement and give an example of a variable for each level."
   ]
  },
  {
   "cell_type": "markdown",
   "id": "351898ba",
   "metadata": {},
   "source": [
    "The different levels of measurement of data are as follows:\n",
    "\n",
    "1. **Nominal Scale Data -** It deals with Qualitative or Categrical Data. Order doesn't matter. Eg: colors, gender,etc\n",
    "2. **Ordinal Scale Data -** It also deals with Qualitative or Categrical Data. Her ranking and order matters. Eg: Sales,Qualification, etc\n",
    "3. **Interval Scale Data -** Rank and order matters but difference cannot be measured. It doesn't have a \"0\" starting value. Eg: Temperature, Age,etc\n",
    "4. **Ratio Scale Data -** Rank and order matters. Differences and ratios are measurable. Does have a \"0\" starting value. Eg: Score,etc"
   ]
  },
  {
   "cell_type": "markdown",
   "id": "a5ce5813",
   "metadata": {},
   "source": [
    "## Q6. Why is it important to understand the level of measurement when analyzing data? Provide an example to illustrate your answer."
   ]
  },
  {
   "cell_type": "markdown",
   "id": "ce52094f",
   "metadata": {},
   "source": [
    "It is important to understand the level of measurement of variables in research, because the level of measurement determines the type of statistical analysis that can be conducted, and, therefore, the type of conclusions that can be drawn from the research. They indicate the extent to which statisticians, marketing analysts and financial analysts can use existing data. \n",
    "\n",
    "**Eg 1:** For instance, if you classify your data at the ordinal level of measurement, you know that you can evaluate how items compare to each other based on a specific hierarchy because here order matters.\n",
    "\n",
    "**Eg 2:** If we want to analyze the exact distance between items rather than understand only how they compare to one another, we might want to rely on data at the interval level of measurement.\n",
    "\n",
    "**Eg 3:** For instance, when applying interval measurement, we might present the data in charts or graphs, whereas ratio measurement might use mathematical equations."
   ]
  },
  {
   "cell_type": "markdown",
   "id": "529fab25",
   "metadata": {},
   "source": [
    "## Q7. How nominal data type is different from ordinal data type?"
   ]
  },
  {
   "cell_type": "markdown",
   "id": "eacb28db",
   "metadata": {},
   "source": [
    "Both Nominal and ordinal data types deal with Qualitative or categorical Data. But Nominal data doesn't bother about the order or rank but Ordinal data bothers about the order of the data. Eg: Nominal Data deals with Gender where there is no rank or order can be assigned. Whereas Ordinal Data deals with Qualification which has a particular order."
   ]
  },
  {
   "cell_type": "markdown",
   "id": "8a01d565",
   "metadata": {},
   "source": [
    "## Q8. Which type of plot can be used to display data in terms of range?"
   ]
  },
  {
   "cell_type": "markdown",
   "id": "117a68eb",
   "metadata": {},
   "source": [
    "The type of plot that can be used to display data in terms of range is **Histogram Plot**. If the groups depicted in a bar chart are actually continuous numeric ranges, we can push the bars together to generate a histogram."
   ]
  },
  {
   "cell_type": "markdown",
   "id": "1c93286e",
   "metadata": {},
   "source": [
    "## Q9. Describe the difference between descriptive and inferential"
   ]
  },
  {
   "cell_type": "markdown",
   "id": "fb78b6ca",
   "metadata": {},
   "source": [
    "Descriptive statistics summarize the characteristics of a data set. Inferential statistics helps us to test a hypothesis or assess whether the data is generalizable to the broader population. Descriptive statistics state facts and proven outcomes from a population, whereas inferential statistics analyze samplings to make predictions about larger populations."
   ]
  },
  {
   "cell_type": "markdown",
   "id": "7ab161bc",
   "metadata": {},
   "source": [
    "## Q10. What are some common measures of central tendency and variability used in statistics? Explain how each measure can be used to describe a dataset."
   ]
  },
  {
   "cell_type": "markdown",
   "id": "a8fb1a58",
   "metadata": {},
   "source": [
    "The common measures of Central Tendency used in Statistics are **Mean, Median and Mode**.\n",
    "A measure of central tendency (also referred to as measures of centre or central location) is a summary measure that attempts to describe a whole set of data with a single value that represents the middle or centre of its distribution.\n",
    "\n",
    "The common measures of Variability used in Statistics are **Standard Deviation and Variance**. Variability refers to how spread out a group of data is. The common measures of variability are the range, IQR, variance, and standard deviation. Data sets with similar values are said to have little variability while data sets that have values that are spread out have high variability.\n",
    "\n",
    "Central tendency and dispersion together describe a (numeric) vector by giving indicative information about the point around which the observations spread, and how far away from that middle point they tend to lie."
   ]
  }
 ],
 "metadata": {
  "kernelspec": {
   "display_name": "Python 3 (ipykernel)",
   "language": "python",
   "name": "python3"
  },
  "language_info": {
   "codemirror_mode": {
    "name": "ipython",
    "version": 3
   },
   "file_extension": ".py",
   "mimetype": "text/x-python",
   "name": "python",
   "nbconvert_exporter": "python",
   "pygments_lexer": "ipython3",
   "version": "3.9.12"
  }
 },
 "nbformat": 4,
 "nbformat_minor": 5
}
