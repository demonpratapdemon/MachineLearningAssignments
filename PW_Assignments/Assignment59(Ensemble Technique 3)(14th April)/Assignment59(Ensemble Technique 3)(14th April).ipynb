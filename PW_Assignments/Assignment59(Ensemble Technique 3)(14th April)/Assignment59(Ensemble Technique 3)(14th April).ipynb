{
 "cells": [
  {
   "cell_type": "markdown",
   "id": "92e16d01",
   "metadata": {},
   "source": [
    "## Build a random forest classifier to predict the risk of heart disease based on a dataset of patient information. The dataset contains 303 instances with 14 features, including age, sex, chest pain type, resting blood pressure, serum cholesterol, and maximum heart rate achieved.\n",
    "\n",
    "#### Dataset link: https://drive.google.com/file/d/1bGoIE4Z2kG5nyh-fGZAJ7LH0ki3UfmSJ/view?usp=share_link"
   ]
  },
  {
   "cell_type": "code",
   "execution_count": 1,
   "id": "7c4a38d6",
   "metadata": {},
   "outputs": [],
   "source": [
    "import pandas as pd\n",
    "import numpy as np\n",
    "import seaborn as sns\n",
    "import matplotlib.pyplot as plt\n",
    "import warnings\n",
    "\n",
    "warnings.filterwarnings(\"ignore\")"
   ]
  },
  {
   "cell_type": "code",
   "execution_count": 2,
   "id": "1d329ba8",
   "metadata": {},
   "outputs": [
    {
     "data": {
      "text/html": [
       "<div>\n",
       "<style scoped>\n",
       "    .dataframe tbody tr th:only-of-type {\n",
       "        vertical-align: middle;\n",
       "    }\n",
       "\n",
       "    .dataframe tbody tr th {\n",
       "        vertical-align: top;\n",
       "    }\n",
       "\n",
       "    .dataframe thead th {\n",
       "        text-align: right;\n",
       "    }\n",
       "</style>\n",
       "<table border=\"1\" class=\"dataframe\">\n",
       "  <thead>\n",
       "    <tr style=\"text-align: right;\">\n",
       "      <th></th>\n",
       "      <th>age</th>\n",
       "      <th>sex</th>\n",
       "      <th>cp</th>\n",
       "      <th>trestbps</th>\n",
       "      <th>chol</th>\n",
       "      <th>fbs</th>\n",
       "      <th>restecg</th>\n",
       "      <th>thalach</th>\n",
       "      <th>exang</th>\n",
       "      <th>oldpeak</th>\n",
       "      <th>slope</th>\n",
       "      <th>ca</th>\n",
       "      <th>thal</th>\n",
       "      <th>target</th>\n",
       "    </tr>\n",
       "  </thead>\n",
       "  <tbody>\n",
       "    <tr>\n",
       "      <th>0</th>\n",
       "      <td>63</td>\n",
       "      <td>1</td>\n",
       "      <td>3</td>\n",
       "      <td>145</td>\n",
       "      <td>233</td>\n",
       "      <td>1</td>\n",
       "      <td>0</td>\n",
       "      <td>150</td>\n",
       "      <td>0</td>\n",
       "      <td>2.3</td>\n",
       "      <td>0</td>\n",
       "      <td>0</td>\n",
       "      <td>1</td>\n",
       "      <td>1</td>\n",
       "    </tr>\n",
       "    <tr>\n",
       "      <th>1</th>\n",
       "      <td>37</td>\n",
       "      <td>1</td>\n",
       "      <td>2</td>\n",
       "      <td>130</td>\n",
       "      <td>250</td>\n",
       "      <td>0</td>\n",
       "      <td>1</td>\n",
       "      <td>187</td>\n",
       "      <td>0</td>\n",
       "      <td>3.5</td>\n",
       "      <td>0</td>\n",
       "      <td>0</td>\n",
       "      <td>2</td>\n",
       "      <td>1</td>\n",
       "    </tr>\n",
       "    <tr>\n",
       "      <th>2</th>\n",
       "      <td>41</td>\n",
       "      <td>0</td>\n",
       "      <td>1</td>\n",
       "      <td>130</td>\n",
       "      <td>204</td>\n",
       "      <td>0</td>\n",
       "      <td>0</td>\n",
       "      <td>172</td>\n",
       "      <td>0</td>\n",
       "      <td>1.4</td>\n",
       "      <td>2</td>\n",
       "      <td>0</td>\n",
       "      <td>2</td>\n",
       "      <td>1</td>\n",
       "    </tr>\n",
       "    <tr>\n",
       "      <th>3</th>\n",
       "      <td>56</td>\n",
       "      <td>1</td>\n",
       "      <td>1</td>\n",
       "      <td>120</td>\n",
       "      <td>236</td>\n",
       "      <td>0</td>\n",
       "      <td>1</td>\n",
       "      <td>178</td>\n",
       "      <td>0</td>\n",
       "      <td>0.8</td>\n",
       "      <td>2</td>\n",
       "      <td>0</td>\n",
       "      <td>2</td>\n",
       "      <td>1</td>\n",
       "    </tr>\n",
       "    <tr>\n",
       "      <th>4</th>\n",
       "      <td>57</td>\n",
       "      <td>0</td>\n",
       "      <td>0</td>\n",
       "      <td>120</td>\n",
       "      <td>354</td>\n",
       "      <td>0</td>\n",
       "      <td>1</td>\n",
       "      <td>163</td>\n",
       "      <td>1</td>\n",
       "      <td>0.6</td>\n",
       "      <td>2</td>\n",
       "      <td>0</td>\n",
       "      <td>2</td>\n",
       "      <td>1</td>\n",
       "    </tr>\n",
       "  </tbody>\n",
       "</table>\n",
       "</div>"
      ],
      "text/plain": [
       "   age  sex  cp  trestbps  chol  fbs  restecg  thalach  exang  oldpeak  slope  \\\n",
       "0   63    1   3       145   233    1        0      150      0      2.3      0   \n",
       "1   37    1   2       130   250    0        1      187      0      3.5      0   \n",
       "2   41    0   1       130   204    0        0      172      0      1.4      2   \n",
       "3   56    1   1       120   236    0        1      178      0      0.8      2   \n",
       "4   57    0   0       120   354    0        1      163      1      0.6      2   \n",
       "\n",
       "   ca  thal  target  \n",
       "0   0     1       1  \n",
       "1   0     2       1  \n",
       "2   0     2       1  \n",
       "3   0     2       1  \n",
       "4   0     2       1  "
      ]
     },
     "execution_count": 2,
     "metadata": {},
     "output_type": "execute_result"
    }
   ],
   "source": [
    "df = pd.read_csv(filepath_or_buffer=\"./data/patient_info_dataset.csv\")\n",
    "df.head()"
   ]
  },
  {
   "cell_type": "code",
   "execution_count": 3,
   "id": "8bf6a01a",
   "metadata": {},
   "outputs": [
    {
     "data": {
      "text/plain": [
       "array([1, 0], dtype=int64)"
      ]
     },
     "execution_count": 3,
     "metadata": {},
     "output_type": "execute_result"
    }
   ],
   "source": [
    "df[\"target\"].unique()"
   ]
  },
  {
   "cell_type": "markdown",
   "id": "39dff840",
   "metadata": {},
   "source": [
    "##### Considering 1 means prone to heart attack and ) being not prone to heart attack"
   ]
  },
  {
   "cell_type": "markdown",
   "id": "b292b616",
   "metadata": {},
   "source": [
    "## Q1. Preprocess the dataset by handling missing values, encoding categorical variables, and scaling the numerical features if necessary."
   ]
  },
  {
   "cell_type": "markdown",
   "id": "bfc5c3ed",
   "metadata": {},
   "source": [
    "##### Let's check for null values in the dataset"
   ]
  },
  {
   "cell_type": "code",
   "execution_count": 4,
   "id": "dd67894c",
   "metadata": {},
   "outputs": [
    {
     "name": "stdout",
     "output_type": "stream",
     "text": [
      "<class 'pandas.core.frame.DataFrame'>\n",
      "RangeIndex: 303 entries, 0 to 302\n",
      "Data columns (total 14 columns):\n",
      " #   Column    Non-Null Count  Dtype  \n",
      "---  ------    --------------  -----  \n",
      " 0   age       303 non-null    int64  \n",
      " 1   sex       303 non-null    int64  \n",
      " 2   cp        303 non-null    int64  \n",
      " 3   trestbps  303 non-null    int64  \n",
      " 4   chol      303 non-null    int64  \n",
      " 5   fbs       303 non-null    int64  \n",
      " 6   restecg   303 non-null    int64  \n",
      " 7   thalach   303 non-null    int64  \n",
      " 8   exang     303 non-null    int64  \n",
      " 9   oldpeak   303 non-null    float64\n",
      " 10  slope     303 non-null    int64  \n",
      " 11  ca        303 non-null    int64  \n",
      " 12  thal      303 non-null    int64  \n",
      " 13  target    303 non-null    int64  \n",
      "dtypes: float64(1), int64(13)\n",
      "memory usage: 33.3 KB\n"
     ]
    }
   ],
   "source": [
    "df.info()"
   ]
  },
  {
   "cell_type": "code",
   "execution_count": 5,
   "id": "bfb64867",
   "metadata": {},
   "outputs": [
    {
     "data": {
      "text/plain": [
       "age         0\n",
       "sex         0\n",
       "cp          0\n",
       "trestbps    0\n",
       "chol        0\n",
       "fbs         0\n",
       "restecg     0\n",
       "thalach     0\n",
       "exang       0\n",
       "oldpeak     0\n",
       "slope       0\n",
       "ca          0\n",
       "thal        0\n",
       "target      0\n",
       "dtype: int64"
      ]
     },
     "execution_count": 5,
     "metadata": {},
     "output_type": "execute_result"
    }
   ],
   "source": [
    "df.isna().sum()"
   ]
  },
  {
   "cell_type": "markdown",
   "id": "71525b5b",
   "metadata": {},
   "source": [
    "##### So there are no null values in the dataset. Hence no need for processing null data."
   ]
  },
  {
   "cell_type": "markdown",
   "id": "7a77b119",
   "metadata": {},
   "source": [
    "##### There are no categorical variables as well, hence no need for encoding the data."
   ]
  },
  {
   "cell_type": "markdown",
   "id": "6454420a",
   "metadata": {},
   "source": [
    "##### Let's check out the scale of the values in the dataset."
   ]
  },
  {
   "cell_type": "code",
   "execution_count": 6,
   "id": "780f173b",
   "metadata": {},
   "outputs": [
    {
     "data": {
      "text/html": [
       "<div>\n",
       "<style scoped>\n",
       "    .dataframe tbody tr th:only-of-type {\n",
       "        vertical-align: middle;\n",
       "    }\n",
       "\n",
       "    .dataframe tbody tr th {\n",
       "        vertical-align: top;\n",
       "    }\n",
       "\n",
       "    .dataframe thead th {\n",
       "        text-align: right;\n",
       "    }\n",
       "</style>\n",
       "<table border=\"1\" class=\"dataframe\">\n",
       "  <thead>\n",
       "    <tr style=\"text-align: right;\">\n",
       "      <th></th>\n",
       "      <th>count</th>\n",
       "      <th>mean</th>\n",
       "      <th>std</th>\n",
       "      <th>min</th>\n",
       "      <th>25%</th>\n",
       "      <th>50%</th>\n",
       "      <th>75%</th>\n",
       "      <th>max</th>\n",
       "    </tr>\n",
       "  </thead>\n",
       "  <tbody>\n",
       "    <tr>\n",
       "      <th>age</th>\n",
       "      <td>303.0</td>\n",
       "      <td>54.366337</td>\n",
       "      <td>9.082101</td>\n",
       "      <td>29.0</td>\n",
       "      <td>47.5</td>\n",
       "      <td>55.0</td>\n",
       "      <td>61.0</td>\n",
       "      <td>77.0</td>\n",
       "    </tr>\n",
       "    <tr>\n",
       "      <th>sex</th>\n",
       "      <td>303.0</td>\n",
       "      <td>0.683168</td>\n",
       "      <td>0.466011</td>\n",
       "      <td>0.0</td>\n",
       "      <td>0.0</td>\n",
       "      <td>1.0</td>\n",
       "      <td>1.0</td>\n",
       "      <td>1.0</td>\n",
       "    </tr>\n",
       "    <tr>\n",
       "      <th>cp</th>\n",
       "      <td>303.0</td>\n",
       "      <td>0.966997</td>\n",
       "      <td>1.032052</td>\n",
       "      <td>0.0</td>\n",
       "      <td>0.0</td>\n",
       "      <td>1.0</td>\n",
       "      <td>2.0</td>\n",
       "      <td>3.0</td>\n",
       "    </tr>\n",
       "    <tr>\n",
       "      <th>trestbps</th>\n",
       "      <td>303.0</td>\n",
       "      <td>131.623762</td>\n",
       "      <td>17.538143</td>\n",
       "      <td>94.0</td>\n",
       "      <td>120.0</td>\n",
       "      <td>130.0</td>\n",
       "      <td>140.0</td>\n",
       "      <td>200.0</td>\n",
       "    </tr>\n",
       "    <tr>\n",
       "      <th>chol</th>\n",
       "      <td>303.0</td>\n",
       "      <td>246.264026</td>\n",
       "      <td>51.830751</td>\n",
       "      <td>126.0</td>\n",
       "      <td>211.0</td>\n",
       "      <td>240.0</td>\n",
       "      <td>274.5</td>\n",
       "      <td>564.0</td>\n",
       "    </tr>\n",
       "    <tr>\n",
       "      <th>fbs</th>\n",
       "      <td>303.0</td>\n",
       "      <td>0.148515</td>\n",
       "      <td>0.356198</td>\n",
       "      <td>0.0</td>\n",
       "      <td>0.0</td>\n",
       "      <td>0.0</td>\n",
       "      <td>0.0</td>\n",
       "      <td>1.0</td>\n",
       "    </tr>\n",
       "    <tr>\n",
       "      <th>restecg</th>\n",
       "      <td>303.0</td>\n",
       "      <td>0.528053</td>\n",
       "      <td>0.525860</td>\n",
       "      <td>0.0</td>\n",
       "      <td>0.0</td>\n",
       "      <td>1.0</td>\n",
       "      <td>1.0</td>\n",
       "      <td>2.0</td>\n",
       "    </tr>\n",
       "    <tr>\n",
       "      <th>thalach</th>\n",
       "      <td>303.0</td>\n",
       "      <td>149.646865</td>\n",
       "      <td>22.905161</td>\n",
       "      <td>71.0</td>\n",
       "      <td>133.5</td>\n",
       "      <td>153.0</td>\n",
       "      <td>166.0</td>\n",
       "      <td>202.0</td>\n",
       "    </tr>\n",
       "    <tr>\n",
       "      <th>exang</th>\n",
       "      <td>303.0</td>\n",
       "      <td>0.326733</td>\n",
       "      <td>0.469794</td>\n",
       "      <td>0.0</td>\n",
       "      <td>0.0</td>\n",
       "      <td>0.0</td>\n",
       "      <td>1.0</td>\n",
       "      <td>1.0</td>\n",
       "    </tr>\n",
       "    <tr>\n",
       "      <th>oldpeak</th>\n",
       "      <td>303.0</td>\n",
       "      <td>1.039604</td>\n",
       "      <td>1.161075</td>\n",
       "      <td>0.0</td>\n",
       "      <td>0.0</td>\n",
       "      <td>0.8</td>\n",
       "      <td>1.6</td>\n",
       "      <td>6.2</td>\n",
       "    </tr>\n",
       "    <tr>\n",
       "      <th>slope</th>\n",
       "      <td>303.0</td>\n",
       "      <td>1.399340</td>\n",
       "      <td>0.616226</td>\n",
       "      <td>0.0</td>\n",
       "      <td>1.0</td>\n",
       "      <td>1.0</td>\n",
       "      <td>2.0</td>\n",
       "      <td>2.0</td>\n",
       "    </tr>\n",
       "    <tr>\n",
       "      <th>ca</th>\n",
       "      <td>303.0</td>\n",
       "      <td>0.729373</td>\n",
       "      <td>1.022606</td>\n",
       "      <td>0.0</td>\n",
       "      <td>0.0</td>\n",
       "      <td>0.0</td>\n",
       "      <td>1.0</td>\n",
       "      <td>4.0</td>\n",
       "    </tr>\n",
       "    <tr>\n",
       "      <th>thal</th>\n",
       "      <td>303.0</td>\n",
       "      <td>2.313531</td>\n",
       "      <td>0.612277</td>\n",
       "      <td>0.0</td>\n",
       "      <td>2.0</td>\n",
       "      <td>2.0</td>\n",
       "      <td>3.0</td>\n",
       "      <td>3.0</td>\n",
       "    </tr>\n",
       "    <tr>\n",
       "      <th>target</th>\n",
       "      <td>303.0</td>\n",
       "      <td>0.544554</td>\n",
       "      <td>0.498835</td>\n",
       "      <td>0.0</td>\n",
       "      <td>0.0</td>\n",
       "      <td>1.0</td>\n",
       "      <td>1.0</td>\n",
       "      <td>1.0</td>\n",
       "    </tr>\n",
       "  </tbody>\n",
       "</table>\n",
       "</div>"
      ],
      "text/plain": [
       "          count        mean        std    min    25%    50%    75%    max\n",
       "age       303.0   54.366337   9.082101   29.0   47.5   55.0   61.0   77.0\n",
       "sex       303.0    0.683168   0.466011    0.0    0.0    1.0    1.0    1.0\n",
       "cp        303.0    0.966997   1.032052    0.0    0.0    1.0    2.0    3.0\n",
       "trestbps  303.0  131.623762  17.538143   94.0  120.0  130.0  140.0  200.0\n",
       "chol      303.0  246.264026  51.830751  126.0  211.0  240.0  274.5  564.0\n",
       "fbs       303.0    0.148515   0.356198    0.0    0.0    0.0    0.0    1.0\n",
       "restecg   303.0    0.528053   0.525860    0.0    0.0    1.0    1.0    2.0\n",
       "thalach   303.0  149.646865  22.905161   71.0  133.5  153.0  166.0  202.0\n",
       "exang     303.0    0.326733   0.469794    0.0    0.0    0.0    1.0    1.0\n",
       "oldpeak   303.0    1.039604   1.161075    0.0    0.0    0.8    1.6    6.2\n",
       "slope     303.0    1.399340   0.616226    0.0    1.0    1.0    2.0    2.0\n",
       "ca        303.0    0.729373   1.022606    0.0    0.0    0.0    1.0    4.0\n",
       "thal      303.0    2.313531   0.612277    0.0    2.0    2.0    3.0    3.0\n",
       "target    303.0    0.544554   0.498835    0.0    0.0    1.0    1.0    1.0"
      ]
     },
     "execution_count": 6,
     "metadata": {},
     "output_type": "execute_result"
    }
   ],
   "source": [
    "df.describe().T"
   ]
  },
  {
   "cell_type": "markdown",
   "id": "2a0cdb2d",
   "metadata": {},
   "source": [
    "##### No need for scaling as we are going to use Random Forest which uses Decision Trees in the algorithm which do not require feature scaling"
   ]
  },
  {
   "cell_type": "markdown",
   "id": "1518bd66",
   "metadata": {},
   "source": [
    "## Q2. Split the dataset into a training set (70%) and a test set (30%)."
   ]
  },
  {
   "cell_type": "code",
   "execution_count": 7,
   "id": "12cc4e9c",
   "metadata": {},
   "outputs": [],
   "source": [
    "X = df.drop(labels=\"target\", axis = 1)\n",
    "Y = df[\"target\"]"
   ]
  },
  {
   "cell_type": "code",
   "execution_count": 8,
   "id": "a514e5db",
   "metadata": {},
   "outputs": [
    {
     "name": "stdout",
     "output_type": "stream",
     "text": [
      "The train data shape:(212, 13), (212,)\n",
      "The test data shape:(91, 13), (91,)\n"
     ]
    }
   ],
   "source": [
    "from sklearn.model_selection import train_test_split\n",
    "\n",
    "X_train, X_test, y_train, y_test = train_test_split(X, Y, test_size=0.3, random_state=42)\n",
    "print(f\"The train data shape:{X_train.shape}, {y_train.shape}\")\n",
    "print(f\"The test data shape:{X_test.shape}, {y_test.shape}\")"
   ]
  },
  {
   "cell_type": "markdown",
   "id": "c1301edf",
   "metadata": {},
   "source": [
    "## Q3. Train a random forest classifier on the training set using 100 trees and a maximum depth of 10 for each tree. Use the default values for other hyperparameters."
   ]
  },
  {
   "cell_type": "code",
   "execution_count": 9,
   "id": "7a87de7f",
   "metadata": {},
   "outputs": [
    {
     "data": {
      "text/html": [
       "<style>#sk-container-id-1 {color: black;}#sk-container-id-1 pre{padding: 0;}#sk-container-id-1 div.sk-toggleable {background-color: white;}#sk-container-id-1 label.sk-toggleable__label {cursor: pointer;display: block;width: 100%;margin-bottom: 0;padding: 0.3em;box-sizing: border-box;text-align: center;}#sk-container-id-1 label.sk-toggleable__label-arrow:before {content: \"▸\";float: left;margin-right: 0.25em;color: #696969;}#sk-container-id-1 label.sk-toggleable__label-arrow:hover:before {color: black;}#sk-container-id-1 div.sk-estimator:hover label.sk-toggleable__label-arrow:before {color: black;}#sk-container-id-1 div.sk-toggleable__content {max-height: 0;max-width: 0;overflow: hidden;text-align: left;background-color: #f0f8ff;}#sk-container-id-1 div.sk-toggleable__content pre {margin: 0.2em;color: black;border-radius: 0.25em;background-color: #f0f8ff;}#sk-container-id-1 input.sk-toggleable__control:checked~div.sk-toggleable__content {max-height: 200px;max-width: 100%;overflow: auto;}#sk-container-id-1 input.sk-toggleable__control:checked~label.sk-toggleable__label-arrow:before {content: \"▾\";}#sk-container-id-1 div.sk-estimator input.sk-toggleable__control:checked~label.sk-toggleable__label {background-color: #d4ebff;}#sk-container-id-1 div.sk-label input.sk-toggleable__control:checked~label.sk-toggleable__label {background-color: #d4ebff;}#sk-container-id-1 input.sk-hidden--visually {border: 0;clip: rect(1px 1px 1px 1px);clip: rect(1px, 1px, 1px, 1px);height: 1px;margin: -1px;overflow: hidden;padding: 0;position: absolute;width: 1px;}#sk-container-id-1 div.sk-estimator {font-family: monospace;background-color: #f0f8ff;border: 1px dotted black;border-radius: 0.25em;box-sizing: border-box;margin-bottom: 0.5em;}#sk-container-id-1 div.sk-estimator:hover {background-color: #d4ebff;}#sk-container-id-1 div.sk-parallel-item::after {content: \"\";width: 100%;border-bottom: 1px solid gray;flex-grow: 1;}#sk-container-id-1 div.sk-label:hover label.sk-toggleable__label {background-color: #d4ebff;}#sk-container-id-1 div.sk-serial::before {content: \"\";position: absolute;border-left: 1px solid gray;box-sizing: border-box;top: 0;bottom: 0;left: 50%;z-index: 0;}#sk-container-id-1 div.sk-serial {display: flex;flex-direction: column;align-items: center;background-color: white;padding-right: 0.2em;padding-left: 0.2em;position: relative;}#sk-container-id-1 div.sk-item {position: relative;z-index: 1;}#sk-container-id-1 div.sk-parallel {display: flex;align-items: stretch;justify-content: center;background-color: white;position: relative;}#sk-container-id-1 div.sk-item::before, #sk-container-id-1 div.sk-parallel-item::before {content: \"\";position: absolute;border-left: 1px solid gray;box-sizing: border-box;top: 0;bottom: 0;left: 50%;z-index: -1;}#sk-container-id-1 div.sk-parallel-item {display: flex;flex-direction: column;z-index: 1;position: relative;background-color: white;}#sk-container-id-1 div.sk-parallel-item:first-child::after {align-self: flex-end;width: 50%;}#sk-container-id-1 div.sk-parallel-item:last-child::after {align-self: flex-start;width: 50%;}#sk-container-id-1 div.sk-parallel-item:only-child::after {width: 0;}#sk-container-id-1 div.sk-dashed-wrapped {border: 1px dashed gray;margin: 0 0.4em 0.5em 0.4em;box-sizing: border-box;padding-bottom: 0.4em;background-color: white;}#sk-container-id-1 div.sk-label label {font-family: monospace;font-weight: bold;display: inline-block;line-height: 1.2em;}#sk-container-id-1 div.sk-label-container {text-align: center;}#sk-container-id-1 div.sk-container {/* jupyter's `normalize.less` sets `[hidden] { display: none; }` but bootstrap.min.css set `[hidden] { display: none !important; }` so we also need the `!important` here to be able to override the default hidden behavior on the sphinx rendered scikit-learn.org. See: https://github.com/scikit-learn/scikit-learn/issues/21755 */display: inline-block !important;position: relative;}#sk-container-id-1 div.sk-text-repr-fallback {display: none;}</style><div id=\"sk-container-id-1\" class=\"sk-top-container\"><div class=\"sk-text-repr-fallback\"><pre>RandomForestClassifier(max_depth=10)</pre><b>In a Jupyter environment, please rerun this cell to show the HTML representation or trust the notebook. <br />On GitHub, the HTML representation is unable to render, please try loading this page with nbviewer.org.</b></div><div class=\"sk-container\" hidden><div class=\"sk-item\"><div class=\"sk-estimator sk-toggleable\"><input class=\"sk-toggleable__control sk-hidden--visually\" id=\"sk-estimator-id-1\" type=\"checkbox\" checked><label for=\"sk-estimator-id-1\" class=\"sk-toggleable__label sk-toggleable__label-arrow\">RandomForestClassifier</label><div class=\"sk-toggleable__content\"><pre>RandomForestClassifier(max_depth=10)</pre></div></div></div></div></div>"
      ],
      "text/plain": [
       "RandomForestClassifier(max_depth=10)"
      ]
     },
     "execution_count": 9,
     "metadata": {},
     "output_type": "execute_result"
    }
   ],
   "source": [
    "from sklearn.ensemble import RandomForestClassifier\n",
    "\n",
    "classifier = RandomForestClassifier(n_estimators=100, max_depth=10)\n",
    "classifier.fit(X_train,y_train)"
   ]
  },
  {
   "cell_type": "code",
   "execution_count": 10,
   "id": "cf642200",
   "metadata": {},
   "outputs": [],
   "source": [
    "y_pred = classifier.predict(X_test)"
   ]
  },
  {
   "cell_type": "markdown",
   "id": "dbd5ea22",
   "metadata": {},
   "source": [
    "## Q4. Evaluate the performance of the model on the test set using accuracy, precision, recall, and F1 score. "
   ]
  },
  {
   "cell_type": "code",
   "execution_count": 11,
   "id": "e701e8c9",
   "metadata": {},
   "outputs": [
    {
     "name": "stdout",
     "output_type": "stream",
     "text": [
      "              precision    recall  f1-score   support\n",
      "\n",
      "           0       0.76      0.78      0.77        41\n",
      "           1       0.82      0.80      0.81        50\n",
      "\n",
      "    accuracy                           0.79        91\n",
      "   macro avg       0.79      0.79      0.79        91\n",
      "weighted avg       0.79      0.79      0.79        91\n",
      "\n"
     ]
    }
   ],
   "source": [
    "from sklearn.metrics import classification_report, accuracy_score\n",
    "\n",
    "report = classification_report(y_test,y_pred)\n",
    "print(report)"
   ]
  },
  {
   "cell_type": "code",
   "execution_count": 12,
   "id": "9b6b0b0e",
   "metadata": {},
   "outputs": [
    {
     "name": "stdout",
     "output_type": "stream",
     "text": [
      "Accuracy:0.7912087912087912\n",
      "Precision:0.8163265306122449\n",
      "Recall:0.8\n",
      "F1_score:0.8080808080808082\n"
     ]
    }
   ],
   "source": [
    "from sklearn.metrics import accuracy_score, precision_score, recall_score, f1_score\n",
    "\n",
    "acc = accuracy_score(y_test,y_pred)\n",
    "prec = precision_score(y_test,y_pred)\n",
    "recall = recall_score(y_test,y_pred)\n",
    "f1 = f1_score(y_test,y_pred)\n",
    "\n",
    "print(f\"Accuracy:{acc}\")\n",
    "print(f\"Precision:{prec}\")\n",
    "print(f\"Recall:{recall}\")\n",
    "print(f\"F1_score:{f1}\")"
   ]
  },
  {
   "cell_type": "code",
   "execution_count": 13,
   "id": "1e2c0a1e",
   "metadata": {},
   "outputs": [
    {
     "data": {
      "image/png": "[encoded data removed]",
      "text/plain": [
       "<Figure size 432x288 with 2 Axes>"
      ]
     },
     "metadata": {
      "needs_background": "light"
     },
     "output_type": "display_data"
    }
   ],
   "source": [
    "from sklearn.metrics import confusion_matrix\n",
    "\n",
    "cf = confusion_matrix(y_test,y_pred)\n",
    "sns.heatmap(cf, annot=True, fmt='d')\n",
    "plt.show()"
   ]
  },
  {
   "cell_type": "markdown",
   "id": "1902a966",
   "metadata": {},
   "source": [
    "## Q5. Use the feature importance scores to identify the top 5 most important features in predicting heart disease risk. Visualise the feature importances using a bar chart."
   ]
  },
  {
   "cell_type": "code",
   "execution_count": 14,
   "id": "639a9e4d",
   "metadata": {},
   "outputs": [
    {
     "data": {
      "text/plain": [
       "array([0.08667275, 0.02557241, 0.11896094, 0.07373607, 0.0639813 ,\n",
       "       0.01176551, 0.0159478 , 0.10300143, 0.07532447, 0.10995087,\n",
       "       0.05326625, 0.1316618 , 0.13015839])"
      ]
     },
     "execution_count": 14,
     "metadata": {},
     "output_type": "execute_result"
    }
   ],
   "source": [
    "feature_importance = classifier.feature_importances_\n",
    "feature_importance"
   ]
  },
  {
   "cell_type": "code",
   "execution_count": 15,
   "id": "6fc6eb4e",
   "metadata": {},
   "outputs": [
    {
     "data": {
      "text/plain": [
       "array(['age', 'sex', 'cp', 'trestbps', 'chol', 'fbs', 'restecg',\n",
       "       'thalach', 'exang', 'oldpeak', 'slope', 'ca', 'thal'], dtype=object)"
      ]
     },
     "execution_count": 15,
     "metadata": {},
     "output_type": "execute_result"
    }
   ],
   "source": [
    "feature_names = classifier.feature_names_in_\n",
    "feature_names"
   ]
  },
  {
   "cell_type": "code",
   "execution_count": 16,
   "id": "7062a5c1",
   "metadata": {},
   "outputs": [
    {
     "data": {
      "text/plain": [
       "[('ca', 0.13166179904573638),\n",
       " ('thal', 0.13015838742564814),\n",
       " ('cp', 0.11896094093399791),\n",
       " ('oldpeak', 0.10995087249436902),\n",
       " ('thalach', 0.10300143384263301),\n",
       " ('age', 0.0866727531856748),\n",
       " ('exang', 0.07532447491758754),\n",
       " ('trestbps', 0.07373606998364429),\n",
       " ('chol', 0.06398129510787925),\n",
       " ('slope', 0.053266246468507805),\n",
       " ('sex', 0.02557240853140403),\n",
       " ('restecg', 0.01594780422571428),\n",
       " ('fbs', 0.011765513837203588)]"
      ]
     },
     "execution_count": 16,
     "metadata": {},
     "output_type": "execute_result"
    }
   ],
   "source": [
    "features_imp = [(feature_names[i], feature_importance[i]) for i in range(len(feature_names))]\n",
    "features_imp = sorted (features_imp, key = lambda x : x[1], reverse=True)\n",
    "features_imp"
   ]
  },
  {
   "cell_type": "code",
   "execution_count": 17,
   "id": "265c23a2",
   "metadata": {},
   "outputs": [
    {
     "data": {
      "text/html": [
       "<div>\n",
       "<style scoped>\n",
       "    .dataframe tbody tr th:only-of-type {\n",
       "        vertical-align: middle;\n",
       "    }\n",
       "\n",
       "    .dataframe tbody tr th {\n",
       "        vertical-align: top;\n",
       "    }\n",
       "\n",
       "    .dataframe thead th {\n",
       "        text-align: right;\n",
       "    }\n",
       "</style>\n",
       "<table border=\"1\" class=\"dataframe\">\n",
       "  <thead>\n",
       "    <tr style=\"text-align: right;\">\n",
       "      <th></th>\n",
       "      <th>feature</th>\n",
       "      <th>importance</th>\n",
       "    </tr>\n",
       "  </thead>\n",
       "  <tbody>\n",
       "    <tr>\n",
       "      <th>0</th>\n",
       "      <td>ca</td>\n",
       "      <td>0.131662</td>\n",
       "    </tr>\n",
       "    <tr>\n",
       "      <th>1</th>\n",
       "      <td>thal</td>\n",
       "      <td>0.130158</td>\n",
       "    </tr>\n",
       "    <tr>\n",
       "      <th>2</th>\n",
       "      <td>cp</td>\n",
       "      <td>0.118961</td>\n",
       "    </tr>\n",
       "    <tr>\n",
       "      <th>3</th>\n",
       "      <td>oldpeak</td>\n",
       "      <td>0.109951</td>\n",
       "    </tr>\n",
       "    <tr>\n",
       "      <th>4</th>\n",
       "      <td>thalach</td>\n",
       "      <td>0.103001</td>\n",
       "    </tr>\n",
       "    <tr>\n",
       "      <th>5</th>\n",
       "      <td>age</td>\n",
       "      <td>0.086673</td>\n",
       "    </tr>\n",
       "    <tr>\n",
       "      <th>6</th>\n",
       "      <td>exang</td>\n",
       "      <td>0.075324</td>\n",
       "    </tr>\n",
       "    <tr>\n",
       "      <th>7</th>\n",
       "      <td>trestbps</td>\n",
       "      <td>0.073736</td>\n",
       "    </tr>\n",
       "    <tr>\n",
       "      <th>8</th>\n",
       "      <td>chol</td>\n",
       "      <td>0.063981</td>\n",
       "    </tr>\n",
       "    <tr>\n",
       "      <th>9</th>\n",
       "      <td>slope</td>\n",
       "      <td>0.053266</td>\n",
       "    </tr>\n",
       "    <tr>\n",
       "      <th>10</th>\n",
       "      <td>sex</td>\n",
       "      <td>0.025572</td>\n",
       "    </tr>\n",
       "    <tr>\n",
       "      <th>11</th>\n",
       "      <td>restecg</td>\n",
       "      <td>0.015948</td>\n",
       "    </tr>\n",
       "    <tr>\n",
       "      <th>12</th>\n",
       "      <td>fbs</td>\n",
       "      <td>0.011766</td>\n",
       "    </tr>\n",
       "  </tbody>\n",
       "</table>\n",
       "</div>"
      ],
      "text/plain": [
       "     feature  importance\n",
       "0         ca    0.131662\n",
       "1       thal    0.130158\n",
       "2         cp    0.118961\n",
       "3    oldpeak    0.109951\n",
       "4    thalach    0.103001\n",
       "5        age    0.086673\n",
       "6      exang    0.075324\n",
       "7   trestbps    0.073736\n",
       "8       chol    0.063981\n",
       "9      slope    0.053266\n",
       "10       sex    0.025572\n",
       "11   restecg    0.015948\n",
       "12       fbs    0.011766"
      ]
     },
     "execution_count": 17,
     "metadata": {},
     "output_type": "execute_result"
    }
   ],
   "source": [
    "feature_imp_df = pd.DataFrame(data=features_imp, columns=[\"feature\",\"importance\"])\n",
    "feature_imp_df"
   ]
  },
  {
   "cell_type": "code",
   "execution_count": 18,
   "id": "f3efd127",
   "metadata": {},
   "outputs": [
    {
     "data": {
      "image/png": "[encoded data removed]",
      "text/plain": [
       "<Figure size 720x720 with 1 Axes>"
      ]
     },
     "metadata": {
      "needs_background": "light"
     },
     "output_type": "display_data"
    }
   ],
   "source": [
    "plt.figure(figsize=(10,10))\n",
    "sns.barplot(data=feature_imp_df, x=\"feature\",y=\"importance\")\n",
    "plt.show()"
   ]
  },
  {
   "cell_type": "markdown",
   "id": "e206a8bc",
   "metadata": {},
   "source": [
    "## Q6. Tune the hyperparameters of the random forest classifier using grid search or random search. Try different values of the number of trees, maximum depth, minimum samples split, and minimum samples leaf. Use 5-fold cross-validation to evaluate the performance of each set of hyperparameters."
   ]
  },
  {
   "cell_type": "code",
   "execution_count": 19,
   "id": "c2e1f492",
   "metadata": {},
   "outputs": [],
   "source": [
    "params_map = {\n",
    "    \"n_estimators\": [100,150,200,250,300,350,400,450,500],\n",
    "    \"max_depth\": [5,10,15,20,25],\n",
    "    \"min_samples_split\": [2,3,4,5,6],\n",
    "    \"min_samples_leaf\": [1,2,3,4,5]\n",
    "}"
   ]
  },
  {
   "cell_type": "code",
   "execution_count": 20,
   "id": "deb71a09",
   "metadata": {},
   "outputs": [
    {
     "name": "stdout",
     "output_type": "stream",
     "text": [
      "Fitting 5 folds for each of 50 candidates, totalling 250 fits\n",
      "[CV 1/5] END max_depth=20, min_samples_leaf=1, min_samples_split=4, n_estimators=150;, score=0.837 total time=   0.0s\n",
      "[CV 2/5] END max_depth=20, min_samples_leaf=1, min_samples_split=4, n_estimators=150;, score=0.857 total time=   0.0s\n",
      "[CV 3/5] END max_depth=20, min_samples_leaf=1, min_samples_split=4, n_estimators=150;, score=0.776 total time=   0.0s\n",
      "[CV 4/5] END max_depth=20, min_samples_leaf=1, min_samples_split=4, n_estimators=150;, score=0.870 total time=   0.0s\n",
      "[CV 5/5] END max_depth=20, min_samples_leaf=1, min_samples_split=4, n_estimators=150;, score=0.762 total time=   0.0s\n",
      "[CV 1/5] END max_depth=5, min_samples_leaf=5, min_samples_split=4, n_estimators=150;, score=0.884 total time=   0.0s\n",
      "[CV 2/5] END max_depth=5, min_samples_leaf=5, min_samples_split=4, n_estimators=150;, score=0.833 total time=   0.0s\n",
      "[CV 3/5] END max_depth=5, min_samples_leaf=5, min_samples_split=4, n_estimators=150;, score=0.824 total time=   0.0s\n",
      "[CV 4/5] END max_depth=5, min_samples_leaf=5, min_samples_split=4, n_estimators=150;, score=0.917 total time=   0.0s\n",
      "[CV 5/5] END max_depth=5, min_samples_leaf=5, min_samples_split=4, n_estimators=150;, score=0.744 total time=   0.0s\n",
      "[CV 1/5] END max_depth=15, min_samples_leaf=1, min_samples_split=2, n_estimators=250;, score=0.837 total time=   0.1s\n",
      "[CV 2/5] END max_depth=15, min_samples_leaf=1, min_samples_split=2, n_estimators=250;, score=0.857 total time=   0.1s\n",
      "[CV 3/5] END max_depth=15, min_samples_leaf=1, min_samples_split=2, n_estimators=250;, score=0.776 total time=   0.1s\n",
      "[CV 4/5] END max_depth=15, min_samples_leaf=1, min_samples_split=2, n_estimators=250;, score=0.889 total time=   0.1s\n",
      "[CV 5/5] END max_depth=15, min_samples_leaf=1, min_samples_split=2, n_estimators=250;, score=0.744 total time=   0.1s\n",
      "[CV 1/5] END max_depth=10, min_samples_leaf=2, min_samples_split=3, n_estimators=500;, score=0.884 total time=   0.3s\n",
      "[CV 2/5] END max_depth=10, min_samples_leaf=2, min_samples_split=3, n_estimators=500;, score=0.880 total time=   0.3s\n",
      "[CV 3/5] END max_depth=10, min_samples_leaf=2, min_samples_split=3, n_estimators=500;, score=0.769 total time=   0.3s\n",
      "[CV 4/5] END max_depth=10, min_samples_leaf=2, min_samples_split=3, n_estimators=500;, score=0.913 total time=   0.3s\n",
      "[CV 5/5] END max_depth=10, min_samples_leaf=2, min_samples_split=3, n_estimators=500;, score=0.762 total time=   0.3s\n",
      "[CV 1/5] END max_depth=25, min_samples_leaf=2, min_samples_split=4, n_estimators=100;, score=0.837 total time=   0.0s\n",
      "[CV 2/5] END max_depth=25, min_samples_leaf=2, min_samples_split=4, n_estimators=100;, score=0.898 total time=   0.0s\n",
      "[CV 3/5] END max_depth=25, min_samples_leaf=2, min_samples_split=4, n_estimators=100;, score=0.745 total time=   0.0s\n",
      "[CV 4/5] END max_depth=25, min_samples_leaf=2, min_samples_split=4, n_estimators=100;, score=0.894 total time=   0.0s\n",
      "[CV 5/5] END max_depth=25, min_samples_leaf=2, min_samples_split=4, n_estimators=100;, score=0.791 total time=   0.0s\n",
      "[CV 1/5] END max_depth=25, min_samples_leaf=3, min_samples_split=5, n_estimators=400;, score=0.884 total time=   0.3s\n",
      "[CV 2/5] END max_depth=25, min_samples_leaf=3, min_samples_split=5, n_estimators=400;, score=0.880 total time=   0.3s\n",
      "[CV 3/5] END max_depth=25, min_samples_leaf=3, min_samples_split=5, n_estimators=400;, score=0.784 total time=   0.3s\n",
      "[CV 4/5] END max_depth=25, min_samples_leaf=3, min_samples_split=5, n_estimators=400;, score=0.917 total time=   0.2s\n",
      "[CV 5/5] END max_depth=25, min_samples_leaf=3, min_samples_split=5, n_estimators=400;, score=0.762 total time=   0.2s\n",
      "[CV 1/5] END max_depth=5, min_samples_leaf=3, min_samples_split=5, n_estimators=100;, score=0.884 total time=   0.0s\n",
      "[CV 2/5] END max_depth=5, min_samples_leaf=3, min_samples_split=5, n_estimators=100;, score=0.880 total time=   0.0s\n",
      "[CV 3/5] END max_depth=5, min_samples_leaf=3, min_samples_split=5, n_estimators=100;, score=0.800 total time=   0.0s\n",
      "[CV 4/5] END max_depth=5, min_samples_leaf=3, min_samples_split=5, n_estimators=100;, score=0.917 total time=   0.0s\n",
      "[CV 5/5] END max_depth=5, min_samples_leaf=3, min_samples_split=5, n_estimators=100;, score=0.773 total time=   0.0s\n",
      "[CV 1/5] END max_depth=10, min_samples_leaf=1, min_samples_split=4, n_estimators=450;, score=0.884 total time=   0.3s\n",
      "[CV 2/5] END max_depth=10, min_samples_leaf=1, min_samples_split=4, n_estimators=450;, score=0.857 total time=   0.3s\n",
      "[CV 3/5] END max_depth=10, min_samples_leaf=1, min_samples_split=4, n_estimators=450;, score=0.760 total time=   0.3s\n",
      "[CV 4/5] END max_depth=10, min_samples_leaf=1, min_samples_split=4, n_estimators=450;, score=0.917 total time=   0.3s\n",
      "[CV 5/5] END max_depth=10, min_samples_leaf=1, min_samples_split=4, n_estimators=450;, score=0.762 total time=   0.3s\n",
      "[CV 1/5] END max_depth=5, min_samples_leaf=2, min_samples_split=5, n_estimators=200;, score=0.844 total time=   0.1s\n",
      "[CV 2/5] END max_depth=5, min_samples_leaf=2, min_samples_split=5, n_estimators=200;, score=0.857 total time=   0.1s\n",
      "[CV 3/5] END max_depth=5, min_samples_leaf=2, min_samples_split=5, n_estimators=200;, score=0.808 total time=   0.1s\n",
      "[CV 4/5] END max_depth=5, min_samples_leaf=2, min_samples_split=5, n_estimators=200;, score=0.917 total time=   0.1s\n",
      "[CV 5/5] END max_depth=5, min_samples_leaf=2, min_samples_split=5, n_estimators=200;, score=0.744 total time=   0.1s\n",
      "[CV 1/5] END max_depth=25, min_samples_leaf=2, min_samples_split=6, n_estimators=350;, score=0.884 total time=   0.2s\n",
      "[CV 2/5] END max_depth=25, min_samples_leaf=2, min_samples_split=6, n_estimators=350;, score=0.857 total time=   0.2s\n",
      "[CV 3/5] END max_depth=25, min_samples_leaf=2, min_samples_split=6, n_estimators=350;, score=0.760 total time=   0.2s\n",
      "[CV 4/5] END max_depth=25, min_samples_leaf=2, min_samples_split=6, n_estimators=350;, score=0.936 total time=   0.2s\n",
      "[CV 5/5] END max_depth=25, min_samples_leaf=2, min_samples_split=6, n_estimators=350;, score=0.744 total time=   0.2s\n",
      "[CV 1/5] END max_depth=10, min_samples_leaf=5, min_samples_split=2, n_estimators=200;, score=0.884 total time=   0.1s\n",
      "[CV 2/5] END max_depth=10, min_samples_leaf=5, min_samples_split=2, n_estimators=200;, score=0.880 total time=   0.1s\n",
      "[CV 3/5] END max_depth=10, min_samples_leaf=5, min_samples_split=2, n_estimators=200;, score=0.792 total time=   0.1s\n",
      "[CV 4/5] END max_depth=10, min_samples_leaf=5, min_samples_split=2, n_estimators=200;, score=0.917 total time=   0.1s\n",
      "[CV 5/5] END max_depth=10, min_samples_leaf=5, min_samples_split=2, n_estimators=200;, score=0.744 total time=   0.1s\n",
      "[CV 1/5] END max_depth=20, min_samples_leaf=5, min_samples_split=4, n_estimators=350;, score=0.884 total time=   0.2s\n",
      "[CV 2/5] END max_depth=20, min_samples_leaf=5, min_samples_split=4, n_estimators=350;, score=0.857 total time=   0.2s\n",
      "[CV 3/5] END max_depth=20, min_samples_leaf=5, min_samples_split=4, n_estimators=350;, score=0.784 total time=   0.2s\n",
      "[CV 4/5] END max_depth=20, min_samples_leaf=5, min_samples_split=4, n_estimators=350;, score=0.917 total time=   0.2s\n",
      "[CV 5/5] END max_depth=20, min_samples_leaf=5, min_samples_split=4, n_estimators=350;, score=0.773 total time=   0.2s\n",
      "[CV 1/5] END max_depth=25, min_samples_leaf=4, min_samples_split=3, n_estimators=200;, score=0.884 total time=   0.1s\n",
      "[CV 2/5] END max_depth=25, min_samples_leaf=4, min_samples_split=3, n_estimators=200;, score=0.857 total time=   0.1s\n",
      "[CV 3/5] END max_depth=25, min_samples_leaf=4, min_samples_split=3, n_estimators=200;, score=0.760 total time=   0.1s\n",
      "[CV 4/5] END max_depth=25, min_samples_leaf=4, min_samples_split=3, n_estimators=200;, score=0.917 total time=   0.1s\n",
      "[CV 5/5] END max_depth=25, min_samples_leaf=4, min_samples_split=3, n_estimators=200;, score=0.744 total time=   0.1s\n",
      "[CV 1/5] END max_depth=10, min_samples_leaf=2, min_samples_split=2, n_estimators=350;, score=0.884 total time=   0.2s\n",
      "[CV 2/5] END max_depth=10, min_samples_leaf=2, min_samples_split=2, n_estimators=350;, score=0.880 total time=   0.2s\n",
      "[CV 3/5] END max_depth=10, min_samples_leaf=2, min_samples_split=2, n_estimators=350;, score=0.808 total time=   0.2s\n",
      "[CV 4/5] END max_depth=10, min_samples_leaf=2, min_samples_split=2, n_estimators=350;, score=0.894 total time=   0.2s\n",
      "[CV 5/5] END max_depth=10, min_samples_leaf=2, min_samples_split=2, n_estimators=350;, score=0.762 total time=   0.2s\n"
     ]
    },
    {
     "name": "stdout",
     "output_type": "stream",
     "text": [
      "[CV 1/5] END max_depth=5, min_samples_leaf=2, min_samples_split=6, n_estimators=500;, score=0.884 total time=   0.3s\n",
      "[CV 2/5] END max_depth=5, min_samples_leaf=2, min_samples_split=6, n_estimators=500;, score=0.880 total time=   0.3s\n",
      "[CV 3/5] END max_depth=5, min_samples_leaf=2, min_samples_split=6, n_estimators=500;, score=0.760 total time=   0.3s\n",
      "[CV 4/5] END max_depth=5, min_samples_leaf=2, min_samples_split=6, n_estimators=500;, score=0.917 total time=   0.3s\n",
      "[CV 5/5] END max_depth=5, min_samples_leaf=2, min_samples_split=6, n_estimators=500;, score=0.773 total time=   0.3s\n",
      "[CV 1/5] END max_depth=15, min_samples_leaf=5, min_samples_split=5, n_estimators=350;, score=0.884 total time=   0.2s\n",
      "[CV 2/5] END max_depth=15, min_samples_leaf=5, min_samples_split=5, n_estimators=350;, score=0.880 total time=   0.2s\n",
      "[CV 3/5] END max_depth=15, min_samples_leaf=5, min_samples_split=5, n_estimators=350;, score=0.784 total time=   0.2s\n",
      "[CV 4/5] END max_depth=15, min_samples_leaf=5, min_samples_split=5, n_estimators=350;, score=0.917 total time=   0.2s\n",
      "[CV 5/5] END max_depth=15, min_samples_leaf=5, min_samples_split=5, n_estimators=350;, score=0.762 total time=   0.2s\n",
      "[CV 1/5] END max_depth=5, min_samples_leaf=4, min_samples_split=5, n_estimators=100;, score=0.884 total time=   0.0s\n",
      "[CV 2/5] END max_depth=5, min_samples_leaf=4, min_samples_split=5, n_estimators=100;, score=0.880 total time=   0.0s\n",
      "[CV 3/5] END max_depth=5, min_samples_leaf=4, min_samples_split=5, n_estimators=100;, score=0.792 total time=   0.0s\n",
      "[CV 4/5] END max_depth=5, min_samples_leaf=4, min_samples_split=5, n_estimators=100;, score=0.936 total time=   0.0s\n",
      "[CV 5/5] END max_depth=5, min_samples_leaf=4, min_samples_split=5, n_estimators=100;, score=0.773 total time=   0.0s\n",
      "[CV 1/5] END max_depth=10, min_samples_leaf=3, min_samples_split=2, n_estimators=100;, score=0.884 total time=   0.0s\n",
      "[CV 2/5] END max_depth=10, min_samples_leaf=3, min_samples_split=2, n_estimators=100;, score=0.880 total time=   0.0s\n",
      "[CV 3/5] END max_depth=10, min_samples_leaf=3, min_samples_split=2, n_estimators=100;, score=0.808 total time=   0.0s\n",
      "[CV 4/5] END max_depth=10, min_samples_leaf=3, min_samples_split=2, n_estimators=100;, score=0.917 total time=   0.0s\n",
      "[CV 5/5] END max_depth=10, min_samples_leaf=3, min_samples_split=2, n_estimators=100;, score=0.791 total time=   0.0s\n",
      "[CV 1/5] END max_depth=10, min_samples_leaf=2, min_samples_split=2, n_estimators=450;, score=0.864 total time=   0.3s\n",
      "[CV 2/5] END max_depth=10, min_samples_leaf=2, min_samples_split=2, n_estimators=450;, score=0.880 total time=   0.3s\n",
      "[CV 3/5] END max_depth=10, min_samples_leaf=2, min_samples_split=2, n_estimators=450;, score=0.776 total time=   0.3s\n",
      "[CV 4/5] END max_depth=10, min_samples_leaf=2, min_samples_split=2, n_estimators=450;, score=0.917 total time=   0.3s\n",
      "[CV 5/5] END max_depth=10, min_samples_leaf=2, min_samples_split=2, n_estimators=450;, score=0.762 total time=   0.3s\n",
      "[CV 1/5] END max_depth=20, min_samples_leaf=2, min_samples_split=2, n_estimators=400;, score=0.884 total time=   0.3s\n",
      "[CV 2/5] END max_depth=20, min_samples_leaf=2, min_samples_split=2, n_estimators=400;, score=0.880 total time=   0.3s\n",
      "[CV 3/5] END max_depth=20, min_samples_leaf=2, min_samples_split=2, n_estimators=400;, score=0.760 total time=   0.3s\n",
      "[CV 4/5] END max_depth=20, min_samples_leaf=2, min_samples_split=2, n_estimators=400;, score=0.894 total time=   0.3s\n",
      "[CV 5/5] END max_depth=20, min_samples_leaf=2, min_samples_split=2, n_estimators=400;, score=0.744 total time=   0.3s\n",
      "[CV 1/5] END max_depth=10, min_samples_leaf=5, min_samples_split=4, n_estimators=350;, score=0.884 total time=   0.2s\n",
      "[CV 2/5] END max_depth=10, min_samples_leaf=5, min_samples_split=4, n_estimators=350;, score=0.880 total time=   0.2s\n",
      "[CV 3/5] END max_depth=10, min_samples_leaf=5, min_samples_split=4, n_estimators=350;, score=0.784 total time=   0.2s\n",
      "[CV 4/5] END max_depth=10, min_samples_leaf=5, min_samples_split=4, n_estimators=350;, score=0.917 total time=   0.2s\n",
      "[CV 5/5] END max_depth=10, min_samples_leaf=5, min_samples_split=4, n_estimators=350;, score=0.773 total time=   0.2s\n",
      "[CV 1/5] END max_depth=25, min_samples_leaf=5, min_samples_split=2, n_estimators=350;, score=0.884 total time=   0.2s\n",
      "[CV 2/5] END max_depth=25, min_samples_leaf=5, min_samples_split=2, n_estimators=350;, score=0.857 total time=   0.2s\n",
      "[CV 3/5] END max_depth=25, min_samples_leaf=5, min_samples_split=2, n_estimators=350;, score=0.784 total time=   0.2s\n",
      "[CV 4/5] END max_depth=25, min_samples_leaf=5, min_samples_split=2, n_estimators=350;, score=0.894 total time=   0.2s\n",
      "[CV 5/5] END max_depth=25, min_samples_leaf=5, min_samples_split=2, n_estimators=350;, score=0.744 total time=   0.2s\n",
      "[CV 1/5] END max_depth=25, min_samples_leaf=5, min_samples_split=4, n_estimators=150;, score=0.864 total time=   0.0s\n",
      "[CV 2/5] END max_depth=25, min_samples_leaf=5, min_samples_split=4, n_estimators=150;, score=0.857 total time=   0.0s\n",
      "[CV 3/5] END max_depth=25, min_samples_leaf=5, min_samples_split=4, n_estimators=150;, score=0.808 total time=   0.0s\n",
      "[CV 4/5] END max_depth=25, min_samples_leaf=5, min_samples_split=4, n_estimators=150;, score=0.917 total time=   0.0s\n",
      "[CV 5/5] END max_depth=25, min_samples_leaf=5, min_samples_split=4, n_estimators=150;, score=0.756 total time=   0.0s\n",
      "[CV 1/5] END max_depth=20, min_samples_leaf=3, min_samples_split=5, n_estimators=150;, score=0.884 total time=   0.0s\n",
      "[CV 2/5] END max_depth=20, min_samples_leaf=3, min_samples_split=5, n_estimators=150;, score=0.880 total time=   0.0s\n",
      "[CV 3/5] END max_depth=20, min_samples_leaf=3, min_samples_split=5, n_estimators=150;, score=0.769 total time=   0.0s\n",
      "[CV 4/5] END max_depth=20, min_samples_leaf=3, min_samples_split=5, n_estimators=150;, score=0.917 total time=   0.0s\n",
      "[CV 5/5] END max_depth=20, min_samples_leaf=3, min_samples_split=5, n_estimators=150;, score=0.791 total time=   0.0s\n",
      "[CV 1/5] END max_depth=25, min_samples_leaf=4, min_samples_split=6, n_estimators=300;, score=0.884 total time=   0.2s\n",
      "[CV 2/5] END max_depth=25, min_samples_leaf=4, min_samples_split=6, n_estimators=300;, score=0.857 total time=   0.2s\n",
      "[CV 3/5] END max_depth=25, min_samples_leaf=4, min_samples_split=6, n_estimators=300;, score=0.784 total time=   0.2s\n",
      "[CV 4/5] END max_depth=25, min_samples_leaf=4, min_samples_split=6, n_estimators=300;, score=0.936 total time=   0.2s\n",
      "[CV 5/5] END max_depth=25, min_samples_leaf=4, min_samples_split=6, n_estimators=300;, score=0.744 total time=   0.2s\n",
      "[CV 1/5] END max_depth=5, min_samples_leaf=3, min_samples_split=4, n_estimators=200;, score=0.884 total time=   0.1s\n",
      "[CV 2/5] END max_depth=5, min_samples_leaf=3, min_samples_split=4, n_estimators=200;, score=0.880 total time=   0.1s\n",
      "[CV 3/5] END max_depth=5, min_samples_leaf=3, min_samples_split=4, n_estimators=200;, score=0.778 total time=   0.1s\n",
      "[CV 4/5] END max_depth=5, min_samples_leaf=3, min_samples_split=4, n_estimators=200;, score=0.917 total time=   0.1s\n",
      "[CV 5/5] END max_depth=5, min_samples_leaf=3, min_samples_split=4, n_estimators=200;, score=0.744 total time=   0.1s\n",
      "[CV 1/5] END max_depth=10, min_samples_leaf=1, min_samples_split=6, n_estimators=350;, score=0.864 total time=   0.2s\n",
      "[CV 2/5] END max_depth=10, min_samples_leaf=1, min_samples_split=6, n_estimators=350;, score=0.880 total time=   0.2s\n",
      "[CV 3/5] END max_depth=10, min_samples_leaf=1, min_samples_split=6, n_estimators=350;, score=0.745 total time=   0.2s\n",
      "[CV 4/5] END max_depth=10, min_samples_leaf=1, min_samples_split=6, n_estimators=350;, score=0.889 total time=   0.2s\n",
      "[CV 5/5] END max_depth=10, min_samples_leaf=1, min_samples_split=6, n_estimators=350;, score=0.762 total time=   0.2s\n",
      "[CV 1/5] END max_depth=5, min_samples_leaf=4, min_samples_split=6, n_estimators=200;, score=0.884 total time=   0.1s\n",
      "[CV 2/5] END max_depth=5, min_samples_leaf=4, min_samples_split=6, n_estimators=200;, score=0.880 total time=   0.1s\n",
      "[CV 3/5] END max_depth=5, min_samples_leaf=4, min_samples_split=6, n_estimators=200;, score=0.800 total time=   0.1s\n",
      "[CV 4/5] END max_depth=5, min_samples_leaf=4, min_samples_split=6, n_estimators=200;, score=0.917 total time=   0.1s\n",
      "[CV 5/5] END max_depth=5, min_samples_leaf=4, min_samples_split=6, n_estimators=200;, score=0.744 total time=   0.1s\n"
     ]
    },
    {
     "name": "stdout",
     "output_type": "stream",
     "text": [
      "[CV 1/5] END max_depth=20, min_samples_leaf=4, min_samples_split=3, n_estimators=350;, score=0.864 total time=   0.2s\n",
      "[CV 2/5] END max_depth=20, min_samples_leaf=4, min_samples_split=3, n_estimators=350;, score=0.880 total time=   0.2s\n",
      "[CV 3/5] END max_depth=20, min_samples_leaf=4, min_samples_split=3, n_estimators=350;, score=0.784 total time=   0.2s\n",
      "[CV 4/5] END max_depth=20, min_samples_leaf=4, min_samples_split=3, n_estimators=350;, score=0.917 total time=   0.2s\n",
      "[CV 5/5] END max_depth=20, min_samples_leaf=4, min_samples_split=3, n_estimators=350;, score=0.744 total time=   0.2s\n",
      "[CV 1/5] END max_depth=15, min_samples_leaf=2, min_samples_split=5, n_estimators=350;, score=0.864 total time=   0.2s\n",
      "[CV 2/5] END max_depth=15, min_samples_leaf=2, min_samples_split=5, n_estimators=350;, score=0.880 total time=   0.2s\n",
      "[CV 3/5] END max_depth=15, min_samples_leaf=2, min_samples_split=5, n_estimators=350;, score=0.800 total time=   0.2s\n",
      "[CV 4/5] END max_depth=15, min_samples_leaf=2, min_samples_split=5, n_estimators=350;, score=0.870 total time=   0.2s\n",
      "[CV 5/5] END max_depth=15, min_samples_leaf=2, min_samples_split=5, n_estimators=350;, score=0.762 total time=   0.2s\n",
      "[CV 1/5] END max_depth=15, min_samples_leaf=5, min_samples_split=6, n_estimators=500;, score=0.884 total time=   0.3s\n",
      "[CV 2/5] END max_depth=15, min_samples_leaf=5, min_samples_split=6, n_estimators=500;, score=0.880 total time=   0.3s\n",
      "[CV 3/5] END max_depth=15, min_samples_leaf=5, min_samples_split=6, n_estimators=500;, score=0.808 total time=   0.3s\n",
      "[CV 4/5] END max_depth=15, min_samples_leaf=5, min_samples_split=6, n_estimators=500;, score=0.917 total time=   0.3s\n",
      "[CV 5/5] END max_depth=15, min_samples_leaf=5, min_samples_split=6, n_estimators=500;, score=0.773 total time=   0.3s\n",
      "[CV 1/5] END max_depth=25, min_samples_leaf=1, min_samples_split=4, n_estimators=450;, score=0.864 total time=   0.3s\n",
      "[CV 2/5] END max_depth=25, min_samples_leaf=1, min_samples_split=4, n_estimators=450;, score=0.880 total time=   0.3s\n",
      "[CV 3/5] END max_depth=25, min_samples_leaf=1, min_samples_split=4, n_estimators=450;, score=0.760 total time=   0.3s\n",
      "[CV 4/5] END max_depth=25, min_samples_leaf=1, min_samples_split=4, n_estimators=450;, score=0.889 total time=   0.3s\n",
      "[CV 5/5] END max_depth=25, min_samples_leaf=1, min_samples_split=4, n_estimators=450;, score=0.762 total time=   0.3s\n",
      "[CV 1/5] END max_depth=5, min_samples_leaf=1, min_samples_split=5, n_estimators=300;, score=0.884 total time=   0.2s\n",
      "[CV 2/5] END max_depth=5, min_samples_leaf=1, min_samples_split=5, n_estimators=300;, score=0.857 total time=   0.2s\n",
      "[CV 3/5] END max_depth=5, min_samples_leaf=1, min_samples_split=5, n_estimators=300;, score=0.745 total time=   0.2s\n",
      "[CV 4/5] END max_depth=5, min_samples_leaf=1, min_samples_split=5, n_estimators=300;, score=0.917 total time=   0.2s\n",
      "[CV 5/5] END max_depth=5, min_samples_leaf=1, min_samples_split=5, n_estimators=300;, score=0.744 total time=   0.2s\n",
      "[CV 1/5] END max_depth=5, min_samples_leaf=3, min_samples_split=6, n_estimators=200;, score=0.884 total time=   0.1s\n",
      "[CV 2/5] END max_depth=5, min_samples_leaf=3, min_samples_split=6, n_estimators=200;, score=0.857 total time=   0.1s\n",
      "[CV 3/5] END max_depth=5, min_samples_leaf=3, min_samples_split=6, n_estimators=200;, score=0.745 total time=   0.1s\n",
      "[CV 4/5] END max_depth=5, min_samples_leaf=3, min_samples_split=6, n_estimators=200;, score=0.917 total time=   0.1s\n",
      "[CV 5/5] END max_depth=5, min_samples_leaf=3, min_samples_split=6, n_estimators=200;, score=0.744 total time=   0.1s\n",
      "[CV 1/5] END max_depth=15, min_samples_leaf=4, min_samples_split=6, n_estimators=400;, score=0.884 total time=   0.2s\n",
      "[CV 2/5] END max_depth=15, min_samples_leaf=4, min_samples_split=6, n_estimators=400;, score=0.880 total time=   0.3s\n",
      "[CV 3/5] END max_depth=15, min_samples_leaf=4, min_samples_split=6, n_estimators=400;, score=0.808 total time=   0.3s\n",
      "[CV 4/5] END max_depth=15, min_samples_leaf=4, min_samples_split=6, n_estimators=400;, score=0.917 total time=   0.2s\n",
      "[CV 5/5] END max_depth=15, min_samples_leaf=4, min_samples_split=6, n_estimators=400;, score=0.744 total time=   0.3s\n",
      "[CV 1/5] END max_depth=20, min_samples_leaf=1, min_samples_split=5, n_estimators=100;, score=0.844 total time=   0.0s\n",
      "[CV 2/5] END max_depth=20, min_samples_leaf=1, min_samples_split=5, n_estimators=100;, score=0.880 total time=   0.0s\n",
      "[CV 3/5] END max_depth=20, min_samples_leaf=1, min_samples_split=5, n_estimators=100;, score=0.792 total time=   0.0s\n",
      "[CV 4/5] END max_depth=20, min_samples_leaf=1, min_samples_split=5, n_estimators=100;, score=0.913 total time=   0.0s\n",
      "[CV 5/5] END max_depth=20, min_samples_leaf=1, min_samples_split=5, n_estimators=100;, score=0.744 total time=   0.0s\n",
      "[CV 1/5] END max_depth=5, min_samples_leaf=3, min_samples_split=4, n_estimators=450;, score=0.884 total time=   0.3s\n",
      "[CV 2/5] END max_depth=5, min_samples_leaf=3, min_samples_split=4, n_estimators=450;, score=0.880 total time=   0.3s\n",
      "[CV 3/5] END max_depth=5, min_samples_leaf=3, min_samples_split=4, n_estimators=450;, score=0.784 total time=   0.3s\n",
      "[CV 4/5] END max_depth=5, min_samples_leaf=3, min_samples_split=4, n_estimators=450;, score=0.917 total time=   0.3s\n",
      "[CV 5/5] END max_depth=5, min_samples_leaf=3, min_samples_split=4, n_estimators=450;, score=0.773 total time=   0.3s\n",
      "[CV 1/5] END max_depth=5, min_samples_leaf=5, min_samples_split=5, n_estimators=450;, score=0.884 total time=   0.3s\n",
      "[CV 2/5] END max_depth=5, min_samples_leaf=5, min_samples_split=5, n_estimators=450;, score=0.880 total time=   0.3s\n",
      "[CV 3/5] END max_depth=5, min_samples_leaf=5, min_samples_split=5, n_estimators=450;, score=0.784 total time=   0.3s\n",
      "[CV 4/5] END max_depth=5, min_samples_leaf=5, min_samples_split=5, n_estimators=450;, score=0.917 total time=   0.3s\n",
      "[CV 5/5] END max_depth=5, min_samples_leaf=5, min_samples_split=5, n_estimators=450;, score=0.773 total time=   0.3s\n",
      "[CV 1/5] END max_depth=10, min_samples_leaf=4, min_samples_split=5, n_estimators=400;, score=0.884 total time=   0.3s\n",
      "[CV 2/5] END max_depth=10, min_samples_leaf=4, min_samples_split=5, n_estimators=400;, score=0.880 total time=   0.2s\n",
      "[CV 3/5] END max_depth=10, min_samples_leaf=4, min_samples_split=5, n_estimators=400;, score=0.760 total time=   0.2s\n",
      "[CV 4/5] END max_depth=10, min_samples_leaf=4, min_samples_split=5, n_estimators=400;, score=0.917 total time=   0.3s\n",
      "[CV 5/5] END max_depth=10, min_samples_leaf=4, min_samples_split=5, n_estimators=400;, score=0.773 total time=   0.2s\n",
      "[CV 1/5] END max_depth=10, min_samples_leaf=5, min_samples_split=6, n_estimators=200;, score=0.884 total time=   0.1s\n",
      "[CV 2/5] END max_depth=10, min_samples_leaf=5, min_samples_split=6, n_estimators=200;, score=0.857 total time=   0.1s\n",
      "[CV 3/5] END max_depth=10, min_samples_leaf=5, min_samples_split=6, n_estimators=200;, score=0.784 total time=   0.1s\n",
      "[CV 4/5] END max_depth=10, min_samples_leaf=5, min_samples_split=6, n_estimators=200;, score=0.917 total time=   0.1s\n",
      "[CV 5/5] END max_depth=10, min_samples_leaf=5, min_samples_split=6, n_estimators=200;, score=0.744 total time=   0.1s\n",
      "[CV 1/5] END max_depth=5, min_samples_leaf=4, min_samples_split=4, n_estimators=300;, score=0.884 total time=   0.2s\n",
      "[CV 2/5] END max_depth=5, min_samples_leaf=4, min_samples_split=4, n_estimators=300;, score=0.857 total time=   0.2s\n",
      "[CV 3/5] END max_depth=5, min_samples_leaf=4, min_samples_split=4, n_estimators=300;, score=0.784 total time=   0.2s\n",
      "[CV 4/5] END max_depth=5, min_samples_leaf=4, min_samples_split=4, n_estimators=300;, score=0.917 total time=   0.2s\n",
      "[CV 5/5] END max_depth=5, min_samples_leaf=4, min_samples_split=4, n_estimators=300;, score=0.744 total time=   0.2s\n",
      "[CV 1/5] END max_depth=5, min_samples_leaf=3, min_samples_split=3, n_estimators=250;, score=0.864 total time=   0.1s\n",
      "[CV 2/5] END max_depth=5, min_samples_leaf=3, min_samples_split=3, n_estimators=250;, score=0.857 total time=   0.1s\n",
      "[CV 3/5] END max_depth=5, min_samples_leaf=3, min_samples_split=3, n_estimators=250;, score=0.760 total time=   0.1s\n",
      "[CV 4/5] END max_depth=5, min_samples_leaf=3, min_samples_split=3, n_estimators=250;, score=0.894 total time=   0.1s\n",
      "[CV 5/5] END max_depth=5, min_samples_leaf=3, min_samples_split=3, n_estimators=250;, score=0.773 total time=   0.1s\n"
     ]
    },
    {
     "name": "stdout",
     "output_type": "stream",
     "text": [
      "[CV 1/5] END max_depth=5, min_samples_leaf=5, min_samples_split=4, n_estimators=400;, score=0.884 total time=   0.2s\n",
      "[CV 2/5] END max_depth=5, min_samples_leaf=5, min_samples_split=4, n_estimators=400;, score=0.857 total time=   0.2s\n",
      "[CV 3/5] END max_depth=5, min_samples_leaf=5, min_samples_split=4, n_estimators=400;, score=0.784 total time=   0.2s\n",
      "[CV 4/5] END max_depth=5, min_samples_leaf=5, min_samples_split=4, n_estimators=400;, score=0.917 total time=   0.3s\n",
      "[CV 5/5] END max_depth=5, min_samples_leaf=5, min_samples_split=4, n_estimators=400;, score=0.762 total time=   0.2s\n",
      "[CV 1/5] END max_depth=20, min_samples_leaf=1, min_samples_split=3, n_estimators=350;, score=0.864 total time=   0.2s\n",
      "[CV 2/5] END max_depth=20, min_samples_leaf=1, min_samples_split=3, n_estimators=350;, score=0.857 total time=   0.2s\n",
      "[CV 3/5] END max_depth=20, min_samples_leaf=1, min_samples_split=3, n_estimators=350;, score=0.760 total time=   0.2s\n",
      "[CV 4/5] END max_depth=20, min_samples_leaf=1, min_samples_split=3, n_estimators=350;, score=0.864 total time=   0.2s\n",
      "[CV 5/5] END max_depth=20, min_samples_leaf=1, min_samples_split=3, n_estimators=350;, score=0.744 total time=   0.2s\n",
      "[CV 1/5] END max_depth=5, min_samples_leaf=5, min_samples_split=3, n_estimators=300;, score=0.884 total time=   0.2s\n",
      "[CV 2/5] END max_depth=5, min_samples_leaf=5, min_samples_split=3, n_estimators=300;, score=0.857 total time=   0.2s\n",
      "[CV 3/5] END max_depth=5, min_samples_leaf=5, min_samples_split=3, n_estimators=300;, score=0.784 total time=   0.2s\n",
      "[CV 4/5] END max_depth=5, min_samples_leaf=5, min_samples_split=3, n_estimators=300;, score=0.917 total time=   0.2s\n",
      "[CV 5/5] END max_depth=5, min_samples_leaf=5, min_samples_split=3, n_estimators=300;, score=0.773 total time=   0.2s\n",
      "[CV 1/5] END max_depth=5, min_samples_leaf=5, min_samples_split=5, n_estimators=250;, score=0.884 total time=   0.1s\n",
      "[CV 2/5] END max_depth=5, min_samples_leaf=5, min_samples_split=5, n_estimators=250;, score=0.880 total time=   0.1s\n",
      "[CV 3/5] END max_depth=5, min_samples_leaf=5, min_samples_split=5, n_estimators=250;, score=0.784 total time=   0.1s\n",
      "[CV 4/5] END max_depth=5, min_samples_leaf=5, min_samples_split=5, n_estimators=250;, score=0.917 total time=   0.1s\n",
      "[CV 5/5] END max_depth=5, min_samples_leaf=5, min_samples_split=5, n_estimators=250;, score=0.773 total time=   0.1s\n",
      "[CV 1/5] END max_depth=10, min_samples_leaf=4, min_samples_split=4, n_estimators=250;, score=0.884 total time=   0.1s\n",
      "[CV 2/5] END max_depth=10, min_samples_leaf=4, min_samples_split=4, n_estimators=250;, score=0.880 total time=   0.1s\n",
      "[CV 3/5] END max_depth=10, min_samples_leaf=4, min_samples_split=4, n_estimators=250;, score=0.784 total time=   0.1s\n",
      "[CV 4/5] END max_depth=10, min_samples_leaf=4, min_samples_split=4, n_estimators=250;, score=0.917 total time=   0.1s\n",
      "[CV 5/5] END max_depth=10, min_samples_leaf=4, min_samples_split=4, n_estimators=250;, score=0.744 total time=   0.1s\n",
      "[CV 1/5] END max_depth=5, min_samples_leaf=3, min_samples_split=5, n_estimators=500;, score=0.884 total time=   0.3s\n",
      "[CV 2/5] END max_depth=5, min_samples_leaf=3, min_samples_split=5, n_estimators=500;, score=0.880 total time=   0.3s\n",
      "[CV 3/5] END max_depth=5, min_samples_leaf=3, min_samples_split=5, n_estimators=500;, score=0.784 total time=   0.3s\n",
      "[CV 4/5] END max_depth=5, min_samples_leaf=3, min_samples_split=5, n_estimators=500;, score=0.917 total time=   0.3s\n",
      "[CV 5/5] END max_depth=5, min_samples_leaf=3, min_samples_split=5, n_estimators=500;, score=0.744 total time=   0.3s\n",
      "[CV 1/5] END max_depth=15, min_samples_leaf=5, min_samples_split=2, n_estimators=150;, score=0.864 total time=   0.0s\n",
      "[CV 2/5] END max_depth=15, min_samples_leaf=5, min_samples_split=2, n_estimators=150;, score=0.880 total time=   0.0s\n",
      "[CV 3/5] END max_depth=15, min_samples_leaf=5, min_samples_split=2, n_estimators=150;, score=0.769 total time=   0.0s\n",
      "[CV 4/5] END max_depth=15, min_samples_leaf=5, min_samples_split=2, n_estimators=150;, score=0.917 total time=   0.0s\n",
      "[CV 5/5] END max_depth=15, min_samples_leaf=5, min_samples_split=2, n_estimators=150;, score=0.744 total time=   0.0s\n",
      "[CV 1/5] END max_depth=15, min_samples_leaf=1, min_samples_split=2, n_estimators=200;, score=0.884 total time=   0.1s\n",
      "[CV 2/5] END max_depth=15, min_samples_leaf=1, min_samples_split=2, n_estimators=200;, score=0.857 total time=   0.1s\n",
      "[CV 3/5] END max_depth=15, min_samples_leaf=1, min_samples_split=2, n_estimators=200;, score=0.776 total time=   0.1s\n",
      "[CV 4/5] END max_depth=15, min_samples_leaf=1, min_samples_split=2, n_estimators=200;, score=0.870 total time=   0.1s\n",
      "[CV 5/5] END max_depth=15, min_samples_leaf=1, min_samples_split=2, n_estimators=200;, score=0.818 total time=   0.1s\n"
     ]
    },
    {
     "data": {
      "text/html": [
       "<style>#sk-container-id-2 {color: black;}#sk-container-id-2 pre{padding: 0;}#sk-container-id-2 div.sk-toggleable {background-color: white;}#sk-container-id-2 label.sk-toggleable__label {cursor: pointer;display: block;width: 100%;margin-bottom: 0;padding: 0.3em;box-sizing: border-box;text-align: center;}#sk-container-id-2 label.sk-toggleable__label-arrow:before {content: \"▸\";float: left;margin-right: 0.25em;color: #696969;}#sk-container-id-2 label.sk-toggleable__label-arrow:hover:before {color: black;}#sk-container-id-2 div.sk-estimator:hover label.sk-toggleable__label-arrow:before {color: black;}#sk-container-id-2 div.sk-toggleable__content {max-height: 0;max-width: 0;overflow: hidden;text-align: left;background-color: #f0f8ff;}#sk-container-id-2 div.sk-toggleable__content pre {margin: 0.2em;color: black;border-radius: 0.25em;background-color: #f0f8ff;}#sk-container-id-2 input.sk-toggleable__control:checked~div.sk-toggleable__content {max-height: 200px;max-width: 100%;overflow: auto;}#sk-container-id-2 input.sk-toggleable__control:checked~label.sk-toggleable__label-arrow:before {content: \"▾\";}#sk-container-id-2 div.sk-estimator input.sk-toggleable__control:checked~label.sk-toggleable__label {background-color: #d4ebff;}#sk-container-id-2 div.sk-label input.sk-toggleable__control:checked~label.sk-toggleable__label {background-color: #d4ebff;}#sk-container-id-2 input.sk-hidden--visually {border: 0;clip: rect(1px 1px 1px 1px);clip: rect(1px, 1px, 1px, 1px);height: 1px;margin: -1px;overflow: hidden;padding: 0;position: absolute;width: 1px;}#sk-container-id-2 div.sk-estimator {font-family: monospace;background-color: #f0f8ff;border: 1px dotted black;border-radius: 0.25em;box-sizing: border-box;margin-bottom: 0.5em;}#sk-container-id-2 div.sk-estimator:hover {background-color: #d4ebff;}#sk-container-id-2 div.sk-parallel-item::after {content: \"\";width: 100%;border-bottom: 1px solid gray;flex-grow: 1;}#sk-container-id-2 div.sk-label:hover label.sk-toggleable__label {background-color: #d4ebff;}#sk-container-id-2 div.sk-serial::before {content: \"\";position: absolute;border-left: 1px solid gray;box-sizing: border-box;top: 0;bottom: 0;left: 50%;z-index: 0;}#sk-container-id-2 div.sk-serial {display: flex;flex-direction: column;align-items: center;background-color: white;padding-right: 0.2em;padding-left: 0.2em;position: relative;}#sk-container-id-2 div.sk-item {position: relative;z-index: 1;}#sk-container-id-2 div.sk-parallel {display: flex;align-items: stretch;justify-content: center;background-color: white;position: relative;}#sk-container-id-2 div.sk-item::before, #sk-container-id-2 div.sk-parallel-item::before {content: \"\";position: absolute;border-left: 1px solid gray;box-sizing: border-box;top: 0;bottom: 0;left: 50%;z-index: -1;}#sk-container-id-2 div.sk-parallel-item {display: flex;flex-direction: column;z-index: 1;position: relative;background-color: white;}#sk-container-id-2 div.sk-parallel-item:first-child::after {align-self: flex-end;width: 50%;}#sk-container-id-2 div.sk-parallel-item:last-child::after {align-self: flex-start;width: 50%;}#sk-container-id-2 div.sk-parallel-item:only-child::after {width: 0;}#sk-container-id-2 div.sk-dashed-wrapped {border: 1px dashed gray;margin: 0 0.4em 0.5em 0.4em;box-sizing: border-box;padding-bottom: 0.4em;background-color: white;}#sk-container-id-2 div.sk-label label {font-family: monospace;font-weight: bold;display: inline-block;line-height: 1.2em;}#sk-container-id-2 div.sk-label-container {text-align: center;}#sk-container-id-2 div.sk-container {/* jupyter's `normalize.less` sets `[hidden] { display: none; }` but bootstrap.min.css set `[hidden] { display: none !important; }` so we also need the `!important` here to be able to override the default hidden behavior on the sphinx rendered scikit-learn.org. See: https://github.com/scikit-learn/scikit-learn/issues/21755 */display: inline-block !important;position: relative;}#sk-container-id-2 div.sk-text-repr-fallback {display: none;}</style><div id=\"sk-container-id-2\" class=\"sk-top-container\"><div class=\"sk-text-repr-fallback\"><pre>RandomizedSearchCV(cv=5, estimator=RandomForestClassifier(), n_iter=50,\n",
       "                   param_distributions={&#x27;max_depth&#x27;: [5, 10, 15, 20, 25],\n",
       "                                        &#x27;min_samples_leaf&#x27;: [1, 2, 3, 4, 5],\n",
       "                                        &#x27;min_samples_split&#x27;: [2, 3, 4, 5, 6],\n",
       "                                        &#x27;n_estimators&#x27;: [100, 150, 200, 250,\n",
       "                                                         300, 350, 400, 450,\n",
       "                                                         500]},\n",
       "                   scoring=&#x27;f1&#x27;, verbose=3)</pre><b>In a Jupyter environment, please rerun this cell to show the HTML representation or trust the notebook. <br />On GitHub, the HTML representation is unable to render, please try loading this page with nbviewer.org.</b></div><div class=\"sk-container\" hidden><div class=\"sk-item sk-dashed-wrapped\"><div class=\"sk-label-container\"><div class=\"sk-label sk-toggleable\"><input class=\"sk-toggleable__control sk-hidden--visually\" id=\"sk-estimator-id-2\" type=\"checkbox\" ><label for=\"sk-estimator-id-2\" class=\"sk-toggleable__label sk-toggleable__label-arrow\">RandomizedSearchCV</label><div class=\"sk-toggleable__content\"><pre>RandomizedSearchCV(cv=5, estimator=RandomForestClassifier(), n_iter=50,\n",
       "                   param_distributions={&#x27;max_depth&#x27;: [5, 10, 15, 20, 25],\n",
       "                                        &#x27;min_samples_leaf&#x27;: [1, 2, 3, 4, 5],\n",
       "                                        &#x27;min_samples_split&#x27;: [2, 3, 4, 5, 6],\n",
       "                                        &#x27;n_estimators&#x27;: [100, 150, 200, 250,\n",
       "                                                         300, 350, 400, 450,\n",
       "                                                         500]},\n",
       "                   scoring=&#x27;f1&#x27;, verbose=3)</pre></div></div></div><div class=\"sk-parallel\"><div class=\"sk-parallel-item\"><div class=\"sk-item\"><div class=\"sk-label-container\"><div class=\"sk-label sk-toggleable\"><input class=\"sk-toggleable__control sk-hidden--visually\" id=\"sk-estimator-id-3\" type=\"checkbox\" ><label for=\"sk-estimator-id-3\" class=\"sk-toggleable__label sk-toggleable__label-arrow\">estimator: RandomForestClassifier</label><div class=\"sk-toggleable__content\"><pre>RandomForestClassifier()</pre></div></div></div><div class=\"sk-serial\"><div class=\"sk-item\"><div class=\"sk-estimator sk-toggleable\"><input class=\"sk-toggleable__control sk-hidden--visually\" id=\"sk-estimator-id-4\" type=\"checkbox\" ><label for=\"sk-estimator-id-4\" class=\"sk-toggleable__label sk-toggleable__label-arrow\">RandomForestClassifier</label><div class=\"sk-toggleable__content\"><pre>RandomForestClassifier()</pre></div></div></div></div></div></div></div></div></div></div>"
      ],
      "text/plain": [
       "RandomizedSearchCV(cv=5, estimator=RandomForestClassifier(), n_iter=50,\n",
       "                   param_distributions={'max_depth': [5, 10, 15, 20, 25],\n",
       "                                        'min_samples_leaf': [1, 2, 3, 4, 5],\n",
       "                                        'min_samples_split': [2, 3, 4, 5, 6],\n",
       "                                        'n_estimators': [100, 150, 200, 250,\n",
       "                                                         300, 350, 400, 450,\n",
       "                                                         500]},\n",
       "                   scoring='f1', verbose=3)"
      ]
     },
     "execution_count": 20,
     "metadata": {},
     "output_type": "execute_result"
    }
   ],
   "source": [
    "from sklearn.model_selection import RandomizedSearchCV\n",
    "\n",
    "rf = RandomForestClassifier()\n",
    "\n",
    "randomizedCV = RandomizedSearchCV(estimator=rf, param_distributions=params_map, cv=5, n_iter=50, scoring=\"f1\", verbose=3)\n",
    "randomizedCV.fit(X_train,y_train)"
   ]
  },
  {
   "cell_type": "markdown",
   "id": "181ee573",
   "metadata": {},
   "source": [
    "## Q7. Report the best set of hyperparameters found by the search and the corresponding performance metrics. Compare the performance of the tuned model with the default model."
   ]
  },
  {
   "cell_type": "code",
   "execution_count": 21,
   "id": "70b9da10",
   "metadata": {},
   "outputs": [
    {
     "data": {
      "text/plain": [
       "{'n_estimators': 100,\n",
       " 'min_samples_split': 2,\n",
       " 'min_samples_leaf': 3,\n",
       " 'max_depth': 10}"
      ]
     },
     "execution_count": 21,
     "metadata": {},
     "output_type": "execute_result"
    }
   ],
   "source": [
    "randomizedCV.best_params_"
   ]
  },
  {
   "cell_type": "code",
   "execution_count": 22,
   "id": "b1827208",
   "metadata": {},
   "outputs": [],
   "source": [
    "randomized_classifier = randomizedCV.best_estimator_"
   ]
  },
  {
   "cell_type": "code",
   "execution_count": 23,
   "id": "a3780ac1",
   "metadata": {},
   "outputs": [],
   "source": [
    "y_pred = randomized_classifier.predict(X_test)"
   ]
  },
  {
   "cell_type": "code",
   "execution_count": 24,
   "id": "5a2eba80",
   "metadata": {},
   "outputs": [
    {
     "name": "stdout",
     "output_type": "stream",
     "text": [
      "              precision    recall  f1-score   support\n",
      "\n",
      "           0       0.82      0.80      0.81        41\n",
      "           1       0.84      0.86      0.85        50\n",
      "\n",
      "    accuracy                           0.84        91\n",
      "   macro avg       0.83      0.83      0.83        91\n",
      "weighted avg       0.83      0.84      0.83        91\n",
      "\n"
     ]
    }
   ],
   "source": [
    "from sklearn.metrics import classification_report, accuracy_score\n",
    "\n",
    "report = classification_report(y_test,y_pred)\n",
    "print(report)"
   ]
  },
  {
   "cell_type": "code",
   "execution_count": 25,
   "id": "3c14d1d9",
   "metadata": {},
   "outputs": [
    {
     "name": "stdout",
     "output_type": "stream",
     "text": [
      "Accuracy:0.8351648351648352\n",
      "Precision:0.8431372549019608\n",
      "Recall:0.86\n",
      "F1_score:0.8514851485148515\n"
     ]
    }
   ],
   "source": [
    "from sklearn.metrics import accuracy_score, precision_score, recall_score, f1_score\n",
    "\n",
    "acc_random = accuracy_score(y_test,y_pred)\n",
    "prec_random = precision_score(y_test,y_pred)\n",
    "recall_random = recall_score(y_test,y_pred)\n",
    "f1_random = f1_score(y_test,y_pred)\n",
    "\n",
    "print(f\"Accuracy:{acc_random}\")\n",
    "print(f\"Precision:{prec_random}\")\n",
    "print(f\"Recall:{recall_random}\")\n",
    "print(f\"F1_score:{f1_random}\")"
   ]
  },
  {
   "cell_type": "code",
   "execution_count": 27,
   "id": "38c10fd5",
   "metadata": {},
   "outputs": [],
   "source": [
    "dct = {\n",
    "    'metrics':['accuracy','precision','recall','f1'],\n",
    "    'base model':[acc,prec,recall,f1],\n",
    "    'tuned model':[acc_random,prec_random,recall_random,f1_random]\n",
    "}"
   ]
  },
  {
   "cell_type": "code",
   "execution_count": 28,
   "id": "9321d49b",
   "metadata": {},
   "outputs": [
    {
     "data": {
      "text/html": [
       "<div>\n",
       "<style scoped>\n",
       "    .dataframe tbody tr th:only-of-type {\n",
       "        vertical-align: middle;\n",
       "    }\n",
       "\n",
       "    .dataframe tbody tr th {\n",
       "        vertical-align: top;\n",
       "    }\n",
       "\n",
       "    .dataframe thead th {\n",
       "        text-align: right;\n",
       "    }\n",
       "</style>\n",
       "<table border=\"1\" class=\"dataframe\">\n",
       "  <thead>\n",
       "    <tr style=\"text-align: right;\">\n",
       "      <th></th>\n",
       "      <th>metrics</th>\n",
       "      <th>base model</th>\n",
       "      <th>tuned model</th>\n",
       "    </tr>\n",
       "  </thead>\n",
       "  <tbody>\n",
       "    <tr>\n",
       "      <th>0</th>\n",
       "      <td>accuracy</td>\n",
       "      <td>0.791209</td>\n",
       "      <td>0.835165</td>\n",
       "    </tr>\n",
       "    <tr>\n",
       "      <th>1</th>\n",
       "      <td>precision</td>\n",
       "      <td>0.816327</td>\n",
       "      <td>0.843137</td>\n",
       "    </tr>\n",
       "    <tr>\n",
       "      <th>2</th>\n",
       "      <td>recall</td>\n",
       "      <td>0.800000</td>\n",
       "      <td>0.860000</td>\n",
       "    </tr>\n",
       "    <tr>\n",
       "      <th>3</th>\n",
       "      <td>f1</td>\n",
       "      <td>0.808081</td>\n",
       "      <td>0.851485</td>\n",
       "    </tr>\n",
       "  </tbody>\n",
       "</table>\n",
       "</div>"
      ],
      "text/plain": [
       "     metrics  base model  tuned model\n",
       "0   accuracy    0.791209     0.835165\n",
       "1  precision    0.816327     0.843137\n",
       "2     recall    0.800000     0.860000\n",
       "3         f1    0.808081     0.851485"
      ]
     },
     "execution_count": 28,
     "metadata": {},
     "output_type": "execute_result"
    }
   ],
   "source": [
    "df_compare = pd.DataFrame(dct)\n",
    "df_compare"
   ]
  },
  {
   "cell_type": "markdown",
   "id": "888e26aa",
   "metadata": {},
   "source": [
    "## Q8. Interpret the model by analysing the decision boundaries of the random forest classifier. Plot the decision boundaries on a scatter plot of two of the most important features. Discuss the insights and limitations of the model for predicting heart disease risk."
   ]
  },
  {
   "cell_type": "code",
   "execution_count": 29,
   "id": "b04ccac6",
   "metadata": {},
   "outputs": [
    {
     "data": {
      "text/plain": [
       "ca          0.172678\n",
       "cp          0.130095\n",
       "thal        0.122261\n",
       "oldpeak     0.115974\n",
       "thalach     0.095668\n",
       "exang       0.086962\n",
       "age         0.063133\n",
       "trestbps    0.055736\n",
       "slope       0.053045\n",
       "chol        0.049782\n",
       "sex         0.032883\n",
       "restecg     0.013108\n",
       "fbs         0.008675\n",
       "dtype: float64"
      ]
     },
     "execution_count": 29,
     "metadata": {},
     "output_type": "execute_result"
    }
   ],
   "source": [
    "imp_tuned = randomized_classifier.feature_importances_\n",
    "imp_tuned = pd.Series(imp_tuned)\n",
    "imp_tuned.index = randomized_classifier.feature_names_in_\n",
    "imp_tuned = imp_tuned.sort_values(ascending=False)\n",
    "imp_tuned"
   ]
  },
  {
   "cell_type": "code",
   "execution_count": 31,
   "id": "184b5b11",
   "metadata": {},
   "outputs": [
    {
     "data": {
      "image/png": "[encoded data removed]",
      "text/plain": [
       "<Figure size 1152x576 with 1 Axes>"
      ]
     },
     "metadata": {
      "needs_background": "light"
     },
     "output_type": "display_data"
    }
   ],
   "source": [
    "imp_tuned.plot(kind='bar',title='Feature Importances for tuned model',figsize=(16,8))\n",
    "plt.show()"
   ]
  },
  {
   "cell_type": "code",
   "execution_count": 33,
   "id": "7397298d",
   "metadata": {},
   "outputs": [
    {
     "data": {
      "text/html": [
       "<div>\n",
       "<style scoped>\n",
       "    .dataframe tbody tr th:only-of-type {\n",
       "        vertical-align: middle;\n",
       "    }\n",
       "\n",
       "    .dataframe tbody tr th {\n",
       "        vertical-align: top;\n",
       "    }\n",
       "\n",
       "    .dataframe thead th {\n",
       "        text-align: right;\n",
       "    }\n",
       "</style>\n",
       "<table border=\"1\" class=\"dataframe\">\n",
       "  <thead>\n",
       "    <tr style=\"text-align: right;\">\n",
       "      <th></th>\n",
       "      <th>ca</th>\n",
       "      <th>cp</th>\n",
       "    </tr>\n",
       "  </thead>\n",
       "  <tbody>\n",
       "    <tr>\n",
       "      <th>124</th>\n",
       "      <td>0</td>\n",
       "      <td>2</td>\n",
       "    </tr>\n",
       "    <tr>\n",
       "      <th>72</th>\n",
       "      <td>0</td>\n",
       "      <td>1</td>\n",
       "    </tr>\n",
       "    <tr>\n",
       "      <th>15</th>\n",
       "      <td>0</td>\n",
       "      <td>2</td>\n",
       "    </tr>\n",
       "    <tr>\n",
       "      <th>10</th>\n",
       "      <td>0</td>\n",
       "      <td>0</td>\n",
       "    </tr>\n",
       "    <tr>\n",
       "      <th>163</th>\n",
       "      <td>4</td>\n",
       "      <td>2</td>\n",
       "    </tr>\n",
       "  </tbody>\n",
       "</table>\n",
       "</div>"
      ],
      "text/plain": [
       "     ca  cp\n",
       "124   0   2\n",
       "72    0   1\n",
       "15    0   2\n",
       "10    0   0\n",
       "163   4   2"
      ]
     },
     "execution_count": 33,
     "metadata": {},
     "output_type": "execute_result"
    }
   ],
   "source": [
    "top2 = X_train[['ca','cp']]\n",
    "top2.head()"
   ]
  },
  {
   "cell_type": "code",
   "execution_count": 35,
   "id": "a4000ab3",
   "metadata": {},
   "outputs": [
    {
     "data": {
      "text/html": [
       "<div>\n",
       "<style scoped>\n",
       "    .dataframe tbody tr th:only-of-type {\n",
       "        vertical-align: middle;\n",
       "    }\n",
       "\n",
       "    .dataframe tbody tr th {\n",
       "        vertical-align: top;\n",
       "    }\n",
       "\n",
       "    .dataframe thead th {\n",
       "        text-align: right;\n",
       "    }\n",
       "</style>\n",
       "<table border=\"1\" class=\"dataframe\">\n",
       "  <thead>\n",
       "    <tr style=\"text-align: right;\">\n",
       "      <th></th>\n",
       "      <th>ca</th>\n",
       "      <th>cp</th>\n",
       "      <th>target</th>\n",
       "    </tr>\n",
       "  </thead>\n",
       "  <tbody>\n",
       "    <tr>\n",
       "      <th>124</th>\n",
       "      <td>0</td>\n",
       "      <td>2</td>\n",
       "      <td>1</td>\n",
       "    </tr>\n",
       "    <tr>\n",
       "      <th>72</th>\n",
       "      <td>0</td>\n",
       "      <td>1</td>\n",
       "      <td>1</td>\n",
       "    </tr>\n",
       "    <tr>\n",
       "      <th>15</th>\n",
       "      <td>0</td>\n",
       "      <td>2</td>\n",
       "      <td>1</td>\n",
       "    </tr>\n",
       "    <tr>\n",
       "      <th>10</th>\n",
       "      <td>0</td>\n",
       "      <td>0</td>\n",
       "      <td>1</td>\n",
       "    </tr>\n",
       "    <tr>\n",
       "      <th>163</th>\n",
       "      <td>4</td>\n",
       "      <td>2</td>\n",
       "      <td>1</td>\n",
       "    </tr>\n",
       "  </tbody>\n",
       "</table>\n",
       "</div>"
      ],
      "text/plain": [
       "     ca  cp  target\n",
       "124   0   2       1\n",
       "72    0   1       1\n",
       "15    0   2       1\n",
       "10    0   0       1\n",
       "163   4   2       1"
      ]
     },
     "execution_count": 35,
     "metadata": {},
     "output_type": "execute_result"
    }
   ],
   "source": [
    "df_top2 =pd.concat([top2,y_train],axis=1)\n",
    "df_top2.head()"
   ]
  },
  {
   "cell_type": "code",
   "execution_count": 36,
   "id": "ec46f1ea",
   "metadata": {},
   "outputs": [
    {
     "data": {
      "image/png": "[encoded data removed]",
      "text/plain": [
       "<Figure size 720x720 with 1 Axes>"
      ]
     },
     "metadata": {
      "needs_background": "light"
     },
     "output_type": "display_data"
    }
   ],
   "source": [
    "plt.figure(figsize=(10,10))\n",
    "sns.scatterplot(data=df_top2,x='ca',y='cp',hue='target')\n",
    "plt.title('Actual Class Target plot')\n",
    "plt.show()"
   ]
  },
  {
   "cell_type": "code",
   "execution_count": 39,
   "id": "df491d9e",
   "metadata": {},
   "outputs": [
    {
     "data": {
      "text/html": [
       "<div>\n",
       "<style scoped>\n",
       "    .dataframe tbody tr th:only-of-type {\n",
       "        vertical-align: middle;\n",
       "    }\n",
       "\n",
       "    .dataframe tbody tr th {\n",
       "        vertical-align: top;\n",
       "    }\n",
       "\n",
       "    .dataframe thead th {\n",
       "        text-align: right;\n",
       "    }\n",
       "</style>\n",
       "<table border=\"1\" class=\"dataframe\">\n",
       "  <thead>\n",
       "    <tr style=\"text-align: right;\">\n",
       "      <th></th>\n",
       "      <th>ca</th>\n",
       "      <th>cp</th>\n",
       "      <th>target</th>\n",
       "      <th>predicted</th>\n",
       "    </tr>\n",
       "  </thead>\n",
       "  <tbody>\n",
       "    <tr>\n",
       "      <th>124</th>\n",
       "      <td>0</td>\n",
       "      <td>2</td>\n",
       "      <td>1</td>\n",
       "      <td>1</td>\n",
       "    </tr>\n",
       "    <tr>\n",
       "      <th>72</th>\n",
       "      <td>0</td>\n",
       "      <td>1</td>\n",
       "      <td>1</td>\n",
       "      <td>1</td>\n",
       "    </tr>\n",
       "    <tr>\n",
       "      <th>15</th>\n",
       "      <td>0</td>\n",
       "      <td>2</td>\n",
       "      <td>1</td>\n",
       "      <td>1</td>\n",
       "    </tr>\n",
       "    <tr>\n",
       "      <th>10</th>\n",
       "      <td>0</td>\n",
       "      <td>0</td>\n",
       "      <td>1</td>\n",
       "      <td>1</td>\n",
       "    </tr>\n",
       "    <tr>\n",
       "      <th>163</th>\n",
       "      <td>4</td>\n",
       "      <td>2</td>\n",
       "      <td>1</td>\n",
       "      <td>1</td>\n",
       "    </tr>\n",
       "    <tr>\n",
       "      <th>...</th>\n",
       "      <td>...</td>\n",
       "      <td>...</td>\n",
       "      <td>...</td>\n",
       "      <td>...</td>\n",
       "    </tr>\n",
       "    <tr>\n",
       "      <th>188</th>\n",
       "      <td>1</td>\n",
       "      <td>2</td>\n",
       "      <td>0</td>\n",
       "      <td>0</td>\n",
       "    </tr>\n",
       "    <tr>\n",
       "      <th>71</th>\n",
       "      <td>1</td>\n",
       "      <td>2</td>\n",
       "      <td>1</td>\n",
       "      <td>1</td>\n",
       "    </tr>\n",
       "    <tr>\n",
       "      <th>106</th>\n",
       "      <td>1</td>\n",
       "      <td>3</td>\n",
       "      <td>1</td>\n",
       "      <td>1</td>\n",
       "    </tr>\n",
       "    <tr>\n",
       "      <th>270</th>\n",
       "      <td>0</td>\n",
       "      <td>0</td>\n",
       "      <td>0</td>\n",
       "      <td>0</td>\n",
       "    </tr>\n",
       "    <tr>\n",
       "      <th>102</th>\n",
       "      <td>2</td>\n",
       "      <td>1</td>\n",
       "      <td>1</td>\n",
       "      <td>1</td>\n",
       "    </tr>\n",
       "  </tbody>\n",
       "</table>\n",
       "<p>212 rows × 4 columns</p>\n",
       "</div>"
      ],
      "text/plain": [
       "     ca  cp  target  predicted\n",
       "124   0   2       1          1\n",
       "72    0   1       1          1\n",
       "15    0   2       1          1\n",
       "10    0   0       1          1\n",
       "163   4   2       1          1\n",
       "..   ..  ..     ...        ...\n",
       "188   1   2       0          0\n",
       "71    1   2       1          1\n",
       "106   1   3       1          1\n",
       "270   0   0       0          0\n",
       "102   2   1       1          1\n",
       "\n",
       "[212 rows x 4 columns]"
      ]
     },
     "execution_count": 39,
     "metadata": {},
     "output_type": "execute_result"
    }
   ],
   "source": [
    "df_top2['predicted'] = randomized_classifier.predict(X_train)\n",
    "df_top2"
   ]
  },
  {
   "cell_type": "code",
   "execution_count": 40,
   "id": "d2a63e22",
   "metadata": {},
   "outputs": [
    {
     "data": {
      "image/png": "[encoded data removed]",
      "text/plain": [
       "<Figure size 432x288 with 1 Axes>"
      ]
     },
     "metadata": {
      "needs_background": "light"
     },
     "output_type": "display_data"
    }
   ],
   "source": [
    "sns.scatterplot(data=df_top2,x='ca',y='cp',hue='predicted')\n",
    "plt.title('Predicted Class Target plot')\n",
    "plt.show()"
   ]
  },
  {
   "cell_type": "markdown",
   "id": "c1e7a19d",
   "metadata": {},
   "source": [
    "##### So, we can observe that we have an almost similar pattern in both the actual and the predicted values done by the random forest classifier"
   ]
  }
 ],
 "metadata": {
  "kernelspec": {
   "display_name": "Python 3 (ipykernel)",
   "language": "python",
   "name": "python3"
  },
  "language_info": {
   "codemirror_mode": {
    "name": "ipython",
    "version": 3
   },
   "file_extension": ".py",
   "mimetype": "text/x-python",
   "name": "python",
   "nbconvert_exporter": "python",
   "pygments_lexer": "ipython3",
   "version": "3.9.12"
  }
 },
 "nbformat": 4,
 "nbformat_minor": 5
}
