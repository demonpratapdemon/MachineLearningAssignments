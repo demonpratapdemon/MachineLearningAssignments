{
 "cells": [
  {
   "cell_type": "markdown",
   "id": "01d4483f-3555-42bc-88da-c463c8b926b9",
   "metadata": {},
   "source": [
    "**Q1. Create a python program to sort the given list of tuples based on integer value using a\n",
    "lambda function.  \n",
    "[('Sachin Tendulkar', 34357), ('Ricky Ponting', 27483), ('Jack Kallis', 25534), ('Virat Kohli', 24936)]**"
   ]
  },
  {
   "cell_type": "code",
   "execution_count": 22,
   "id": "0622741a-6b7b-4f39-8d0d-406f219d5743",
   "metadata": {},
   "outputs": [
    {
     "name": "stdout",
     "output_type": "stream",
     "text": [
      "[('Virat Kohli', 24936), ('Jack Kallis', 25534), ('Ricky Ponting', 27483), ('Sachin Tendulkar', 34357)]\n"
     ]
    }
   ],
   "source": [
    "lis = [('Sachin Tendulkar', 34357), ('Ricky Ponting', 27483), ('Jack Kallis', 25534), ('Virat Kohli', 24936)]\n",
    "lis.sort(reverse = False, key = lambda x : x[1])\n",
    "print(lis)"
   ]
  },
  {
   "cell_type": "markdown",
   "id": "7ac3064f-a9f3-47c2-8027-68d487a28cac",
   "metadata": {},
   "source": [
    "**Q2. Write a Python Program to find the squares of all the numbers in the given list of integers using\n",
    "lambda and map functions.\n",
    "[1, 2, 3, 4, 5, 6, 7, 8, 9, 10]**"
   ]
  },
  {
   "cell_type": "code",
   "execution_count": 26,
   "id": "1f398356-7edb-46d3-b981-f18a2ed1efd4",
   "metadata": {},
   "outputs": [
    {
     "data": {
      "text/plain": [
       "[1, 4, 9, 16, 25, 36, 49, 64, 81, 100]"
      ]
     },
     "execution_count": 26,
     "metadata": {},
     "output_type": "execute_result"
    }
   ],
   "source": [
    "sq = [1, 2, 3, 4, 5, 6, 7, 8, 9, 10]\n",
    "func = lambda x : (i ** 2 for i in x)\n",
    "list(func(sq))"
   ]
  },
  {
   "cell_type": "code",
   "execution_count": 30,
   "id": "2393dfe5-d857-4ba2-81f1-86ff56b23288",
   "metadata": {},
   "outputs": [
    {
     "data": {
      "text/plain": [
       "[1, 4, 9, 16, 25, 36, 49, 64, 81, 100]"
      ]
     },
     "execution_count": 30,
     "metadata": {},
     "output_type": "execute_result"
    }
   ],
   "source": [
    "def funcSq(x):\n",
    "    return x ** 2\n",
    "list(map(funcSq, sq))"
   ]
  },
  {
   "cell_type": "markdown",
   "id": "bbce4515-25a4-4ec5-aaf9-ae9afb0e6fb4",
   "metadata": {},
   "source": [
    "**Q3. Write a python program to convert the given list of integers into a tuple of strings. Use map and\n",
    "lambda functions.  \n",
    "Given String: [1, 2, 3, 4, 5, 6, 7, 8, 9, 10]  \n",
    "Expected output: ('1', '2', '3', '4', '5', '6', '7', '8', '9', '10')**"
   ]
  },
  {
   "cell_type": "code",
   "execution_count": 35,
   "id": "bf0ba04b-9a86-4b6c-9e6c-37b85cabcbc9",
   "metadata": {},
   "outputs": [
    {
     "data": {
      "text/plain": [
       "('1', '2', '3', '4', '5', '6', '7', '8', '9', '10')"
      ]
     },
     "execution_count": 35,
     "metadata": {},
     "output_type": "execute_result"
    }
   ],
   "source": [
    "nums = [1, 2, 3, 4, 5, 6, 7, 8, 9, 10]\n",
    "func = lambda x : (str(i) for i in x)\n",
    "tuple(func(nums))"
   ]
  },
  {
   "cell_type": "code",
   "execution_count": 37,
   "id": "643d3747-70c8-454c-91db-09d3c68a8047",
   "metadata": {},
   "outputs": [
    {
     "data": {
      "text/plain": [
       "('1', '2', '3', '4', '5', '6', '7', '8', '9', '10')"
      ]
     },
     "execution_count": 37,
     "metadata": {},
     "output_type": "execute_result"
    }
   ],
   "source": [
    "def funcTuple(x):\n",
    "    return str(x)\n",
    "tuple(map(funcTuple, nums))"
   ]
  },
  {
   "cell_type": "markdown",
   "id": "ed1fb9cf-fe36-4932-9ade-77866b6d8876",
   "metadata": {},
   "source": [
    "**Q4. Write a python program using reduce function to compute the product of a list containing numbers\n",
    "from 1 to 25.**"
   ]
  },
  {
   "cell_type": "code",
   "execution_count": 49,
   "id": "81728235-9ace-461b-9ca5-6a8c67ab06f3",
   "metadata": {},
   "outputs": [
    {
     "name": "stdout",
     "output_type": "stream",
     "text": [
      "15511210043330985984000000\n"
     ]
    }
   ],
   "source": [
    "from functools import reduce\n",
    "\n",
    "n = [i for i in range(1,26)]\n",
    "print(reduce(lambda a, b: a*b, n))"
   ]
  },
  {
   "cell_type": "markdown",
   "id": "652dae97-a3ad-41f6-8fc4-92862cf66a97",
   "metadata": {},
   "source": [
    "**Q5. Write a python program to filter the numbers in a given list that are divisible by 2 and 3 using the\n",
    "filter function.  \n",
    "[2, 3, 6, 9, 27, 60, 90, 120, 55, 46]**"
   ]
  },
  {
   "cell_type": "code",
   "execution_count": 56,
   "id": "7ab6d724-9190-4668-ace2-d9a826a733e4",
   "metadata": {},
   "outputs": [
    {
     "data": {
      "text/plain": [
       "[6, 60, 90, 120]"
      ]
     },
     "execution_count": 56,
     "metadata": {},
     "output_type": "execute_result"
    }
   ],
   "source": [
    "numb = [2, 3, 6, 9, 27, 60, 90, 120, 55, 46]\n",
    "list(filter(lambda x : (x % 2 == 0 and x% 3 == 0), numb))"
   ]
  },
  {
   "cell_type": "markdown",
   "id": "7a199e0d-bf4f-4caf-ab0b-d9c9145e2b3e",
   "metadata": {},
   "source": [
    "**Q6. Write a python program to find palindromes in the given list of strings using lambda and filter\n",
    "function.  \n",
    "['python', 'php', 'aba', 'radar', 'level']**"
   ]
  },
  {
   "cell_type": "code",
   "execution_count": 58,
   "id": "12c7d916-6c33-4a39-8da3-fbca05ba5447",
   "metadata": {},
   "outputs": [
    {
     "data": {
      "text/plain": [
       "['php', 'aba', 'radar', 'level']"
      ]
     },
     "execution_count": 58,
     "metadata": {},
     "output_type": "execute_result"
    }
   ],
   "source": [
    "strs = ['python', 'php', 'aba', 'radar', 'level']\n",
    "list(filter(lambda x : (x == x[::-1]), strs))"
   ]
  }
 ],
 "metadata": {
  "kernelspec": {
   "display_name": "Python 3 (ipykernel)",
   "language": "python",
   "name": "python3"
  },
  "language_info": {
   "codemirror_mode": {
    "name": "ipython",
    "version": 3
   },
   "file_extension": ".py",
   "mimetype": "text/x-python",
   "name": "python",
   "nbconvert_exporter": "python",
   "pygments_lexer": "ipython3",
   "version": "3.10.8"
  }
 },
 "nbformat": 4,
 "nbformat_minor": 5
}
