{
 "cells": [
  {
   "cell_type": "markdown",
   "id": "000b3aca-50a9-4695-870b-26ab457cc648",
   "metadata": {},
   "source": [
    "**Q1. Create a function which will take a list as an argument and return the product of all the numbers\n",
    "after creating a flat list.  \n",
    "Use the below-given list as an argument for your function.  \n",
    "list1 = [1,2,3,4, [44,55,66, True], False, (34,56,78,89,34), {1,2,3,3,2,1}, {1:34, \"key2\": [55, 67, 78, 89], 4: (45,\n",
    "22, 61, 34)}, [56, 'data science'], 'Machine Learning']  \n",
    "Note: you must extract numeric keys and values of the dictionary also.**"
   ]
  },
  {
   "cell_type": "code",
   "execution_count": 30,
   "id": "fe064d46-d4d9-40eb-9d50-390df095890f",
   "metadata": {},
   "outputs": [
    {
     "name": "stdout",
     "output_type": "stream",
     "text": [
      "res =  78718933113238978560\n"
     ]
    }
   ],
   "source": [
    "list1 = [1,2,3,4, [44,55,66, True], False, (34,56,78,89,34), {1,2,3,3,2,1}, {1:34, \"key2\": [55, 67, 78, 89], 4: (45, 22, 61, 34)}, [56, 'data science'], 'Machine Learning']\n",
    "res = 1\n",
    "for v in list1:\n",
    "    if isinstance(v, bool):\n",
    "        continue\n",
    "    \n",
    "    if isinstance(v, int):\n",
    "        res = res * v\n",
    "        \n",
    "    if isinstance(v, list) or isinstance(v, tuple) or isinstance(v, set):        \n",
    "        for i in v:\n",
    "            if isinstance(i, int):\n",
    "                res = res * i\n",
    "    \n",
    "    if isinstance(v, dict):\n",
    "        for key, val in v.items():\n",
    "            if isinstance(key, int):\n",
    "                res = res * key\n",
    "            if isinstance(val, int):\n",
    "                res = res * val\n",
    "print(\"res = \", res)"
   ]
  },
  {
   "cell_type": "markdown",
   "id": "5532096a-8812-4fed-b36c-59e53da3bea4",
   "metadata": {},
   "source": [
    "**Q2. Write a python program for encrypting a message sent to you by your friend. The logic of encryption\n",
    "should be such that, for a the output should be z. For b, the output should be y. For c, the output should\n",
    "be x respectively. Also, the whitespace should be replaced with a dollar sign. Keep the punctuation\n",
    "marks unchanged.  \n",
    "Input Sentence: I want to become a Data Scientist.  \n",
    "Encrypt the above input sentence using the program you just created.  \n",
    "Note: Convert the given input sentence into lowercase before encrypting. The final output should be\n",
    "lowercase.**"
   ]
  },
  {
   "cell_type": "code",
   "execution_count": 62,
   "id": "8eb0943b-6759-4fc9-9865-0cb8561cc4f7",
   "metadata": {},
   "outputs": [
    {
     "name": "stdout",
     "output_type": "stream",
     "text": [
      "Encrypted message is: r$dzmg$gl$yvxlnv$z$wzgz$hxrvmgrhg.\n"
     ]
    }
   ],
   "source": [
    "msg = \"I want to become a Data Scientist.\"\n",
    "msg = msg.lower()\n",
    "encrypt = \"\"\n",
    "for char in msg:\n",
    "    if len(char.split()) == 0:\n",
    "        encrypt += \"$\"\n",
    "        continue\n",
    "    if ord(char) < 97 or ord(char) > 122:\n",
    "        encrypt += char\n",
    "        continue\n",
    "    val = 122 - (ord(char) - 97)\n",
    "    encrypt += chr(val)\n",
    "print(\"Encrypted message is:\", encrypt)"
   ]
  }
 ],
 "metadata": {
  "kernelspec": {
   "display_name": "Python 3 (ipykernel)",
   "language": "python",
   "name": "python3"
  },
  "language_info": {
   "codemirror_mode": {
    "name": "ipython",
    "version": 3
   },
   "file_extension": ".py",
   "mimetype": "text/x-python",
   "name": "python",
   "nbconvert_exporter": "python",
   "pygments_lexer": "ipython3",
   "version": "3.10.8"
  }
 },
 "nbformat": 4,
 "nbformat_minor": 5
}
