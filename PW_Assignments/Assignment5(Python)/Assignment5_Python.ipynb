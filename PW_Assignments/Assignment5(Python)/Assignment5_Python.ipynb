{
 "cells": [
  {
   "cell_type": "markdown",
   "id": "fa270f1b-1bf3-4eb2-bc8c-99bec684c7b1",
   "metadata": {},
   "source": [
    "**Q1. Who developed Python Programming language?**\n",
    "\n",
    "Guido van Rossum developed Python Programming language."
   ]
  },
  {
   "cell_type": "markdown",
   "id": "5543eec6-5718-4dfc-b7df-4e34d8e3bef2",
   "metadata": {},
   "source": [
    "**Q2. Which type of programming does python support?**\n",
    "\n",
    "Python supports Object oriented, structured and functional programming."
   ]
  },
  {
   "cell_type": "markdown",
   "id": "1d5090fd-bc2d-432d-b53d-0b0d5ef97617",
   "metadata": {},
   "source": [
    "**Q3. Is Python case sensitive when dealing with identifiers?**\n",
    "\n",
    "Yes, Python is case sensitive language"
   ]
  },
  {
   "cell_type": "markdown",
   "id": "f804c0ed-d133-46e1-8c57-72d035ef7deb",
   "metadata": {},
   "source": [
    "**Q4. What is the correct extension of the python file?**\n",
    "\n",
    "The correct extension for the Python file is \".py\""
   ]
  },
  {
   "cell_type": "markdown",
   "id": "ee171b9f-de91-41ab-a05b-ad781cf78a54",
   "metadata": {},
   "source": [
    "**Q5. Is Python compiled or interpreted language?**\n",
    "\n",
    "Python is an interpreted language"
   ]
  },
  {
   "cell_type": "markdown",
   "id": "7d2ef03a-e02a-4573-8a43-98c113b450bc",
   "metadata": {},
   "source": [
    "**Q6. Name a few blocks of code used to define in Python language.**\n",
    "\n",
    "Names of a few blocks of code in Python are as follows:  \n",
    "1. A module  \n",
    "2. Function Body  \n",
    "3. Class Definition\n",
    "4. Assignment Expressions  \n",
    "5. Import Statements"
   ]
  },
  {
   "cell_type": "markdown",
   "id": "52797a15-88ef-46b1-8938-534d25559c5e",
   "metadata": {},
   "source": [
    "**Q7. State a character used to give single line comment in Python.**\n",
    "\n",
    "The character used for single line comment is \"#\""
   ]
  },
  {
   "cell_type": "markdown",
   "id": "3cea4262-ab85-4b62-90c2-6375e0e6d5aa",
   "metadata": {},
   "source": [
    "**Q8. Mention functions that are used to find the version of Python we are currently working on.**\n",
    "\n",
    "The funcion used for finding the version Python we are currently working on are:\n",
    "1. sys.version  \n",
    "2. python_version()"
   ]
  },
  {
   "cell_type": "code",
   "execution_count": 5,
   "id": "7c223bf8-ea68-457b-91e7-9d619845f58d",
   "metadata": {},
   "outputs": [
    {
     "data": {
      "text/plain": [
       "'3.10.8 | packaged by conda-forge | (main, Nov 22 2022, 08:26:04) [GCC 10.4.0]'"
      ]
     },
     "execution_count": 5,
     "metadata": {},
     "output_type": "execute_result"
    }
   ],
   "source": [
    "import sys\n",
    "\n",
    "sys.version"
   ]
  },
  {
   "cell_type": "code",
   "execution_count": 7,
   "id": "7e55ad12-5ea8-401c-a178-0f5152d77817",
   "metadata": {},
   "outputs": [
    {
     "data": {
      "text/plain": [
       "'3.10.8'"
      ]
     },
     "execution_count": 7,
     "metadata": {},
     "output_type": "execute_result"
    }
   ],
   "source": [
    "from platform import python_version\n",
    "\n",
    "python_version()"
   ]
  },
  {
   "cell_type": "markdown",
   "id": "3d7a5592-ecfa-4890-b8f6-989ed5c584c4",
   "metadata": {},
   "source": [
    "**Q9. Python supports the creation of anonymous functions at runtime using a fucntion called**\n",
    "\n",
    "The function is \"lambda\""
   ]
  },
  {
   "cell_type": "markdown",
   "id": "ef319481-f1bd-4df8-bc5a-bfc19d81ffdc",
   "metadata": {},
   "source": [
    "**Q10. What does pip stands for?**\n",
    "\n",
    "It stands for \"pip Install Packages\""
   ]
  },
  {
   "cell_type": "markdown",
   "id": "f5c83bc5-8170-484b-9ffa-d8dc6651210a",
   "metadata": {},
   "source": [
    "**Q11. Name a few built-in functions in python.**\n",
    "\n",
    "The names of few built-in functions in Python are:\n",
    "1. len()\n",
    "2. int()\n",
    "3. list()\n",
    "4. max()\n",
    "5. min()"
   ]
  },
  {
   "cell_type": "markdown",
   "id": "e7f9d893-1909-4259-94ad-a2d9ba62e941",
   "metadata": {},
   "source": [
    "**Q12. What is the maximum possible length of an identifier in Python?**\n",
    "\n",
    "The maximum length of an identifier can be of 79 charactes."
   ]
  },
  {
   "cell_type": "markdown",
   "id": "e85ddc5b-c624-41a9-961a-35ae812900f6",
   "metadata": {},
   "source": [
    "**Q13. What are the benefits of using Python?**\n",
    "\n",
    "The benefits of using Python are:\n",
    "1. Light weight and faster\n",
    "2. Easy to use and interpretable\n",
    "3. Consists of different libraries\n",
    "4. Can be used for both web dev and ML and other requirements easily"
   ]
  },
  {
   "cell_type": "markdown",
   "id": "cad66da8-3ac1-4194-82a3-d684bf3a9061",
   "metadata": {},
   "source": [
    "**Q14. How is memory managed in Python?**\n",
    "\n",
    "Python uses the dynamic memory allocation which is managed by the Heap data structure."
   ]
  },
  {
   "cell_type": "markdown",
   "id": "2ea2baff-9fdc-4325-b70e-8ee55c3589b9",
   "metadata": {},
   "source": [
    "**Q15. How to install Python on Windows and set path variables?**\n",
    "\n",
    "For installation, go to the official page for Python and download the appropriate executbale for the OS and run the executbale.\n",
    "\n",
    "The complete path of python.exe can be added by:\n",
    "\n",
    "Right-clicking This PC and going to Properties.\n",
    "\n",
    "Clicking on the Advanced system settings in the menu on the left.\n",
    "\n",
    "Clicking on the Environment Variables button o​n the bottom right.\n",
    "\n",
    "In the System variables section, selecting the Path variable and clicking on Edit. The next screen will show all the directories that are currently a part of the PATH variable.\n",
    "\n",
    "Clicking on New and entering Python’s install directory."
   ]
  },
  {
   "cell_type": "markdown",
   "id": "222339a3-588e-48d4-b1c0-f966cbdcb479",
   "metadata": {},
   "source": [
    "**Q16. Is indentation required in Python?**\n",
    "\n",
    "Yes, indentation is mandatory in Python."
   ]
  }
 ],
 "metadata": {
  "kernelspec": {
   "display_name": "Python 3 (ipykernel)",
   "language": "python",
   "name": "python3"
  },
  "language_info": {
   "codemirror_mode": {
    "name": "ipython",
    "version": 3
   },
   "file_extension": ".py",
   "mimetype": "text/x-python",
   "name": "python",
   "nbconvert_exporter": "python",
   "pygments_lexer": "ipython3",
   "version": "3.10.8"
  }
 },
 "nbformat": 4,
 "nbformat_minor": 5
}
