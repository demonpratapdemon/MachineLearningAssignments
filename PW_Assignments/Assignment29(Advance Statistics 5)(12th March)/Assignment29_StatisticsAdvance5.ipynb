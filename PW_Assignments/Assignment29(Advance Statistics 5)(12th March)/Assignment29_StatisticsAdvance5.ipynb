{
 "cells": [
  {
   "cell_type": "code",
   "execution_count": 6,
   "id": "5a2f3601",
   "metadata": {},
   "outputs": [],
   "source": [
    "import numpy as np\n",
    "import scipy.stats as stats\n",
    "import pandas as pd\n",
    "import matplotlib.pyplot as plt"
   ]
  },
  {
   "cell_type": "markdown",
   "id": "bd49a81e",
   "metadata": {},
   "source": [
    "## Q1. Calculate the 95% confidence interval for a sample of data with a mean of 50 and a standard deviation of 5 using Python. Interpret the results."
   ]
  },
  {
   "cell_type": "code",
   "execution_count": 7,
   "id": "be1b2225",
   "metadata": {},
   "outputs": [
    {
     "name": "stdout",
     "output_type": "stream",
     "text": [
      "The 95.0 Confidence Interval for the Population mean lies between  49.01 and 50.99\n"
     ]
    }
   ],
   "source": [
    "sample_mean = 50\n",
    "sample_std = 5\n",
    "sample_size = 100\n",
    "\n",
    "dof = sample_size - 1\n",
    "\n",
    "ci = 0.95\n",
    "alpha = 1 - ci\n",
    "\n",
    "t_crit = stats.t.ppf(q = 1 - alpha / 2, df = dof)\n",
    "se = sample_std / np.sqrt(sample_size)\n",
    "me = t_crit * se\n",
    "\n",
    "lb = sample_mean - me\n",
    "ub = sample_mean + me\n",
    "\n",
    "print(f\"The {ci * 100} Confidence Interval for the Population mean lies between {lb: .2f} and {ub:.2f}\")"
   ]
  },
  {
   "cell_type": "markdown",
   "id": "b2d8f123",
   "metadata": {},
   "source": [
    "## Q2. Conduct a chi-square goodness of fit test to determine if the distribution of colors of M&Ms in a bag matches the expected distribution of 20% blue, 20% orange, 20% green, 10% yellow, 10% red, and 20% brown. Use Python to perform the test with a significance level of 0.05."
   ]
  },
  {
   "cell_type": "code",
   "execution_count": 8,
   "id": "f143c182",
   "metadata": {},
   "outputs": [
    {
     "name": "stdout",
     "output_type": "stream",
     "text": [
      "The sum of observed value : 80 and sum of expected value : 80.0\n",
      "The critical value is: 12.832501994030027\n",
      "Failed to reject the null hypothesis\n",
      "Conclusion: The distribution of colors of M&Ms in the bag matches the expected distribution.\n"
     ]
    }
   ],
   "source": [
    "observed_val = np.asarray([20, 15, 10, 5, 20, 10])\n",
    "expected_val = np.asarray([0.2, 0.2, 0.2, 0.1, 0.1, 0.2]) * np.sum(observed_val)\n",
    "print(f\"The sum of observed value : {sum(observed_val)} and sum of expected value : {sum(expected_val)}\")\n",
    "\n",
    "alpha = 0.05\n",
    "dof = len(observed_val) - 1\n",
    "\n",
    "null_hypo = \"The distribution of colors of M&Ms in the bag matches the expected distribution.\"\n",
    "alt_hypo = \"The distribution of colors of M&Ms in the bag matches the doesn't match the expected distribution.\"\n",
    "\n",
    "chi_stats, p_val = stats.chisquare(observed_val, expected_val)\n",
    "chi_critical = stats.chi2.ppf(1 - alpha / 2, dof)\n",
    "\n",
    "print(\"The critical value is:\", chi_critical)\n",
    "\n",
    "if p_val > alpha :\n",
    "    print(\"Reject the null hypothesis\")\n",
    "    print(\"Conclusion:\", alt_hypo)\n",
    "else:\n",
    "    print(\"Failed to reject the null hypothesis\")\n",
    "    print(\"Conclusion:\", null_hypo)"
   ]
  },
  {
   "cell_type": "markdown",
   "id": "507193aa",
   "metadata": {},
   "source": [
    "## Q3. Use Python to calculate the chi-square statistic and p-value for a contingency table with the following data:\n",
    "\n",
    "||Group A|\tGroup B|\n",
    "|---|---|---|\n",
    "|Outcome 1|\t20|\t15|\n",
    "|Outcome 2|\t10|\t25|\n",
    "|Outcome 3|\t15|\t20|\n",
    "\n",
    "## Interpret the results of the test."
   ]
  },
  {
   "cell_type": "code",
   "execution_count": 9,
   "id": "5a4f5733",
   "metadata": {},
   "outputs": [
    {
     "name": "stdout",
     "output_type": "stream",
     "text": [
      "p value is 0.05411376622282158\n",
      "Failed to reject the Null Hypothesis\n",
      "Conclusion: The distribution of colors of M&Ms in the bag matches the expected distribution.\n"
     ]
    }
   ],
   "source": [
    "obs = [20,10,15]\n",
    "expected = [15,25,20]\n",
    "data = [obs, expected]\n",
    "\n",
    "null_hypothesis = \"The outcomes are independent of the groups.\"\n",
    "alternate_hypothesis = \"The outcomes are Dependent on the groups.\"\n",
    "\n",
    "stat, p_val, dof, expected = stats.chi2_contingency(data)\n",
    "\n",
    "alpha = 0.05\n",
    "print(\"p value is \" + str(p_val))\n",
    "\n",
    "if p_val <= alpha:\n",
    "    print('Reject the Null Hypothesis')\n",
    "    print(\"Conclusion:\", alt_hypo)\n",
    "else:\n",
    "    print('Failed to reject the Null Hypothesis')\n",
    "    print(\"Conclusion:\", null_hypo)"
   ]
  },
  {
   "cell_type": "markdown",
   "id": "e79108e5",
   "metadata": {},
   "source": [
    "## Q4. A study of the prevalence of smoking in a population of 500 individuals found that 60 individuals smoked. Use Python to calculate the 95% confidence interval for the true proportion of individuals in the population who smoke."
   ]
  },
  {
   "cell_type": "code",
   "execution_count": 10,
   "id": "fae94383",
   "metadata": {},
   "outputs": [
    {
     "name": "stdout",
     "output_type": "stream",
     "text": [
      "The Z-Score critical value is: 1.959963984540054\n",
      "The true proportion of individuals who smoke lie between  9.15% and 14.85% with a confidence level of 95.0%\n"
     ]
    }
   ],
   "source": [
    "n = 500\n",
    "pop = 60\n",
    "\n",
    "p = pop / n\n",
    "\n",
    "dof = pop - 1\n",
    "\n",
    "se = np.sqrt(p * (1 - p) / n)\n",
    "\n",
    "ci = 0.95\n",
    "alpha = 1 - ci\n",
    "\n",
    "z_critical = stats.norm.ppf(q = 1 - alpha / 2)\n",
    "\n",
    "print(f\"The Z-Score critical value is: {z_critical}\")\n",
    "\n",
    "me = z_critical * se\n",
    "\n",
    "lb = p - me\n",
    "ub = p + me\n",
    "\n",
    "print(f\"The true proportion of individuals who smoke lie between {lb * 100: .2f}% and {ub * 100:.2f}% with a confidence level of {ci *100}%\")"
   ]
  },
  {
   "cell_type": "markdown",
   "id": "d4d31930",
   "metadata": {},
   "source": [
    "## Q5. Calculate the 90% confidence interval for a sample of data with a mean of 75 and a standard deviation of 12 using Python. Interpret the results."
   ]
  },
  {
   "cell_type": "code",
   "execution_count": 11,
   "id": "60f1514b",
   "metadata": {},
   "outputs": [
    {
     "name": "stdout",
     "output_type": "stream",
     "text": [
      "The true population mean lies between 73.01 and 76.99 with a confidence level of 90.0%\n"
     ]
    }
   ],
   "source": [
    "sample_mean = 75\n",
    "sample_std = 12\n",
    "sample_size = 100\n",
    "\n",
    "dof = sample_size - 1\n",
    "\n",
    "ci = 0.9\n",
    "alpha = 1 - ci\n",
    "\n",
    "t_crit = stats.t.ppf(q = 1 - alpha / 2, df = dof)\n",
    "\n",
    "se = sample_std / np.sqrt(sample_size)\n",
    "me = t_crit * se\n",
    "\n",
    "lb = sample_mean - me\n",
    "ub = sample_mean + me\n",
    "\n",
    "print(f\"The true population mean lies between {lb:.2f} and {ub:.2f} with a confidence level of {ci * 100}%\")"
   ]
  },
  {
   "cell_type": "markdown",
   "id": "b498b885",
   "metadata": {},
   "source": [
    "## Q6. Use Python to plot the chi-square distribution with 10 degrees of freedom. Label the axes and shade the area corresponding to a chi-square statistic of 15."
   ]
  },
  {
   "cell_type": "code",
   "execution_count": 12,
   "id": "c40ba1ed",
   "metadata": {},
   "outputs": [
    {
     "data": {
      "image/png": "[encoded data removed]",
      "text/plain": [
       "<Figure size 720x720 with 1 Axes>"
      ]
     },
     "metadata": {
      "needs_background": "light"
     },
     "output_type": "display_data"
    }
   ],
   "source": [
    "dof = 10\n",
    "chi_stat = 15\n",
    "\n",
    "data = np.linspace(stats.chi2.ppf(0.001, dof), stats.chi2.ppf(0.999, dof), num = 100)\n",
    "\n",
    "fig, ax = plt.subplots(figsize = (10, 10))\n",
    "\n",
    "pdf = stats.chi2.pdf(x = data, df = dof)\n",
    "\n",
    "ax.plot(data, pdf, lw = 5, label = \"Chi Sqaure PDF\")\n",
    "\n",
    "area = stats.chi2.cdf(x = chi_stat, df = dof)\n",
    "\n",
    "x_fill = np.linspace(stats.chi2.ppf(0.001, dof), 15, 100)\n",
    "\n",
    "ax.fill_between(x = x_fill, y1 = stats.chi2.pdf(x_fill, dof), alpha = 0.5, color = \"#6F81CA\", label = \"Area with Chi Stats 15\")\n",
    "\n",
    "ax.legend()\n",
    "\n",
    "plt.xlabel(\"Data\")\n",
    "plt.ylabel(\"PDF\")\n",
    "plt.title(\"Chi-Square Distribution with 10 Degrees of Freedom\")\n",
    "plt.show()"
   ]
  },
  {
   "cell_type": "markdown",
   "id": "c05d8af2",
   "metadata": {},
   "source": [
    "## Q7. A random sample of 1000 people was asked if they preferred Coke or Pepsi. Of the sample, 520 preferred Coke. Calculate a 99% confidence interval for the true proportion of people in the population who prefer Coke."
   ]
  },
  {
   "cell_type": "code",
   "execution_count": 13,
   "id": "160ec20f",
   "metadata": {},
   "outputs": [
    {
     "name": "stdout",
     "output_type": "stream",
     "text": [
      "The true proportion of pei=ople who prefer Coke lies between 47.92% and  56.08% with a confidence level of 99.0%\n"
     ]
    }
   ],
   "source": [
    "sample_size = 1000\n",
    "obs_coke  = 520\n",
    "dof = sample_size - 1\n",
    "\n",
    "p = obs_coke / sample_size\n",
    "\n",
    "se = np.sqrt(p * ( 1 - p) / sample_size)\n",
    "\n",
    "ci = 0.99\n",
    "alpha = 1 - ci\n",
    "\n",
    "t_crit = stats.t.ppf(1 - alpha / 2, df = dof)\n",
    "\n",
    "me = t_crit * se\n",
    "\n",
    "lb = p - me\n",
    "ub = p + me\n",
    "\n",
    "print(f\"The true proportion of pei=ople who prefer Coke lies between {lb *100:.2f}% and {ub * 100: .2f}% with a confidence level of {ci * 100}%\")"
   ]
  },
  {
   "cell_type": "markdown",
   "id": "d8e92047",
   "metadata": {},
   "source": [
    "## Q8. A researcher hypothesizes that a coin is biased towards tails. They flip the coin 100 times and observe 45 tails. Conduct a chi-square goodness of fit test to determine if the observed frequencies match the expected frequencies of a fair coin. Use a significance level of 0.05."
   ]
  },
  {
   "cell_type": "code",
   "execution_count": 14,
   "id": "9c57057b",
   "metadata": {},
   "outputs": [
    {
     "name": "stdout",
     "output_type": "stream",
     "text": [
      "Failed to reject the Null Hypothesis\n",
      "Conclusion: The coin is not biased towards tails i.e. Fair\n"
     ]
    }
   ],
   "source": [
    "null_hypo = \"The coin is not biased towards tails i.e. Fair\"\n",
    "alt_hypo = \"The coin is biased towards tails i.e. Unfair\"\n",
    "\n",
    "sample_size = 100\n",
    "obs = [45, 55]\n",
    "expected = [50,50]\n",
    "\n",
    "dof = sample_size - 1\n",
    "\n",
    "alpha = 0.05\n",
    "chi_critical = stats.chi2.ppf(q = 1 - alpha, df = dof)\n",
    "\n",
    "chi_statistics,p_value = stats.chisquare(obs,expected)\n",
    "\n",
    "if p_val <= alpha:\n",
    "    print(\"Reject the Null Hypothesis\")\n",
    "    print(\"Conclusion:\", alt_hypo)\n",
    "else:\n",
    "    print(\"Failed to reject the Null Hypothesis\")\n",
    "    print(\"Conclusion:\", null_hypo)"
   ]
  },
  {
   "cell_type": "markdown",
   "id": "23da0a9b",
   "metadata": {},
   "source": [
    "## Q9. A study was conducted to determine if there is an association between smoking status (smoker or non-smoker) and lung cancer diagnosis (yes or no). The results are shown in the contingency table below. Conduct a chi-square test for independence to determine if there is a significant association between smoking status and lung cancer diagnosis.\n",
    "\n",
    "||Lung Cancer:Yes\t|Lung Cancer:No|\n",
    "|---|---|---|\n",
    "|Smoker|\t60\t|140|\n",
    "|Non Smoker|\t30\t|170|\n",
    "\n",
    "## Use a significance level of 0.05."
   ]
  },
  {
   "cell_type": "code",
   "execution_count": 15,
   "id": "b0e9e504",
   "metadata": {},
   "outputs": [
    {
     "name": "stdout",
     "output_type": "stream",
     "text": [
      "Observed Data :\n",
      "\n",
      "            Lung Cancer:Yes  Lung Cancer:No\n",
      "Smoker                   60             140\n",
      "Non Smoker               30             170\n",
      "==============================================================================\n",
      "\n",
      "Expected Data :\n",
      "\n",
      "            Lung Cancer:Yes  Lung Cancer:No\n",
      "Smoker                 45.0           155.0\n",
      "Non Smoker             45.0           155.0 \n",
      "\n",
      "==============================================================================\n",
      "\n",
      "Reject the null hypothesis\n",
      "Conclusion: There is an association between smoking status and lung cancer\n"
     ]
    }
   ],
   "source": [
    "cancer = [60, 30]\n",
    "non_cancer = [140,170]\n",
    "\n",
    "observed_df = pd.DataFrame({'Lung Cancer:Yes':[60,30], 'Lung Cancer:No':[140,170]})\n",
    "observed_df.index = ['Smoker','Non Smoker']\n",
    "\n",
    "null_hypo = \"There is no association between smoking status and lung cancer\"\n",
    "alt_hypo = \"There is an association between smoking status and lung cancer\"\n",
    "\n",
    "alpha = 0.05\n",
    "print(\"Observed Data :\\n\")\n",
    "print(observed_df)\n",
    "print(\"==============================================================================\\n\")\n",
    "\n",
    "stat, p_val, dof, expected = stats.chi2_contingency(observed_df)\n",
    "\n",
    "expected_df = pd.DataFrame(expected)\n",
    "expected_df.columns = [\"Lung Cancer:Yes\", \"Lung Cancer:No\"]\n",
    "expected_df.index = [\"Smoker\", \"Non Smoker\"]\n",
    "\n",
    "print(\"Expected Data :\\n\")\n",
    "print(expected_df, \"\\n\")\n",
    "print(\"==============================================================================\\n\")\n",
    "\n",
    "if p_val <= alpha:\n",
    "    print(\"Reject the null hypothesis\")\n",
    "    print(\"Conclusion:\", alt_hypo)\n",
    "else:\n",
    "    print(\"Failed to reject the Null Hypothesis\")\n",
    "    print(\"Conclusion:\", alt_hypo)"
   ]
  },
  {
   "cell_type": "markdown",
   "id": "79136c53",
   "metadata": {},
   "source": [
    "## Q10. A study was conducted to determine if the proportion of people who prefer milk chocolate, dark chocolate, or white chocolate is different in the U.S. versus the U.K. A random sample of 500 people from the U.S. and a random sample of 500 people from the U.K. were surveyed. The results are shown in the contingency table below. Conduct a chi-square test for independence to determine if there is a significant association between chocolate preference and country of origin.\n",
    "\n",
    "||Milk Chocolate|\tDark Chocolate|\tWhite Chocolate|\n",
    "|---|---|---|---|\n",
    "|U.S. (n=500)|\t200|\t150|\t150|\n",
    "|U.K. (n=500)|\t225|\t175|\t100|\n",
    "\n",
    "## Use a significance level of 0.01."
   ]
  },
  {
   "cell_type": "code",
   "execution_count": 27,
   "id": "f4bf929f",
   "metadata": {},
   "outputs": [
    {
     "name": "stdout",
     "output_type": "stream",
     "text": [
      "Observed Data:\n",
      "\n",
      "              Milk Chocolate  Dark Chocolate  White Chocolate\n",
      "U.S. (n=500)             200             150              150\n",
      "U.K. (n=500)             225             175              100\n",
      "==================================================================================\n",
      "\n",
      "Expected Data:\n",
      "\n",
      "              Milk Chocolate  Dark Chocolate  White Chocolate\n",
      "U.S. (n=500)           212.5           162.5            125.0\n",
      "U.K. (n=500)           212.5           162.5            125.0\n",
      "==================================================================================\n",
      "\n",
      "Reject the Null Hypothesis\n",
      "Conclusion: There is an association between Country and Chocolate type\n"
     ]
    }
   ],
   "source": [
    "null_hypo = \"There is no association between Country and Chocolate type\"\n",
    "alt_hypo = \"There is an association between Country and Chocolate type\"\n",
    "\n",
    "observed_df = pd.DataFrame(data = [[200,150,150], [225,175,100]], columns= [\"Milk Chocolate\",\"Dark Chocolate\",\"White Chocolate\"],\n",
    "                           index = [\"U.S. (n=500)\", \"U.K. (n=500)\"])\n",
    "print(\"Observed Data:\\n\")\n",
    "print(observed_df)\n",
    "print(\"==================================================================================\\n\")\n",
    "\n",
    "chi_stats, p_val, dof, expected = stats.chi2_contingency(observed_df)\n",
    "\n",
    "expected_df = pd.DataFrame(data = expected, columns= [\"Milk Chocolate\",\"Dark Chocolate\",\"White Chocolate\"],\n",
    "                           index = [\"U.S. (n=500)\", \"U.K. (n=500)\"])\n",
    "print(\"Expected Data:\\n\")\n",
    "print(expected_df)\n",
    "print(\"==================================================================================\\n\")\n",
    "\n",
    "alpha = 0.01\n",
    "\n",
    "if p_val <= alpha:\n",
    "    print(\"Reject the Null Hypothesis\")\n",
    "    print(\"Conclusion:\", alt_hypo)\n",
    "else:\n",
    "    print(\"Failed to reject the Null Hypothesis\")\n",
    "    print(\"Conclusion:\", null_hypo)"
   ]
  },
  {
   "cell_type": "markdown",
   "id": "842843a3",
   "metadata": {},
   "source": [
    "## Q11. A random sample of 30 people was selected from a population with an unknown mean and standard deviation. The sample mean was found to be 72 and the sample standard deviation was found to be 10. Conduct a hypothesis test to determine if the population mean is significantly different from 70. Use a significance level of 0.05."
   ]
  },
  {
   "cell_type": "code",
   "execution_count": 42,
   "id": "45f682dd",
   "metadata": {},
   "outputs": [
    {
     "name": "stdout",
     "output_type": "stream",
     "text": [
      "Failed to reject the Null Hypothesis\n",
      "Conclusion: The population mean is equal to 70\n"
     ]
    }
   ],
   "source": [
    "null_hypo = \"The population mean is equal to 70\"\n",
    "alt_hypo = \"The population mean is not equal to 70\"\n",
    "\n",
    "sample_size = 30\n",
    "sample_mean = 72\n",
    "sample_std = 10\n",
    "\n",
    "dof = sample_size - 1\n",
    "\n",
    "alpha = 0.05\n",
    "\n",
    "pop_mean = 70\n",
    "\n",
    "t_stat = (sample_mean - pop_mean) / (sample_std / np.sqrt(sample_size))\n",
    "\n",
    "p_val = (1 - stats.t.cdf(x = t_stat, df = dof))\n",
    "\n",
    "if p_val <= alpha:\n",
    "    print(\"Reject the Null Hypothesis\")\n",
    "    print(\"Conclusion:\", alt_hypo)\n",
    "else:\n",
    "    print(\"Failed to reject the Null Hypothesis\")\n",
    "    print(\"Conclusion:\", null_hypo)"
   ]
  },
  {
   "cell_type": "markdown",
   "id": "85a08265",
   "metadata": {},
   "source": [
    "#### Using ChiSqaure Test"
   ]
  },
  {
   "cell_type": "code",
   "execution_count": 35,
   "id": "94591cb6",
   "metadata": {},
   "outputs": [
    {
     "name": "stdout",
     "output_type": "stream",
     "text": [
      "Failed to reject the Null Hypothesis\n",
      "Conclusion: The population mean is equal to 70\n"
     ]
    }
   ],
   "source": [
    "null_hypo = \"The population mean is equal to 70\"\n",
    "alt_hypo = \"The population mean is not equal to 70\"\n",
    "\n",
    "obs_size = 30\n",
    "obs_mean = 72\n",
    "obs_std = 10\n",
    "\n",
    "expected_mean = 70\n",
    "\n",
    "chi_stat = ((obs_mean - expected_mean) ** 2) / expected_mean\n",
    "\n",
    "p_val = 1 - stats.chi2.cdf(x = chi_stat, df = dof)\n",
    "\n",
    "if p_val <= alpha:\n",
    "    print(\"Reject the Null Hypothesis\")\n",
    "    print(\"Conclusion:\", alt_hypo)\n",
    "else:\n",
    "    print(\"Failed to reject the Null Hypothesis\")\n",
    "    print(\"Conclusion:\", null_hypo)"
   ]
  }
 ],
 "metadata": {
  "kernelspec": {
   "display_name": "Python 3 (ipykernel)",
   "language": "python",
   "name": "python3"
  },
  "language_info": {
   "codemirror_mode": {
    "name": "ipython",
    "version": 3
   },
   "file_extension": ".py",
   "mimetype": "text/x-python",
   "name": "python",
   "nbconvert_exporter": "python",
   "pygments_lexer": "ipython3",
   "version": "3.9.12"
  }
 },
 "nbformat": 4,
 "nbformat_minor": 5
}
