{
 "cells": [
  {
   "cell_type": "markdown",
   "id": "f0651925-da57-4285-8c7d-d4e1526b79d9",
   "metadata": {},
   "source": [
    "## Q1. What is an Exception in python? Write the difference between Exceptions and Syntax error."
   ]
  },
  {
   "cell_type": "markdown",
   "id": "5b1d6eb3-68be-44aa-bae4-e83f787364e2",
   "metadata": {},
   "source": [
    "Exception is defined as a runtime error which may be caused due to wrong input, statements of code causing it or if any file is missing. This happens when the code usually runs and is in no control of the user then.\n",
    "\n",
    "Exceptions can only be handled at runtime to avoid or tackle the wrong happening. But Syntax error would not even run the code. It will show the error then and there."
   ]
  },
  {
   "cell_type": "markdown",
   "id": "a41b7618-fef1-4f86-8a44-13c40e9a1f2d",
   "metadata": {},
   "source": [
    "## Q2. What happens when an exception is not handled? Explain with an example."
   ]
  },
  {
   "cell_type": "markdown",
   "id": "7b6d613e-2c18-4138-96b7-3534f7753b28",
   "metadata": {},
   "source": [
    "If an Exception is not handled then it will print the stack trace of the error and will stop the program execution in between which may or may not be excepted depending on situations. "
   ]
  },
  {
   "cell_type": "code",
   "execution_count": 3,
   "id": "0baab948-8e6b-48a0-865f-011ea1a4421d",
   "metadata": {},
   "outputs": [
    {
     "ename": "ZeroDivisionError",
     "evalue": "division by zero",
     "output_type": "error",
     "traceback": [
      "\u001b[0;31m---------------------------------------------------------------------------\u001b[0m",
      "\u001b[0;31mZeroDivisionError\u001b[0m                         Traceback (most recent call last)",
      "Cell \u001b[0;32mIn[3], line 2\u001b[0m\n\u001b[1;32m      1\u001b[0m a \u001b[38;5;241m=\u001b[39m \u001b[38;5;241m10\u001b[39m\n\u001b[0;32m----> 2\u001b[0m \u001b[38;5;28mprint\u001b[39m(\u001b[43ma\u001b[49m\u001b[43m \u001b[49m\u001b[38;5;241;43m/\u001b[39;49m\u001b[43m \u001b[49m\u001b[38;5;241;43m0\u001b[39;49m)\n\u001b[1;32m      3\u001b[0m \u001b[38;5;66;03m# This will not print the next line and will stop the execution of the code block\u001b[39;00m\n\u001b[1;32m      4\u001b[0m \u001b[38;5;28mprint\u001b[39m(\u001b[38;5;124m\"\u001b[39m\u001b[38;5;124mI am here\u001b[39m\u001b[38;5;124m\"\u001b[39m)\n",
      "\u001b[0;31mZeroDivisionError\u001b[0m: division by zero"
     ]
    }
   ],
   "source": [
    "a = 10\n",
    "print(a / 0)\n",
    "# This will not print the next line and will stop the execution of the code block\n",
    "print(\"I am here\")"
   ]
  },
  {
   "cell_type": "markdown",
   "id": "b68db253-cde6-4ac8-88a3-24962546e8bc",
   "metadata": {},
   "source": [
    "## Q3. Which Python statements are used to catch and handle exceptions? Explain with an example"
   ]
  },
  {
   "cell_type": "markdown",
   "id": "c55bea33-2e70-45e3-98a7-8b38f2384b30",
   "metadata": {},
   "source": [
    "The Python statements used for handling exceptions are mentioned below:\n",
    "\n",
    "    1. try\n",
    "    2. except\n",
    "    3. finally"
   ]
  },
  {
   "cell_type": "code",
   "execution_count": 5,
   "id": "72646aff-9d2a-4b59-8e18-70a72bcd7cc0",
   "metadata": {},
   "outputs": [
    {
     "name": "stdout",
     "output_type": "stream",
     "text": [
      "Error occured: division by zero\n",
      "In the final block\n"
     ]
    }
   ],
   "source": [
    "try:\n",
    "    a = 10\n",
    "    print(a / 0)\n",
    "except Exception as e:\n",
    "    print(\"Error occured:\", e)\n",
    "else:\n",
    "    print(\"Execution successful\")\n",
    "finally: \n",
    "    print(\"In the final block\")"
   ]
  },
  {
   "cell_type": "markdown",
   "id": "11d04354-cb18-43ec-a8a8-f5f77e44d18c",
   "metadata": {},
   "source": [
    "## Question 4 : Explain with an example:\n",
    "####    1. Try and else\n",
    "####    2. finally\n",
    "####    3. raise"
   ]
  },
  {
   "cell_type": "code",
   "execution_count": 6,
   "id": "49957c7f-cf61-4afa-a82e-84730a2b8ace",
   "metadata": {},
   "outputs": [
    {
     "name": "stdout",
     "output_type": "stream",
     "text": [
      "Error occured while opening the file\n"
     ]
    }
   ],
   "source": [
    "try:\n",
    "    with open (\"abc.txt\", 'r') as f:\n",
    "        print(f.read())\n",
    "except Exception as e:\n",
    "    print(\"Error occured while opening the file\")\n",
    "else:\n",
    "    print(\"File read successfully\")"
   ]
  },
  {
   "cell_type": "code",
   "execution_count": 10,
   "id": "92f4c6df-7a6b-40c7-8718-51dc61049bdc",
   "metadata": {},
   "outputs": [
    {
     "name": "stdin",
     "output_type": "stream",
     "text": [
      "Enter the age -8\n"
     ]
    },
    {
     "name": "stdout",
     "output_type": "stream",
     "text": [
      "Age cannot be negative\n"
     ]
    }
   ],
   "source": [
    "class ValidateAgeException(Exception):\n",
    "    def __init__(self, msg):\n",
    "        self.msg = msg\n",
    "\n",
    "try:\n",
    "    age = int(input(\"Enter the age\"))\n",
    "    if age > 200:\n",
    "        raise ValidateAgeException(\"Age is too high\")\n",
    "    elif age < 0:\n",
    "        raise ValidateAgeException(\"Age cannot be negative\")\n",
    "    else:\n",
    "        print (\"Age is:\", age)\n",
    "except ValidateAgeException as e:\n",
    "    print(e)                    "
   ]
  },
  {
   "cell_type": "markdown",
   "id": "87e60cfc-37dd-454e-b652-712f6178d691",
   "metadata": {},
   "source": [
    "## Question 5 : What are custom Exceptions in python ? Why do we need Custom Exceptions? Explain with an Example."
   ]
  },
  {
   "cell_type": "markdown",
   "id": "2d52b96f-ef97-48c0-81fc-b639b57a4361",
   "metadata": {},
   "source": [
    "Custom Exceptions are user defined exception classes which are used to pass specific message or a specific type of an exception based on the requirement. For creating a Custom exception we have to create a class which inherits the \"Exception\" class and pass the message in the \"__init__\" method. And for raising the exception, in the code where it has to be raised we need to use the keyword \"raise\"."
   ]
  },
  {
   "cell_type": "code",
   "execution_count": 14,
   "id": "f86dfac4-0d59-417d-8f9a-0aff8d1882c4",
   "metadata": {},
   "outputs": [
    {
     "name": "stdin",
     "output_type": "stream",
     "text": [
      "Enter the marks 59\n"
     ]
    },
    {
     "name": "stdout",
     "output_type": "stream",
     "text": [
      "Obtained marks is: 59\n"
     ]
    }
   ],
   "source": [
    "class ValidateMarksException(Exception):\n",
    "    def __init__(self, msg):\n",
    "        self.msg = msg\n",
    "\n",
    "try:\n",
    "    marks = int(input(\"Enter the marks\"))\n",
    "    if marks > 100:\n",
    "        raise ValidateMarksException(\"Marks cannot be more than 100\")\n",
    "    elif marks < 0:\n",
    "        raise ValidateMarksException(\"Marks cannot be negative\")\n",
    "    else:\n",
    "        print (\"Obtained marks is:\", marks)\n",
    "except ValidateMarksException as e:\n",
    "    print(e)"
   ]
  },
  {
   "cell_type": "markdown",
   "id": "328f198c-763a-42dd-a8e8-28ccc4aedb4d",
   "metadata": {},
   "source": [
    "## Question 6 : Create a custom exception class . Use this class to handle exception"
   ]
  },
  {
   "cell_type": "code",
   "execution_count": 18,
   "id": "b39895ec-c85c-407a-9eb7-bdf933b91f18",
   "metadata": {},
   "outputs": [
    {
     "name": "stdin",
     "output_type": "stream",
     "text": [
      "Enter the marks pra4\n"
     ]
    },
    {
     "ename": "UsernameException",
     "evalue": "Username cannot be alpha numeric",
     "output_type": "error",
     "traceback": [
      "\u001b[0;31m---------------------------------------------------------------------------\u001b[0m",
      "\u001b[0;31mUsernameException\u001b[0m                         Traceback (most recent call last)",
      "Cell \u001b[0;32mIn[18], line 8\u001b[0m\n\u001b[1;32m      6\u001b[0m username \u001b[38;5;241m=\u001b[39m \u001b[38;5;28mstr\u001b[39m(\u001b[38;5;28minput\u001b[39m(\u001b[38;5;124m\"\u001b[39m\u001b[38;5;124mEnter the marks\u001b[39m\u001b[38;5;124m\"\u001b[39m))\n\u001b[1;32m      7\u001b[0m \u001b[38;5;28;01mif\u001b[39;00m username\u001b[38;5;241m.\u001b[39misalpha() \u001b[38;5;241m!=\u001b[39m \u001b[38;5;28;01mTrue\u001b[39;00m:\n\u001b[0;32m----> 8\u001b[0m     \u001b[38;5;28;01mraise\u001b[39;00m UsernameException(\u001b[38;5;124m\"\u001b[39m\u001b[38;5;124mUsername cannot be alpha numeric\u001b[39m\u001b[38;5;124m\"\u001b[39m)\n\u001b[1;32m      9\u001b[0m \u001b[38;5;28;01melse\u001b[39;00m:\n\u001b[1;32m     10\u001b[0m     \u001b[38;5;28mprint\u001b[39m (\u001b[38;5;124m\"\u001b[39m\u001b[38;5;124mUsername is:\u001b[39m\u001b[38;5;124m\"\u001b[39m, username)\n",
      "\u001b[0;31mUsernameException\u001b[0m: Username cannot be alpha numeric"
     ]
    }
   ],
   "source": [
    "class UsernameException(Exception):\n",
    "    def __init__(self, msg):\n",
    "        self.msg = msg\n",
    "\n",
    "try:\n",
    "    username = str(input(\"Enter the marks\"))\n",
    "    if username.isalpha() != True:\n",
    "        raise UsernameException(\"Username cannot be alpha numeric\")\n",
    "    else:\n",
    "        print (\"Username is:\", username)\n",
    "except ValidateMarksException as e:\n",
    "    print(e)"
   ]
  }
 ],
 "metadata": {
  "kernelspec": {
   "display_name": "Python 3 (ipykernel)",
   "language": "python",
   "name": "python3"
  },
  "language_info": {
   "codemirror_mode": {
    "name": "ipython",
    "version": 3
   },
   "file_extension": ".py",
   "mimetype": "text/x-python",
   "name": "python",
   "nbconvert_exporter": "python",
   "pygments_lexer": "ipython3",
   "version": "3.10.8"
  }
 },
 "nbformat": 4,
 "nbformat_minor": 5
}
