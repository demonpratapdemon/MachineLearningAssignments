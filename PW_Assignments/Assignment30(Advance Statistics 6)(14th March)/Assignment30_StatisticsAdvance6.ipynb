{
 "cells": [
  {
   "cell_type": "code",
   "execution_count": 34,
   "id": "e1ecb3a6",
   "metadata": {},
   "outputs": [],
   "source": [
    "import numpy as np\n",
    "import scipy.stats as stats\n",
    "import matplotlib.pyplot as plt"
   ]
  },
  {
   "cell_type": "markdown",
   "id": "1097fc31",
   "metadata": {},
   "source": [
    "## Q1. Write a Python function that takes in two arrays of data and calculates the F-value for a variance ratio test. The function should return the F-value and the corresponding p-value for the test."
   ]
  },
  {
   "cell_type": "code",
   "execution_count": 10,
   "id": "c86a188f",
   "metadata": {},
   "outputs": [],
   "source": [
    "def variance_ratio(arr1, arr2):\n",
    "    # Calculating the variance of the 2 arrays\n",
    "    var1 = np.var(arr1)\n",
    "    var2 = np.var(arr2)\n",
    "\n",
    "    # Calculating the f-value or the variance ratio between 2 arrays of data\n",
    "    f_val = var1 / var2\n",
    "\n",
    "    # Calculating degrees of freedom of the 2 dataset\n",
    "    df1 = len(arr1) - 1\n",
    "    df2 = len(arr2) - 1\n",
    "\n",
    "    # Calculating the p_value corresponding the f_value calculated above\n",
    "    p_val = stats.f.cdf(x = f_val, dfn = df1, dfd = df2)\n",
    "    \n",
    "    return (f_val, p_val)    "
   ]
  },
  {
   "cell_type": "code",
   "execution_count": 11,
   "id": "d4c108a1",
   "metadata": {},
   "outputs": [
    {
     "name": "stdout",
     "output_type": "stream",
     "text": [
      "The F-value is: 2.0002\n",
      "Corresponding p_value is: 0.9301\n"
     ]
    }
   ],
   "source": [
    "# Declaring 2 arrays\n",
    "arr1 = np.linspace(1, 100, 20)\n",
    "arr2 = np.linspace(10, 80, 20)\n",
    "\n",
    "f_val, p_val = variance_ratio(arr1, arr2)\n",
    "\n",
    "print(\"The F-value is:\", round(f_val, 4))\n",
    "print(\"Corresponding p_value is:\", round(p_val,4))"
   ]
  },
  {
   "cell_type": "markdown",
   "id": "b678bb3e",
   "metadata": {},
   "source": [
    "## Q2. Given a significance level of 0.05 and the degrees of freedom for the numerator and denominator of an F-distribution, write a Python function that returns the critical F-value for a two-tailed test."
   ]
  },
  {
   "cell_type": "code",
   "execution_count": 12,
   "id": "26865414",
   "metadata": {},
   "outputs": [],
   "source": [
    "def f_critical_val(dfn, dfd, alpha, tail):\n",
    "    if tail == 1:\n",
    "        critical_val = stats.f.ppf(q = 1 - alpha, dfn = dfn, dfd = dfd)            \n",
    "    else:\n",
    "        critical_val = stats.f.ppf(q = 1 - alpha / 2, dfn = dfn, dfd = dfd)\n",
    "    return critical_val"
   ]
  },
  {
   "cell_type": "code",
   "execution_count": 13,
   "id": "c398f1cd",
   "metadata": {},
   "outputs": [
    {
     "name": "stdout",
     "output_type": "stream",
     "text": [
      "The critical F-value for 2ed test is: 3.0602\n"
     ]
    }
   ],
   "source": [
    "alpha = 0.05 # given\n",
    "dfn = 10\n",
    "dfd = 15\n",
    "tail = 2\n",
    "\n",
    "critical_val = f_critical_val(dfn, dfd, alpha, tail)\n",
    "print(f\"The critical F-value for {tail}ed test is: {round(critical_val, 4)}\")"
   ]
  },
  {
   "cell_type": "markdown",
   "id": "566eda60",
   "metadata": {},
   "source": [
    "## Q3. Write a Python program that generates random samples from two normal distributions with known variances and uses an F-test to determine if the variances are equal. The program should output the F-value, degrees of freedom, and p-value for the test."
   ]
  },
  {
   "cell_type": "code",
   "execution_count": 14,
   "id": "54f04087",
   "metadata": {},
   "outputs": [],
   "source": [
    "def f_val_random_sample(std1, std2):\n",
    "    np.random.seed(42)\n",
    "    \n",
    "    arr1 = np.random.normal(loc = 10, scale = std1, size = 100)\n",
    "    arr2 = np.random.normal(loc = 15, scale = std2, size = 50)\n",
    "    \n",
    "    null_hypo = \"Variances of the 2 random samples are equal\"\n",
    "    alt_hypo = \"Variances of the 2 random samples are not equal\"\n",
    "    \n",
    "    var1 = np.var(arr1)\n",
    "    var2 = np.var(arr2)\n",
    "    \n",
    "    f_val = var1 / var2\n",
    "    \n",
    "    #  Calculating Degrees of Freedom\n",
    "    dfn = len(arr1) - 1\n",
    "    dfd = len(arr2) - 1\n",
    "    \n",
    "    # Declaring significance value\n",
    "    alpha = 0.05\n",
    "    \n",
    "    p_val = stats.f.cdf(x = f_val, dfn = dfn, dfd = dfd)\n",
    "    \n",
    "    critical_val = stats.f.ppf(q = 1 - alpha / 2, dfn = dfn, dfd = dfd)\n",
    "    \n",
    "    if f_val > critical_val:\n",
    "        return (alt_hypo, f_val, dfn, dfd, p_val)\n",
    "    else:\n",
    "        return (null_hypo, f_val, dfn, dfd, p_val)"
   ]
  },
  {
   "cell_type": "code",
   "execution_count": 15,
   "id": "3c068fdd",
   "metadata": {},
   "outputs": [
    {
     "name": "stdout",
     "output_type": "stream",
     "text": [
      "The degree of freedom of sample1 is 99 and sample2 is 49\n",
      "The F-value of the 2 samples is: 1.0101037690586694\n",
      "The corresponding p-value of the 2 samples is: 0.5050473803250424\n",
      "Conclusion:Variances of the 2 random samples are equal\n"
     ]
    }
   ],
   "source": [
    "variance1 = 10\n",
    "std1 = np.sqrt(variance1)\n",
    "\n",
    "variance2 = 8\n",
    "std2 = np.sqrt(variance2)\n",
    "\n",
    "accepted_hypo, f_val, dfn, dfd, p_val = f_val_random_sample(std1, std2)\n",
    "\n",
    "print(f\"The degree of freedom of sample1 is {dfn} and sample2 is {dfd}\")\n",
    "print(f\"The F-value of the 2 samples is: {f_val}\")\n",
    "print(f\"The corresponding p-value of the 2 samples is: {p_val}\")\n",
    "print(f\"Conclusion:{accepted_hypo}\")"
   ]
  },
  {
   "cell_type": "markdown",
   "id": "5617397d",
   "metadata": {},
   "source": [
    "## Q4.The variances of two populations are known to be 10 and 15. A sample of 12 observations is taken from each population. Conduct an F-test at the 5% significance level to determine if the variances are significantly different."
   ]
  },
  {
   "cell_type": "code",
   "execution_count": 16,
   "id": "fe75a301",
   "metadata": {},
   "outputs": [
    {
     "name": "stdout",
     "output_type": "stream",
     "text": [
      "Failed to Reject the null hypothesis\n",
      "Conclusion: The variances of the samples are not significantly different\n"
     ]
    }
   ],
   "source": [
    "var1 = 10\n",
    "var2 = 15\n",
    "\n",
    "arr1 = np.random.normal(loc = 10, scale = np.sqrt(var1), size = 50)\n",
    "arr2 = np.random.normal(loc = 15, scale = np.sqrt(var2), size = 30)\n",
    "\n",
    "sample1 = np.random.choice(arr1, size=12, replace=False)\n",
    "sample2 = np.random.choice(arr2, size=12, replace=False)\n",
    "\n",
    "alpha = 0.05\n",
    "\n",
    "var1 = np.var(sample1)\n",
    "var2 = np.var(sample2)\n",
    "\n",
    "f_val = var1 / var2\n",
    "\n",
    "dfn = len(sample1) - 1\n",
    "dfd = len(sample2) - 1\n",
    "\n",
    "critical_value = stats.f.ppf(q = 1- alpha / 2, dfn = dfn, dfd = dfd)\n",
    "\n",
    "null_hypo = \"The variances of the samples are not significantly different\"\n",
    "alt_hypo = \"The variances of the samples are significantly different\"\n",
    "\n",
    "if f_val > critical_val:\n",
    "    print(\"Reject the null hypothesis\")\n",
    "    print(f\"Conclusion: {alt_hypo}\")\n",
    "else:\n",
    "    print(\"Failed to Reject the null hypothesis\")\n",
    "    print(f\"Conclusion: {null_hypo}\")"
   ]
  },
  {
   "cell_type": "markdown",
   "id": "6f09fb91",
   "metadata": {},
   "source": [
    "## Q5. A manufacturer claims that the variance of the diameter of a certain product is 0.005. A sample of 25 products is taken, and the sample variance is found to be 0.006. Conduct an F-test at the 1% significance level to determine if the claim is justified."
   ]
  },
  {
   "cell_type": "code",
   "execution_count": 19,
   "id": "bfd41d43",
   "metadata": {},
   "outputs": [
    {
     "name": "stdout",
     "output_type": "stream",
     "text": [
      "Failed to reject Null Hypothesis\n",
      "Conclusion: The variance of the diameter of a certain product is 0.005\n"
     ]
    }
   ],
   "source": [
    "null_hypo = \"The variance of the diameter of a certain product is 0.005\"\n",
    "alt_hypo = \"The variance of the diameter of a certain product is not 0.005\"\n",
    "\n",
    "pop_size = 100\n",
    "pop_variance = 0.005\n",
    "sample_size =25\n",
    "sample_var = 0.006\n",
    "\n",
    "f_stat = sample_var / pop_variance\n",
    "\n",
    "dfn = sample_size - 1\n",
    "dfd = pop_size - 1\n",
    "\n",
    "alpha = 0.01\n",
    "\n",
    "critical_val = stats.f.ppf(q = 1- alpha, dfn = dfn, dfd = dfd)\n",
    "\n",
    "if f_stat <= critical_val:\n",
    "    print(\"Failed to reject Null Hypothesis\")\n",
    "    print(\"Conclusion:\", null_hypo)\n",
    "else:\n",
    "    print(\"Rejected Null Hypothesis\")\n",
    "    print(\"Conclusion:\", alt_hypo)"
   ]
  },
  {
   "cell_type": "markdown",
   "id": "40795061",
   "metadata": {},
   "source": [
    "## Q6. Write a Python function that takes in the degrees of freedom for the numerator and denominator of an F-distribution and calculates the mean and variance of the distribution. The function should return the mean and variance as a tuple."
   ]
  },
  {
   "cell_type": "markdown",
   "id": "fa8d0941",
   "metadata": {},
   "source": [
    "The formula for Mean and Variance of F-distribution for degree $df_{1}$ and $df_{2}$ are as follows:\n",
    "\n",
    "$$ Mean = \\frac{df_{2}}{df_{2} - 2}, df_{2} > 2 $$\n",
    "\n",
    "$$ Variance = \\frac{2 * df_{2} ^ 2 * (df_{1} + df_{2} - 2)}{df_{1} * (df_{2} - 2) ^ 2 * (df_{2} - 4)}, df_{2} > 4 $$"
   ]
  },
  {
   "cell_type": "code",
   "execution_count": 22,
   "id": "32829714",
   "metadata": {},
   "outputs": [],
   "source": [
    "def calculate_mean_variance(df1, df2):\n",
    "    if df1 <= 0 or df2 <= 0:\n",
    "        raise(\"Degree of freedom should be positive\")\n",
    "    if df2 > 2:\n",
    "        mean = df2 / (df2 - 2)\n",
    "    if df2 > 4:\n",
    "        var = (2 * (df2 ** 2) * (df1 + df2 - 2)) / (df1 * ((df2 - 2) ** 2) * (df2 - 4) )\n",
    "    return (mean, var)"
   ]
  },
  {
   "cell_type": "code",
   "execution_count": 23,
   "id": "eabba13f",
   "metadata": {},
   "outputs": [
    {
     "name": "stdout",
     "output_type": "stream",
     "text": [
      "The mean of the distribution is 1.0869565217391304 and the variance is 0.37132055090467186\n"
     ]
    }
   ],
   "source": [
    "dfn = 10\n",
    "dfd = 25\n",
    "\n",
    "mean, var = calculate_mean_variance(dfn, dfd)\n",
    "print(f\"The mean of the distribution is {mean} and the variance is {var}\")"
   ]
  },
  {
   "cell_type": "markdown",
   "id": "253c7ccd",
   "metadata": {},
   "source": [
    "## Q7. A random sample of 10 measurements is taken from a normal population with unknown variance. The sample variance is found to be 25. Another random sample of 15 measurements is taken from another normal population with unknown variance, and the sample variance is found to be 20. Conduct an F-test at the 10% significance level to determine if the variances are significantly different."
   ]
  },
  {
   "cell_type": "code",
   "execution_count": 25,
   "id": "00226c39",
   "metadata": {},
   "outputs": [
    {
     "name": "stdout",
     "output_type": "stream",
     "text": [
      "Failed to reject the Null Hypothesis\n",
      "Conclusion: The variances of the 2 populations are not significantly different\n"
     ]
    }
   ],
   "source": [
    "sample1_size = 10\n",
    "sample1_var = 25\n",
    "\n",
    "sample2_size = 15\n",
    "sample2_var = 20\n",
    "\n",
    "alpha = 0.1\n",
    "\n",
    "null_hypo = \"The variances of the 2 populations are not significantly different\"\n",
    "alt_hypo = \"The variances of the 2 populations are significantly different\"\n",
    "\n",
    "f_stat = sample1_var / sample2_var\n",
    "\n",
    "dfn = sample1_size - 1\n",
    "dfd = sample2_size - 1\n",
    "\n",
    "critical_val = stats.f.ppf(q = 1 - alpha, dfn = dfn, dfd = dfd)\n",
    "\n",
    "if f_stat <= critical_val:\n",
    "    print(\"Failed to reject the Null Hypothesis\")\n",
    "    print(\"Conclusion:\", null_hypo)\n",
    "else:\n",
    "    print(\"Rejected the Null Hypothesis\")\n",
    "    print(\"Conclusion:\", alt_hypo)"
   ]
  },
  {
   "cell_type": "markdown",
   "id": "dfbae6ba",
   "metadata": {},
   "source": [
    "## Q8. The following data represent the waiting times in minutes at two different restaurants on a Saturday night: Restaurant A: 24, 25, 28, 23, 22, 20, 27; Restaurant B: 31, 33, 35, 30, 32, 36. Conduct an F-test at the 5% significance level to determine if the variances are significantly different."
   ]
  },
  {
   "cell_type": "code",
   "execution_count": 33,
   "id": "ea35e161",
   "metadata": {},
   "outputs": [
    {
     "name": "stdout",
     "output_type": "stream",
     "text": [
      "Failed to reject the Null Hypothesis\n",
      "Conclusion: The variance of the waiting time of the both the restaurants are not significantly different\n"
     ]
    }
   ],
   "source": [
    "restA = [24, 25, 28, 23, 22, 20, 27]\n",
    "restB = [31, 33, 35, 30, 32, 36]\n",
    "\n",
    "alpha = 0.05\n",
    "\n",
    "varA = np.var(restA)\n",
    "varB = np.var(restB)\n",
    "\n",
    "f_test = varA / varB\n",
    "\n",
    "dfn = len(restA) - 1\n",
    "dfd = len(restB) - 1\n",
    "\n",
    "critical_value = stats.f.ppf(q = 1 - alpha, dfn = dfn, dfd = dfd)\n",
    "\n",
    "null_hypo = \"The variance of the waiting time of the both the restaurants are not significantly different\"\n",
    "alt_hypo = \"The variance of the waiting time of the both the restaurants are significantly different\"\n",
    "\n",
    "if f_test <= critical_value:\n",
    "    print(\"Failed to reject the Null Hypothesis\")\n",
    "    print(\"Conclusion:\", null_hypo)\n",
    "else:\n",
    "    print(\"Rejected the Null Hypothesis\")\n",
    "    print(\"Conclusion:\", alt_hypo)"
   ]
  },
  {
   "cell_type": "markdown",
   "id": "1f73f45f",
   "metadata": {},
   "source": [
    "### Plotting the Decision Boundary for the above problem"
   ]
  },
  {
   "cell_type": "code",
   "execution_count": 70,
   "id": "6cdfe5eb",
   "metadata": {},
   "outputs": [
    {
     "data": {
      "image/png": "[encoded data removed]",
      "text/plain": [
       "<Figure size 720x360 with 1 Axes>"
      ]
     },
     "metadata": {
      "needs_background": "light"
     },
     "output_type": "display_data"
    }
   ],
   "source": [
    "plt.figure(figsize=(10,5))\n",
    "\n",
    "# Plotting the PDF\n",
    "x = np.linspace(0, critical_value + 2, 100)\n",
    "y = stats.f.pdf(x, dfn = dfn, dfd = dfd)\n",
    "\n",
    "plt.plot(x, y, label = \"F-Distribution\", color = \"black\", linewidth = 3)\n",
    "\n",
    "# Coloring the Critical Region and above\n",
    "x_crit = np.linspace(critical_value, critical_value + 2, 100)\n",
    "y_crit = stats.f.pdf(x_crit, dfn = dfn, dfd = dfd)\n",
    "plt.fill_between(x = x_crit, y1 = y_crit, color = \"orange\", label = f\"Rejection Region, Critical Value = {round(critical_value, 4)}\")\n",
    "\n",
    "# Plotting the F-statistics value we got\n",
    "y_stat = stats.f.pdf(x = f_test, dfn = dfn, dfd = dfd)\n",
    "plt.plot([f_test, f_test], [0, y_stat], 'b--', linewidth=2, label=f'F-statistic = {f_test:.4f}')\n",
    "\n",
    "plt.title(\"F Distribution with Critical Region and F-value\")\n",
    "plt.xlabel(\"F Distribution\")\n",
    "plt.ylabel(\"PDF\")\n",
    "plt.legend()\n",
    "plt.show()"
   ]
  },
  {
   "cell_type": "markdown",
   "id": "e7180f8a",
   "metadata": {},
   "source": [
    "## Q9. The following data represent the test scores of two groups of students: Group A: 80, 85, 90, 92, 87, 83; Group B: 75, 78, 82, 79, 81, 84. Conduct an F-test at the 1% significance level to determine if the variances are significantly different."
   ]
  },
  {
   "cell_type": "code",
   "execution_count": 72,
   "id": "d35b6fb3",
   "metadata": {},
   "outputs": [
    {
     "name": "stdout",
     "output_type": "stream",
     "text": [
      "Failed to reject the Null Hypothesis\n",
      "Conclusion: The variance of the 2 groups are not significantly different\n"
     ]
    }
   ],
   "source": [
    "grpA = [80, 85, 90, 92, 87, 83]\n",
    "grpB = [75, 78, 82, 79, 81, 84]\n",
    "\n",
    "alpha = 0.001\n",
    "\n",
    "null_hypo = \"The variance of the 2 groups are not significantly different\"\n",
    "alt_hypo = \"The variance of the 2 groups are significantly different\"\n",
    "\n",
    "f_stat = np.var(grpA) / np.var(grpB)\n",
    "\n",
    "dfn = len(grpA) - 1\n",
    "dfd = len(grpB) - 1\n",
    "\n",
    "critical_value = stats.f.ppf(q = 1 - alpha, dfn = dfn, dfd = dfd)\n",
    "\n",
    "if f_test <= critical_value:\n",
    "    print(\"Failed to reject the Null Hypothesis\")\n",
    "    print(\"Conclusion:\", null_hypo)\n",
    "else:\n",
    "    print(\"Rejected the Null Hypothesis\")\n",
    "    print(\"Conclusion:\", alt_hypo)"
   ]
  }
 ],
 "metadata": {
  "kernelspec": {
   "display_name": "Python 3 (ipykernel)",
   "language": "python",
   "name": "python3"
  },
  "language_info": {
   "codemirror_mode": {
    "name": "ipython",
    "version": 3
   },
   "file_extension": ".py",
   "mimetype": "text/x-python",
   "name": "python",
   "nbconvert_exporter": "python",
   "pygments_lexer": "ipython3",
   "version": "3.9.12"
  }
 },
 "nbformat": 4,
 "nbformat_minor": 5
}
