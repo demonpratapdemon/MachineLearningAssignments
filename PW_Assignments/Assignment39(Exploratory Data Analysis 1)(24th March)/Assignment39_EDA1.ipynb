{
 "cells": [
  {
   "cell_type": "code",
   "execution_count": 54,
   "id": "5052e970",
   "metadata": {},
   "outputs": [],
   "source": [
    "import pandas as pd\n",
    "import seaborn as sns\n",
    "import numpy as np\n",
    "import matplotlib.pyplot as plt"
   ]
  },
  {
   "cell_type": "markdown",
   "id": "467134e2",
   "metadata": {},
   "source": [
    "## Q1. What are the key features of the wine quality data set? Discuss the importance of each feature in predicting the quality of wine."
   ]
  },
  {
   "cell_type": "markdown",
   "id": "f351bf5c",
   "metadata": {},
   "source": [
    "Let's import the wine dataset first and go through a few features"
   ]
  },
  {
   "cell_type": "code",
   "execution_count": 55,
   "id": "f6e2240c",
   "metadata": {},
   "outputs": [
    {
     "data": {
      "text/html": [
       "<div>\n",
       "<style scoped>\n",
       "    .dataframe tbody tr th:only-of-type {\n",
       "        vertical-align: middle;\n",
       "    }\n",
       "\n",
       "    .dataframe tbody tr th {\n",
       "        vertical-align: top;\n",
       "    }\n",
       "\n",
       "    .dataframe thead th {\n",
       "        text-align: right;\n",
       "    }\n",
       "</style>\n",
       "<table border=\"1\" class=\"dataframe\">\n",
       "  <thead>\n",
       "    <tr style=\"text-align: right;\">\n",
       "      <th></th>\n",
       "      <th>fixed acidity</th>\n",
       "      <th>volatile acidity</th>\n",
       "      <th>citric acid</th>\n",
       "      <th>residual sugar</th>\n",
       "      <th>chlorides</th>\n",
       "      <th>free sulfur dioxide</th>\n",
       "      <th>total sulfur dioxide</th>\n",
       "      <th>density</th>\n",
       "      <th>pH</th>\n",
       "      <th>sulphates</th>\n",
       "      <th>alcohol</th>\n",
       "      <th>quality</th>\n",
       "    </tr>\n",
       "  </thead>\n",
       "  <tbody>\n",
       "    <tr>\n",
       "      <th>0</th>\n",
       "      <td>7.4</td>\n",
       "      <td>0.70</td>\n",
       "      <td>0.00</td>\n",
       "      <td>1.9</td>\n",
       "      <td>0.076</td>\n",
       "      <td>11.0</td>\n",
       "      <td>34.0</td>\n",
       "      <td>0.9978</td>\n",
       "      <td>3.51</td>\n",
       "      <td>0.56</td>\n",
       "      <td>9.4</td>\n",
       "      <td>5</td>\n",
       "    </tr>\n",
       "    <tr>\n",
       "      <th>1</th>\n",
       "      <td>7.8</td>\n",
       "      <td>0.88</td>\n",
       "      <td>0.00</td>\n",
       "      <td>2.6</td>\n",
       "      <td>0.098</td>\n",
       "      <td>25.0</td>\n",
       "      <td>67.0</td>\n",
       "      <td>0.9968</td>\n",
       "      <td>3.20</td>\n",
       "      <td>0.68</td>\n",
       "      <td>9.8</td>\n",
       "      <td>5</td>\n",
       "    </tr>\n",
       "    <tr>\n",
       "      <th>2</th>\n",
       "      <td>7.8</td>\n",
       "      <td>0.76</td>\n",
       "      <td>0.04</td>\n",
       "      <td>2.3</td>\n",
       "      <td>0.092</td>\n",
       "      <td>15.0</td>\n",
       "      <td>54.0</td>\n",
       "      <td>0.9970</td>\n",
       "      <td>3.26</td>\n",
       "      <td>0.65</td>\n",
       "      <td>9.8</td>\n",
       "      <td>5</td>\n",
       "    </tr>\n",
       "    <tr>\n",
       "      <th>3</th>\n",
       "      <td>11.2</td>\n",
       "      <td>0.28</td>\n",
       "      <td>0.56</td>\n",
       "      <td>1.9</td>\n",
       "      <td>0.075</td>\n",
       "      <td>17.0</td>\n",
       "      <td>60.0</td>\n",
       "      <td>0.9980</td>\n",
       "      <td>3.16</td>\n",
       "      <td>0.58</td>\n",
       "      <td>9.8</td>\n",
       "      <td>6</td>\n",
       "    </tr>\n",
       "    <tr>\n",
       "      <th>4</th>\n",
       "      <td>7.4</td>\n",
       "      <td>0.70</td>\n",
       "      <td>0.00</td>\n",
       "      <td>1.9</td>\n",
       "      <td>0.076</td>\n",
       "      <td>11.0</td>\n",
       "      <td>34.0</td>\n",
       "      <td>0.9978</td>\n",
       "      <td>3.51</td>\n",
       "      <td>0.56</td>\n",
       "      <td>9.4</td>\n",
       "      <td>5</td>\n",
       "    </tr>\n",
       "  </tbody>\n",
       "</table>\n",
       "</div>"
      ],
      "text/plain": [
       "   fixed acidity  volatile acidity  citric acid  residual sugar  chlorides  \\\n",
       "0            7.4              0.70         0.00             1.9      0.076   \n",
       "1            7.8              0.88         0.00             2.6      0.098   \n",
       "2            7.8              0.76         0.04             2.3      0.092   \n",
       "3           11.2              0.28         0.56             1.9      0.075   \n",
       "4            7.4              0.70         0.00             1.9      0.076   \n",
       "\n",
       "   free sulfur dioxide  total sulfur dioxide  density    pH  sulphates  \\\n",
       "0                 11.0                  34.0   0.9978  3.51       0.56   \n",
       "1                 25.0                  67.0   0.9968  3.20       0.68   \n",
       "2                 15.0                  54.0   0.9970  3.26       0.65   \n",
       "3                 17.0                  60.0   0.9980  3.16       0.58   \n",
       "4                 11.0                  34.0   0.9978  3.51       0.56   \n",
       "\n",
       "   alcohol  quality  \n",
       "0      9.4        5  \n",
       "1      9.8        5  \n",
       "2      9.8        5  \n",
       "3      9.8        6  \n",
       "4      9.4        5  "
      ]
     },
     "execution_count": 55,
     "metadata": {},
     "output_type": "execute_result"
    }
   ],
   "source": [
    "wine_df = pd.read_csv(filepath_or_buffer=\"./data/winequality-red.csv\", delimiter=\";\")\n",
    "wine_df.head()"
   ]
  },
  {
   "cell_type": "markdown",
   "id": "88b0a664",
   "metadata": {},
   "source": [
    "**The Wine Quality dataset contains information about the physicochemcial properties of the different types of red and white wines. It also helps to understand the perception of taste and quality of these wines by human and is labelled as \"quality\". Some of the key features of this dataset are as follows:**\n",
    "\n",
    "1. **fixed acidity** - It helps to measure the quantity of tartaric acid. This is a fixed acid which helps to determine the taste and quality of wine.\n",
    "\n",
    "2. **volatile acidity** - This measures the amount of volatile acids in the wine, which can contribute to a sour or vinegary taste if present in high amounts. Too much volatile acidity can indicate that the wine is spoiled or has undergone an unintended fermentation.\n",
    "\n",
    "3. **citric acid** -  This is a type of fixed acid that can contribute to the flavor and freshness of the wine. It can also help to balance out other flavors and aromas in the wine.\n",
    "\n",
    "4. **Residual sugar** - This refers to the amount of sugar that remains in the wine after fermentation has occurred. A higher residual sugar level can contribute to a sweeter taste, while a lower level can result in a drier wine.\n",
    "\n",
    "5. **Chlorides** - These are salt compounds that can contribute to the taste and mouthfeel of the wine. In small amounts, they can enhance the flavor of the wine, but too much can result in a salty or briny taste.\n",
    "\n",
    "6. **Free sulfur dioxide** -  This is a type of preservative that is added to wine to prevent oxidation and spoilage. It can also contribute to the wine's aroma and flavor.\n",
    "\n",
    "7. **Total sulfur dioxide** - This measures the total amount of sulfur dioxide in the wine, including both free and bound forms. Too much sulfur dioxide can result in a harsh or sulfurous taste.\n",
    "\n",
    "8. **Density** - This measures the mass of the wine per unit volume, which can provide information about its alcohol content and sugar concentration.\n",
    "\n",
    "9. **pH** - This is a measure of the wine's acidity level on a scale of 0-14. A lower pH indicates a higher acidity level, while a higher pH indicates a lower acidity level.\n",
    "\n",
    "10. **Alcohol content** - This refers to the percentage of alcohol in the wine, which can contribute to its body, aroma, and flavor.\n",
    "\n",
    "Each of the above mentioned features play a key role in determining the taste and quality of the wine."
   ]
  },
  {
   "cell_type": "markdown",
   "id": "feb9bdde",
   "metadata": {},
   "source": [
    "#### Let's try to get some feature extraction of the wine dataset based on the Mutual Information Gain of the different variables.\n",
    "\n",
    "Mutual information(MI)between two random variables is a non-negative value,which measures the dependency between the variables. It is equal to zero if and only if two random variables are independent ,and higher values mean higher dependency"
   ]
  },
  {
   "cell_type": "code",
   "execution_count": 56,
   "id": "9d5f8979",
   "metadata": {},
   "outputs": [],
   "source": [
    "from sklearn.model_selection import train_test_split\n",
    "\n",
    "X = wine_df.drop(labels=[\"quality\"], axis=1)\n",
    "Y = wine_df[\"quality\"]\n",
    "\n",
    "X_train, X_test, Y_train, Y_test = train_test_split(X, Y, test_size=0.3, random_state=42)"
   ]
  },
  {
   "cell_type": "code",
   "execution_count": 57,
   "id": "82a5a914",
   "metadata": {},
   "outputs": [
    {
     "data": {
      "text/plain": [
       "array([0.04706568, 0.10212385, 0.05696975, 0.00846136, 0.04508585,\n",
       "       0.        , 0.08832292, 0.06595753, 0.02757184, 0.10217997,\n",
       "       0.19112347])"
      ]
     },
     "execution_count": 57,
     "metadata": {},
     "output_type": "execute_result"
    }
   ],
   "source": [
    "from sklearn.feature_selection import mutual_info_classif\n",
    "\n",
    "mutual_info = mutual_info_classif(X_train, Y_train)\n",
    "mutual_info"
   ]
  },
  {
   "cell_type": "code",
   "execution_count": 58,
   "id": "239715ce",
   "metadata": {},
   "outputs": [
    {
     "data": {
      "text/plain": [
       "alcohol                 0.191123\n",
       "sulphates               0.102180\n",
       "volatile acidity        0.102124\n",
       "total sulfur dioxide    0.088323\n",
       "density                 0.065958\n",
       "citric acid             0.056970\n",
       "fixed acidity           0.047066\n",
       "chlorides               0.045086\n",
       "pH                      0.027572\n",
       "residual sugar          0.008461\n",
       "free sulfur dioxide     0.000000\n",
       "dtype: float64"
      ]
     },
     "execution_count": 58,
     "metadata": {},
     "output_type": "execute_result"
    }
   ],
   "source": [
    "mutual_info = pd.Series(mutual_info)\n",
    "mutual_info.index = X_train.columns\n",
    "mutual_info.sort_values(ascending=False)"
   ]
  },
  {
   "cell_type": "code",
   "execution_count": 59,
   "id": "498b5e1a",
   "metadata": {},
   "outputs": [
    {
     "data": {
      "image/png": "[encoded data removed]",
      "text/plain": [
       "<Figure size 1440x576 with 1 Axes>"
      ]
     },
     "metadata": {
      "needs_background": "light"
     },
     "output_type": "display_data"
    }
   ],
   "source": [
    "mutual_info.sort_values(ascending=False).plot.bar(figsize=(20, 8))\n",
    "plt.show()"
   ]
  },
  {
   "cell_type": "markdown",
   "id": "ff55c331",
   "metadata": {},
   "source": [
    "So from the graph, we can observe that **alcohol** has the highest mutual information gain. We will use another Scikit Learn library to extract the top 5 features."
   ]
  },
  {
   "cell_type": "code",
   "execution_count": 60,
   "id": "7af34da7",
   "metadata": {},
   "outputs": [
    {
     "data": {
      "text/plain": [
       "Index(['volatile acidity', 'total sulfur dioxide', 'density', 'sulphates',\n",
       "       'alcohol'],\n",
       "      dtype='object')"
      ]
     },
     "execution_count": 60,
     "metadata": {},
     "output_type": "execute_result"
    }
   ],
   "source": [
    "from sklearn.feature_selection import SelectKBest\n",
    "\n",
    "selected_cols = SelectKBest(mutual_info_classif, k=5)\n",
    "selected_cols.fit(X_train, Y_train)\n",
    "X_train.columns[selected_cols.get_support()]"
   ]
  },
  {
   "cell_type": "markdown",
   "id": "9a7d09cf",
   "metadata": {},
   "source": [
    "#### So these are the top five features (volatile acidity', 'total sulfur dioxide', 'density', 'sulphates', 'alcohol') that give the most information about the target variable."
   ]
  },
  {
   "cell_type": "markdown",
   "id": "707e922a",
   "metadata": {},
   "source": [
    "## Q2. How did you handle missing data in the wine quality data set during the feature engineering process? Discuss the advantages and disadvantages of different imputation techniques."
   ]
  },
  {
   "cell_type": "markdown",
   "id": "966cccc5",
   "metadata": {},
   "source": [
    "Let's find out first the number of columns which have null data and along with that find out the numbe rof null values in each column"
   ]
  },
  {
   "cell_type": "code",
   "execution_count": 61,
   "id": "87e313ce",
   "metadata": {},
   "outputs": [
    {
     "data": {
      "text/plain": [
       "fixed acidity           0\n",
       "volatile acidity        0\n",
       "citric acid             0\n",
       "residual sugar          0\n",
       "chlorides               0\n",
       "free sulfur dioxide     0\n",
       "total sulfur dioxide    0\n",
       "density                 0\n",
       "pH                      0\n",
       "sulphates               0\n",
       "alcohol                 0\n",
       "quality                 0\n",
       "dtype: int64"
      ]
     },
     "execution_count": 61,
     "metadata": {},
     "output_type": "execute_result"
    }
   ],
   "source": [
    "# Load the dataset and find out the number of null values\n",
    "wine_df = pd.read_csv(filepath_or_buffer=\"./data/winequality-red.csv\", delimiter=\";\")\n",
    "wine_df.isna().sum()"
   ]
  },
  {
   "cell_type": "markdown",
   "id": "f647df60",
   "metadata": {},
   "source": [
    "So from the above observation, we can conclude that there is no null data in the whole dataset.\n",
    "\n",
    "#### Let's load another dataset which have missing values to check different sorts of imputation techniques"
   ]
  },
  {
   "cell_type": "code",
   "execution_count": 62,
   "id": "bb783300",
   "metadata": {},
   "outputs": [
    {
     "data": {
      "text/html": [
       "<div>\n",
       "<style scoped>\n",
       "    .dataframe tbody tr th:only-of-type {\n",
       "        vertical-align: middle;\n",
       "    }\n",
       "\n",
       "    .dataframe tbody tr th {\n",
       "        vertical-align: top;\n",
       "    }\n",
       "\n",
       "    .dataframe thead th {\n",
       "        text-align: right;\n",
       "    }\n",
       "</style>\n",
       "<table border=\"1\" class=\"dataframe\">\n",
       "  <thead>\n",
       "    <tr style=\"text-align: right;\">\n",
       "      <th></th>\n",
       "      <th>survived</th>\n",
       "      <th>pclass</th>\n",
       "      <th>sex</th>\n",
       "      <th>age</th>\n",
       "      <th>sibsp</th>\n",
       "      <th>parch</th>\n",
       "      <th>fare</th>\n",
       "      <th>embarked</th>\n",
       "      <th>class</th>\n",
       "      <th>who</th>\n",
       "      <th>adult_male</th>\n",
       "      <th>deck</th>\n",
       "      <th>embark_town</th>\n",
       "      <th>alive</th>\n",
       "      <th>alone</th>\n",
       "    </tr>\n",
       "  </thead>\n",
       "  <tbody>\n",
       "    <tr>\n",
       "      <th>0</th>\n",
       "      <td>0</td>\n",
       "      <td>3</td>\n",
       "      <td>male</td>\n",
       "      <td>22.0</td>\n",
       "      <td>1</td>\n",
       "      <td>0</td>\n",
       "      <td>7.2500</td>\n",
       "      <td>S</td>\n",
       "      <td>Third</td>\n",
       "      <td>man</td>\n",
       "      <td>True</td>\n",
       "      <td>NaN</td>\n",
       "      <td>Southampton</td>\n",
       "      <td>no</td>\n",
       "      <td>False</td>\n",
       "    </tr>\n",
       "    <tr>\n",
       "      <th>1</th>\n",
       "      <td>1</td>\n",
       "      <td>1</td>\n",
       "      <td>female</td>\n",
       "      <td>38.0</td>\n",
       "      <td>1</td>\n",
       "      <td>0</td>\n",
       "      <td>71.2833</td>\n",
       "      <td>C</td>\n",
       "      <td>First</td>\n",
       "      <td>woman</td>\n",
       "      <td>False</td>\n",
       "      <td>C</td>\n",
       "      <td>Cherbourg</td>\n",
       "      <td>yes</td>\n",
       "      <td>False</td>\n",
       "    </tr>\n",
       "    <tr>\n",
       "      <th>2</th>\n",
       "      <td>1</td>\n",
       "      <td>3</td>\n",
       "      <td>female</td>\n",
       "      <td>26.0</td>\n",
       "      <td>0</td>\n",
       "      <td>0</td>\n",
       "      <td>7.9250</td>\n",
       "      <td>S</td>\n",
       "      <td>Third</td>\n",
       "      <td>woman</td>\n",
       "      <td>False</td>\n",
       "      <td>NaN</td>\n",
       "      <td>Southampton</td>\n",
       "      <td>yes</td>\n",
       "      <td>True</td>\n",
       "    </tr>\n",
       "    <tr>\n",
       "      <th>3</th>\n",
       "      <td>1</td>\n",
       "      <td>1</td>\n",
       "      <td>female</td>\n",
       "      <td>35.0</td>\n",
       "      <td>1</td>\n",
       "      <td>0</td>\n",
       "      <td>53.1000</td>\n",
       "      <td>S</td>\n",
       "      <td>First</td>\n",
       "      <td>woman</td>\n",
       "      <td>False</td>\n",
       "      <td>C</td>\n",
       "      <td>Southampton</td>\n",
       "      <td>yes</td>\n",
       "      <td>False</td>\n",
       "    </tr>\n",
       "    <tr>\n",
       "      <th>4</th>\n",
       "      <td>0</td>\n",
       "      <td>3</td>\n",
       "      <td>male</td>\n",
       "      <td>35.0</td>\n",
       "      <td>0</td>\n",
       "      <td>0</td>\n",
       "      <td>8.0500</td>\n",
       "      <td>S</td>\n",
       "      <td>Third</td>\n",
       "      <td>man</td>\n",
       "      <td>True</td>\n",
       "      <td>NaN</td>\n",
       "      <td>Southampton</td>\n",
       "      <td>no</td>\n",
       "      <td>True</td>\n",
       "    </tr>\n",
       "  </tbody>\n",
       "</table>\n",
       "</div>"
      ],
      "text/plain": [
       "   survived  pclass     sex   age  sibsp  parch     fare embarked  class  \\\n",
       "0         0       3    male  22.0      1      0   7.2500        S  Third   \n",
       "1         1       1  female  38.0      1      0  71.2833        C  First   \n",
       "2         1       3  female  26.0      0      0   7.9250        S  Third   \n",
       "3         1       1  female  35.0      1      0  53.1000        S  First   \n",
       "4         0       3    male  35.0      0      0   8.0500        S  Third   \n",
       "\n",
       "     who  adult_male deck  embark_town alive  alone  \n",
       "0    man        True  NaN  Southampton    no  False  \n",
       "1  woman       False    C    Cherbourg   yes  False  \n",
       "2  woman       False  NaN  Southampton   yes   True  \n",
       "3  woman       False    C  Southampton   yes  False  \n",
       "4    man        True  NaN  Southampton    no   True  "
      ]
     },
     "execution_count": 62,
     "metadata": {},
     "output_type": "execute_result"
    }
   ],
   "source": [
    "titanic_df = sns.load_dataset(\"titanic\")\n",
    "\n",
    "titanic_df.head()"
   ]
  },
  {
   "cell_type": "code",
   "execution_count": 63,
   "id": "cc52fa05",
   "metadata": {},
   "outputs": [
    {
     "data": {
      "text/plain": [
       "survived         0\n",
       "pclass           0\n",
       "sex              0\n",
       "age            177\n",
       "sibsp            0\n",
       "parch            0\n",
       "fare             0\n",
       "embarked         2\n",
       "class            0\n",
       "who              0\n",
       "adult_male       0\n",
       "deck           688\n",
       "embark_town      2\n",
       "alive            0\n",
       "alone            0\n",
       "dtype: int64"
      ]
     },
     "execution_count": 63,
     "metadata": {},
     "output_type": "execute_result"
    }
   ],
   "source": [
    "titanic_df.isna().sum()"
   ]
  },
  {
   "cell_type": "markdown",
   "id": "3d3d1a4f",
   "metadata": {},
   "source": [
    "So we can observe in the above dataset that there are a few varaibles which have missing values in them namely - **age, deck and embark_town**.\n",
    "\n",
    "We are going to use **Scikit Learn** library to impute the missing values by mean, median or mode techniques in stead of dropping these values or columns completely as that might lead to loss of data.\n",
    "\n",
    "#### Imputation by Mean"
   ]
  },
  {
   "cell_type": "code",
   "execution_count": 64,
   "id": "23501b99",
   "metadata": {},
   "outputs": [],
   "source": [
    "from sklearn.impute import SimpleImputer\n",
    "\n",
    "mean_imputer = SimpleImputer(strategy=\"mean\")\n",
    "mean_imputer.fit(titanic_df[[\"age\"]])\n",
    "age = mean_imputer.transform(titanic_df[[\"age\"]])\n",
    "age_df = pd.DataFrame(age, columns=[\"age\"])"
   ]
  },
  {
   "cell_type": "code",
   "execution_count": 65,
   "id": "4cc33692",
   "metadata": {},
   "outputs": [
    {
     "data": {
      "text/plain": [
       "0"
      ]
     },
     "execution_count": 65,
     "metadata": {},
     "output_type": "execute_result"
    }
   ],
   "source": [
    "age_df[\"age\"].isna().sum()"
   ]
  },
  {
   "cell_type": "markdown",
   "id": "58f73459",
   "metadata": {},
   "source": [
    "#### Imputation by Median"
   ]
  },
  {
   "cell_type": "code",
   "execution_count": 66,
   "id": "dec12bed",
   "metadata": {},
   "outputs": [],
   "source": [
    "from sklearn.impute import SimpleImputer\n",
    "\n",
    "median_imputer = SimpleImputer(strategy=\"median\")\n",
    "median_imputer.fit(titanic_df[[\"age\"]])\n",
    "median_age = median_imputer.transform(titanic_df[[\"age\"]])\n",
    "median_age_df = pd.DataFrame(median_age, columns=[\"age\"])"
   ]
  },
  {
   "cell_type": "code",
   "execution_count": 67,
   "id": "96a7e9d8",
   "metadata": {},
   "outputs": [
    {
     "data": {
      "text/plain": [
       "0"
      ]
     },
     "execution_count": 67,
     "metadata": {},
     "output_type": "execute_result"
    }
   ],
   "source": [
    "median_age_df[\"age\"].isna().sum()"
   ]
  },
  {
   "cell_type": "markdown",
   "id": "f061c70e",
   "metadata": {},
   "source": [
    "#### Imputation by Mode\n",
    "\n",
    "Let's impute the value of **embark_town** with mode since it is a categorical variable"
   ]
  },
  {
   "cell_type": "code",
   "execution_count": 68,
   "id": "ad977d63",
   "metadata": {},
   "outputs": [
    {
     "data": {
      "text/plain": [
       "array(['Southampton', 'Cherbourg', 'Queenstown', nan], dtype=object)"
      ]
     },
     "execution_count": 68,
     "metadata": {},
     "output_type": "execute_result"
    }
   ],
   "source": [
    "titanic_df[\"embark_town\"].unique()"
   ]
  },
  {
   "cell_type": "code",
   "execution_count": 69,
   "id": "a13eee7b",
   "metadata": {},
   "outputs": [
    {
     "data": {
      "text/plain": [
       "Southampton    644\n",
       "Cherbourg      168\n",
       "Queenstown      77\n",
       "Name: embark_town, dtype: int64"
      ]
     },
     "execution_count": 69,
     "metadata": {},
     "output_type": "execute_result"
    }
   ],
   "source": [
    "titanic_df[\"embark_town\"].value_counts()"
   ]
  },
  {
   "cell_type": "markdown",
   "id": "abf187ef",
   "metadata": {},
   "source": [
    "So the mode should be **Southampton**. Let's verify:"
   ]
  },
  {
   "cell_type": "code",
   "execution_count": 70,
   "id": "a896c4f2",
   "metadata": {},
   "outputs": [],
   "source": [
    "from sklearn.impute import SimpleImputer\n",
    "\n",
    "mode_imputer = SimpleImputer(strategy=\"most_frequent\")\n",
    "\n",
    "mode_imputer.fit(titanic_df[[\"embark_town\"]])\n",
    "embark_town = mode_imputer.transform(titanic_df[[\"embark_town\"]])\n",
    "titanic_df[\"embark_town_new\"] = embark_town"
   ]
  },
  {
   "cell_type": "code",
   "execution_count": 71,
   "id": "4c4b99ba",
   "metadata": {},
   "outputs": [
    {
     "data": {
      "text/plain": [
       "0"
      ]
     },
     "execution_count": 71,
     "metadata": {},
     "output_type": "execute_result"
    }
   ],
   "source": [
    "titanic_df[\"embark_town_new\"].isna().sum()"
   ]
  },
  {
   "cell_type": "code",
   "execution_count": 72,
   "id": "e223f519",
   "metadata": {},
   "outputs": [
    {
     "data": {
      "text/html": [
       "<div>\n",
       "<style scoped>\n",
       "    .dataframe tbody tr th:only-of-type {\n",
       "        vertical-align: middle;\n",
       "    }\n",
       "\n",
       "    .dataframe tbody tr th {\n",
       "        vertical-align: top;\n",
       "    }\n",
       "\n",
       "    .dataframe thead th {\n",
       "        text-align: right;\n",
       "    }\n",
       "</style>\n",
       "<table border=\"1\" class=\"dataframe\">\n",
       "  <thead>\n",
       "    <tr style=\"text-align: right;\">\n",
       "      <th></th>\n",
       "      <th>survived</th>\n",
       "      <th>pclass</th>\n",
       "      <th>sex</th>\n",
       "      <th>age</th>\n",
       "      <th>sibsp</th>\n",
       "      <th>parch</th>\n",
       "      <th>fare</th>\n",
       "      <th>embarked</th>\n",
       "      <th>class</th>\n",
       "      <th>who</th>\n",
       "      <th>adult_male</th>\n",
       "      <th>deck</th>\n",
       "      <th>embark_town</th>\n",
       "      <th>alive</th>\n",
       "      <th>alone</th>\n",
       "      <th>embark_town_new</th>\n",
       "    </tr>\n",
       "  </thead>\n",
       "  <tbody>\n",
       "    <tr>\n",
       "      <th>61</th>\n",
       "      <td>1</td>\n",
       "      <td>1</td>\n",
       "      <td>female</td>\n",
       "      <td>38.0</td>\n",
       "      <td>0</td>\n",
       "      <td>0</td>\n",
       "      <td>80.0</td>\n",
       "      <td>NaN</td>\n",
       "      <td>First</td>\n",
       "      <td>woman</td>\n",
       "      <td>False</td>\n",
       "      <td>B</td>\n",
       "      <td>NaN</td>\n",
       "      <td>yes</td>\n",
       "      <td>True</td>\n",
       "      <td>Southampton</td>\n",
       "    </tr>\n",
       "    <tr>\n",
       "      <th>829</th>\n",
       "      <td>1</td>\n",
       "      <td>1</td>\n",
       "      <td>female</td>\n",
       "      <td>62.0</td>\n",
       "      <td>0</td>\n",
       "      <td>0</td>\n",
       "      <td>80.0</td>\n",
       "      <td>NaN</td>\n",
       "      <td>First</td>\n",
       "      <td>woman</td>\n",
       "      <td>False</td>\n",
       "      <td>B</td>\n",
       "      <td>NaN</td>\n",
       "      <td>yes</td>\n",
       "      <td>True</td>\n",
       "      <td>Southampton</td>\n",
       "    </tr>\n",
       "  </tbody>\n",
       "</table>\n",
       "</div>"
      ],
      "text/plain": [
       "     survived  pclass     sex   age  sibsp  parch  fare embarked  class  \\\n",
       "61          1       1  female  38.0      0      0  80.0      NaN  First   \n",
       "829         1       1  female  62.0      0      0  80.0      NaN  First   \n",
       "\n",
       "       who  adult_male deck embark_town alive  alone embark_town_new  \n",
       "61   woman       False    B         NaN   yes   True     Southampton  \n",
       "829  woman       False    B         NaN   yes   True     Southampton  "
      ]
     },
     "execution_count": 72,
     "metadata": {},
     "output_type": "execute_result"
    }
   ],
   "source": [
    "titanic_df[titanic_df[\"embark_town\"].isna()]"
   ]
  },
  {
   "cell_type": "markdown",
   "id": "c769493c",
   "metadata": {},
   "source": [
    "So our observation is correct. Now let's discuss some of the advantages and disadvantages of the various imputation techniques:\n",
    "\n",
    "1. **Mean/Median Imputation** - It is the most convenient way of imputing null values for numerical columns. But it should be used based on the domain knowledge and it can also introduce some biasing in case of imbalanced dataset. \n",
    "\n",
    "2. **Mode Imputation** - It is also an easy way to impute null values for categorical variables. But the disadvantage is that it also introduces biasing in the dataset.\n",
    "\n",
    "3. **Iterative Imputation** - A sophisticated approach involves defining a model to predict each missing feature as a function of all other features and to repeat this process of estimating feature values multiple times. The repetition allows the refined estimated values for other features to be used as input in subsequent iterations of predicting missing values. This is generally referred to as iterative imputation. The disadvantage is that there can be multiple models that can be used to predict the missing values and hence we might need to do cross validations multiple times in order to verify the output.\n",
    "\n",
    "4. **Nearest Neighbour Imputation** - The KNNImputer class provides imputation for filling in missing values using the k-Nearest Neighbors approach. By default, a euclidean distance metric that supports missing values, nan_euclidean_distances, is used to find the nearest neighbors. Each missing feature is imputed using values from **n_neighbors nearest neighbors** that have a value for the feature. Disadvantage - When the number of available neighbors is less than n_neighbors and there are no defined distances to the training set, the training set average for that feature is used during imputation. If there is at least one neighbor with a defined distance, the weighted or unweighted average of the remaining neighbors will be used during imputation. If a feature is always missing in training, it is removed during transform."
   ]
  },
  {
   "cell_type": "markdown",
   "id": "afce6554",
   "metadata": {},
   "source": [
    "## Q3. What are the key factors that affect students' performance in exams? How would you go about analyzing these factors using statistical techniques?"
   ]
  },
  {
   "cell_type": "markdown",
   "id": "806ffa81",
   "metadata": {},
   "source": [
    "#### Load the student performance dataset"
   ]
  },
  {
   "cell_type": "code",
   "execution_count": 73,
   "id": "8ba5fb5d",
   "metadata": {},
   "outputs": [
    {
     "data": {
      "text/html": [
       "<div>\n",
       "<style scoped>\n",
       "    .dataframe tbody tr th:only-of-type {\n",
       "        vertical-align: middle;\n",
       "    }\n",
       "\n",
       "    .dataframe tbody tr th {\n",
       "        vertical-align: top;\n",
       "    }\n",
       "\n",
       "    .dataframe thead th {\n",
       "        text-align: right;\n",
       "    }\n",
       "</style>\n",
       "<table border=\"1\" class=\"dataframe\">\n",
       "  <thead>\n",
       "    <tr style=\"text-align: right;\">\n",
       "      <th></th>\n",
       "      <th>gender</th>\n",
       "      <th>race_ethnicity</th>\n",
       "      <th>parental_level_of_education</th>\n",
       "      <th>lunch</th>\n",
       "      <th>test_preparation_course</th>\n",
       "      <th>math_score</th>\n",
       "      <th>reading_score</th>\n",
       "      <th>writing_score</th>\n",
       "    </tr>\n",
       "  </thead>\n",
       "  <tbody>\n",
       "    <tr>\n",
       "      <th>0</th>\n",
       "      <td>female</td>\n",
       "      <td>group B</td>\n",
       "      <td>bachelor's degree</td>\n",
       "      <td>standard</td>\n",
       "      <td>none</td>\n",
       "      <td>72</td>\n",
       "      <td>72</td>\n",
       "      <td>74</td>\n",
       "    </tr>\n",
       "    <tr>\n",
       "      <th>1</th>\n",
       "      <td>female</td>\n",
       "      <td>group C</td>\n",
       "      <td>some college</td>\n",
       "      <td>standard</td>\n",
       "      <td>completed</td>\n",
       "      <td>69</td>\n",
       "      <td>90</td>\n",
       "      <td>88</td>\n",
       "    </tr>\n",
       "    <tr>\n",
       "      <th>2</th>\n",
       "      <td>female</td>\n",
       "      <td>group B</td>\n",
       "      <td>master's degree</td>\n",
       "      <td>standard</td>\n",
       "      <td>none</td>\n",
       "      <td>90</td>\n",
       "      <td>95</td>\n",
       "      <td>93</td>\n",
       "    </tr>\n",
       "    <tr>\n",
       "      <th>3</th>\n",
       "      <td>male</td>\n",
       "      <td>group A</td>\n",
       "      <td>associate's degree</td>\n",
       "      <td>free/reduced</td>\n",
       "      <td>none</td>\n",
       "      <td>47</td>\n",
       "      <td>57</td>\n",
       "      <td>44</td>\n",
       "    </tr>\n",
       "    <tr>\n",
       "      <th>4</th>\n",
       "      <td>male</td>\n",
       "      <td>group C</td>\n",
       "      <td>some college</td>\n",
       "      <td>standard</td>\n",
       "      <td>none</td>\n",
       "      <td>76</td>\n",
       "      <td>78</td>\n",
       "      <td>75</td>\n",
       "    </tr>\n",
       "  </tbody>\n",
       "</table>\n",
       "</div>"
      ],
      "text/plain": [
       "   gender race_ethnicity parental_level_of_education         lunch  \\\n",
       "0  female        group B           bachelor's degree      standard   \n",
       "1  female        group C                some college      standard   \n",
       "2  female        group B             master's degree      standard   \n",
       "3    male        group A          associate's degree  free/reduced   \n",
       "4    male        group C                some college      standard   \n",
       "\n",
       "  test_preparation_course  math_score  reading_score  writing_score  \n",
       "0                    none          72             72             74  \n",
       "1               completed          69             90             88  \n",
       "2                    none          90             95             93  \n",
       "3                    none          47             57             44  \n",
       "4                    none          76             78             75  "
      ]
     },
     "execution_count": 73,
     "metadata": {},
     "output_type": "execute_result"
    }
   ],
   "source": [
    "stud_df = pd.read_csv(filepath_or_buffer=\"./data/stud.csv\")\n",
    "stud_df.head()"
   ]
  },
  {
   "cell_type": "code",
   "execution_count": 74,
   "id": "714a0562",
   "metadata": {},
   "outputs": [
    {
     "data": {
      "text/plain": [
       "(1000, 8)"
      ]
     },
     "execution_count": 74,
     "metadata": {},
     "output_type": "execute_result"
    }
   ],
   "source": [
    "stud_df.shape"
   ]
  },
  {
   "cell_type": "markdown",
   "id": "ebcf98bf",
   "metadata": {},
   "source": [
    "There are 1000 students and 8 data columns. Out of these 8 columns, 3 are the scores on different subjects - math, reading, writing. Let's introduce a new data column called the **total_score** which represent the total marks each student earned."
   ]
  },
  {
   "cell_type": "code",
   "execution_count": 75,
   "id": "8263bc0d",
   "metadata": {},
   "outputs": [
    {
     "data": {
      "text/html": [
       "<div>\n",
       "<style scoped>\n",
       "    .dataframe tbody tr th:only-of-type {\n",
       "        vertical-align: middle;\n",
       "    }\n",
       "\n",
       "    .dataframe tbody tr th {\n",
       "        vertical-align: top;\n",
       "    }\n",
       "\n",
       "    .dataframe thead th {\n",
       "        text-align: right;\n",
       "    }\n",
       "</style>\n",
       "<table border=\"1\" class=\"dataframe\">\n",
       "  <thead>\n",
       "    <tr style=\"text-align: right;\">\n",
       "      <th></th>\n",
       "      <th>gender</th>\n",
       "      <th>race_ethnicity</th>\n",
       "      <th>parental_level_of_education</th>\n",
       "      <th>lunch</th>\n",
       "      <th>test_preparation_course</th>\n",
       "      <th>math_score</th>\n",
       "      <th>reading_score</th>\n",
       "      <th>writing_score</th>\n",
       "      <th>total_score</th>\n",
       "    </tr>\n",
       "  </thead>\n",
       "  <tbody>\n",
       "    <tr>\n",
       "      <th>0</th>\n",
       "      <td>female</td>\n",
       "      <td>group B</td>\n",
       "      <td>bachelor's degree</td>\n",
       "      <td>standard</td>\n",
       "      <td>none</td>\n",
       "      <td>72</td>\n",
       "      <td>72</td>\n",
       "      <td>74</td>\n",
       "      <td>218</td>\n",
       "    </tr>\n",
       "    <tr>\n",
       "      <th>1</th>\n",
       "      <td>female</td>\n",
       "      <td>group C</td>\n",
       "      <td>some college</td>\n",
       "      <td>standard</td>\n",
       "      <td>completed</td>\n",
       "      <td>69</td>\n",
       "      <td>90</td>\n",
       "      <td>88</td>\n",
       "      <td>247</td>\n",
       "    </tr>\n",
       "    <tr>\n",
       "      <th>2</th>\n",
       "      <td>female</td>\n",
       "      <td>group B</td>\n",
       "      <td>master's degree</td>\n",
       "      <td>standard</td>\n",
       "      <td>none</td>\n",
       "      <td>90</td>\n",
       "      <td>95</td>\n",
       "      <td>93</td>\n",
       "      <td>278</td>\n",
       "    </tr>\n",
       "    <tr>\n",
       "      <th>3</th>\n",
       "      <td>male</td>\n",
       "      <td>group A</td>\n",
       "      <td>associate's degree</td>\n",
       "      <td>free/reduced</td>\n",
       "      <td>none</td>\n",
       "      <td>47</td>\n",
       "      <td>57</td>\n",
       "      <td>44</td>\n",
       "      <td>148</td>\n",
       "    </tr>\n",
       "    <tr>\n",
       "      <th>4</th>\n",
       "      <td>male</td>\n",
       "      <td>group C</td>\n",
       "      <td>some college</td>\n",
       "      <td>standard</td>\n",
       "      <td>none</td>\n",
       "      <td>76</td>\n",
       "      <td>78</td>\n",
       "      <td>75</td>\n",
       "      <td>229</td>\n",
       "    </tr>\n",
       "  </tbody>\n",
       "</table>\n",
       "</div>"
      ],
      "text/plain": [
       "   gender race_ethnicity parental_level_of_education         lunch  \\\n",
       "0  female        group B           bachelor's degree      standard   \n",
       "1  female        group C                some college      standard   \n",
       "2  female        group B             master's degree      standard   \n",
       "3    male        group A          associate's degree  free/reduced   \n",
       "4    male        group C                some college      standard   \n",
       "\n",
       "  test_preparation_course  math_score  reading_score  writing_score  \\\n",
       "0                    none          72             72             74   \n",
       "1               completed          69             90             88   \n",
       "2                    none          90             95             93   \n",
       "3                    none          47             57             44   \n",
       "4                    none          76             78             75   \n",
       "\n",
       "   total_score  \n",
       "0          218  \n",
       "1          247  \n",
       "2          278  \n",
       "3          148  \n",
       "4          229  "
      ]
     },
     "execution_count": 75,
     "metadata": {},
     "output_type": "execute_result"
    }
   ],
   "source": [
    "stud_df[\"total_score\"] = stud_df[\"math_score\"] + stud_df[\"reading_score\"] + stud_df[\"writing_score\"]\n",
    "stud_df.head()"
   ]
  },
  {
   "cell_type": "markdown",
   "id": "a42cdcb3",
   "metadata": {},
   "source": [
    "#### Let's checkout the datatypes of the different columns as the statistical analysis will vary based on the data type"
   ]
  },
  {
   "cell_type": "code",
   "execution_count": 76,
   "id": "20d71079",
   "metadata": {},
   "outputs": [
    {
     "data": {
      "text/plain": [
       "gender                         object\n",
       "race_ethnicity                 object\n",
       "parental_level_of_education    object\n",
       "lunch                          object\n",
       "test_preparation_course        object\n",
       "math_score                      int64\n",
       "reading_score                   int64\n",
       "writing_score                   int64\n",
       "total_score                     int64\n",
       "dtype: object"
      ]
     },
     "execution_count": 76,
     "metadata": {},
     "output_type": "execute_result"
    }
   ],
   "source": [
    "stud_df.dtypes"
   ]
  },
  {
   "cell_type": "markdown",
   "id": "dc386597",
   "metadata": {},
   "source": [
    "Some observation of the different columns based on the statistical analysis being donein previous assignments:\n",
    "\n",
    "1. **gender** - Previous statistical analysis showed that gender has an impact on the result of the students. We can perform t-test or ANOVA to determine the relationship between gender of the students and the mean scores obtained by them.\n",
    "\n",
    "2. **race_ethnicity** - As per previous analysis done, race ethnicity also has an impact on the scores of the students and similar statistical tools can be used as done for gender.\n",
    "\n",
    "3. **parental_level_of_education** - Student having parents who obtained higher education tends to perform well in the exams. We could analyze the relationship between parental level of education and exam performance using a correlation analysis or multiple regression.\n",
    "\n",
    "4. **lunch** - Studdents who received standard lunch tends to perform well as established by the t-test or ANOVA test earlier.\n",
    "\n",
    "5. **test_preparation_course** - Students who have completed test preparation course tends to perform well in counterpart to their students who haven't completed them. The reason the students completing the curse are better prepared for the exams with their strategies. The same can be established using either t-test or ANOVA.\n",
    "\n",
    "6. **math_score, reading_score, writing_score** - These three variables represent the individual subject scores of students on their exams. Wes could analyze the relationship between these variables and exam performance using correlation analyses or multiple regression.\n",
    "\n",
    "7. **total_score** - This variable represents the combined score of all three subjects on the exam. We could analyze the relationship between total score and the other variables using a multiple regression.\n",
    "\n",
    "#### Overall, there are a variety of statistical techniques that could be used to analyze the factors that impact students' performance on exams, including t-tests, ANOVAs, correlation analyses, and multiple regression. The choice of technique(s) would depend on the research questions and the specific variables of interest."
   ]
  },
  {
   "cell_type": "code",
   "execution_count": 77,
   "id": "e8789278",
   "metadata": {},
   "outputs": [
    {
     "data": {
      "text/html": [
       "<div>\n",
       "<style scoped>\n",
       "    .dataframe tbody tr th:only-of-type {\n",
       "        vertical-align: middle;\n",
       "    }\n",
       "\n",
       "    .dataframe tbody tr th {\n",
       "        vertical-align: top;\n",
       "    }\n",
       "\n",
       "    .dataframe thead th {\n",
       "        text-align: right;\n",
       "    }\n",
       "</style>\n",
       "<table border=\"1\" class=\"dataframe\">\n",
       "  <thead>\n",
       "    <tr style=\"text-align: right;\">\n",
       "      <th></th>\n",
       "      <th>sum_sq</th>\n",
       "      <th>df</th>\n",
       "      <th>F</th>\n",
       "      <th>PR(&gt;F)</th>\n",
       "    </tr>\n",
       "  </thead>\n",
       "  <tbody>\n",
       "    <tr>\n",
       "      <th>C(gender)</th>\n",
       "      <td>3.075433e+04</td>\n",
       "      <td>1.0</td>\n",
       "      <td>21.919017</td>\n",
       "      <td>3.241173e-06</td>\n",
       "    </tr>\n",
       "    <tr>\n",
       "      <th>C(race_ethnicity)</th>\n",
       "      <td>4.028761e+04</td>\n",
       "      <td>4.0</td>\n",
       "      <td>7.178378</td>\n",
       "      <td>1.068023e-05</td>\n",
       "    </tr>\n",
       "    <tr>\n",
       "      <th>C(parental_level_of_education)</th>\n",
       "      <td>7.655039e+04</td>\n",
       "      <td>5.0</td>\n",
       "      <td>10.911694</td>\n",
       "      <td>3.082815e-10</td>\n",
       "    </tr>\n",
       "    <tr>\n",
       "      <th>C(lunch)</th>\n",
       "      <td>1.577991e+05</td>\n",
       "      <td>1.0</td>\n",
       "      <td>112.465474</td>\n",
       "      <td>5.866484e-25</td>\n",
       "    </tr>\n",
       "    <tr>\n",
       "      <th>C(test_preparation_course)</th>\n",
       "      <td>1.187781e+05</td>\n",
       "      <td>1.0</td>\n",
       "      <td>84.654713</td>\n",
       "      <td>2.062189e-19</td>\n",
       "    </tr>\n",
       "    <tr>\n",
       "      <th>Residual</th>\n",
       "      <td>1.384849e+06</td>\n",
       "      <td>987.0</td>\n",
       "      <td>NaN</td>\n",
       "      <td>NaN</td>\n",
       "    </tr>\n",
       "  </tbody>\n",
       "</table>\n",
       "</div>"
      ],
      "text/plain": [
       "                                      sum_sq     df           F        PR(>F)\n",
       "C(gender)                       3.075433e+04    1.0   21.919017  3.241173e-06\n",
       "C(race_ethnicity)               4.028761e+04    4.0    7.178378  1.068023e-05\n",
       "C(parental_level_of_education)  7.655039e+04    5.0   10.911694  3.082815e-10\n",
       "C(lunch)                        1.577991e+05    1.0  112.465474  5.866484e-25\n",
       "C(test_preparation_course)      1.187781e+05    1.0   84.654713  2.062189e-19\n",
       "Residual                        1.384849e+06  987.0         NaN           NaN"
      ]
     },
     "execution_count": 77,
     "metadata": {},
     "output_type": "execute_result"
    }
   ],
   "source": [
    "import statsmodels.api as sm\n",
    "from statsmodels.formula.api import ols\n",
    "\n",
    "cat_colums = list(stud_df.select_dtypes(include=\"object\"))\n",
    "all_cols = cat_colums + [\"total_score\"]\n",
    "\n",
    "formula = \"total_score ~ C(gender) + C(race_ethnicity) + C(parental_level_of_education) + C(lunch) + C(test_preparation_course)\"\n",
    "model = ols(formula, data=stud_df[all_cols]).fit()\n",
    "sm.stats.anova_lm(model, typ=2)"
   ]
  },
  {
   "cell_type": "markdown",
   "id": "7f236982",
   "metadata": {},
   "source": [
    "Let's consider the confidence level at 95% which leads to alpha being 0.05.\n",
    "\n",
    "Now with this alpha, we can observe that all the columns have p-value less than the alpha and hence we statistically reject the null hypothesis. That means - all the categorical columns have an impact on the scores of the students and hence we need to consider all of them while training the model.\n",
    "\n",
    "#### Let's perform some statistical analysis on the numerical variables of the dataset. For the numerical variables we can find out the correlation matrix to understand the correaltionship between the different numerical variables."
   ]
  },
  {
   "cell_type": "code",
   "execution_count": 78,
   "id": "0843165b",
   "metadata": {},
   "outputs": [
    {
     "data": {
      "text/html": [
       "<div>\n",
       "<style scoped>\n",
       "    .dataframe tbody tr th:only-of-type {\n",
       "        vertical-align: middle;\n",
       "    }\n",
       "\n",
       "    .dataframe tbody tr th {\n",
       "        vertical-align: top;\n",
       "    }\n",
       "\n",
       "    .dataframe thead th {\n",
       "        text-align: right;\n",
       "    }\n",
       "</style>\n",
       "<table border=\"1\" class=\"dataframe\">\n",
       "  <thead>\n",
       "    <tr style=\"text-align: right;\">\n",
       "      <th></th>\n",
       "      <th>math_score</th>\n",
       "      <th>reading_score</th>\n",
       "      <th>writing_score</th>\n",
       "      <th>total_score</th>\n",
       "    </tr>\n",
       "  </thead>\n",
       "  <tbody>\n",
       "    <tr>\n",
       "      <th>math_score</th>\n",
       "      <td>1.000000</td>\n",
       "      <td>0.804064</td>\n",
       "      <td>0.778339</td>\n",
       "      <td>0.909191</td>\n",
       "    </tr>\n",
       "    <tr>\n",
       "      <th>reading_score</th>\n",
       "      <td>0.804064</td>\n",
       "      <td>1.000000</td>\n",
       "      <td>0.948953</td>\n",
       "      <td>0.968641</td>\n",
       "    </tr>\n",
       "    <tr>\n",
       "      <th>writing_score</th>\n",
       "      <td>0.778339</td>\n",
       "      <td>0.948953</td>\n",
       "      <td>1.000000</td>\n",
       "      <td>0.959184</td>\n",
       "    </tr>\n",
       "    <tr>\n",
       "      <th>total_score</th>\n",
       "      <td>0.909191</td>\n",
       "      <td>0.968641</td>\n",
       "      <td>0.959184</td>\n",
       "      <td>1.000000</td>\n",
       "    </tr>\n",
       "  </tbody>\n",
       "</table>\n",
       "</div>"
      ],
      "text/plain": [
       "               math_score  reading_score  writing_score  total_score\n",
       "math_score       1.000000       0.804064       0.778339     0.909191\n",
       "reading_score    0.804064       1.000000       0.948953     0.968641\n",
       "writing_score    0.778339       0.948953       1.000000     0.959184\n",
       "total_score      0.909191       0.968641       0.959184     1.000000"
      ]
     },
     "execution_count": 78,
     "metadata": {},
     "output_type": "execute_result"
    }
   ],
   "source": [
    "spearman_corr = stud_df.corr(method=\"spearman\")\n",
    "spearman_corr"
   ]
  },
  {
   "cell_type": "markdown",
   "id": "0a4d696e",
   "metadata": {},
   "source": [
    "Now since it is very difficult to follow these numbers to understand the correlation, lets visualize them using heatmap."
   ]
  },
  {
   "cell_type": "code",
   "execution_count": 79,
   "id": "06715119",
   "metadata": {},
   "outputs": [
    {
     "data": {
      "image/png": "[encoded data removed]",
      "text/plain": [
       "<Figure size 1440x720 with 2 Axes>"
      ]
     },
     "metadata": {
      "needs_background": "light"
     },
     "output_type": "display_data"
    }
   ],
   "source": [
    "# Since the correlation matrix is a symmetric matrix, we can view either the upper half or the lower half to draw our observations.\n",
    "# Here we will visualize the lower half of the matrix and put our observations forward.\n",
    "plt.figure(figsize=(20,10))\n",
    "mask = np.triu(np.ones(spearman_corr.shape))\n",
    "sns.heatmap(spearman_corr, cmap=\"viridis\", annot=True, mask=mask)\n",
    "plt.show()"
   ]
  },
  {
   "cell_type": "markdown",
   "id": "7e6b3ff8",
   "metadata": {},
   "source": [
    "We can observe that students who have a good math_score, also tends to have good writing score and reading score. And the students who have good writing score tends to have a very good total score as well."
   ]
  },
  {
   "cell_type": "markdown",
   "id": "795683d9",
   "metadata": {},
   "source": [
    "## Q4. Describe the process of feature engineering in the context of the student performance data set. How did you select and transform the variables for your model?"
   ]
  },
  {
   "cell_type": "markdown",
   "id": "ccaf771f",
   "metadata": {},
   "source": [
    "**Feature engineering** refers to the process of using domain knowledge to select and transform the most relevant variables from raw data when creating a predictive model using machine learning or statistical modeling. In the context of the student performacne dataset, we would use feature engineering in order to transform the variables and extract the data to perform machine learning to predict the perforamnce of the students in various subjects of the exam.\n",
    "\n",
    "#### Here are the few steps that can be taken in context of student performance dataset for feature engineering.\n",
    "\n",
    "1. **Data Cleaning** - Even before we begin with building machine learning models, we need to clean the data by imputing the null vaues, discarding the outliers, removing the inconsistencies or duplicates in data.\n",
    "\n",
    "2. **Feature Selection** - In the dataset, there could be a large number of variables and if we train the model on these large number of features, then there could be 2 problems mainly that will arise - one is overfitting the model with the training data and the other is time as it will not be optimized and consume a lot of time. We can perform PCA, correaltion matrix to understand the features that could be taken into consideration.\n",
    "\n",
    "3. **Feature Transformation** - Feature transformation is simply a function that transforms features from one representation to another. The goal here is to plot and visualise data, if something is not adding up with the new features we can reduce the number of features used, speed up training, or increase the accuracy of a certain model.\n",
    "\n",
    "4. **Feature Extraction** -  Feature extraction is the process of extracting features from a data set to identify useful information. Without distorting the original relationships or significant information, this compresses the amount of data into manageable quantities for algorithms to process.\n",
    "\n",
    "5. **Exploratory Data Analysis** - Exploratory data analysis (EDA) is a powerful and simple tool that can be used to improve your understanding of your data, by exploring its properties. The technique is often applied when the goal is to create new hypotheses or find patterns in the data. It’s often used on large amounts of qualitative or quantitative data that haven’t been analyzed before."
   ]
  },
  {
   "cell_type": "code",
   "execution_count": 80,
   "id": "a8d6d6bb",
   "metadata": {},
   "outputs": [
    {
     "data": {
      "text/html": [
       "<div>\n",
       "<style scoped>\n",
       "    .dataframe tbody tr th:only-of-type {\n",
       "        vertical-align: middle;\n",
       "    }\n",
       "\n",
       "    .dataframe tbody tr th {\n",
       "        vertical-align: top;\n",
       "    }\n",
       "\n",
       "    .dataframe thead th {\n",
       "        text-align: right;\n",
       "    }\n",
       "</style>\n",
       "<table border=\"1\" class=\"dataframe\">\n",
       "  <thead>\n",
       "    <tr style=\"text-align: right;\">\n",
       "      <th></th>\n",
       "      <th>gender</th>\n",
       "      <th>race_ethnicity</th>\n",
       "      <th>parental_level_of_education</th>\n",
       "      <th>lunch</th>\n",
       "      <th>test_preparation_course</th>\n",
       "      <th>math_score</th>\n",
       "      <th>reading_score</th>\n",
       "      <th>writing_score</th>\n",
       "    </tr>\n",
       "  </thead>\n",
       "  <tbody>\n",
       "    <tr>\n",
       "      <th>0</th>\n",
       "      <td>female</td>\n",
       "      <td>group B</td>\n",
       "      <td>bachelor's degree</td>\n",
       "      <td>standard</td>\n",
       "      <td>none</td>\n",
       "      <td>72</td>\n",
       "      <td>72</td>\n",
       "      <td>74</td>\n",
       "    </tr>\n",
       "    <tr>\n",
       "      <th>1</th>\n",
       "      <td>female</td>\n",
       "      <td>group C</td>\n",
       "      <td>some college</td>\n",
       "      <td>standard</td>\n",
       "      <td>completed</td>\n",
       "      <td>69</td>\n",
       "      <td>90</td>\n",
       "      <td>88</td>\n",
       "    </tr>\n",
       "    <tr>\n",
       "      <th>2</th>\n",
       "      <td>female</td>\n",
       "      <td>group B</td>\n",
       "      <td>master's degree</td>\n",
       "      <td>standard</td>\n",
       "      <td>none</td>\n",
       "      <td>90</td>\n",
       "      <td>95</td>\n",
       "      <td>93</td>\n",
       "    </tr>\n",
       "    <tr>\n",
       "      <th>3</th>\n",
       "      <td>male</td>\n",
       "      <td>group A</td>\n",
       "      <td>associate's degree</td>\n",
       "      <td>free/reduced</td>\n",
       "      <td>none</td>\n",
       "      <td>47</td>\n",
       "      <td>57</td>\n",
       "      <td>44</td>\n",
       "    </tr>\n",
       "    <tr>\n",
       "      <th>4</th>\n",
       "      <td>male</td>\n",
       "      <td>group C</td>\n",
       "      <td>some college</td>\n",
       "      <td>standard</td>\n",
       "      <td>none</td>\n",
       "      <td>76</td>\n",
       "      <td>78</td>\n",
       "      <td>75</td>\n",
       "    </tr>\n",
       "  </tbody>\n",
       "</table>\n",
       "</div>"
      ],
      "text/plain": [
       "   gender race_ethnicity parental_level_of_education         lunch  \\\n",
       "0  female        group B           bachelor's degree      standard   \n",
       "1  female        group C                some college      standard   \n",
       "2  female        group B             master's degree      standard   \n",
       "3    male        group A          associate's degree  free/reduced   \n",
       "4    male        group C                some college      standard   \n",
       "\n",
       "  test_preparation_course  math_score  reading_score  writing_score  \n",
       "0                    none          72             72             74  \n",
       "1               completed          69             90             88  \n",
       "2                    none          90             95             93  \n",
       "3                    none          47             57             44  \n",
       "4                    none          76             78             75  "
      ]
     },
     "execution_count": 80,
     "metadata": {},
     "output_type": "execute_result"
    }
   ],
   "source": [
    "stud_df = pd.read_csv(\"./data/stud.csv\")\n",
    "stud_df.head()"
   ]
  },
  {
   "cell_type": "code",
   "execution_count": 81,
   "id": "d3c1d906",
   "metadata": {},
   "outputs": [
    {
     "data": {
      "text/plain": [
       "gender                         0\n",
       "race_ethnicity                 0\n",
       "parental_level_of_education    0\n",
       "lunch                          0\n",
       "test_preparation_course        0\n",
       "math_score                     0\n",
       "reading_score                  0\n",
       "writing_score                  0\n",
       "dtype: int64"
      ]
     },
     "execution_count": 81,
     "metadata": {},
     "output_type": "execute_result"
    }
   ],
   "source": [
    "# Check for null data\n",
    "stud_df.isna().sum()"
   ]
  },
  {
   "cell_type": "code",
   "execution_count": 82,
   "id": "11eacb74",
   "metadata": {},
   "outputs": [
    {
     "data": {
      "text/plain": [
       "0"
      ]
     },
     "execution_count": 82,
     "metadata": {},
     "output_type": "execute_result"
    }
   ],
   "source": [
    "# Check for duplicates in the dataset\n",
    "stud_df.duplicated().sum()"
   ]
  },
  {
   "cell_type": "markdown",
   "id": "4fcd1dde",
   "metadata": {},
   "source": [
    "#### So no null values or duplicates in the dataset."
   ]
  },
  {
   "cell_type": "code",
   "execution_count": 83,
   "id": "66ae317c",
   "metadata": {},
   "outputs": [
    {
     "data": {
      "text/html": [
       "<div>\n",
       "<style scoped>\n",
       "    .dataframe tbody tr th:only-of-type {\n",
       "        vertical-align: middle;\n",
       "    }\n",
       "\n",
       "    .dataframe tbody tr th {\n",
       "        vertical-align: top;\n",
       "    }\n",
       "\n",
       "    .dataframe thead th {\n",
       "        text-align: right;\n",
       "    }\n",
       "</style>\n",
       "<table border=\"1\" class=\"dataframe\">\n",
       "  <thead>\n",
       "    <tr style=\"text-align: right;\">\n",
       "      <th></th>\n",
       "      <th>gender</th>\n",
       "      <th>race_ethnicity</th>\n",
       "      <th>parental_level_of_education</th>\n",
       "      <th>lunch</th>\n",
       "      <th>test_preparation_course</th>\n",
       "      <th>math_score</th>\n",
       "      <th>reading_score</th>\n",
       "      <th>writing_score</th>\n",
       "      <th>total_score</th>\n",
       "      <th>average_score</th>\n",
       "    </tr>\n",
       "  </thead>\n",
       "  <tbody>\n",
       "    <tr>\n",
       "      <th>0</th>\n",
       "      <td>female</td>\n",
       "      <td>group B</td>\n",
       "      <td>bachelor's degree</td>\n",
       "      <td>standard</td>\n",
       "      <td>none</td>\n",
       "      <td>72</td>\n",
       "      <td>72</td>\n",
       "      <td>74</td>\n",
       "      <td>218</td>\n",
       "      <td>72.666667</td>\n",
       "    </tr>\n",
       "    <tr>\n",
       "      <th>1</th>\n",
       "      <td>female</td>\n",
       "      <td>group C</td>\n",
       "      <td>some college</td>\n",
       "      <td>standard</td>\n",
       "      <td>completed</td>\n",
       "      <td>69</td>\n",
       "      <td>90</td>\n",
       "      <td>88</td>\n",
       "      <td>247</td>\n",
       "      <td>82.333333</td>\n",
       "    </tr>\n",
       "    <tr>\n",
       "      <th>2</th>\n",
       "      <td>female</td>\n",
       "      <td>group B</td>\n",
       "      <td>master's degree</td>\n",
       "      <td>standard</td>\n",
       "      <td>none</td>\n",
       "      <td>90</td>\n",
       "      <td>95</td>\n",
       "      <td>93</td>\n",
       "      <td>278</td>\n",
       "      <td>92.666667</td>\n",
       "    </tr>\n",
       "    <tr>\n",
       "      <th>3</th>\n",
       "      <td>male</td>\n",
       "      <td>group A</td>\n",
       "      <td>associate's degree</td>\n",
       "      <td>free/reduced</td>\n",
       "      <td>none</td>\n",
       "      <td>47</td>\n",
       "      <td>57</td>\n",
       "      <td>44</td>\n",
       "      <td>148</td>\n",
       "      <td>49.333333</td>\n",
       "    </tr>\n",
       "    <tr>\n",
       "      <th>4</th>\n",
       "      <td>male</td>\n",
       "      <td>group C</td>\n",
       "      <td>some college</td>\n",
       "      <td>standard</td>\n",
       "      <td>none</td>\n",
       "      <td>76</td>\n",
       "      <td>78</td>\n",
       "      <td>75</td>\n",
       "      <td>229</td>\n",
       "      <td>76.333333</td>\n",
       "    </tr>\n",
       "  </tbody>\n",
       "</table>\n",
       "</div>"
      ],
      "text/plain": [
       "   gender race_ethnicity parental_level_of_education         lunch  \\\n",
       "0  female        group B           bachelor's degree      standard   \n",
       "1  female        group C                some college      standard   \n",
       "2  female        group B             master's degree      standard   \n",
       "3    male        group A          associate's degree  free/reduced   \n",
       "4    male        group C                some college      standard   \n",
       "\n",
       "  test_preparation_course  math_score  reading_score  writing_score  \\\n",
       "0                    none          72             72             74   \n",
       "1               completed          69             90             88   \n",
       "2                    none          90             95             93   \n",
       "3                    none          47             57             44   \n",
       "4                    none          76             78             75   \n",
       "\n",
       "   total_score  average_score  \n",
       "0          218      72.666667  \n",
       "1          247      82.333333  \n",
       "2          278      92.666667  \n",
       "3          148      49.333333  \n",
       "4          229      76.333333  "
      ]
     },
     "execution_count": 83,
     "metadata": {},
     "output_type": "execute_result"
    }
   ],
   "source": [
    "# Feature engineering to create 2 new features called total_score and average which represent the total score and average score obtained by any student.\n",
    "stud_df[\"total_score\"] = stud_df[\"math_score\"] + stud_df[\"reading_score\"] + stud_df[\"writing_score\"]\n",
    "stud_df[\"average_score\"] = stud_df[\"total_score\"] / 3\n",
    "stud_df.head()"
   ]
  },
  {
   "cell_type": "code",
   "execution_count": 84,
   "id": "3d3bdb25",
   "metadata": {},
   "outputs": [],
   "source": [
    "# Let's assume the \"average_score\" as the target variable for this problem\n",
    "X = stud_df.drop(labels=[\"math_score\", \"reading_score\", \"writing_score\", \"total_score\"], axis=1)\n",
    "Y = stud_df[\"average_score\"]"
   ]
  },
  {
   "cell_type": "code",
   "execution_count": 85,
   "id": "4e6e92cc",
   "metadata": {},
   "outputs": [],
   "source": [
    "# Separating categorical and numerical variables\n",
    "cat_cols = list(stud_df.select_dtypes(include=\"object\"))\n",
    "num_cols = list(stud_df.select_dtypes(exclude=\"object\"))"
   ]
  },
  {
   "cell_type": "code",
   "execution_count": 86,
   "id": "a2fcf5b1",
   "metadata": {},
   "outputs": [
    {
     "data": {
      "text/html": [
       "<div>\n",
       "<style scoped>\n",
       "    .dataframe tbody tr th:only-of-type {\n",
       "        vertical-align: middle;\n",
       "    }\n",
       "\n",
       "    .dataframe tbody tr th {\n",
       "        vertical-align: top;\n",
       "    }\n",
       "\n",
       "    .dataframe thead th {\n",
       "        text-align: right;\n",
       "    }\n",
       "</style>\n",
       "<table border=\"1\" class=\"dataframe\">\n",
       "  <thead>\n",
       "    <tr style=\"text-align: right;\">\n",
       "      <th></th>\n",
       "      <th>gender_female</th>\n",
       "      <th>gender_male</th>\n",
       "      <th>race_ethnicity_group A</th>\n",
       "      <th>race_ethnicity_group B</th>\n",
       "      <th>race_ethnicity_group C</th>\n",
       "      <th>race_ethnicity_group D</th>\n",
       "      <th>race_ethnicity_group E</th>\n",
       "      <th>parental_level_of_education_associate's degree</th>\n",
       "      <th>parental_level_of_education_bachelor's degree</th>\n",
       "      <th>parental_level_of_education_high school</th>\n",
       "      <th>parental_level_of_education_master's degree</th>\n",
       "      <th>parental_level_of_education_some college</th>\n",
       "      <th>parental_level_of_education_some high school</th>\n",
       "      <th>lunch_free/reduced</th>\n",
       "      <th>lunch_standard</th>\n",
       "      <th>test_preparation_course_completed</th>\n",
       "      <th>test_preparation_course_none</th>\n",
       "    </tr>\n",
       "  </thead>\n",
       "  <tbody>\n",
       "    <tr>\n",
       "      <th>0</th>\n",
       "      <td>1</td>\n",
       "      <td>0</td>\n",
       "      <td>0</td>\n",
       "      <td>1</td>\n",
       "      <td>0</td>\n",
       "      <td>0</td>\n",
       "      <td>0</td>\n",
       "      <td>0</td>\n",
       "      <td>1</td>\n",
       "      <td>0</td>\n",
       "      <td>0</td>\n",
       "      <td>0</td>\n",
       "      <td>0</td>\n",
       "      <td>0</td>\n",
       "      <td>1</td>\n",
       "      <td>0</td>\n",
       "      <td>1</td>\n",
       "    </tr>\n",
       "    <tr>\n",
       "      <th>1</th>\n",
       "      <td>1</td>\n",
       "      <td>0</td>\n",
       "      <td>0</td>\n",
       "      <td>0</td>\n",
       "      <td>1</td>\n",
       "      <td>0</td>\n",
       "      <td>0</td>\n",
       "      <td>0</td>\n",
       "      <td>0</td>\n",
       "      <td>0</td>\n",
       "      <td>0</td>\n",
       "      <td>1</td>\n",
       "      <td>0</td>\n",
       "      <td>0</td>\n",
       "      <td>1</td>\n",
       "      <td>1</td>\n",
       "      <td>0</td>\n",
       "    </tr>\n",
       "    <tr>\n",
       "      <th>2</th>\n",
       "      <td>1</td>\n",
       "      <td>0</td>\n",
       "      <td>0</td>\n",
       "      <td>1</td>\n",
       "      <td>0</td>\n",
       "      <td>0</td>\n",
       "      <td>0</td>\n",
       "      <td>0</td>\n",
       "      <td>0</td>\n",
       "      <td>0</td>\n",
       "      <td>1</td>\n",
       "      <td>0</td>\n",
       "      <td>0</td>\n",
       "      <td>0</td>\n",
       "      <td>1</td>\n",
       "      <td>0</td>\n",
       "      <td>1</td>\n",
       "    </tr>\n",
       "    <tr>\n",
       "      <th>3</th>\n",
       "      <td>0</td>\n",
       "      <td>1</td>\n",
       "      <td>1</td>\n",
       "      <td>0</td>\n",
       "      <td>0</td>\n",
       "      <td>0</td>\n",
       "      <td>0</td>\n",
       "      <td>1</td>\n",
       "      <td>0</td>\n",
       "      <td>0</td>\n",
       "      <td>0</td>\n",
       "      <td>0</td>\n",
       "      <td>0</td>\n",
       "      <td>1</td>\n",
       "      <td>0</td>\n",
       "      <td>0</td>\n",
       "      <td>1</td>\n",
       "    </tr>\n",
       "    <tr>\n",
       "      <th>4</th>\n",
       "      <td>0</td>\n",
       "      <td>1</td>\n",
       "      <td>0</td>\n",
       "      <td>0</td>\n",
       "      <td>1</td>\n",
       "      <td>0</td>\n",
       "      <td>0</td>\n",
       "      <td>0</td>\n",
       "      <td>0</td>\n",
       "      <td>0</td>\n",
       "      <td>0</td>\n",
       "      <td>1</td>\n",
       "      <td>0</td>\n",
       "      <td>0</td>\n",
       "      <td>1</td>\n",
       "      <td>0</td>\n",
       "      <td>1</td>\n",
       "    </tr>\n",
       "  </tbody>\n",
       "</table>\n",
       "</div>"
      ],
      "text/plain": [
       "   gender_female  gender_male  race_ethnicity_group A  race_ethnicity_group B  \\\n",
       "0              1            0                       0                       1   \n",
       "1              1            0                       0                       0   \n",
       "2              1            0                       0                       1   \n",
       "3              0            1                       1                       0   \n",
       "4              0            1                       0                       0   \n",
       "\n",
       "   race_ethnicity_group C  race_ethnicity_group D  race_ethnicity_group E  \\\n",
       "0                       0                       0                       0   \n",
       "1                       1                       0                       0   \n",
       "2                       0                       0                       0   \n",
       "3                       0                       0                       0   \n",
       "4                       1                       0                       0   \n",
       "\n",
       "   parental_level_of_education_associate's degree  \\\n",
       "0                                               0   \n",
       "1                                               0   \n",
       "2                                               0   \n",
       "3                                               1   \n",
       "4                                               0   \n",
       "\n",
       "   parental_level_of_education_bachelor's degree  \\\n",
       "0                                              1   \n",
       "1                                              0   \n",
       "2                                              0   \n",
       "3                                              0   \n",
       "4                                              0   \n",
       "\n",
       "   parental_level_of_education_high school  \\\n",
       "0                                        0   \n",
       "1                                        0   \n",
       "2                                        0   \n",
       "3                                        0   \n",
       "4                                        0   \n",
       "\n",
       "   parental_level_of_education_master's degree  \\\n",
       "0                                            0   \n",
       "1                                            0   \n",
       "2                                            1   \n",
       "3                                            0   \n",
       "4                                            0   \n",
       "\n",
       "   parental_level_of_education_some college  \\\n",
       "0                                         0   \n",
       "1                                         1   \n",
       "2                                         0   \n",
       "3                                         0   \n",
       "4                                         1   \n",
       "\n",
       "   parental_level_of_education_some high school  lunch_free/reduced  \\\n",
       "0                                             0                   0   \n",
       "1                                             0                   0   \n",
       "2                                             0                   0   \n",
       "3                                             0                   1   \n",
       "4                                             0                   0   \n",
       "\n",
       "   lunch_standard  test_preparation_course_completed  \\\n",
       "0               1                                  0   \n",
       "1               1                                  1   \n",
       "2               1                                  0   \n",
       "3               0                                  0   \n",
       "4               1                                  0   \n",
       "\n",
       "   test_preparation_course_none  \n",
       "0                             1  \n",
       "1                             0  \n",
       "2                             1  \n",
       "3                             1  \n",
       "4                             1  "
      ]
     },
     "execution_count": 86,
     "metadata": {},
     "output_type": "execute_result"
    }
   ],
   "source": [
    "# Since Machine Learning models cannot work on categorical dataset, we need to encode each and every categorical column to numerical ones.\n",
    "# For now, let's do One Hot Encoding which is a Nominal Encoding for all the categorical columns.\n",
    "stud_df_encoded = pd.get_dummies(stud_df[cat_cols])\n",
    "stud_df_encoded.head()"
   ]
  },
  {
   "cell_type": "code",
   "execution_count": 87,
   "id": "2bf8c0c9",
   "metadata": {},
   "outputs": [
    {
     "name": "stdout",
     "output_type": "stream",
     "text": [
      "Training size:(700, 17)\n",
      "Test size:(300, 17)\n"
     ]
    }
   ],
   "source": [
    "# Train Test split the dataset\n",
    "from sklearn.model_selection import train_test_split\n",
    "\n",
    "X_train, X_test, Y_train, Y_test = train_test_split(stud_df_encoded, Y, test_size=0.3, random_state=42)\n",
    "print(f\"Training size:{X_train.shape}\")\n",
    "print(f\"Test size:{X_test.shape}\")"
   ]
  },
  {
   "cell_type": "code",
   "execution_count": 88,
   "id": "e0c593b7",
   "metadata": {},
   "outputs": [
    {
     "data": {
      "text/html": [
       "<div>\n",
       "<style scoped>\n",
       "    .dataframe tbody tr th:only-of-type {\n",
       "        vertical-align: middle;\n",
       "    }\n",
       "\n",
       "    .dataframe tbody tr th {\n",
       "        vertical-align: top;\n",
       "    }\n",
       "\n",
       "    .dataframe thead th {\n",
       "        text-align: right;\n",
       "    }\n",
       "</style>\n",
       "<table border=\"1\" class=\"dataframe\">\n",
       "  <thead>\n",
       "    <tr style=\"text-align: right;\">\n",
       "      <th></th>\n",
       "      <th>gender_female</th>\n",
       "      <th>gender_male</th>\n",
       "      <th>race_ethnicity_group A</th>\n",
       "      <th>race_ethnicity_group B</th>\n",
       "      <th>race_ethnicity_group C</th>\n",
       "      <th>race_ethnicity_group D</th>\n",
       "      <th>race_ethnicity_group E</th>\n",
       "      <th>parental_level_of_education_associate's degree</th>\n",
       "      <th>parental_level_of_education_bachelor's degree</th>\n",
       "      <th>parental_level_of_education_high school</th>\n",
       "      <th>parental_level_of_education_master's degree</th>\n",
       "      <th>parental_level_of_education_some college</th>\n",
       "      <th>parental_level_of_education_some high school</th>\n",
       "      <th>lunch_free/reduced</th>\n",
       "      <th>lunch_standard</th>\n",
       "      <th>test_preparation_course_completed</th>\n",
       "      <th>test_preparation_course_none</th>\n",
       "    </tr>\n",
       "  </thead>\n",
       "  <tbody>\n",
       "    <tr>\n",
       "      <th>0</th>\n",
       "      <td>-1.074172</td>\n",
       "      <td>1.074172</td>\n",
       "      <td>-0.297736</td>\n",
       "      <td>-0.477567</td>\n",
       "      <td>-0.692759</td>\n",
       "      <td>1.687055</td>\n",
       "      <td>-0.417728</td>\n",
       "      <td>1.882938</td>\n",
       "      <td>-0.379198</td>\n",
       "      <td>-0.497767</td>\n",
       "      <td>-0.242902</td>\n",
       "      <td>-0.542126</td>\n",
       "      <td>-0.457144</td>\n",
       "      <td>1.380060</td>\n",
       "      <td>-1.380060</td>\n",
       "      <td>1.350030</td>\n",
       "      <td>-1.350030</td>\n",
       "    </tr>\n",
       "    <tr>\n",
       "      <th>1</th>\n",
       "      <td>0.930949</td>\n",
       "      <td>-0.930949</td>\n",
       "      <td>-0.297736</td>\n",
       "      <td>-0.477567</td>\n",
       "      <td>1.443503</td>\n",
       "      <td>-0.592749</td>\n",
       "      <td>-0.417728</td>\n",
       "      <td>-0.531085</td>\n",
       "      <td>-0.379198</td>\n",
       "      <td>-0.497767</td>\n",
       "      <td>-0.242902</td>\n",
       "      <td>1.844591</td>\n",
       "      <td>-0.457144</td>\n",
       "      <td>-0.724606</td>\n",
       "      <td>0.724606</td>\n",
       "      <td>1.350030</td>\n",
       "      <td>-1.350030</td>\n",
       "    </tr>\n",
       "    <tr>\n",
       "      <th>2</th>\n",
       "      <td>-1.074172</td>\n",
       "      <td>1.074172</td>\n",
       "      <td>-0.297736</td>\n",
       "      <td>-0.477567</td>\n",
       "      <td>1.443503</td>\n",
       "      <td>-0.592749</td>\n",
       "      <td>-0.417728</td>\n",
       "      <td>-0.531085</td>\n",
       "      <td>-0.379198</td>\n",
       "      <td>-0.497767</td>\n",
       "      <td>-0.242902</td>\n",
       "      <td>1.844591</td>\n",
       "      <td>-0.457144</td>\n",
       "      <td>1.380060</td>\n",
       "      <td>-1.380060</td>\n",
       "      <td>-0.740724</td>\n",
       "      <td>0.740724</td>\n",
       "    </tr>\n",
       "    <tr>\n",
       "      <th>3</th>\n",
       "      <td>0.930949</td>\n",
       "      <td>-0.930949</td>\n",
       "      <td>-0.297736</td>\n",
       "      <td>-0.477567</td>\n",
       "      <td>-0.692759</td>\n",
       "      <td>1.687055</td>\n",
       "      <td>-0.417728</td>\n",
       "      <td>-0.531085</td>\n",
       "      <td>-0.379198</td>\n",
       "      <td>-0.497767</td>\n",
       "      <td>4.116882</td>\n",
       "      <td>-0.542126</td>\n",
       "      <td>-0.457144</td>\n",
       "      <td>1.380060</td>\n",
       "      <td>-1.380060</td>\n",
       "      <td>1.350030</td>\n",
       "      <td>-1.350030</td>\n",
       "    </tr>\n",
       "    <tr>\n",
       "      <th>4</th>\n",
       "      <td>0.930949</td>\n",
       "      <td>-0.930949</td>\n",
       "      <td>3.358676</td>\n",
       "      <td>-0.477567</td>\n",
       "      <td>-0.692759</td>\n",
       "      <td>-0.592749</td>\n",
       "      <td>-0.417728</td>\n",
       "      <td>-0.531085</td>\n",
       "      <td>-0.379198</td>\n",
       "      <td>-0.497767</td>\n",
       "      <td>-0.242902</td>\n",
       "      <td>1.844591</td>\n",
       "      <td>-0.457144</td>\n",
       "      <td>-0.724606</td>\n",
       "      <td>0.724606</td>\n",
       "      <td>1.350030</td>\n",
       "      <td>-1.350030</td>\n",
       "    </tr>\n",
       "  </tbody>\n",
       "</table>\n",
       "</div>"
      ],
      "text/plain": [
       "   gender_female  gender_male  race_ethnicity_group A  race_ethnicity_group B  \\\n",
       "0      -1.074172     1.074172               -0.297736               -0.477567   \n",
       "1       0.930949    -0.930949               -0.297736               -0.477567   \n",
       "2      -1.074172     1.074172               -0.297736               -0.477567   \n",
       "3       0.930949    -0.930949               -0.297736               -0.477567   \n",
       "4       0.930949    -0.930949                3.358676               -0.477567   \n",
       "\n",
       "   race_ethnicity_group C  race_ethnicity_group D  race_ethnicity_group E  \\\n",
       "0               -0.692759                1.687055               -0.417728   \n",
       "1                1.443503               -0.592749               -0.417728   \n",
       "2                1.443503               -0.592749               -0.417728   \n",
       "3               -0.692759                1.687055               -0.417728   \n",
       "4               -0.692759               -0.592749               -0.417728   \n",
       "\n",
       "   parental_level_of_education_associate's degree  \\\n",
       "0                                        1.882938   \n",
       "1                                       -0.531085   \n",
       "2                                       -0.531085   \n",
       "3                                       -0.531085   \n",
       "4                                       -0.531085   \n",
       "\n",
       "   parental_level_of_education_bachelor's degree  \\\n",
       "0                                      -0.379198   \n",
       "1                                      -0.379198   \n",
       "2                                      -0.379198   \n",
       "3                                      -0.379198   \n",
       "4                                      -0.379198   \n",
       "\n",
       "   parental_level_of_education_high school  \\\n",
       "0                                -0.497767   \n",
       "1                                -0.497767   \n",
       "2                                -0.497767   \n",
       "3                                -0.497767   \n",
       "4                                -0.497767   \n",
       "\n",
       "   parental_level_of_education_master's degree  \\\n",
       "0                                    -0.242902   \n",
       "1                                    -0.242902   \n",
       "2                                    -0.242902   \n",
       "3                                     4.116882   \n",
       "4                                    -0.242902   \n",
       "\n",
       "   parental_level_of_education_some college  \\\n",
       "0                                 -0.542126   \n",
       "1                                  1.844591   \n",
       "2                                  1.844591   \n",
       "3                                 -0.542126   \n",
       "4                                  1.844591   \n",
       "\n",
       "   parental_level_of_education_some high school  lunch_free/reduced  \\\n",
       "0                                     -0.457144            1.380060   \n",
       "1                                     -0.457144           -0.724606   \n",
       "2                                     -0.457144            1.380060   \n",
       "3                                     -0.457144            1.380060   \n",
       "4                                     -0.457144           -0.724606   \n",
       "\n",
       "   lunch_standard  test_preparation_course_completed  \\\n",
       "0       -1.380060                           1.350030   \n",
       "1        0.724606                           1.350030   \n",
       "2       -1.380060                          -0.740724   \n",
       "3       -1.380060                           1.350030   \n",
       "4        0.724606                           1.350030   \n",
       "\n",
       "   test_preparation_course_none  \n",
       "0                     -1.350030  \n",
       "1                     -1.350030  \n",
       "2                      0.740724  \n",
       "3                     -1.350030  \n",
       "4                     -1.350030  "
      ]
     },
     "execution_count": 88,
     "metadata": {},
     "output_type": "execute_result"
    }
   ],
   "source": [
    "# Lets perform some scaling on this dataset before modelling using StandardScaler\n",
    "from sklearn.preprocessing import StandardScaler\n",
    "\n",
    "scaler = StandardScaler()\n",
    "scaler.fit(X_train)\n",
    "X_train = pd.DataFrame(scaler.transform(X_train), columns=X_train.columns)\n",
    "X_train.head()"
   ]
  },
  {
   "cell_type": "code",
   "execution_count": 89,
   "id": "2c487d17",
   "metadata": {},
   "outputs": [
    {
     "data": {
      "text/html": [
       "<div>\n",
       "<style scoped>\n",
       "    .dataframe tbody tr th:only-of-type {\n",
       "        vertical-align: middle;\n",
       "    }\n",
       "\n",
       "    .dataframe tbody tr th {\n",
       "        vertical-align: top;\n",
       "    }\n",
       "\n",
       "    .dataframe thead th {\n",
       "        text-align: right;\n",
       "    }\n",
       "</style>\n",
       "<table border=\"1\" class=\"dataframe\">\n",
       "  <thead>\n",
       "    <tr style=\"text-align: right;\">\n",
       "      <th></th>\n",
       "      <th>gender_female</th>\n",
       "      <th>gender_male</th>\n",
       "      <th>race_ethnicity_group A</th>\n",
       "      <th>race_ethnicity_group B</th>\n",
       "      <th>race_ethnicity_group C</th>\n",
       "      <th>race_ethnicity_group D</th>\n",
       "      <th>race_ethnicity_group E</th>\n",
       "      <th>parental_level_of_education_associate's degree</th>\n",
       "      <th>parental_level_of_education_bachelor's degree</th>\n",
       "      <th>parental_level_of_education_high school</th>\n",
       "      <th>parental_level_of_education_master's degree</th>\n",
       "      <th>parental_level_of_education_some college</th>\n",
       "      <th>parental_level_of_education_some high school</th>\n",
       "      <th>lunch_free/reduced</th>\n",
       "      <th>lunch_standard</th>\n",
       "      <th>test_preparation_course_completed</th>\n",
       "      <th>test_preparation_course_none</th>\n",
       "    </tr>\n",
       "  </thead>\n",
       "  <tbody>\n",
       "    <tr>\n",
       "      <th>0</th>\n",
       "      <td>0.930949</td>\n",
       "      <td>-0.930949</td>\n",
       "      <td>-0.297736</td>\n",
       "      <td>-0.477567</td>\n",
       "      <td>1.443503</td>\n",
       "      <td>-0.592749</td>\n",
       "      <td>-0.417728</td>\n",
       "      <td>1.882938</td>\n",
       "      <td>-0.379198</td>\n",
       "      <td>-0.497767</td>\n",
       "      <td>-0.242902</td>\n",
       "      <td>-0.542126</td>\n",
       "      <td>-0.457144</td>\n",
       "      <td>-0.724606</td>\n",
       "      <td>0.724606</td>\n",
       "      <td>-0.740724</td>\n",
       "      <td>0.740724</td>\n",
       "    </tr>\n",
       "    <tr>\n",
       "      <th>1</th>\n",
       "      <td>0.930949</td>\n",
       "      <td>-0.930949</td>\n",
       "      <td>-0.297736</td>\n",
       "      <td>2.093947</td>\n",
       "      <td>-0.692759</td>\n",
       "      <td>-0.592749</td>\n",
       "      <td>-0.417728</td>\n",
       "      <td>-0.531085</td>\n",
       "      <td>-0.379198</td>\n",
       "      <td>-0.497767</td>\n",
       "      <td>-0.242902</td>\n",
       "      <td>1.844591</td>\n",
       "      <td>-0.457144</td>\n",
       "      <td>1.380060</td>\n",
       "      <td>-1.380060</td>\n",
       "      <td>1.350030</td>\n",
       "      <td>-1.350030</td>\n",
       "    </tr>\n",
       "    <tr>\n",
       "      <th>2</th>\n",
       "      <td>-1.074172</td>\n",
       "      <td>1.074172</td>\n",
       "      <td>-0.297736</td>\n",
       "      <td>-0.477567</td>\n",
       "      <td>-0.692759</td>\n",
       "      <td>1.687055</td>\n",
       "      <td>-0.417728</td>\n",
       "      <td>-0.531085</td>\n",
       "      <td>2.637147</td>\n",
       "      <td>-0.497767</td>\n",
       "      <td>-0.242902</td>\n",
       "      <td>-0.542126</td>\n",
       "      <td>-0.457144</td>\n",
       "      <td>-0.724606</td>\n",
       "      <td>0.724606</td>\n",
       "      <td>-0.740724</td>\n",
       "      <td>0.740724</td>\n",
       "    </tr>\n",
       "    <tr>\n",
       "      <th>3</th>\n",
       "      <td>-1.074172</td>\n",
       "      <td>1.074172</td>\n",
       "      <td>-0.297736</td>\n",
       "      <td>-0.477567</td>\n",
       "      <td>1.443503</td>\n",
       "      <td>-0.592749</td>\n",
       "      <td>-0.417728</td>\n",
       "      <td>-0.531085</td>\n",
       "      <td>-0.379198</td>\n",
       "      <td>-0.497767</td>\n",
       "      <td>-0.242902</td>\n",
       "      <td>1.844591</td>\n",
       "      <td>-0.457144</td>\n",
       "      <td>1.380060</td>\n",
       "      <td>-1.380060</td>\n",
       "      <td>-0.740724</td>\n",
       "      <td>0.740724</td>\n",
       "    </tr>\n",
       "    <tr>\n",
       "      <th>4</th>\n",
       "      <td>-1.074172</td>\n",
       "      <td>1.074172</td>\n",
       "      <td>-0.297736</td>\n",
       "      <td>-0.477567</td>\n",
       "      <td>-0.692759</td>\n",
       "      <td>-0.592749</td>\n",
       "      <td>2.393903</td>\n",
       "      <td>-0.531085</td>\n",
       "      <td>-0.379198</td>\n",
       "      <td>-0.497767</td>\n",
       "      <td>-0.242902</td>\n",
       "      <td>1.844591</td>\n",
       "      <td>-0.457144</td>\n",
       "      <td>-0.724606</td>\n",
       "      <td>0.724606</td>\n",
       "      <td>1.350030</td>\n",
       "      <td>-1.350030</td>\n",
       "    </tr>\n",
       "  </tbody>\n",
       "</table>\n",
       "</div>"
      ],
      "text/plain": [
       "   gender_female  gender_male  race_ethnicity_group A  race_ethnicity_group B  \\\n",
       "0       0.930949    -0.930949               -0.297736               -0.477567   \n",
       "1       0.930949    -0.930949               -0.297736                2.093947   \n",
       "2      -1.074172     1.074172               -0.297736               -0.477567   \n",
       "3      -1.074172     1.074172               -0.297736               -0.477567   \n",
       "4      -1.074172     1.074172               -0.297736               -0.477567   \n",
       "\n",
       "   race_ethnicity_group C  race_ethnicity_group D  race_ethnicity_group E  \\\n",
       "0                1.443503               -0.592749               -0.417728   \n",
       "1               -0.692759               -0.592749               -0.417728   \n",
       "2               -0.692759                1.687055               -0.417728   \n",
       "3                1.443503               -0.592749               -0.417728   \n",
       "4               -0.692759               -0.592749                2.393903   \n",
       "\n",
       "   parental_level_of_education_associate's degree  \\\n",
       "0                                        1.882938   \n",
       "1                                       -0.531085   \n",
       "2                                       -0.531085   \n",
       "3                                       -0.531085   \n",
       "4                                       -0.531085   \n",
       "\n",
       "   parental_level_of_education_bachelor's degree  \\\n",
       "0                                      -0.379198   \n",
       "1                                      -0.379198   \n",
       "2                                       2.637147   \n",
       "3                                      -0.379198   \n",
       "4                                      -0.379198   \n",
       "\n",
       "   parental_level_of_education_high school  \\\n",
       "0                                -0.497767   \n",
       "1                                -0.497767   \n",
       "2                                -0.497767   \n",
       "3                                -0.497767   \n",
       "4                                -0.497767   \n",
       "\n",
       "   parental_level_of_education_master's degree  \\\n",
       "0                                    -0.242902   \n",
       "1                                    -0.242902   \n",
       "2                                    -0.242902   \n",
       "3                                    -0.242902   \n",
       "4                                    -0.242902   \n",
       "\n",
       "   parental_level_of_education_some college  \\\n",
       "0                                 -0.542126   \n",
       "1                                  1.844591   \n",
       "2                                 -0.542126   \n",
       "3                                  1.844591   \n",
       "4                                  1.844591   \n",
       "\n",
       "   parental_level_of_education_some high school  lunch_free/reduced  \\\n",
       "0                                     -0.457144           -0.724606   \n",
       "1                                     -0.457144            1.380060   \n",
       "2                                     -0.457144           -0.724606   \n",
       "3                                     -0.457144            1.380060   \n",
       "4                                     -0.457144           -0.724606   \n",
       "\n",
       "   lunch_standard  test_preparation_course_completed  \\\n",
       "0        0.724606                          -0.740724   \n",
       "1       -1.380060                           1.350030   \n",
       "2        0.724606                          -0.740724   \n",
       "3       -1.380060                          -0.740724   \n",
       "4        0.724606                           1.350030   \n",
       "\n",
       "   test_preparation_course_none  \n",
       "0                      0.740724  \n",
       "1                     -1.350030  \n",
       "2                      0.740724  \n",
       "3                      0.740724  \n",
       "4                     -1.350030  "
      ]
     },
     "execution_count": 89,
     "metadata": {},
     "output_type": "execute_result"
    }
   ],
   "source": [
    "# Lets' scale the test data as well\n",
    "X_test = pd.DataFrame(scaler.transform(X_test), columns=X_test.columns)\n",
    "X_test.head()"
   ]
  },
  {
   "cell_type": "markdown",
   "id": "afee89ca",
   "metadata": {},
   "source": [
    "#### Now the dataset is ready to be modelled by Machine Learning algorithms"
   ]
  },
  {
   "cell_type": "markdown",
   "id": "56bf7fc1",
   "metadata": {},
   "source": [
    "## Q5. Load the wine quality data set and perform exploratory data analysis (EDA) to identify the distribution of each feature. Which feature(s) exhibit non-normality, and what transformations could be applied to these features to improve normality?"
   ]
  },
  {
   "cell_type": "code",
   "execution_count": 98,
   "id": "259099e9",
   "metadata": {},
   "outputs": [
    {
     "data": {
      "text/html": [
       "<div>\n",
       "<style scoped>\n",
       "    .dataframe tbody tr th:only-of-type {\n",
       "        vertical-align: middle;\n",
       "    }\n",
       "\n",
       "    .dataframe tbody tr th {\n",
       "        vertical-align: top;\n",
       "    }\n",
       "\n",
       "    .dataframe thead th {\n",
       "        text-align: right;\n",
       "    }\n",
       "</style>\n",
       "<table border=\"1\" class=\"dataframe\">\n",
       "  <thead>\n",
       "    <tr style=\"text-align: right;\">\n",
       "      <th></th>\n",
       "      <th>fixed acidity</th>\n",
       "      <th>volatile acidity</th>\n",
       "      <th>citric acid</th>\n",
       "      <th>residual sugar</th>\n",
       "      <th>chlorides</th>\n",
       "      <th>free sulfur dioxide</th>\n",
       "      <th>total sulfur dioxide</th>\n",
       "      <th>density</th>\n",
       "      <th>pH</th>\n",
       "      <th>sulphates</th>\n",
       "      <th>alcohol</th>\n",
       "      <th>quality</th>\n",
       "    </tr>\n",
       "  </thead>\n",
       "  <tbody>\n",
       "    <tr>\n",
       "      <th>0</th>\n",
       "      <td>7.4</td>\n",
       "      <td>0.70</td>\n",
       "      <td>0.00</td>\n",
       "      <td>1.9</td>\n",
       "      <td>0.076</td>\n",
       "      <td>11.0</td>\n",
       "      <td>34.0</td>\n",
       "      <td>0.9978</td>\n",
       "      <td>3.51</td>\n",
       "      <td>0.56</td>\n",
       "      <td>9.4</td>\n",
       "      <td>5</td>\n",
       "    </tr>\n",
       "    <tr>\n",
       "      <th>1</th>\n",
       "      <td>7.8</td>\n",
       "      <td>0.88</td>\n",
       "      <td>0.00</td>\n",
       "      <td>2.6</td>\n",
       "      <td>0.098</td>\n",
       "      <td>25.0</td>\n",
       "      <td>67.0</td>\n",
       "      <td>0.9968</td>\n",
       "      <td>3.20</td>\n",
       "      <td>0.68</td>\n",
       "      <td>9.8</td>\n",
       "      <td>5</td>\n",
       "    </tr>\n",
       "    <tr>\n",
       "      <th>2</th>\n",
       "      <td>7.8</td>\n",
       "      <td>0.76</td>\n",
       "      <td>0.04</td>\n",
       "      <td>2.3</td>\n",
       "      <td>0.092</td>\n",
       "      <td>15.0</td>\n",
       "      <td>54.0</td>\n",
       "      <td>0.9970</td>\n",
       "      <td>3.26</td>\n",
       "      <td>0.65</td>\n",
       "      <td>9.8</td>\n",
       "      <td>5</td>\n",
       "    </tr>\n",
       "    <tr>\n",
       "      <th>3</th>\n",
       "      <td>11.2</td>\n",
       "      <td>0.28</td>\n",
       "      <td>0.56</td>\n",
       "      <td>1.9</td>\n",
       "      <td>0.075</td>\n",
       "      <td>17.0</td>\n",
       "      <td>60.0</td>\n",
       "      <td>0.9980</td>\n",
       "      <td>3.16</td>\n",
       "      <td>0.58</td>\n",
       "      <td>9.8</td>\n",
       "      <td>6</td>\n",
       "    </tr>\n",
       "    <tr>\n",
       "      <th>4</th>\n",
       "      <td>7.4</td>\n",
       "      <td>0.70</td>\n",
       "      <td>0.00</td>\n",
       "      <td>1.9</td>\n",
       "      <td>0.076</td>\n",
       "      <td>11.0</td>\n",
       "      <td>34.0</td>\n",
       "      <td>0.9978</td>\n",
       "      <td>3.51</td>\n",
       "      <td>0.56</td>\n",
       "      <td>9.4</td>\n",
       "      <td>5</td>\n",
       "    </tr>\n",
       "  </tbody>\n",
       "</table>\n",
       "</div>"
      ],
      "text/plain": [
       "   fixed acidity  volatile acidity  citric acid  residual sugar  chlorides  \\\n",
       "0            7.4              0.70         0.00             1.9      0.076   \n",
       "1            7.8              0.88         0.00             2.6      0.098   \n",
       "2            7.8              0.76         0.04             2.3      0.092   \n",
       "3           11.2              0.28         0.56             1.9      0.075   \n",
       "4            7.4              0.70         0.00             1.9      0.076   \n",
       "\n",
       "   free sulfur dioxide  total sulfur dioxide  density    pH  sulphates  \\\n",
       "0                 11.0                  34.0   0.9978  3.51       0.56   \n",
       "1                 25.0                  67.0   0.9968  3.20       0.68   \n",
       "2                 15.0                  54.0   0.9970  3.26       0.65   \n",
       "3                 17.0                  60.0   0.9980  3.16       0.58   \n",
       "4                 11.0                  34.0   0.9978  3.51       0.56   \n",
       "\n",
       "   alcohol  quality  \n",
       "0      9.4        5  \n",
       "1      9.8        5  \n",
       "2      9.8        5  \n",
       "3      9.8        6  \n",
       "4      9.4        5  "
      ]
     },
     "execution_count": 98,
     "metadata": {},
     "output_type": "execute_result"
    }
   ],
   "source": [
    "wine_df = pd.read_csv(filepath_or_buffer=\"./data/winequality-red.csv\", delimiter=\";\")\n",
    "wine_df.head()"
   ]
  },
  {
   "cell_type": "code",
   "execution_count": 99,
   "id": "7c1eaa05",
   "metadata": {},
   "outputs": [
    {
     "name": "stdout",
     "output_type": "stream",
     "text": [
      "<class 'pandas.core.frame.DataFrame'>\n",
      "RangeIndex: 1599 entries, 0 to 1598\n",
      "Data columns (total 12 columns):\n",
      " #   Column                Non-Null Count  Dtype  \n",
      "---  ------                --------------  -----  \n",
      " 0   fixed acidity         1599 non-null   float64\n",
      " 1   volatile acidity      1599 non-null   float64\n",
      " 2   citric acid           1599 non-null   float64\n",
      " 3   residual sugar        1599 non-null   float64\n",
      " 4   chlorides             1599 non-null   float64\n",
      " 5   free sulfur dioxide   1599 non-null   float64\n",
      " 6   total sulfur dioxide  1599 non-null   float64\n",
      " 7   density               1599 non-null   float64\n",
      " 8   pH                    1599 non-null   float64\n",
      " 9   sulphates             1599 non-null   float64\n",
      " 10  alcohol               1599 non-null   float64\n",
      " 11  quality               1599 non-null   int64  \n",
      "dtypes: float64(11), int64(1)\n",
      "memory usage: 150.0 KB\n"
     ]
    }
   ],
   "source": [
    "# Let's get some more info on the dataset\n",
    "wine_df.info()"
   ]
  },
  {
   "cell_type": "markdown",
   "id": "28ea57fd",
   "metadata": {},
   "source": [
    "So all the columns are numerical columns and none of them have a null data entry. Let's verify that as well."
   ]
  },
  {
   "cell_type": "code",
   "execution_count": 100,
   "id": "b4ef25c9",
   "metadata": {},
   "outputs": [
    {
     "data": {
      "text/plain": [
       "fixed acidity           0\n",
       "volatile acidity        0\n",
       "citric acid             0\n",
       "residual sugar          0\n",
       "chlorides               0\n",
       "free sulfur dioxide     0\n",
       "total sulfur dioxide    0\n",
       "density                 0\n",
       "pH                      0\n",
       "sulphates               0\n",
       "alcohol                 0\n",
       "quality                 0\n",
       "dtype: int64"
      ]
     },
     "execution_count": 100,
     "metadata": {},
     "output_type": "execute_result"
    }
   ],
   "source": [
    "wine_df.isna().sum()"
   ]
  },
  {
   "cell_type": "code",
   "execution_count": 101,
   "id": "e99ce4eb",
   "metadata": {},
   "outputs": [
    {
     "data": {
      "text/plain": [
       "240"
      ]
     },
     "execution_count": 101,
     "metadata": {},
     "output_type": "execute_result"
    }
   ],
   "source": [
    "# Let's verify if it has any duplicate rows in the dataset\n",
    "wine_df.duplicated().sum()"
   ]
  },
  {
   "cell_type": "markdown",
   "id": "db2cbdc7",
   "metadata": {},
   "source": [
    "#### So, there are 240 duplicates, which need to removed."
   ]
  },
  {
   "cell_type": "code",
   "execution_count": 102,
   "id": "487dccea",
   "metadata": {},
   "outputs": [
    {
     "data": {
      "text/plain": [
       "(1599, 12)"
      ]
     },
     "execution_count": 102,
     "metadata": {},
     "output_type": "execute_result"
    }
   ],
   "source": [
    "# Before duplication\n",
    "wine_df.shape"
   ]
  },
  {
   "cell_type": "code",
   "execution_count": 103,
   "id": "5ffd68fc",
   "metadata": {},
   "outputs": [
    {
     "data": {
      "text/plain": [
       "(1359, 12)"
      ]
     },
     "execution_count": 103,
     "metadata": {},
     "output_type": "execute_result"
    }
   ],
   "source": [
    "wine_df.drop_duplicates(keep=\"first\", inplace=True)\n",
    "# Size of the dataset after dropping the duplicates\n",
    "wine_df.shape"
   ]
  },
  {
   "cell_type": "code",
   "execution_count": 105,
   "id": "2c762e97",
   "metadata": {},
   "outputs": [],
   "source": [
    "# Let's create a util function to display the histogram and scatterplot for each of these features.\n",
    "import scipy.stats as stat\n",
    "def qqplot(df, feat):\n",
    "    plt.figure(figsize=(10,6))\n",
    "    plt.subplot(1,2,1)\n",
    "    sns.histplot(data=df[feat], kde=True)\n",
    "    plt.title(f\"Histogram Plot of the feature {feat}\")\n",
    "    plt.subplot(1,2,2)\n",
    "    stat.probplot(df[feat], dist=\"norm\", plot=plt)\n",
    "    plt.title(f\"Q-Q Plot of the feature {feat}\")\n",
    "    plt.show()"
   ]
  },
  {
   "cell_type": "code",
   "execution_count": 108,
   "id": "7d97436d",
   "metadata": {},
   "outputs": [
    {
     "data": {
      "image/png": "[encoded data removed]",
      "text/plain": [
       "<Figure size 720x432 with 2 Axes>"
      ]
     },
     "metadata": {
      "needs_background": "light"
     },
     "output_type": "display_data"
    },
    {
     "data": {
      "image/png": "[encoded data removed]",
      "text/plain": [
       "<Figure size 720x432 with 2 Axes>"
      ]
     },
     "metadata": {
      "needs_background": "light"
     },
     "output_type": "display_data"
    },
    {
     "data": {
      "image/png": "[encoded data removed]",
      "text/plain": [
       "<Figure size 720x432 with 2 Axes>"
      ]
     },
     "metadata": {
      "needs_background": "light"
     },
     "output_type": "display_data"
    },
    {
     "data": {
      "image/png": "[encoded data removed]",
      "text/plain": [
       "<Figure size 720x432 with 2 Axes>"
      ]
     },
     "metadata": {
      "needs_background": "light"
     },
     "output_type": "display_data"
    },
    {
     "data": {
      "image/png": "[encoded data removed]",
      "text/plain": [
       "<Figure size 720x432 with 2 Axes>"
      ]
     },
     "metadata": {
      "needs_background": "light"
     },
     "output_type": "display_data"
    },
    {
     "data": {
      "image/png": "[encoded data removed]",
      "text/plain": [
       "<Figure size 720x432 with 2 Axes>"
      ]
     },
     "metadata": {
      "needs_background": "light"
     },
     "output_type": "display_data"
    },
    {
     "data": {
      "image/png": "[encoded data removed]",
      "text/plain": [
       "<Figure size 720x432 with 2 Axes>"
      ]
     },
     "metadata": {
      "needs_background": "light"
     },
     "output_type": "display_data"
    },
    {
     "data": {
      "image/png": "[encoded data removed]",
      "text/plain": [
       "<Figure size 720x432 with 2 Axes>"
      ]
     },
     "metadata": {
      "needs_background": "light"
     },
     "output_type": "display_data"
    },
    {
     "data": {
      "image/png": "[encoded data removed]",
      "text/plain": [
       "<Figure size 720x432 with 2 Axes>"
      ]
     },
     "metadata": {
      "needs_background": "light"
     },
     "output_type": "display_data"
    },
    {
     "data": {
      "image/png": "[encoded data removed]",
      "text/plain": [
       "<Figure size 720x432 with 2 Axes>"
      ]
     },
     "metadata": {
      "needs_background": "light"
     },
     "output_type": "display_data"
    },
    {
     "data": {
      "image/png": "[encoded data removed]",
      "text/plain": [
       "<Figure size 720x432 with 2 Axes>"
      ]
     },
     "metadata": {
      "needs_background": "light"
     },
     "output_type": "display_data"
    },
    {
     "data": {
      "image/png": "[encoded data removed]",
      "text/plain": [
       "<Figure size 720x432 with 2 Axes>"
      ]
     },
     "metadata": {
      "needs_background": "light"
     },
     "output_type": "display_data"
    }
   ],
   "source": [
    "# Let's use the util function to create the plots for all the features in the wine dataset.\n",
    "for col in wine_df.columns:\n",
    "    qqplot(wine_df, col)"
   ]
  },
  {
   "cell_type": "code",
   "execution_count": 109,
   "id": "956de924",
   "metadata": {},
   "outputs": [
    {
     "data": {
      "text/plain": [
       "fixed acidity           0.941041\n",
       "volatile acidity        0.729279\n",
       "citric acid             0.312726\n",
       "residual sugar          4.548153\n",
       "chlorides               5.502487\n",
       "free sulfur dioxide     1.226579\n",
       "total sulfur dioxide    1.540368\n",
       "density                 0.044778\n",
       "pH                      0.232032\n",
       "sulphates               2.406505\n",
       "alcohol                 0.859841\n",
       "quality                 0.192407\n",
       "dtype: float64"
      ]
     },
     "execution_count": 109,
     "metadata": {},
     "output_type": "execute_result"
    }
   ],
   "source": [
    "wine_df.skew()"
   ]
  },
  {
   "cell_type": "markdown",
   "id": "15157f24",
   "metadata": {},
   "source": [
    "#### <u>Observations</u>\n",
    "\n",
    "All the feaatures are Right Skewed in nature(Positive Skewed) except - **density, pH and quality** which are somewhat **Normally Distributed**\n",
    "\n",
    "#### To improve the normality of the dataset for the rest of the columns, we can perform the below mentioned activities:\n",
    "\n",
    "1. **Log Transformation** - This could be applied to the \"residual sugar\" feature to reduce the skewness.\n",
    "\n",
    "2. **Square Root Transformation** - This could be applied to the \"density\" feature to reduce the skewness.\n",
    "\n",
    "3. **Box Cox Transformation** - This is a more general transformation that can be used to transform a variety of non-normal distributions to normality. It involves finding the optimal lambda value that maximizes the log-likelihood of the data under a Box-Cox transformation. The Scipy library in Python provides a function for calculating the Box-Cox transformation.\n",
    "\n",
    "#### It's important to note that not all non-normal distributions need to be transformed. In some cases, non-normality may not significantly impact the performance of a machine learning model, and therefore it may not be necessary to transform the data."
   ]
  },
  {
   "cell_type": "markdown",
   "id": "0b7de53e",
   "metadata": {},
   "source": [
    "##  Q6. Using the wine quality data set, perform principal component analysis (PCA) to reduce the number of features. What is the minimum number of principal components required to explain 90% of the variance in the data?"
   ]
  },
  {
   "cell_type": "code",
   "execution_count": 156,
   "id": "b92b26a0",
   "metadata": {},
   "outputs": [
    {
     "data": {
      "text/html": [
       "<div>\n",
       "<style scoped>\n",
       "    .dataframe tbody tr th:only-of-type {\n",
       "        vertical-align: middle;\n",
       "    }\n",
       "\n",
       "    .dataframe tbody tr th {\n",
       "        vertical-align: top;\n",
       "    }\n",
       "\n",
       "    .dataframe thead th {\n",
       "        text-align: right;\n",
       "    }\n",
       "</style>\n",
       "<table border=\"1\" class=\"dataframe\">\n",
       "  <thead>\n",
       "    <tr style=\"text-align: right;\">\n",
       "      <th></th>\n",
       "      <th>fixed acidity</th>\n",
       "      <th>volatile acidity</th>\n",
       "      <th>citric acid</th>\n",
       "      <th>residual sugar</th>\n",
       "      <th>chlorides</th>\n",
       "      <th>free sulfur dioxide</th>\n",
       "      <th>total sulfur dioxide</th>\n",
       "      <th>density</th>\n",
       "      <th>pH</th>\n",
       "      <th>sulphates</th>\n",
       "      <th>alcohol</th>\n",
       "      <th>quality</th>\n",
       "    </tr>\n",
       "  </thead>\n",
       "  <tbody>\n",
       "    <tr>\n",
       "      <th>0</th>\n",
       "      <td>7.4</td>\n",
       "      <td>0.70</td>\n",
       "      <td>0.00</td>\n",
       "      <td>1.9</td>\n",
       "      <td>0.076</td>\n",
       "      <td>11.0</td>\n",
       "      <td>34.0</td>\n",
       "      <td>0.9978</td>\n",
       "      <td>3.51</td>\n",
       "      <td>0.56</td>\n",
       "      <td>9.4</td>\n",
       "      <td>5</td>\n",
       "    </tr>\n",
       "    <tr>\n",
       "      <th>1</th>\n",
       "      <td>7.8</td>\n",
       "      <td>0.88</td>\n",
       "      <td>0.00</td>\n",
       "      <td>2.6</td>\n",
       "      <td>0.098</td>\n",
       "      <td>25.0</td>\n",
       "      <td>67.0</td>\n",
       "      <td>0.9968</td>\n",
       "      <td>3.20</td>\n",
       "      <td>0.68</td>\n",
       "      <td>9.8</td>\n",
       "      <td>5</td>\n",
       "    </tr>\n",
       "    <tr>\n",
       "      <th>2</th>\n",
       "      <td>7.8</td>\n",
       "      <td>0.76</td>\n",
       "      <td>0.04</td>\n",
       "      <td>2.3</td>\n",
       "      <td>0.092</td>\n",
       "      <td>15.0</td>\n",
       "      <td>54.0</td>\n",
       "      <td>0.9970</td>\n",
       "      <td>3.26</td>\n",
       "      <td>0.65</td>\n",
       "      <td>9.8</td>\n",
       "      <td>5</td>\n",
       "    </tr>\n",
       "    <tr>\n",
       "      <th>3</th>\n",
       "      <td>11.2</td>\n",
       "      <td>0.28</td>\n",
       "      <td>0.56</td>\n",
       "      <td>1.9</td>\n",
       "      <td>0.075</td>\n",
       "      <td>17.0</td>\n",
       "      <td>60.0</td>\n",
       "      <td>0.9980</td>\n",
       "      <td>3.16</td>\n",
       "      <td>0.58</td>\n",
       "      <td>9.8</td>\n",
       "      <td>6</td>\n",
       "    </tr>\n",
       "    <tr>\n",
       "      <th>4</th>\n",
       "      <td>7.4</td>\n",
       "      <td>0.70</td>\n",
       "      <td>0.00</td>\n",
       "      <td>1.9</td>\n",
       "      <td>0.076</td>\n",
       "      <td>11.0</td>\n",
       "      <td>34.0</td>\n",
       "      <td>0.9978</td>\n",
       "      <td>3.51</td>\n",
       "      <td>0.56</td>\n",
       "      <td>9.4</td>\n",
       "      <td>5</td>\n",
       "    </tr>\n",
       "  </tbody>\n",
       "</table>\n",
       "</div>"
      ],
      "text/plain": [
       "   fixed acidity  volatile acidity  citric acid  residual sugar  chlorides  \\\n",
       "0            7.4              0.70         0.00             1.9      0.076   \n",
       "1            7.8              0.88         0.00             2.6      0.098   \n",
       "2            7.8              0.76         0.04             2.3      0.092   \n",
       "3           11.2              0.28         0.56             1.9      0.075   \n",
       "4            7.4              0.70         0.00             1.9      0.076   \n",
       "\n",
       "   free sulfur dioxide  total sulfur dioxide  density    pH  sulphates  \\\n",
       "0                 11.0                  34.0   0.9978  3.51       0.56   \n",
       "1                 25.0                  67.0   0.9968  3.20       0.68   \n",
       "2                 15.0                  54.0   0.9970  3.26       0.65   \n",
       "3                 17.0                  60.0   0.9980  3.16       0.58   \n",
       "4                 11.0                  34.0   0.9978  3.51       0.56   \n",
       "\n",
       "   alcohol  quality  \n",
       "0      9.4        5  \n",
       "1      9.8        5  \n",
       "2      9.8        5  \n",
       "3      9.8        6  \n",
       "4      9.4        5  "
      ]
     },
     "execution_count": 156,
     "metadata": {},
     "output_type": "execute_result"
    }
   ],
   "source": [
    "# Let's load the wine dataset\n",
    "wine_df = pd.read_csv(filepath_or_buffer=\"./data/winequality-red.csv\", delimiter=\";\")\n",
    "wine_df.head()"
   ]
  },
  {
   "cell_type": "code",
   "execution_count": 157,
   "id": "1d5aa954",
   "metadata": {},
   "outputs": [
    {
     "data": {
      "text/plain": [
       "(1359, 12)"
      ]
     },
     "execution_count": 157,
     "metadata": {},
     "output_type": "execute_result"
    }
   ],
   "source": [
    "# Let's drop the duplicates\n",
    "wine_df.drop_duplicates(inplace=True, keep=\"first\")\n",
    "wine_df.shape"
   ]
  },
  {
   "cell_type": "code",
   "execution_count": 158,
   "id": "91efbbb0",
   "metadata": {},
   "outputs": [],
   "source": [
    "# Sseparating the features and target variables\n",
    "X = wine_df.drop(labels=[\"quality\"], axis=1)\n",
    "Y = wine_df[[\"quality\"]]"
   ]
  },
  {
   "cell_type": "code",
   "execution_count": 159,
   "id": "767af3be",
   "metadata": {},
   "outputs": [
    {
     "data": {
      "text/html": [
       "<div>\n",
       "<style scoped>\n",
       "    .dataframe tbody tr th:only-of-type {\n",
       "        vertical-align: middle;\n",
       "    }\n",
       "\n",
       "    .dataframe tbody tr th {\n",
       "        vertical-align: top;\n",
       "    }\n",
       "\n",
       "    .dataframe thead th {\n",
       "        text-align: right;\n",
       "    }\n",
       "</style>\n",
       "<table border=\"1\" class=\"dataframe\">\n",
       "  <thead>\n",
       "    <tr style=\"text-align: right;\">\n",
       "      <th></th>\n",
       "      <th>fixed acidity</th>\n",
       "      <th>volatile acidity</th>\n",
       "      <th>citric acid</th>\n",
       "      <th>residual sugar</th>\n",
       "      <th>chlorides</th>\n",
       "      <th>free sulfur dioxide</th>\n",
       "      <th>total sulfur dioxide</th>\n",
       "      <th>density</th>\n",
       "      <th>pH</th>\n",
       "      <th>sulphates</th>\n",
       "      <th>alcohol</th>\n",
       "      <th>quality</th>\n",
       "    </tr>\n",
       "  </thead>\n",
       "  <tbody>\n",
       "    <tr>\n",
       "      <th>0</th>\n",
       "      <td>-0.524431</td>\n",
       "      <td>0.932000</td>\n",
       "      <td>-1.393258</td>\n",
       "      <td>-0.461157</td>\n",
       "      <td>-0.245623</td>\n",
       "      <td>-0.468554</td>\n",
       "      <td>-0.384050</td>\n",
       "      <td>0.584003</td>\n",
       "      <td>1.291872</td>\n",
       "      <td>-0.578561</td>\n",
       "      <td>-0.954374</td>\n",
       "      <td>-0.757040</td>\n",
       "    </tr>\n",
       "    <tr>\n",
       "      <th>1</th>\n",
       "      <td>-0.294063</td>\n",
       "      <td>1.915800</td>\n",
       "      <td>-1.393258</td>\n",
       "      <td>0.056665</td>\n",
       "      <td>0.200094</td>\n",
       "      <td>0.872003</td>\n",
       "      <td>0.604073</td>\n",
       "      <td>0.048737</td>\n",
       "      <td>-0.708395</td>\n",
       "      <td>0.124822</td>\n",
       "      <td>-0.584575</td>\n",
       "      <td>-0.757040</td>\n",
       "    </tr>\n",
       "    <tr>\n",
       "      <th>2</th>\n",
       "      <td>-0.294063</td>\n",
       "      <td>1.259934</td>\n",
       "      <td>-1.188617</td>\n",
       "      <td>-0.165259</td>\n",
       "      <td>0.078535</td>\n",
       "      <td>-0.085537</td>\n",
       "      <td>0.214813</td>\n",
       "      <td>0.155790</td>\n",
       "      <td>-0.321247</td>\n",
       "      <td>-0.051024</td>\n",
       "      <td>-0.584575</td>\n",
       "      <td>-0.757040</td>\n",
       "    </tr>\n",
       "    <tr>\n",
       "      <th>3</th>\n",
       "      <td>1.664067</td>\n",
       "      <td>-1.363534</td>\n",
       "      <td>1.471711</td>\n",
       "      <td>-0.461157</td>\n",
       "      <td>-0.265883</td>\n",
       "      <td>0.105971</td>\n",
       "      <td>0.394471</td>\n",
       "      <td>0.691057</td>\n",
       "      <td>-0.966495</td>\n",
       "      <td>-0.461331</td>\n",
       "      <td>-0.584575</td>\n",
       "      <td>0.457621</td>\n",
       "    </tr>\n",
       "    <tr>\n",
       "      <th>4</th>\n",
       "      <td>-0.524431</td>\n",
       "      <td>0.713378</td>\n",
       "      <td>-1.393258</td>\n",
       "      <td>-0.535132</td>\n",
       "      <td>-0.265883</td>\n",
       "      <td>-0.277045</td>\n",
       "      <td>-0.204391</td>\n",
       "      <td>0.584003</td>\n",
       "      <td>1.291872</td>\n",
       "      <td>-0.578561</td>\n",
       "      <td>-0.954374</td>\n",
       "      <td>-0.757040</td>\n",
       "    </tr>\n",
       "  </tbody>\n",
       "</table>\n",
       "</div>"
      ],
      "text/plain": [
       "   fixed acidity  volatile acidity  citric acid  residual sugar  chlorides  \\\n",
       "0      -0.524431          0.932000    -1.393258       -0.461157  -0.245623   \n",
       "1      -0.294063          1.915800    -1.393258        0.056665   0.200094   \n",
       "2      -0.294063          1.259934    -1.188617       -0.165259   0.078535   \n",
       "3       1.664067         -1.363534     1.471711       -0.461157  -0.265883   \n",
       "4      -0.524431          0.713378    -1.393258       -0.535132  -0.265883   \n",
       "\n",
       "   free sulfur dioxide  total sulfur dioxide   density        pH  sulphates  \\\n",
       "0            -0.468554             -0.384050  0.584003  1.291872  -0.578561   \n",
       "1             0.872003              0.604073  0.048737 -0.708395   0.124822   \n",
       "2            -0.085537              0.214813  0.155790 -0.321247  -0.051024   \n",
       "3             0.105971              0.394471  0.691057 -0.966495  -0.461331   \n",
       "4            -0.277045             -0.204391  0.584003  1.291872  -0.578561   \n",
       "\n",
       "    alcohol   quality  \n",
       "0 -0.954374 -0.757040  \n",
       "1 -0.584575 -0.757040  \n",
       "2 -0.584575 -0.757040  \n",
       "3 -0.584575  0.457621  \n",
       "4 -0.954374 -0.757040  "
      ]
     },
     "execution_count": 159,
     "metadata": {},
     "output_type": "execute_result"
    }
   ],
   "source": [
    "# Let's perform scaling\n",
    "from sklearn.preprocessing import StandardScaler\n",
    "\n",
    "scaler = StandardScaler()\n",
    "scaler.fit(wine_df)\n",
    "wine_df = pd.DataFrame(scaler.transform(wine_df), columns=wine_df.columns)\n",
    "wine_df.head()"
   ]
  },
  {
   "cell_type": "code",
   "execution_count": 160,
   "id": "187934b0",
   "metadata": {},
   "outputs": [
    {
     "name": "stdout",
     "output_type": "stream",
     "text": [
      "Explained variance ratio of the 9 columns are: [0.26100983 0.1867395  0.13946427 0.10435684 0.08068005 0.0538768\n",
      " 0.05147181 0.04149976]\n"
     ]
    }
   ],
   "source": [
    "from sklearn.decomposition import PCA\n",
    "\n",
    "# Let's define to keep the features which cover 90% of the variance of the dataset\n",
    "var = 0.9\n",
    "pca = PCA(var)\n",
    "pca.fit(wine_df)\n",
    "explained_variance = pca.explained_variance_ratio_\n",
    "print(f\"Explained variance ratio of the 9 columns are: {explained_variance}\")"
   ]
  },
  {
   "cell_type": "code",
   "execution_count": 161,
   "id": "5fd969bd",
   "metadata": {},
   "outputs": [
    {
     "name": "stdout",
     "output_type": "stream",
     "text": [
      "Total Explained variance by all these 9 columns is: 0.9190988707937573\n"
     ]
    }
   ],
   "source": [
    "total_explained_variance = explained_variance.sum()\n",
    "print(f\"Total Explained variance by all these 9 columns is: {total_explained_variance}\")"
   ]
  },
  {
   "cell_type": "code",
   "execution_count": 162,
   "id": "37b17dd7",
   "metadata": {},
   "outputs": [
    {
     "data": {
      "text/html": [
       "<div>\n",
       "<style scoped>\n",
       "    .dataframe tbody tr th:only-of-type {\n",
       "        vertical-align: middle;\n",
       "    }\n",
       "\n",
       "    .dataframe tbody tr th {\n",
       "        vertical-align: top;\n",
       "    }\n",
       "\n",
       "    .dataframe thead th {\n",
       "        text-align: right;\n",
       "    }\n",
       "</style>\n",
       "<table border=\"1\" class=\"dataframe\">\n",
       "  <thead>\n",
       "    <tr style=\"text-align: right;\">\n",
       "      <th></th>\n",
       "      <th>0</th>\n",
       "      <th>1</th>\n",
       "      <th>2</th>\n",
       "      <th>3</th>\n",
       "      <th>4</th>\n",
       "      <th>5</th>\n",
       "      <th>6</th>\n",
       "      <th>7</th>\n",
       "    </tr>\n",
       "  </thead>\n",
       "  <tbody>\n",
       "    <tr>\n",
       "      <th>0</th>\n",
       "      <td>-1.766603</td>\n",
       "      <td>1.186903</td>\n",
       "      <td>-1.351484</td>\n",
       "      <td>-0.053316</td>\n",
       "      <td>0.139228</td>\n",
       "      <td>-1.000359</td>\n",
       "      <td>0.142542</td>\n",
       "      <td>0.035446</td>\n",
       "    </tr>\n",
       "    <tr>\n",
       "      <th>1</th>\n",
       "      <td>-0.949340</td>\n",
       "      <td>2.046605</td>\n",
       "      <td>0.059588</td>\n",
       "      <td>0.432896</td>\n",
       "      <td>0.254933</td>\n",
       "      <td>0.253027</td>\n",
       "      <td>-1.436909</td>\n",
       "      <td>-0.292970</td>\n",
       "    </tr>\n",
       "    <tr>\n",
       "      <th>2</th>\n",
       "      <td>-0.884805</td>\n",
       "      <td>1.391584</td>\n",
       "      <td>-0.663754</td>\n",
       "      <td>0.311548</td>\n",
       "      <td>0.123005</td>\n",
       "      <td>0.053433</td>\n",
       "      <td>-0.720138</td>\n",
       "      <td>-0.176824</td>\n",
       "    </tr>\n",
       "    <tr>\n",
       "      <th>3</th>\n",
       "      <td>2.405609</td>\n",
       "      <td>-0.205338</td>\n",
       "      <td>0.064907</td>\n",
       "      <td>-0.869784</td>\n",
       "      <td>-1.524963</td>\n",
       "      <td>-0.037512</td>\n",
       "      <td>0.214821</td>\n",
       "      <td>-0.149329</td>\n",
       "    </tr>\n",
       "    <tr>\n",
       "      <th>4</th>\n",
       "      <td>-1.725338</td>\n",
       "      <td>1.211033</td>\n",
       "      <td>-1.100199</td>\n",
       "      <td>-0.050252</td>\n",
       "      <td>-0.050171</td>\n",
       "      <td>-1.042927</td>\n",
       "      <td>0.221928</td>\n",
       "      <td>0.045055</td>\n",
       "    </tr>\n",
       "  </tbody>\n",
       "</table>\n",
       "</div>"
      ],
      "text/plain": [
       "          0         1         2         3         4         5         6  \\\n",
       "0 -1.766603  1.186903 -1.351484 -0.053316  0.139228 -1.000359  0.142542   \n",
       "1 -0.949340  2.046605  0.059588  0.432896  0.254933  0.253027 -1.436909   \n",
       "2 -0.884805  1.391584 -0.663754  0.311548  0.123005  0.053433 -0.720138   \n",
       "3  2.405609 -0.205338  0.064907 -0.869784 -1.524963 -0.037512  0.214821   \n",
       "4 -1.725338  1.211033 -1.100199 -0.050252 -0.050171 -1.042927  0.221928   \n",
       "\n",
       "          7  \n",
       "0  0.035446  \n",
       "1 -0.292970  \n",
       "2 -0.176824  \n",
       "3 -0.149329  \n",
       "4  0.045055  "
      ]
     },
     "execution_count": 162,
     "metadata": {},
     "output_type": "execute_result"
    }
   ],
   "source": [
    "# Performing PCA on the features\n",
    "X = pd.DataFrame(pca.transform(wine_df))\n",
    "X.head()"
   ]
  },
  {
   "cell_type": "markdown",
   "id": "590bd16f",
   "metadata": {},
   "source": [
    "#### As observed, the minimum number of features required to show the explained variance ratio as 90% is : 8"
   ]
  }
 ],
 "metadata": {
  "kernelspec": {
   "display_name": "Python 3 (ipykernel)",
   "language": "python",
   "name": "python3"
  },
  "language_info": {
   "codemirror_mode": {
    "name": "ipython",
    "version": 3
   },
   "file_extension": ".py",
   "mimetype": "text/x-python",
   "name": "python",
   "nbconvert_exporter": "python",
   "pygments_lexer": "ipython3",
   "version": "3.9.12"
  }
 },
 "nbformat": 4,
 "nbformat_minor": 5
}
