{
 "cells": [
  {
   "cell_type": "markdown",
   "id": "72c84b44-7694-4b77-990b-cb8d5ae84470",
   "metadata": {},
   "source": [
    "## Q1. Create a vehicle class with an init method having instance variables as name_of_vehicle, max_speed and average_of_vehicle."
   ]
  },
  {
   "cell_type": "code",
   "execution_count": 18,
   "id": "a383a8c2-3bf5-4897-80c4-b48a21fa4f62",
   "metadata": {},
   "outputs": [],
   "source": [
    "class Vehicle:\n",
    "    def __init__(self, name_of_vehicle, max_speed, average_of_vehicle):\n",
    "        self.name_of_vehicle = name_of_vehicle\n",
    "        self.max_speed = max_speed\n",
    "        self.average_of_vehicle = average_of_vehicle"
   ]
  },
  {
   "cell_type": "code",
   "execution_count": 24,
   "id": "61a54426-4283-4a76-a4f3-062a1333ea21",
   "metadata": {},
   "outputs": [
    {
     "name": "stdout",
     "output_type": "stream",
     "text": [
      "The name of vehicle is Toyota, and it's max speed is 50 and avergae speed is 45\n"
     ]
    }
   ],
   "source": [
    "veh = Vehicle(\"Toyota\", 50, 45)\n",
    "print(\"The name of vehicle is {v}, and it's max speed is {ms} and avergae speed is {avs}\"\\\n",
    "      .format(v= veh.name_of_vehicle, ms = veh.max_speed, avs = veh.average_of_vehicle))"
   ]
  },
  {
   "cell_type": "markdown",
   "id": "2e749973-2252-45f0-b509-78eaed7a7791",
   "metadata": {},
   "source": [
    "## Q2. Create a child class car from the vehicle class created in Que 1, which will inherit the vehicle class. Create a method named seating_capacity which takes capacity as an argument and returns the name of the vehicle and its seating capacity."
   ]
  },
  {
   "cell_type": "code",
   "execution_count": 25,
   "id": "96735b44-ee1d-44db-a539-e242c7a4e3f8",
   "metadata": {},
   "outputs": [],
   "source": [
    "class Car(Vehicle):\n",
    "    def seating_capacity(self, capacity):\n",
    "        self.capacity = capacity\n",
    "        return self.name_of_vehicle, self.capacity"
   ]
  },
  {
   "cell_type": "code",
   "execution_count": 26,
   "id": "90396cc1-7618-46c5-9216-81907970188f",
   "metadata": {},
   "outputs": [
    {
     "data": {
      "text/plain": [
       "('Morri Garage', 5)"
      ]
     },
     "execution_count": 26,
     "metadata": {},
     "output_type": "execute_result"
    }
   ],
   "source": [
    "car = Car(\"Morri Garage\", 180, 60)\n",
    "car.seating_capacity(5)"
   ]
  },
  {
   "cell_type": "markdown",
   "id": "b5b37a9c-8230-443b-bbd5-a399abf865bf",
   "metadata": {},
   "source": [
    "## Q3. What is multiple inheritance? Write a python code to demonstrate multiple inheritance."
   ]
  },
  {
   "cell_type": "markdown",
   "id": "6da986b3-c937-4581-a603-7b95c4dc5d22",
   "metadata": {},
   "source": [
    "Multiple inheritance is when a class inherits its properties and methods from multiple classes."
   ]
  },
  {
   "cell_type": "code",
   "execution_count": 28,
   "id": "5ac600b6-6cd7-4268-bb11-a7b8272f32b6",
   "metadata": {},
   "outputs": [
    {
     "name": "stdout",
     "output_type": "stream",
     "text": [
      "I am Parent1\n",
      "I am Parent2\n",
      "I am Child\n"
     ]
    }
   ],
   "source": [
    "# Multiple Inheritance\n",
    "\n",
    "class Parent1:\n",
    "    def printParent1(self):\n",
    "        print(\"I am Parent1\")\n",
    "\n",
    "class Parent2:\n",
    "    def printParent2(self):\n",
    "        print(\"I am Parent2\")\n",
    "        \n",
    "class Child(Parent1, Parent2):\n",
    "    def printChild(self):\n",
    "        print(\"I am Child\")\n",
    "        \n",
    "obj = Child()\n",
    "obj.printParent1()\n",
    "obj.printParent2()\n",
    "obj.printChild()"
   ]
  },
  {
   "cell_type": "markdown",
   "id": "1d473299-0b27-442e-9a36-4bb42770d403",
   "metadata": {},
   "source": [
    "## Q4. What are getter and setter in python? Create a class and create a getter and a setter method in this class."
   ]
  },
  {
   "cell_type": "markdown",
   "id": "8ff9a39c-1e52-40bb-bb91-c20530e1844f",
   "metadata": {},
   "source": [
    "In Python, getters and setters are not the same as those in other object-oriented programming languages. The main purpose of using getters and setters in object-oriented programs is to ensure data encapsulation. Private variables in python are not actually hidden fields like in other object oriented languages. \n",
    "\n",
    "Getters and Setters in python are often used when:\n",
    "\n",
    "We use getters & setters to add validation logic around getting and setting a value.\n",
    "To avoid direct access of a class field i.e. private variables cannot be accessed directly or modified by external user."
   ]
  },
  {
   "cell_type": "code",
   "execution_count": 32,
   "id": "f35b964b-97b6-48e1-84cf-03387f1fbf0b",
   "metadata": {},
   "outputs": [],
   "source": [
    "class User:\n",
    "    def __init__(self, username):\n",
    "        self.username = username\n",
    "        self._pwd = \"\"\n",
    "    \n",
    "    @property\n",
    "    def pwd_access(self):\n",
    "        return self._pwd\n",
    "    \n",
    "    @pwd_access.setter\n",
    "    def set_pwd(self, pwd):\n",
    "        if (len(pwd) < 5):\n",
    "            return \"Password should be of length more than or equal to 5\"\n",
    "        self._pwd = pwd"
   ]
  },
  {
   "cell_type": "code",
   "execution_count": 33,
   "id": "5fcd79a8-6529-4079-bca5-14770f33554c",
   "metadata": {},
   "outputs": [
    {
     "name": "stdout",
     "output_type": "stream",
     "text": [
      "password\n"
     ]
    }
   ],
   "source": [
    "user = User(\"pratap_chandra\")\n",
    "user.set_pwd = \"password\"\n",
    "print(user.pwd_access)"
   ]
  },
  {
   "cell_type": "markdown",
   "id": "edd2fe01-5bac-4ac5-90bd-e2f276619855",
   "metadata": {},
   "source": [
    "## Q5.What is method overriding in python? Write a python code to demonstrate method overriding."
   ]
  },
  {
   "cell_type": "markdown",
   "id": "d2c2febe-2004-473b-80b3-a7521b6ba3e1",
   "metadata": {},
   "source": [
    "Method overriding is an ability of any object-oriented programming language that allows a subclass or child class to provide a specific implementation of a method that is already provided by one of its super-classes or parent classes.\n",
    "\n",
    "When a method in a subclass has the same name, same parameters or signature and same return type(or sub-type) as a method in its super-class, then the method in the subclass is said to override the method in the super-class."
   ]
  },
  {
   "cell_type": "code",
   "execution_count": 37,
   "id": "c0b3ba31-881f-4a04-aa3f-c072e5d1fd48",
   "metadata": {},
   "outputs": [],
   "source": [
    "class Parent:\n",
    "    def show(self):\n",
    "        print(\"I am Parent\")\n",
    "\n",
    "class Child(Parent):\n",
    "    def show(self):\n",
    "          print(\"I am Child\")\n",
    "        "
   ]
  },
  {
   "cell_type": "code",
   "execution_count": 38,
   "id": "0a66da35-d6d6-4a35-8adb-66bc925fd19e",
   "metadata": {},
   "outputs": [
    {
     "name": "stdout",
     "output_type": "stream",
     "text": [
      "I am Parent\n",
      "I am Child\n"
     ]
    }
   ],
   "source": [
    "parent = Parent()\n",
    "child = Child()\n",
    "\n",
    "parent.show()\n",
    "child.show()"
   ]
  }
 ],
 "metadata": {
  "kernelspec": {
   "display_name": "Python 3 (ipykernel)",
   "language": "python",
   "name": "python3"
  },
  "language_info": {
   "codemirror_mode": {
    "name": "ipython",
    "version": 3
   },
   "file_extension": ".py",
   "mimetype": "text/x-python",
   "name": "python",
   "nbconvert_exporter": "python",
   "pygments_lexer": "ipython3",
   "version": "3.10.8"
  }
 },
 "nbformat": 4,
 "nbformat_minor": 5
}
