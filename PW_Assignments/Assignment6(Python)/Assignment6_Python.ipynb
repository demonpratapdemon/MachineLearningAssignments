{
 "cells": [
  {
   "cell_type": "markdown",
   "id": "ace5d9ec-f020-4c4b-a1fc-ff80fc43114b",
   "metadata": {},
   "source": [
    "**Q1. Write a program to accept percentage from the user and display the grade according to the given criteria**"
   ]
  },
  {
   "cell_type": "code",
   "execution_count": 8,
   "id": "1ade2c22-50f2-414a-b429-485ffe0961bf",
   "metadata": {},
   "outputs": [
    {
     "name": "stdout",
     "output_type": "stream",
     "text": [
      "Enter the percentage:\n"
     ]
    },
    {
     "name": "stdin",
     "output_type": "stream",
     "text": [
      " 85\n"
     ]
    },
    {
     "name": "stdout",
     "output_type": "stream",
     "text": [
      "Grade is B\n"
     ]
    }
   ],
   "source": [
    "print(\"Enter the percentage:\")\n",
    "perc = int(input())\n",
    "if perc > 90:\n",
    "    print(\"Grade is A\")\n",
    "elif perc > 80:\n",
    "    print(\"Grade is B\")\n",
    "elif perc > 60:\n",
    "    print(\"Grade is C\")\n",
    "else:\n",
    "    print(\"Grade is D\")    "
   ]
  },
  {
   "cell_type": "markdown",
   "id": "c4cc268a-0c03-4504-8d0e-60299725e707",
   "metadata": {},
   "source": [
    "**Q2. Write a program to accept the cost price of a bike and display the road tax to be paid according to the details**"
   ]
  },
  {
   "cell_type": "code",
   "execution_count": 9,
   "id": "c80de109-91a0-4804-a650-969aeb6a74e8",
   "metadata": {},
   "outputs": [
    {
     "name": "stdout",
     "output_type": "stream",
     "text": [
      "Enter the cost price of the bike:\n"
     ]
    },
    {
     "name": "stdin",
     "output_type": "stream",
     "text": [
      " 120000\n"
     ]
    },
    {
     "name": "stdout",
     "output_type": "stream",
     "text": [
      "Tax is 15%\n"
     ]
    }
   ],
   "source": [
    "print(\"Enter the cost price of the bike:\")\n",
    "price = int(input())\n",
    "if price > 100000:\n",
    "    print(\"Tax is 15%\")\n",
    "elif price > 50000:\n",
    "    print(\"Tax is 10%\")\n",
    "else:\n",
    "    print(\"Tax is 5%\")"
   ]
  },
  {
   "cell_type": "markdown",
   "id": "e923363a-00ca-408e-b047-dc5daaafc239",
   "metadata": {},
   "source": [
    "**Q3. Accept any city from the user and display the monuments of that city**"
   ]
  },
  {
   "cell_type": "code",
   "execution_count": 13,
   "id": "a784a3ec-3cab-416c-87ee-67a65e316a86",
   "metadata": {},
   "outputs": [
    {
     "name": "stdout",
     "output_type": "stream",
     "text": [
      "Enter the city name:\n"
     ]
    },
    {
     "name": "stdin",
     "output_type": "stream",
     "text": [
      " Agra\n"
     ]
    },
    {
     "name": "stdout",
     "output_type": "stream",
     "text": [
      "Monument is Taj Mahal\n"
     ]
    }
   ],
   "source": [
    "print(\"Enter the city name:\")\n",
    "city = str(input())\n",
    "if city == \"Delhi\":\n",
    "    print(\"Monument is Red Fort\")\n",
    "elif city == \"Agra\":\n",
    "    print(\"Monument is Taj Mahal\")\n",
    "elif city == \"Jaipur\":\n",
    "    print(\"Monument is Jal Mahal\")\n",
    "else:\n",
    "    print(\"Enter another city name\")"
   ]
  },
  {
   "cell_type": "markdown",
   "id": "a0cc958d-9e27-476d-8abc-46b07248f2a0",
   "metadata": {},
   "source": [
    "**Q4. Check how many times a given number can be divided by 3 before it is less than or equal to 10**"
   ]
  },
  {
   "cell_type": "code",
   "execution_count": 1,
   "id": "17f54382-398d-49e3-8804-1a70b5b75b68",
   "metadata": {},
   "outputs": [
    {
     "name": "stdout",
     "output_type": "stream",
     "text": [
      "Ener a number:\n"
     ]
    },
    {
     "name": "stdin",
     "output_type": "stream",
     "text": [
      " 45\n"
     ]
    },
    {
     "name": "stdout",
     "output_type": "stream",
     "text": [
      "2\n"
     ]
    }
   ],
   "source": [
    "print(\"Ener a number:\")\n",
    "num = int(input())\n",
    "count = 0\n",
    "while num > 10:\n",
    "    num /= 3\n",
    "    count += 1\n",
    "print(count)"
   ]
  },
  {
   "cell_type": "markdown",
   "id": "2c102ec1-235c-4671-a482-0a1f5d2f483c",
   "metadata": {},
   "source": [
    "**Q5. Why and when to use while loop in Python give a detailed description with example**"
   ]
  },
  {
   "cell_type": "markdown",
   "id": "bedb0271-3da8-4d8f-af9e-b8900a73e0b5",
   "metadata": {},
   "source": [
    "\"While\" loop can be used when the variable is already initialized to the initial value and we only need to iterate till a particular condition is met."
   ]
  },
  {
   "cell_type": "code",
   "execution_count": 5,
   "id": "636fdd2d-d09e-4a7d-bb6a-e56709e1c958",
   "metadata": {},
   "outputs": [
    {
     "name": "stdout",
     "output_type": "stream",
     "text": [
      "5\n",
      "4\n",
      "3\n",
      "2\n",
      "1\n"
     ]
    }
   ],
   "source": [
    "# We want to iterate till the value is greater than 0\n",
    "val = 5\n",
    "while val > 0:\n",
    "    print(val)\n",
    "    val -= 1"
   ]
  },
  {
   "cell_type": "markdown",
   "id": "3ad6c269-b345-428b-8127-777284d8a5c1",
   "metadata": {},
   "source": [
    "**Q6. Use nested while loop to print 3 different patterns**"
   ]
  },
  {
   "cell_type": "code",
   "execution_count": 6,
   "id": "551bddf8-9993-4d96-a866-e6919bbe008c",
   "metadata": {},
   "outputs": [
    {
     "name": "stdin",
     "output_type": "stream",
     "text": [
      "Enter number of rows :  5\n"
     ]
    },
    {
     "name": "stdout",
     "output_type": "stream",
     "text": [
      "* \n",
      "* * \n",
      "* * * \n",
      "* * * * \n",
      "* * * * * \n"
     ]
    }
   ],
   "source": [
    "n = int(input('Enter number of rows : '))\n",
    " \n",
    "i = 1\n",
    "while i <= n :\n",
    "    j = 1\n",
    "    while j <= i:\n",
    "        print(\"*\", end = \" \")\n",
    "        j += 1\n",
    "    print()\n",
    "    i += 1"
   ]
  },
  {
   "cell_type": "code",
   "execution_count": 7,
   "id": "a4cfe677-e4e6-4ff0-9673-1d352e982f27",
   "metadata": {},
   "outputs": [
    {
     "name": "stdin",
     "output_type": "stream",
     "text": [
      "Enter number of rows :  5\n"
     ]
    },
    {
     "name": "stdout",
     "output_type": "stream",
     "text": [
      "* * * * * \n",
      "* * * * \n",
      "* * * \n",
      "* * \n",
      "* \n"
     ]
    }
   ],
   "source": [
    "n = int(input('Enter number of rows : '))\n",
    " \n",
    "i = 1\n",
    "while i <= n :\n",
    "    j = n\n",
    "    while j >= i:\n",
    "        print(\"*\", end = \" \")\n",
    "        j -= 1\n",
    "    print()\n",
    "    i += 1"
   ]
  },
  {
   "cell_type": "code",
   "execution_count": 8,
   "id": "18a8208d-9082-44fc-967c-f6e1cc3b2c37",
   "metadata": {},
   "outputs": [
    {
     "name": "stdin",
     "output_type": "stream",
     "text": [
      "Enter number of rows :  5\n"
     ]
    },
    {
     "name": "stdout",
     "output_type": "stream",
     "text": [
      "  1 \n",
      "  2   3 \n",
      "  4   5   6 \n",
      "  7   8   9  10 \n",
      " 11  12  13  14  15 \n"
     ]
    }
   ],
   "source": [
    "n = int(input('Enter number of rows : '))\n",
    " \n",
    "k = 1\n",
    "i = 1\n",
    "while i <= n :\n",
    "    j = 1\n",
    "    while j <= i:\n",
    "        print(\"{:3d}\".format(k), end = \" \")\n",
    "        j += 1\n",
    "        k += 1\n",
    "    print()\n",
    "    i += 1"
   ]
  },
  {
   "cell_type": "markdown",
   "id": "34f8c295-b016-4143-ba0f-391f06c15748",
   "metadata": {},
   "source": [
    "**Q7. Reverse a while loop to display numbers from 10 to 1.**"
   ]
  },
  {
   "cell_type": "code",
   "execution_count": 10,
   "id": "847e1d6e-0ca8-4230-9d97-5bc84796f441",
   "metadata": {},
   "outputs": [
    {
     "name": "stdout",
     "output_type": "stream",
     "text": [
      "10\n",
      "9\n",
      "8\n",
      "7\n",
      "6\n",
      "5\n",
      "4\n",
      "3\n",
      "2\n",
      "1\n"
     ]
    }
   ],
   "source": [
    "i = 10\n",
    "while i > 0:\n",
    "    print(i)\n",
    "    i -= 1"
   ]
  }
 ],
 "metadata": {
  "kernelspec": {
   "display_name": "Python 3 (ipykernel)",
   "language": "python",
   "name": "python3"
  },
  "language_info": {
   "codemirror_mode": {
    "name": "ipython",
    "version": 3
   },
   "file_extension": ".py",
   "mimetype": "text/x-python",
   "name": "python",
   "nbconvert_exporter": "python",
   "pygments_lexer": "ipython3",
   "version": "3.10.8"
  }
 },
 "nbformat": 4,
 "nbformat_minor": 5
}
