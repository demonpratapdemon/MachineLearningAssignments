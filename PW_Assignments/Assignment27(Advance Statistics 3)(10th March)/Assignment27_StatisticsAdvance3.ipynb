{
 "cells": [
  {
   "cell_type": "code",
   "execution_count": 1,
   "id": "52b9be7c",
   "metadata": {},
   "outputs": [],
   "source": [
    "import numpy as np\n",
    "import random\n",
    "import scipy.stats as stats\n",
    "import math\n",
    "import matplotlib.pyplot as plt"
   ]
  },
  {
   "cell_type": "markdown",
   "id": "36966803",
   "metadata": {},
   "source": [
    "## Q1: What is Estimation Statistics? Explain point estimate and interval estimate."
   ]
  },
  {
   "cell_type": "markdown",
   "id": "cefe3db1",
   "metadata": {},
   "source": [
    "**Estimation Statistics** - Estimation Statistics is that part of statistics which is used to assign a specified observed numerical value to an unknown population parameter. It is part of **Inferential Statistics**.\n",
    "\n",
    "There are 2 types of Estimates which are explained below:\n",
    "\n",
    "1. **Point Estimate** - Point Estimate refers to assignment of a single numerical value to an unknown population parameter. E.g: Sample mean is a point estimate of a population mean.\n",
    "\n",
    "2. **Interval Estimate** - Interval Estimate refers to assignment of a range of values to an unknown population parameter. This also helps to find the **Confidence Level** of the dataset. E.g: Average Height of a population dataset."
   ]
  },
  {
   "cell_type": "markdown",
   "id": "4176fa69",
   "metadata": {},
   "source": [
    "## Q2. Write a Python function to estimate the population mean using a sample mean and standard deviation."
   ]
  },
  {
   "cell_type": "markdown",
   "id": "9a699f35",
   "metadata": {},
   "source": [
    "Since we aregoing to estimate the Population mean using Sample Mean and Sample Standard Deviation, we are going to use Student's T-distribution for this purpose. The formula for T-test is as follows:\n",
    "\n",
    "**$$t = \\frac{m - \\mu}{s / \\sqrt{n}}$$**\n",
    "\n",
    "m = sample mean\n",
    "\n",
    "$\\mu$ =population mean\n",
    "\n",
    "s = sample standard deviation\n",
    "\n",
    "$n$ = sample size"
   ]
  },
  {
   "cell_type": "code",
   "execution_count": 2,
   "id": "9047376d",
   "metadata": {},
   "outputs": [],
   "source": [
    "def estimate_population_mean(sample, confidence_interval):\n",
    "    # Calculating Sample Mean and Sample Standard Deviation\n",
    "    sample_mean = np.mean(sample)\n",
    "    sample_std = np.std(sample)\n",
    "    \n",
    "    # Calculating degrees of freedom\n",
    "    dof = len(sample) - 1\n",
    "    \n",
    "    # Calculating the alpha value\n",
    "    alpha = 1 - confidence_interval\n",
    "    \n",
    "    # Calculate t-value using 2 Tailed Test\n",
    "    t_value = stats.t.ppf(q= 1 - alpha / 2, df=dof)\n",
    "    \n",
    "    # Calculating standard error and margin error\n",
    "    std_error = sample_std / math.sqrt(len(sample))\n",
    "    margin_error = t_value * std_error\n",
    "    \n",
    "    lower_bound = sample_mean - margin_error\n",
    "    upper_bound = sample_mean + margin_error\n",
    "    \n",
    "    return (lower_bound, upper_bound)"
   ]
  },
  {
   "cell_type": "code",
   "execution_count": 3,
   "id": "eb1d5278",
   "metadata": {},
   "outputs": [
    {
     "name": "stdout",
     "output_type": "stream",
     "text": [
      "The Population mean lies between 44.83828011764679 and 56.863844092571696 with a Confidence Level of 95% as obtained from Sample Mean and Std\n",
      "The actual Population Mean = 49.85617122340139\n"
     ]
    }
   ],
   "source": [
    "# For generating the same sequence of random numbers\n",
    "np.random.seed(42)\n",
    "\n",
    "# Generating population data\n",
    "population_size = 500\n",
    "population = np.random.uniform(low= 0.0, high= 100.0, size= population_size)\n",
    "population_mean = np.mean(population)\n",
    "\n",
    "# Generating the sample\n",
    "sample_size = 100\n",
    "sample_population = random.sample(population= list(population), k = sample_size)\n",
    "\n",
    "# Setting confidence level\n",
    "confidence_interval = 0.95\n",
    "\n",
    "lower_bound, upper_bound = estimate_population_mean(sample_population, confidence_interval)\n",
    "\n",
    "print (\"The Population mean lies between {lb} and {ub} with a Confidence Level of 95% as obtained from Sample Mean and Std\".format(lb = lower_bound, ub = upper_bound))\n",
    "\n",
    "print(\"The actual Population Mean =\", population_mean)"
   ]
  },
  {
   "cell_type": "markdown",
   "id": "19b42b56",
   "metadata": {},
   "source": [
    "## Q3: What is Hypothesis testing? Why is it used? State the importance of Hypothesis testing."
   ]
  },
  {
   "cell_type": "markdown",
   "id": "752931cc",
   "metadata": {},
   "source": [
    "**Hypothesis Testing** - A statistical hypothesis test is a method of statistical inference used to decide whether the data at hand sufficiently support a particular hypothesis. Hypothesis testing allows us to make probabilistic statements about population parameters. \n",
    "\n",
    "Hypothesis testing is the process used to evaluate the strength of evidence from the sample and provides a framework for making determinations related to the population, i.e., it provides a method for understanding how reliably one can extrapolate observed findings in a sample under study to the larger population from which the sample was drawn.\n",
    "\n",
    "The reasons for which Hypothesis Testing is important are as follows:\n",
    "\n",
    "1. **Provides evidence-based conclusions**: It allows researchers to make objective conclusions based on empirical data, providing evidence to support or refute their research hypotheses.\n",
    "2. **Supports decision-making**: It helps make informed decisions, such as accepting or rejecting a new treatment, implementing policy changes, or adopting new practices.\n",
    "3. **Adds rigor and validity**: It adds scientific rigor to research using statistical methods to analyze data, ensuring that conclusions are based on sound statistical evidence.\n",
    "4. **Contributes to the advancement of knowledge**: By testing hypotheses, researchers contribute to the growth of knowledge in their respective fields by confirming existing theories or discovering new patterns and relationships."
   ]
  },
  {
   "cell_type": "markdown",
   "id": "9d62d627",
   "metadata": {},
   "source": [
    "## Q4. Create a hypothesis that states whether the average weight of male college students is greater than the average weight of female college students."
   ]
  },
  {
   "cell_type": "markdown",
   "id": "c33b6499",
   "metadata": {},
   "source": [
    "$H_{0}$ = The average weight of male college students is less than or equal to the the average weight of the female college students.\n",
    "$$H_{0}: \\mu_{m} \\le \\mu_{f}$$\n",
    "\n",
    "$H_{1}$ = The average weight of male college students is strictly greater than female college students.\n",
    "$$H_{1}: \\mu_{m} > \\mu_{f}$$\n",
    "\n",
    "$H_{0}$ = This indicates the Null Hypothesis  \n",
    "$H_{1}$ = This indicates the Alternate Hypothesis  \n",
    "$\\mu_{m}$ = This indicates the mean weight male college students  \n",
    "$\\mu_{f}$ = This indicates the mean weight female college students\n",
    "\n",
    "The **Null Hypothesis** states that either the mean weight is less than or equal to the mean weight of female college students. Whereas the **Alternate Hypothesis** states that the mean weight of male college students is strictly greater than the female college students."
   ]
  },
  {
   "cell_type": "markdown",
   "id": "52f60bd0",
   "metadata": {},
   "source": [
    "## Q5. Write a Python script to conduct a hypothesis test on the difference between two population means, given a sample from each population."
   ]
  },
  {
   "cell_type": "code",
   "execution_count": 4,
   "id": "8ade3e48",
   "metadata": {},
   "outputs": [],
   "source": [
    "np.random.seed(42)\n",
    "\n",
    "# Defining 2 populations with same seeding\n",
    "population1 = np.random.randint(low = 0, high = 100, size = 1000)\n",
    "population2 = np.random.randint(low = 0, high = 100, size = 1000)\n",
    "\n",
    "# Drawing 2 samples from each of the samples declared above\n",
    "sample1 = random.sample(list(population1), k = 100)\n",
    "sample2 = random.sample(list(population2), k = 100)\n",
    "\n",
    "# Stating the Null and Alternate Hypothesis\n",
    "null_hypothesis = \"The mean of the 2 sample from different population are Equal\"\n",
    "alternate_hypothesis = \"The mean of the 2 sample from different population are NOT Equal\"\n",
    "\n",
    "# Getting the lengths of the sample for calculating Degrees of Freedom\n",
    "n1 = len(sample1)\n",
    "n2 = len(sample2)\n",
    "dof = n1 + n2 - 1\n",
    "\n",
    "# Standard Deviation for both the samples\n",
    "std1 = np.std(sample1)\n",
    "std2 = np.std(sample2)"
   ]
  },
  {
   "cell_type": "markdown",
   "id": "f30aa495",
   "metadata": {},
   "source": [
    "Formula for calculating the Standard Deviation for the combined sample($\\sigma_{c}$) is as follows:\n",
    "\n",
    "$$\\sigma_{c} = \\sqrt{\\frac{n_{1} * (\\sigma_{1}^2 + d_1^2) + n_{2} * (\\sigma_{2}^2 + d_{2}^2)}{n1+n2}}$$\n",
    "\n",
    "$n_{1}$ = size of sample 1\n",
    "\n",
    "$n_{2}$ = size of sample 2\n",
    "\n",
    "$\\sigma_{1}^2$ = variance of sample 1\n",
    "$\\sigma_{2}^2$ = variance of sample 2\n",
    "\n",
    "$d_{1}$ = $\\mu_{1} - \\mu_{c}$\n",
    "$d_{2}$ = $\\mu_{2} - \\mu_{c}$\n",
    "\n",
    "$\\mu_{c}$ = mean of the combined population\n",
    "\n",
    "$$\\mu_{c} = \\frac{n_{1} * \\mu_{1} + n_{2} * \\mu_{2}}{n_{1} + n_{2}}$$\n",
    "\n",
    "$\\mu_{1}$ =mean of sample 1\n",
    "\n",
    "$\\mu_{2}$ =mean of sample 2"
   ]
  },
  {
   "cell_type": "code",
   "execution_count": 5,
   "id": "49757155",
   "metadata": {},
   "outputs": [
    {
     "name": "stdout",
     "output_type": "stream",
     "text": [
      "t_stats = -0.03927892252474522\n",
      "p_value =  0.48435369417889773\n",
      "t_critical = 1.971956544249395\n",
      "Fail to reject the Null Hypothesis: The mean of the 2 sample from different population are Equal\n",
      "Fail to reject the null hypothesis: The mean of the 2 sample from different population are Equal\n"
     ]
    }
   ],
   "source": [
    "# Following the above formulas, let's calculate the combined standard deviation\n",
    "mean1 = np.mean(sample1)\n",
    "mean2 = np.mean(sample2)\n",
    "mu_c = (n1 * mean1 + n2 * mean2) / (n1 + n2)\n",
    "\n",
    "# Calculating the standard deviation of the combined sample\n",
    "d1 = mean1 - mu_c\n",
    "d2 = mean2 - mu_c\n",
    "sp = np.sqrt(n1 * (std1**2 + d1**2) + n2 * (std2**2 + d2**2) / (n1 + n2))\n",
    "\n",
    "# Calculating the t_stats\n",
    "t_stats = (mean1 - mean2) / (sp / np.sqrt(n1 + n2))\n",
    "\n",
    "# Calculating t-critical value and p_value\n",
    "# It is a 2 tailed test because the mean could be either more or less\n",
    "alpha = 0.05\n",
    "t_crit = stats.t.ppf(q = 1 - alpha/2, df = dof)\n",
    "p_value = stats.t.cdf(x = t_stats,df = dof)\n",
    "\n",
    "print(\"t_stats =\", t_stats)\n",
    "print(\"p_value = \", p_value)\n",
    "print(\"t_critical =\", t_crit)\n",
    "\n",
    "# Comparing p_value to Significance Level(alpha = 0.05)\n",
    "if p_value < alpha:\n",
    "    print(\"Reject the Null Hypothesis:\", null_hypothesis)\n",
    "    print(\"Accept the Alternate Hypothesis:\", alternate_hypothesis)\n",
    "else:\n",
    "    print(\"Fail to reject the Null Hypothesis:\",null_hypothesis)\n",
    "\n",
    "# Comparing t_stas to t_critical value\n",
    "if abs(t_stats) > t_crit:\n",
    "    print(\"Reject the null hypothesis: \" + null_hypothesis)\n",
    "    print(\"Accept the alternative hypothesis: \" + alt_hypothesis)\n",
    "else:\n",
    "    print(\"Fail to reject the null hypothesis: \" + null_hypothesis)    "
   ]
  },
  {
   "cell_type": "markdown",
   "id": "35d49cbd",
   "metadata": {},
   "source": [
    "## Q6: What is a null and alternative hypothesis? Give some examples."
   ]
  },
  {
   "cell_type": "markdown",
   "id": "c4f01362",
   "metadata": {},
   "source": [
    "**Null Hypothesis** - In scientific research, the Null Hypothesis($H_{0}$) is the claim that no relationship exists between two sets of data or variables being analyzed. The null hypothesis is that any experimentally observed difference is due to chance alone, and an underlying causative relationship does not exist, hence the term \"null\".\n",
    "\n",
    "**Alternate Hypothesis** - Alternative Hypothesis($H_{1}$) defines there is a statistically important relationship between two variables. It is contradictory to the null hypothesis.\n",
    "\n",
    "**Examples:**\n",
    "\n",
    "1. **Null Hypothesis** - The mean of all the students in a class is 180cm.  \n",
    "   **Alternate Hypothesis** - The mean of all the students in a class is less than 180cm.\n",
    "   \n",
    "2. **Null Hypothesis** - The medicine has no effect on IQ.  \n",
    "   **Alternate Hypothesis** - The medicine has some effect on IQ."
   ]
  },
  {
   "cell_type": "markdown",
   "id": "d3c6c684",
   "metadata": {},
   "source": [
    "## Q7: Write down the steps involved in hypothesis testing."
   ]
  },
  {
   "cell_type": "markdown",
   "id": "212079d4",
   "metadata": {},
   "source": [
    "The steps involved in Hypothesis Testing are as follows:\n",
    "\n",
    "1. Declare **Null Hypothesis** - We first declare the Null Hypothesis which we get from the problem statement and is bluntly mentioned as truth.\n",
    "2. Declare **Alternate Hypothesis** - We then  declare an Alternate hypothesis which is in contrast to the declared Null Hypothesis in the first step.\n",
    "3. Perform **Experminets** - We perform different experiments and statistical analysis to establish the truthness in the hypothesis.\n",
    "4. Based on the experiments done in the previous step we either **Accept the Null Hypothesis** or **Reject the Null Hypothesis**."
   ]
  },
  {
   "cell_type": "markdown",
   "id": "dd1728aa",
   "metadata": {},
   "source": [
    "## Q8. Define p-value and explain its significance in hypothesis testing."
   ]
  },
  {
   "cell_type": "markdown",
   "id": "667109d4",
   "metadata": {},
   "source": [
    "**p-value** - The p value, or probability value, tells us how likely it is that the data could have occurred under the Null Hypothesis. It does this by calculating the likelihood of the test statistic, which is the number calculated by a statistical test using the data.\n",
    "\n",
    "Significane of **p-value** in Hypothesis Testing:\n",
    "\n",
    "1. P values are most often used by researchers to say whether a certain pattern they have measured is statistically significant.\n",
    "2. Statistical significance is another way of saying that the p-value of a statistical test is small enough to reject the null hypothesis of the test."
   ]
  },
  {
   "cell_type": "markdown",
   "id": "9d5505e7",
   "metadata": {},
   "source": [
    "## Q9. Generate a Student's t-distribution plot using Python's matplotlib library, with the degrees of freedom parameter set to 10."
   ]
  },
  {
   "cell_type": "code",
   "execution_count": 6,
   "id": "2ef50046",
   "metadata": {},
   "outputs": [
    {
     "data": {
      "text/plain": [
       "<matplotlib.legend.Legend at 0x1e17d1dbe80>"
      ]
     },
     "execution_count": 6,
     "metadata": {},
     "output_type": "execute_result"
    },
    {
     "data": {
      "image/png": "[encoded data removed]",
      "text/plain": [
       "<Figure size 720x720 with 1 Axes>"
      ]
     },
     "metadata": {
      "needs_background": "light"
     },
     "output_type": "display_data"
    }
   ],
   "source": [
    "# Creating a sample\n",
    "sample_dist = np.linspace(-4, 4, 200)\n",
    "\n",
    "# Declaring degrees of freedom\n",
    "dof = [1, 2, 5, 10]\n",
    "\n",
    "plt.figure(figsize=(10,10))\n",
    "# Calculating the p-value using Student's t-distribution\n",
    "for i in range(len(dof)):\n",
    "    p_val = stats.t.pdf(x = sample_dist, df = dof[i])\n",
    "    plt.plot(sample_dist, p_val, label=f\"Degrees of Freedom = {dof[i]}\")\n",
    "\n",
    "plt.title(\"Student's t-distribution of sample with 10 Degrees of Freedom\")\n",
    "plt.xlabel(\"Sample Data\")\n",
    "plt.ylabel(\"PDF\")\n",
    "plt.legend()"
   ]
  },
  {
   "cell_type": "markdown",
   "id": "207528f1",
   "metadata": {},
   "source": [
    "## Q10. Write a Python program to calculate the two-sample t-test for independent samples, given two random samples of equal size and a null hypothesis that the population means are equal."
   ]
  },
  {
   "cell_type": "code",
   "execution_count": 7,
   "id": "f3a76e6f",
   "metadata": {},
   "outputs": [
    {
     "name": "stdout",
     "output_type": "stream",
     "text": [
      "Reject the Null Hypothesis: Population means for both the samples are EQUAL\n",
      "Accept the Alternate Hypothesis: Population means for both the samples are NOT EQUAL\n"
     ]
    }
   ],
   "source": [
    "pop1 = np.random.randint(low = 0, high= 50, size= 5000)\n",
    "pop2 = np.random.randint(low = 0, high= 100, size= 1000)\n",
    "\n",
    "\n",
    "samp1 = random.sample(population=list(pop1), k = 100)\n",
    "samp2 = random.sample(population=list(pop2), k = 100)\n",
    "\n",
    "t_stat, p_val = stats.ttest_ind(samp1, samp2)\n",
    "\n",
    "alpha = 0.05\n",
    "null_hypo = \"Population means for both the samples are EQUAL\"\n",
    "alt_hypo = \"Population means for both the samples are NOT EQUAL\"\n",
    "\n",
    "if p_val < alpha:\n",
    "    print(\"Reject the Null Hypothesis:\", null_hypo)\n",
    "    print(\"Accept the Alternate Hypothesis:\", alt_hypo)\n",
    "else:\n",
    "    print(\"Fail to Reject the Null Hypothesis:\", null_hypo)\n",
    "    print(\"Reject the Alternate Hypothesis:\", alt_hypo)"
   ]
  },
  {
   "cell_type": "markdown",
   "id": "d946bde8",
   "metadata": {},
   "source": [
    "## Q11: What is Student’s t distribution? When to use the t-Distribution?"
   ]
  },
  {
   "cell_type": "markdown",
   "id": "2f0ce4fb",
   "metadata": {},
   "source": [
    "In probability and statistics, Student's t-distribution is a continuous probability distribution that generalizes the standard normal distribution. Like Normal Distribution, it is symmetric around zero and bell-shaped.In probability and statistics, the normal distribution is a bell-shaped distribution whose mean is μ and the standard deviation is σ. The t-distribution is similar to normal distribution but flatter and shorter than a normal distribution. \n",
    "\n",
    "**When to use t-Distribution** - \n",
    "1. The T Distribution also called the student’s t-distribution is used while making assumptions about a mean when we don’t know the population standard deviation.\n",
    "2. Sample size is small.\n",
    "3. The population is usually normally distributed(Central Limit Theorem).\n",
    "4. When we want to draw inferences about the population mean."
   ]
  },
  {
   "cell_type": "markdown",
   "id": "b4a1b331",
   "metadata": {},
   "source": [
    "## Q12: What is t-statistic? State the formula for t-statistic."
   ]
  },
  {
   "cell_type": "markdown",
   "id": "830457ec",
   "metadata": {},
   "source": [
    "The t-statistic is a test statistic that is used in hypothesis testing and confidence interval estimation when the population standard deviation is unknown and the sample size is small. It is a standardized measure of the difference between the sample mean and the hypothesized population mean, in units of the sample standard deviation.\n",
    "\n",
    "The formula for T-test is as follows:\n",
    "\n",
    "**$$t = \\frac{m - \\mu}{s / \\sqrt{n}}$$**\n",
    "\n",
    "m = sample mean\n",
    "\n",
    "$\\mu$ =population mean\n",
    "\n",
    "s = sample standard deviation\n",
    "\n",
    "$n$ = sample size\n",
    "\n",
    "#### The formula shows that the t-statistic is the difference between the sample mean and hypothesized population mean, standardized by the standard error of the mean, which is the sample standard deviation divided by the square root of the sample size."
   ]
  },
  {
   "cell_type": "markdown",
   "id": "b3ffca70",
   "metadata": {},
   "source": [
    "## Q13. A coffee shop owner wants to estimate the average daily revenue for their shop. They take a random sample of 50 days and find the sample mean revenue to be $\\$500$ with a standard deviation of $50. Estimate the population mean revenue with a 95% confidence interval."
   ]
  },
  {
   "cell_type": "code",
   "execution_count": 8,
   "id": "01f76ee8",
   "metadata": {},
   "outputs": [
    {
     "name": "stdout",
     "output_type": "stream",
     "text": [
      "The 95% confidence interval for the population mean revenue is: ($485.79, $514.21)\n"
     ]
    }
   ],
   "source": [
    "sample_mean = 500\n",
    "sample_std = 50\n",
    "sample_size = 50\n",
    "\n",
    "ci = 0.95\n",
    "alpha = 1 - ci\n",
    "dof = sample_size - 1\n",
    "\n",
    "# 2 tailed test\n",
    "t_crit = stats.t.ppf(q = 1 - alpha / 2, df = dof)\n",
    "\n",
    "std_error = sample_std / np.sqrt(sample_size)\n",
    "margin_error = t_crit * std_error\n",
    "\n",
    "lb = sample_mean - margin_error\n",
    "ub = sample_mean + margin_error\n",
    "\n",
    "print(f\"The 95% confidence interval for the population mean revenue is: (${lb:.2f}, ${ub:.2f})\")"
   ]
  },
  {
   "cell_type": "markdown",
   "id": "adeab103",
   "metadata": {},
   "source": [
    "## Q14. A researcher hypothesizes that a new drug will decrease blood pressure by 10 mmHg. They conduct a clinical trial with 100 patients and find that the sample mean decrease in blood pressure is 8 mmHg with a standard deviation of 3 mmHg. Test the hypothesis with a significance level of 0.05."
   ]
  },
  {
   "cell_type": "code",
   "execution_count": 15,
   "id": "b7345b4d",
   "metadata": {},
   "outputs": [
    {
     "name": "stdout",
     "output_type": "stream",
     "text": [
      "The p_value is:  7.506144504985108e-10\n",
      "Reject the Null Hypotheis: The BP decreases by 10mmHg\n",
      "Accept the Alternate Hypothesis: The BP decreases less than 10mmHg\n"
     ]
    }
   ],
   "source": [
    "null_hypo = \"The BP decreases by 10mmHg\"\n",
    "alt_hypo = \"The BP decreases less than 10mmHg\"\n",
    "\n",
    "sample_size = 100\n",
    "sample_std = 3\n",
    "sample_mean = 8\n",
    "pop_mean = 10\n",
    "\n",
    "alpha = 0.05\n",
    "\n",
    "dof = sample_size - 1\n",
    "\n",
    "t_val = (sample_mean - pop_mean) / (sample_std / np.sqrt(sample_size))\n",
    "p_val = stats.t.cdf(x = t_val, df = dof)\n",
    "\n",
    "print(\"The p_value is: \", p_val)\n",
    "\n",
    "if p_val < alpha:\n",
    "    print(\"Reject the Null Hypotheis:\", null_hypo)\n",
    "    print(\"Accept the Alternate Hypothesis:\", alt_hypo)\n",
    "else:\n",
    "    print(\"Fail to reject the Null Hypothesis:\", null_hypo)"
   ]
  },
  {
   "cell_type": "markdown",
   "id": "134dc6a4",
   "metadata": {},
   "source": [
    "## Q15. An electronics company produces a certain type of product with a mean weight of 5 pounds and a standard deviation of 0.5 pounds. A random sample of 25 products is taken, and the sample mean weight is found to be 4.8 pounds. Test the hypothesis that the true mean weight of the products is less than 5 pounds with a significance level of 0.01."
   ]
  },
  {
   "cell_type": "code",
   "execution_count": 21,
   "id": "61024bc4",
   "metadata": {},
   "outputs": [
    {
     "name": "stdout",
     "output_type": "stream",
     "text": [
      "The p_val is: 0.02846992496829572\n",
      "The significance level is: 0.01\n",
      "Fail to reject the Null Hypothesis: The true mean weight of the products is equal to 5pounds\n",
      "The p_val lies in the confidence level region\n"
     ]
    }
   ],
   "source": [
    "pop_mean = 5\n",
    "pop_std = 0.5\n",
    "\n",
    "sample_size = 25\n",
    "sample_mean = 4.8\n",
    "\n",
    "alpha = 0.01\n",
    "\n",
    "dof = sample_size - 1\n",
    "\n",
    "null_hypo = \"The true mean weight of the products is equal to 5pounds\"\n",
    "alt_hypo = \"The true mean weight of the products is less than 5pounds\"\n",
    "\n",
    "t_val = (sample_mean - pop_mean) / (pop_std / np.sqrt(sample_size))\n",
    "p_val = stats.t.cdf(x = t_val, df = dof)\n",
    "\n",
    "print(\"The p_val is:\", p_val)\n",
    "print(\"The significance level is:\", alpha)\n",
    "\n",
    "if p_val < alpha:\n",
    "    print(\"Reject the Null Hypotheis:\", null_hypo)\n",
    "    print(\"Accept the Alternate Hypothesis:\", alt_hypo)\n",
    "else:\n",
    "    print(\"Fail to reject the Null Hypothesis:\", null_hypo)\n",
    "    print(\"The p_val lies in the confidence level region\")"
   ]
  },
  {
   "cell_type": "markdown",
   "id": "076697fe",
   "metadata": {},
   "source": [
    "## Q16. Two groups of students are given different study materials to prepare for a test. The first group (n1 = 30) has a mean score of 80 with a standard deviation of 10, and the second group (n2 = 40) has a mean score of 75 with a standard deviation of 8. Test the hypothesis that the population means for the two groups are equal with a significance level of 0.01."
   ]
  },
  {
   "cell_type": "markdown",
   "id": "54098026",
   "metadata": {},
   "source": [
    "The given problem is an example of 2 sample t-test. The formula for calculating the t-val for the 2 sampel test is as follows:\n",
    "\n",
    "$$ t = \\frac{\\bar{x_{1}} - \\bar{x_{2}}}{\\sqrt{\\frac{s_{1}^2}{n_{1}} + \\frac{s_{2}^2}{n_{2}}}} $$\n",
    "\n",
    "$\\bar{x_{1}}$ = mean of $x_{1}$  \n",
    "$\\bar{x_{2}}$ = mean of $x_{2}$  \n",
    "${s_{1}^2}$ = variance of $x_{1}$(square of standard deviation)  \n",
    "${s_{2}^2}$ = variance of $x_{2}$(square of standard deviation)  \n",
    "${n_{1}}$ = sample size of first population  \n",
    "${n_{2}}$ = sample size of second population"
   ]
  },
  {
   "cell_type": "code",
   "execution_count": 26,
   "id": "5f48bccf",
   "metadata": {},
   "outputs": [
    {
     "name": "stdout",
     "output_type": "stream",
     "text": [
      "The p_val is: 0.9861932598161512\n",
      "The significance level is: 0.01\n",
      "Fail to reject the Null Hypothesis: The Population mean for the 2 populations are EQUAL\n",
      "The p_val lies in the confidence level region\n"
     ]
    }
   ],
   "source": [
    "n1 = 30\n",
    "n2 = 40\n",
    "\n",
    "x1_mean = 80\n",
    "x2_mean = 75\n",
    "\n",
    "x1_std = 10\n",
    "x2_std = 8\n",
    "\n",
    "alpha = 0.01\n",
    "\n",
    "null_hypo = \"The Population mean for the 2 populations are EQUAL\"\n",
    "alt_hypo = \"The Population mean for the 2 populations are NOT EQUAL\"\n",
    "\n",
    "dof = n1 + n2 - 2\n",
    "\n",
    "t_val = (x1_mean -x2_mean) / np.sqrt(((x1_std ** 2) / n1 ) + ((x2_std ** 2) / n2))\n",
    "p_val = stats.t.cdf(x = t_val, df = dof)\n",
    "\n",
    "print(\"The p_val is:\", p_val)\n",
    "print(\"The significance level is:\", alpha)\n",
    "\n",
    "if p_val < alpha:\n",
    "    print(\"Reject the Null Hypotheis:\", null_hypo)\n",
    "    print(\"Accept the Alternate Hypothesis:\", alt_hypo)\n",
    "else:\n",
    "    print(\"Fail to reject the Null Hypothesis:\", null_hypo)\n",
    "    print(\"The p_val lies in the confidence level region\")"
   ]
  },
  {
   "cell_type": "markdown",
   "id": "5decb4f8",
   "metadata": {},
   "source": [
    "## Q17. A marketing company wants to estimate the average number of ads watched by viewers during a TV program. They take a random sample of 50 viewers and find that the sample mean is 4 with a standard deviation of 1.5. Estimate the population mean with a 99% confidence interval."
   ]
  },
  {
   "cell_type": "code",
   "execution_count": 30,
   "id": "0718232b",
   "metadata": {},
   "outputs": [
    {
     "name": "stdout",
     "output_type": "stream",
     "text": [
      "The population mean is between 3.43 and 4.57 with 99.0% confidence\n"
     ]
    }
   ],
   "source": [
    "sample_size = 50\n",
    "sample_mean = 4\n",
    "sample_std = 1.5\n",
    "\n",
    "ci = 0.99\n",
    "alpha = 1 - ci\n",
    "\n",
    "dof = sample_size - 1\n",
    "\n",
    "t_crit = stats.t.ppf(q = 1 - alpha / 2, df = dof)\n",
    "\n",
    "std_error = sample_std / np.sqrt(sample_size)\n",
    "margin_error = t_crit * std_error\n",
    "\n",
    "lb = sample_mean - margin_error\n",
    "ub = sample_mean + margin_error\n",
    "\n",
    "print(\"The population mean is between {lb} and {ub} with {ci}% confidence\".format(lb = round(lb, 2), ub = round(ub, 2), ci = ci * 100))"
   ]
  }
 ],
 "metadata": {
  "kernelspec": {
   "display_name": "Python 3 (ipykernel)",
   "language": "python",
   "name": "python3"
  },
  "language_info": {
   "codemirror_mode": {
    "name": "ipython",
    "version": 3
   },
   "file_extension": ".py",
   "mimetype": "text/x-python",
   "name": "python",
   "nbconvert_exporter": "python",
   "pygments_lexer": "ipython3",
   "version": "3.9.12"
  }
 },
 "nbformat": 4,
 "nbformat_minor": 5
}
