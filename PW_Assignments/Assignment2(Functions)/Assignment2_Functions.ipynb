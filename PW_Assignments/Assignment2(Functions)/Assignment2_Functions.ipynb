{
 "cells": [
  {
   "cell_type": "markdown",
   "id": "8ccd1fb6-a0dc-482c-8046-2108b047cec5",
   "metadata": {},
   "source": [
    "Q1. Which keyword is used to create a function? Create a function to return a list of odd numbers in the\n",
    "range of 1 to 25.\n",
    "\n",
    "The keyword used to create a function is \"def\"."
   ]
  },
  {
   "cell_type": "code",
   "execution_count": 7,
   "id": "127b7f76-5afc-47aa-8b65-6012804350da",
   "metadata": {},
   "outputs": [
    {
     "data": {
      "text/plain": [
       "[1, 3, 5, 7, 9, 11, 13, 15, 17, 19, 21, 23]"
      ]
     },
     "execution_count": 7,
     "metadata": {},
     "output_type": "execute_result"
    }
   ],
   "source": [
    "odds = [i for i in range(1,25) if i % 2 != 0]\n",
    "odds"
   ]
  },
  {
   "cell_type": "markdown",
   "id": "db050777-6084-42d7-b5ae-dac2ddae3643",
   "metadata": {},
   "source": [
    "Q2. Why *args and **kwargs is used in some functions? Create a function each for *args and **kwargs to\n",
    "demonstrate their use.\n",
    "\n",
    "The \"**args*\" is used to take multiple inputs from an user in the function call.  \n",
    "The \"*****kwargs***\" is used to take the function arguments as key-value pair. Example is shown below."
   ]
  },
  {
   "cell_type": "code",
   "execution_count": 8,
   "id": "c7dd3ca7-506f-47b1-a558-ced553c1757e",
   "metadata": {},
   "outputs": [
    {
     "data": {
      "text/plain": [
       "(1, 2, 3, 'pratap', 1.23)"
      ]
     },
     "execution_count": 8,
     "metadata": {},
     "output_type": "execute_result"
    }
   ],
   "source": [
    "def test1(*args):\n",
    "    return args\n",
    "\n",
    "test1(1,2,3,\"pratap\",1.23)"
   ]
  },
  {
   "cell_type": "code",
   "execution_count": 9,
   "id": "2c6cb483-682a-44e8-b3c3-4e078708a429",
   "metadata": {},
   "outputs": [
    {
     "data": {
      "text/plain": [
       "{'a': 1, 'b': 2, 'c': 'pratap', 'd': 1.23}"
      ]
     },
     "execution_count": 9,
     "metadata": {},
     "output_type": "execute_result"
    }
   ],
   "source": [
    "def test2(**kwargs):\n",
    "    return kwargs\n",
    "test2(a= 1, b = 2, c = \"pratap\", d = 1.23)"
   ]
  },
  {
   "cell_type": "markdown",
   "id": "1724be29-f659-4cc4-ba02-d8fc73c732c0",
   "metadata": {},
   "source": [
    "Q3. What is an iterator in python? Name the method used to initialise the iterator object and the method\n",
    "used for iteration. Use these methods to print the first five elements of the given list [2, 4, 6, 8, 10, 12, 14, 16,\n",
    "18, 20].\n",
    "\n",
    "An iterator is an object that contains a countable number of values.  \n",
    "The method used to initialise iterator object is \"iter\". The method used for iteratior is \"next\"."
   ]
  },
  {
   "cell_type": "code",
   "execution_count": 11,
   "id": "bc785105-c85b-4ea6-b705-ddd1a3a78ff7",
   "metadata": {},
   "outputs": [
    {
     "name": "stdout",
     "output_type": "stream",
     "text": [
      "2\n",
      "4\n",
      "6\n",
      "8\n",
      "10\n"
     ]
    }
   ],
   "source": [
    "list1 = [2, 4, 6, 8, 10, 12, 14, 16, 18, 20]\n",
    "iterator = iter(list1)\n",
    "for i in range(0, 5):\n",
    "    print(next(iterator))"
   ]
  },
  {
   "cell_type": "markdown",
   "id": "a0b97333-67f9-4e20-a75c-2b3d0535e6fc",
   "metadata": {},
   "source": [
    "Q4. What is a generator function in python? Why yield keyword is used? Give an example of a generator\n",
    "function.\n",
    "\n",
    "In Python, a generator is a function that returns an iterator that produces a sequence of values when iterated over. Generators are useful when we want to produce a large sequence of values, but we don't want to store all of them in memory at once.  \n",
    "The \"yield\" keyword is used to produce a value from the generator."
   ]
  },
  {
   "cell_type": "code",
   "execution_count": 13,
   "id": "ed1c8645-49cf-4aaa-a7aa-105f41042473",
   "metadata": {},
   "outputs": [
    {
     "name": "stdout",
     "output_type": "stream",
     "text": [
      "1\n",
      "2\n",
      "3\n",
      "4\n"
     ]
    }
   ],
   "source": [
    "def test3():\n",
    "    for i in range(1,5):\n",
    "        yield i\n",
    "\n",
    "for i in test3():\n",
    "    print(i)"
   ]
  },
  {
   "cell_type": "markdown",
   "id": "e6c1a1eb-f7a7-4f5e-8935-937a5ff0edf4",
   "metadata": {},
   "source": [
    "Q5. Create a generator function for prime numbers less than 1000. Use the next() method to print the\n",
    "first 20 prime numbers."
   ]
  },
  {
   "cell_type": "code",
   "execution_count": 18,
   "id": "c10463e8-5340-4969-aee3-e7b59bc8e7b9",
   "metadata": {},
   "outputs": [
    {
     "name": "stdout",
     "output_type": "stream",
     "text": [
      "2\n",
      "3\n",
      "5\n",
      "7\n",
      "11\n",
      "13\n",
      "17\n",
      "19\n",
      "23\n",
      "29\n",
      "31\n",
      "37\n",
      "41\n",
      "43\n",
      "47\n",
      "53\n",
      "59\n",
      "61\n",
      "67\n",
      "71\n"
     ]
    }
   ],
   "source": [
    "def test4():\n",
    "    for i in range(2, 1000):\n",
    "        flag = True\n",
    "        k = 2\n",
    "        for j in range (2, i // 2 + 1):\n",
    "            if (i % j) == 0:\n",
    "                flag = False\n",
    "                break\n",
    "        if flag:\n",
    "            yield i\n",
    "\n",
    "iterator = iter(test4())\n",
    "for i in range(1, 21):\n",
    "    print(next(iterator))"
   ]
  }
 ],
 "metadata": {
  "kernelspec": {
   "display_name": "Python 3 (ipykernel)",
   "language": "python",
   "name": "python3"
  },
  "language_info": {
   "codemirror_mode": {
    "name": "ipython",
    "version": 3
   },
   "file_extension": ".py",
   "mimetype": "text/x-python",
   "name": "python",
   "nbconvert_exporter": "python",
   "pygments_lexer": "ipython3",
   "version": "3.10.8"
  }
 },
 "nbformat": 4,
 "nbformat_minor": 5
}
