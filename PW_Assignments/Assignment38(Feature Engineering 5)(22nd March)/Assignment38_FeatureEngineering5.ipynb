{
 "cells": [
  {
   "cell_type": "code",
   "execution_count": 1,
   "id": "346da5e4",
   "metadata": {},
   "outputs": [],
   "source": [
    "import numpy as np\n",
    "import pandas as pd\n",
    "import seaborn as sns\n",
    "import matplotlib.pyplot as plt"
   ]
  },
  {
   "cell_type": "markdown",
   "id": "06bfff99",
   "metadata": {},
   "source": [
    "## Q1. Pearson correlation coefficient is a measure of the linear relationship between two variables. Suppose you have collected data on the amount of time students spend studying for an exam and their final exam scores. Calculate the Pearson correlation coefficient between these two variables and interpret the result."
   ]
  },
  {
   "cell_type": "markdown",
   "id": "8bf682e2",
   "metadata": {},
   "source": [
    "Pearson correlation came into picture because the covariance calculated only showed the relationship between the variables but it failed to show how strongly or weakly those variables are related. As a result of which, we move to Pearson correlation which helps to show how strongly or weakly they are correlated along with the type of relationship. The formula for Pearson correlation technique is as follows:\n",
    "\n",
    "$$Pearson\\_corr = \\frac{Cov(X, Y)}{\\sigma(X) * \\sigma(Y)}$$\n",
    "\n",
    "$Cov(X, Y)$ = covariance of X and Y\n",
    "\n",
    "$sigma(X)$ = standard deviation of X\n",
    "\n",
    "$sigma(Y)$ = standard deviation of Y"
   ]
  },
  {
   "cell_type": "code",
   "execution_count": 2,
   "id": "1cd1c8b7",
   "metadata": {},
   "outputs": [
    {
     "data": {
      "text/html": [
       "<div>\n",
       "<style scoped>\n",
       "    .dataframe tbody tr th:only-of-type {\n",
       "        vertical-align: middle;\n",
       "    }\n",
       "\n",
       "    .dataframe tbody tr th {\n",
       "        vertical-align: top;\n",
       "    }\n",
       "\n",
       "    .dataframe thead th {\n",
       "        text-align: right;\n",
       "    }\n",
       "</style>\n",
       "<table border=\"1\" class=\"dataframe\">\n",
       "  <thead>\n",
       "    <tr style=\"text-align: right;\">\n",
       "      <th></th>\n",
       "      <th>time</th>\n",
       "      <th>score</th>\n",
       "    </tr>\n",
       "  </thead>\n",
       "  <tbody>\n",
       "    <tr>\n",
       "      <th>0</th>\n",
       "      <td>9.856081</td>\n",
       "      <td>70.352404</td>\n",
       "    </tr>\n",
       "    <tr>\n",
       "      <th>1</th>\n",
       "      <td>8.257918</td>\n",
       "      <td>42.213889</td>\n",
       "    </tr>\n",
       "    <tr>\n",
       "      <th>2</th>\n",
       "      <td>4.893181</td>\n",
       "      <td>22.421383</td>\n",
       "    </tr>\n",
       "    <tr>\n",
       "      <th>3</th>\n",
       "      <td>2.499783</td>\n",
       "      <td>-6.648158</td>\n",
       "    </tr>\n",
       "    <tr>\n",
       "      <th>4</th>\n",
       "      <td>8.354320</td>\n",
       "      <td>42.667089</td>\n",
       "    </tr>\n",
       "  </tbody>\n",
       "</table>\n",
       "</div>"
      ],
      "text/plain": [
       "       time      score\n",
       "0  9.856081  70.352404\n",
       "1  8.257918  42.213889\n",
       "2  4.893181  22.421383\n",
       "3  2.499783  -6.648158\n",
       "4  8.354320  42.667089"
      ]
     },
     "execution_count": 2,
     "metadata": {},
     "output_type": "execute_result"
    }
   ],
   "source": [
    "# Preparing the dataset\n",
    "time = np.random.normal(loc=8, scale=2, size=100)\n",
    "score = (time ** 2)- (3 * time) + 2 + np.random.normal(loc=0, scale=5, size=100)\n",
    "\n",
    "df = pd.DataFrame({\n",
    "    \"time\" : time,\n",
    "    \"score\" : score\n",
    "})\n",
    "\n",
    "df.head()"
   ]
  },
  {
   "cell_type": "code",
   "execution_count": 3,
   "id": "931f50ff",
   "metadata": {},
   "outputs": [
    {
     "data": {
      "text/html": [
       "<div>\n",
       "<style scoped>\n",
       "    .dataframe tbody tr th:only-of-type {\n",
       "        vertical-align: middle;\n",
       "    }\n",
       "\n",
       "    .dataframe tbody tr th {\n",
       "        vertical-align: top;\n",
       "    }\n",
       "\n",
       "    .dataframe thead th {\n",
       "        text-align: right;\n",
       "    }\n",
       "</style>\n",
       "<table border=\"1\" class=\"dataframe\">\n",
       "  <thead>\n",
       "    <tr style=\"text-align: right;\">\n",
       "      <th></th>\n",
       "      <th>time</th>\n",
       "      <th>score</th>\n",
       "    </tr>\n",
       "  </thead>\n",
       "  <tbody>\n",
       "    <tr>\n",
       "      <th>time</th>\n",
       "      <td>1.000000</td>\n",
       "      <td>0.961176</td>\n",
       "    </tr>\n",
       "    <tr>\n",
       "      <th>score</th>\n",
       "      <td>0.961176</td>\n",
       "      <td>1.000000</td>\n",
       "    </tr>\n",
       "  </tbody>\n",
       "</table>\n",
       "</div>"
      ],
      "text/plain": [
       "           time     score\n",
       "time   1.000000  0.961176\n",
       "score  0.961176  1.000000"
      ]
     },
     "execution_count": 3,
     "metadata": {},
     "output_type": "execute_result"
    }
   ],
   "source": [
    "df.corr(method=\"pearson\")"
   ]
  },
  {
   "cell_type": "markdown",
   "id": "01cb4a7a",
   "metadata": {},
   "source": [
    "So, we can observe that the time and score has a very postive score which indicates that there is a positive ie. direct relationship between them as well as they are very strongly correlated.\n",
    "\n",
    "#### Let's observe that in a graph"
   ]
  },
  {
   "cell_type": "code",
   "execution_count": 4,
   "id": "6f1a40b1",
   "metadata": {},
   "outputs": [
    {
     "data": {
      "image/png": "[encoded data removed]",
      "text/plain": [
       "<Figure size 432x288 with 1 Axes>"
      ]
     },
     "metadata": {
      "needs_background": "light"
     },
     "output_type": "display_data"
    }
   ],
   "source": [
    "sns.scatterplot(data=df, x=\"time\", y=\"score\", )\n",
    "plt.title(\"Study Time vs Exam Score\")\n",
    "plt.show()"
   ]
  },
  {
   "cell_type": "markdown",
   "id": "c9f83af3",
   "metadata": {},
   "source": [
    "## Q2. Spearman's rank correlation is a measure of the monotonic relationship between two variables. Suppose you have collected data on the amount of sleep individuals get each night and their overall job satisfaction level on a scale of 1 to 10. Calculate the Spearman's rank correlation between these two variables and interpret the result."
   ]
  },
  {
   "cell_type": "markdown",
   "id": "2f1e4e53",
   "metadata": {},
   "source": [
    "Spearman's correlation is an upgraded form of calculating the correlation between the variables by taking into account the rank of each of the variables and not considering their magnitude. The formula for Spearman's correaltion is as follows:\n",
    "\n",
    "$$\\rho=1 - \\frac{6 \\sum d_{i}^{2}}{n (n^{2}-1)}$$\n",
    "\n",
    "$\\rho$\t=\tSpearman's rank correlation coefficient  \n",
    "$d_{i}$\t=\tdifference between the two ranks of each observation  \n",
    "$n$\t=\tnumber of observations"
   ]
  },
  {
   "cell_type": "code",
   "execution_count": 5,
   "id": "667b7c8f",
   "metadata": {},
   "outputs": [
    {
     "data": {
      "text/html": [
       "<div>\n",
       "<style scoped>\n",
       "    .dataframe tbody tr th:only-of-type {\n",
       "        vertical-align: middle;\n",
       "    }\n",
       "\n",
       "    .dataframe tbody tr th {\n",
       "        vertical-align: top;\n",
       "    }\n",
       "\n",
       "    .dataframe thead th {\n",
       "        text-align: right;\n",
       "    }\n",
       "</style>\n",
       "<table border=\"1\" class=\"dataframe\">\n",
       "  <thead>\n",
       "    <tr style=\"text-align: right;\">\n",
       "      <th></th>\n",
       "      <th>sleep</th>\n",
       "      <th>job_satisfaction</th>\n",
       "    </tr>\n",
       "  </thead>\n",
       "  <tbody>\n",
       "    <tr>\n",
       "      <th>0</th>\n",
       "      <td>6</td>\n",
       "      <td>6</td>\n",
       "    </tr>\n",
       "    <tr>\n",
       "      <th>1</th>\n",
       "      <td>3</td>\n",
       "      <td>0</td>\n",
       "    </tr>\n",
       "    <tr>\n",
       "      <th>2</th>\n",
       "      <td>4</td>\n",
       "      <td>2</td>\n",
       "    </tr>\n",
       "    <tr>\n",
       "      <th>3</th>\n",
       "      <td>6</td>\n",
       "      <td>6</td>\n",
       "    </tr>\n",
       "    <tr>\n",
       "      <th>4</th>\n",
       "      <td>2</td>\n",
       "      <td>0</td>\n",
       "    </tr>\n",
       "  </tbody>\n",
       "</table>\n",
       "</div>"
      ],
      "text/plain": [
       "   sleep  job_satisfaction\n",
       "0      6                 6\n",
       "1      3                 0\n",
       "2      4                 2\n",
       "3      6                 6\n",
       "4      2                 0"
      ]
     },
     "execution_count": 5,
     "metadata": {},
     "output_type": "execute_result"
    }
   ],
   "source": [
    "np.random.seed(42)\n",
    "\n",
    "sleep = np.random.randint(low=0, high=8, size=100)\n",
    "job_satisfaction = (sleep * 2) - 6\n",
    "\n",
    "for j in range(len(job_satisfaction)):\n",
    "    if job_satisfaction[j] < 0:\n",
    "        job_satisfaction[j] = 0\n",
    "\n",
    "df = pd.DataFrame({\n",
    "    \"sleep\" : sleep,\n",
    "    \"job_satisfaction\" : job_satisfaction\n",
    "})\n",
    "\n",
    "df.head()"
   ]
  },
  {
   "cell_type": "code",
   "execution_count": 6,
   "id": "a7c63e5e",
   "metadata": {},
   "outputs": [
    {
     "data": {
      "text/html": [
       "<div>\n",
       "<style scoped>\n",
       "    .dataframe tbody tr th:only-of-type {\n",
       "        vertical-align: middle;\n",
       "    }\n",
       "\n",
       "    .dataframe tbody tr th {\n",
       "        vertical-align: top;\n",
       "    }\n",
       "\n",
       "    .dataframe thead th {\n",
       "        text-align: right;\n",
       "    }\n",
       "</style>\n",
       "<table border=\"1\" class=\"dataframe\">\n",
       "  <thead>\n",
       "    <tr style=\"text-align: right;\">\n",
       "      <th></th>\n",
       "      <th>sleep</th>\n",
       "      <th>job_satisfaction</th>\n",
       "    </tr>\n",
       "  </thead>\n",
       "  <tbody>\n",
       "    <tr>\n",
       "      <th>sleep</th>\n",
       "      <td>1.000000</td>\n",
       "      <td>0.935934</td>\n",
       "    </tr>\n",
       "    <tr>\n",
       "      <th>job_satisfaction</th>\n",
       "      <td>0.935934</td>\n",
       "      <td>1.000000</td>\n",
       "    </tr>\n",
       "  </tbody>\n",
       "</table>\n",
       "</div>"
      ],
      "text/plain": [
       "                     sleep  job_satisfaction\n",
       "sleep             1.000000          0.935934\n",
       "job_satisfaction  0.935934          1.000000"
      ]
     },
     "execution_count": 6,
     "metadata": {},
     "output_type": "execute_result"
    }
   ],
   "source": [
    "df.corr(method=\"spearman\")"
   ]
  },
  {
   "cell_type": "markdown",
   "id": "a6e38b93",
   "metadata": {},
   "source": [
    "So we can observe that sleep and job satisfaction are highly correlated and they have a strong association between them"
   ]
  },
  {
   "cell_type": "code",
   "execution_count": 7,
   "id": "46de249b",
   "metadata": {},
   "outputs": [
    {
     "data": {
      "image/png": "[encoded data removed]",
      "text/plain": [
       "<Figure size 432x288 with 1 Axes>"
      ]
     },
     "metadata": {
      "needs_background": "light"
     },
     "output_type": "display_data"
    }
   ],
   "source": [
    "sns.scatterplot(data=df, x=\"sleep\", y=\"job_satisfaction\")\n",
    "plt.title(\"Sleep vs Job Satisfaction\")\n",
    "plt.show()"
   ]
  },
  {
   "cell_type": "markdown",
   "id": "800248a2",
   "metadata": {},
   "source": [
    "## Q3. Suppose you are conducting a study to examine the relationship between the number of hours of exercise per week and body mass index (BMI) in a sample of adults. You collected data on both variables for 50 participants. Calculate the Pearson correlation coefficient and the Spearman's rank correlation between these two variables and compare the results."
   ]
  },
  {
   "cell_type": "code",
   "execution_count": 20,
   "id": "cf807a3d",
   "metadata": {},
   "outputs": [
    {
     "data": {
      "text/html": [
       "<div>\n",
       "<style scoped>\n",
       "    .dataframe tbody tr th:only-of-type {\n",
       "        vertical-align: middle;\n",
       "    }\n",
       "\n",
       "    .dataframe tbody tr th {\n",
       "        vertical-align: top;\n",
       "    }\n",
       "\n",
       "    .dataframe thead th {\n",
       "        text-align: right;\n",
       "    }\n",
       "</style>\n",
       "<table border=\"1\" class=\"dataframe\">\n",
       "  <thead>\n",
       "    <tr style=\"text-align: right;\">\n",
       "      <th></th>\n",
       "      <th>exercise_hours</th>\n",
       "      <th>bmi</th>\n",
       "    </tr>\n",
       "  </thead>\n",
       "  <tbody>\n",
       "    <tr>\n",
       "      <th>0</th>\n",
       "      <td>5.745071</td>\n",
       "      <td>23.378201</td>\n",
       "    </tr>\n",
       "    <tr>\n",
       "      <th>1</th>\n",
       "      <td>4.792604</td>\n",
       "      <td>24.156446</td>\n",
       "    </tr>\n",
       "    <tr>\n",
       "      <th>2</th>\n",
       "      <td>5.971533</td>\n",
       "      <td>17.548039</td>\n",
       "    </tr>\n",
       "    <tr>\n",
       "      <th>3</th>\n",
       "      <td>7.284545</td>\n",
       "      <td>20.217999</td>\n",
       "    </tr>\n",
       "    <tr>\n",
       "      <th>4</th>\n",
       "      <td>4.648770</td>\n",
       "      <td>32.043831</td>\n",
       "    </tr>\n",
       "  </tbody>\n",
       "</table>\n",
       "</div>"
      ],
      "text/plain": [
       "   exercise_hours        bmi\n",
       "0        5.745071  23.378201\n",
       "1        4.792604  24.156446\n",
       "2        5.971533  17.548039\n",
       "3        7.284545  20.217999\n",
       "4        4.648770  32.043831"
      ]
     },
     "execution_count": 20,
     "metadata": {},
     "output_type": "execute_result"
    }
   ],
   "source": [
    "np.random.seed(42)\n",
    "\n",
    "exercise = np.random.normal(loc=5 , scale=1.5, size=50)\n",
    "bmi = 125/exercise + np.random.normal(loc=0, scale=5, size=50)\n",
    "\n",
    "df = pd.DataFrame({\n",
    "    \"exercise_hours\" : exercise,\n",
    "    \"bmi\" : bmi\n",
    "})\n",
    "df.head()"
   ]
  },
  {
   "cell_type": "code",
   "execution_count": 21,
   "id": "eb647250",
   "metadata": {},
   "outputs": [
    {
     "data": {
      "text/html": [
       "<div>\n",
       "<style scoped>\n",
       "    .dataframe tbody tr th:only-of-type {\n",
       "        vertical-align: middle;\n",
       "    }\n",
       "\n",
       "    .dataframe tbody tr th {\n",
       "        vertical-align: top;\n",
       "    }\n",
       "\n",
       "    .dataframe thead th {\n",
       "        text-align: right;\n",
       "    }\n",
       "</style>\n",
       "<table border=\"1\" class=\"dataframe\">\n",
       "  <thead>\n",
       "    <tr style=\"text-align: right;\">\n",
       "      <th></th>\n",
       "      <th>exercise_hours</th>\n",
       "      <th>bmi</th>\n",
       "    </tr>\n",
       "  </thead>\n",
       "  <tbody>\n",
       "    <tr>\n",
       "      <th>exercise_hours</th>\n",
       "      <td>1.000000</td>\n",
       "      <td>-0.850309</td>\n",
       "    </tr>\n",
       "    <tr>\n",
       "      <th>bmi</th>\n",
       "      <td>-0.850309</td>\n",
       "      <td>1.000000</td>\n",
       "    </tr>\n",
       "  </tbody>\n",
       "</table>\n",
       "</div>"
      ],
      "text/plain": [
       "                exercise_hours       bmi\n",
       "exercise_hours        1.000000 -0.850309\n",
       "bmi                  -0.850309  1.000000"
      ]
     },
     "execution_count": 21,
     "metadata": {},
     "output_type": "execute_result"
    }
   ],
   "source": [
    "# Pearson Correlation\n",
    "pearson = df.corr(method=\"pearson\")\n",
    "pearson"
   ]
  },
  {
   "cell_type": "code",
   "execution_count": 22,
   "id": "0cfe702e",
   "metadata": {},
   "outputs": [
    {
     "data": {
      "text/html": [
       "<div>\n",
       "<style scoped>\n",
       "    .dataframe tbody tr th:only-of-type {\n",
       "        vertical-align: middle;\n",
       "    }\n",
       "\n",
       "    .dataframe tbody tr th {\n",
       "        vertical-align: top;\n",
       "    }\n",
       "\n",
       "    .dataframe thead th {\n",
       "        text-align: right;\n",
       "    }\n",
       "</style>\n",
       "<table border=\"1\" class=\"dataframe\">\n",
       "  <thead>\n",
       "    <tr style=\"text-align: right;\">\n",
       "      <th></th>\n",
       "      <th>exercise_hours</th>\n",
       "      <th>bmi</th>\n",
       "    </tr>\n",
       "  </thead>\n",
       "  <tbody>\n",
       "    <tr>\n",
       "      <th>exercise_hours</th>\n",
       "      <td>1.000000</td>\n",
       "      <td>-0.835582</td>\n",
       "    </tr>\n",
       "    <tr>\n",
       "      <th>bmi</th>\n",
       "      <td>-0.835582</td>\n",
       "      <td>1.000000</td>\n",
       "    </tr>\n",
       "  </tbody>\n",
       "</table>\n",
       "</div>"
      ],
      "text/plain": [
       "                exercise_hours       bmi\n",
       "exercise_hours        1.000000 -0.835582\n",
       "bmi                  -0.835582  1.000000"
      ]
     },
     "execution_count": 22,
     "metadata": {},
     "output_type": "execute_result"
    }
   ],
   "source": [
    "# Spearman Correlation\n",
    "spearman = df.corr(method=\"spearman\")\n",
    "spearman"
   ]
  },
  {
   "cell_type": "markdown",
   "id": "d37b1d4f",
   "metadata": {},
   "source": [
    "So both Pearson and Spearman correlation matrix shows that exercise hourse and bmi are strongly inversely related to each other."
   ]
  },
  {
   "cell_type": "code",
   "execution_count": 23,
   "id": "2959e896",
   "metadata": {},
   "outputs": [
    {
     "data": {
      "image/png": "[encoded data removed]",
      "text/plain": [
       "<Figure size 432x288 with 1 Axes>"
      ]
     },
     "metadata": {
      "needs_background": "light"
     },
     "output_type": "display_data"
    }
   ],
   "source": [
    "sns.scatterplot(data=df, x=\"exercise_hours\",y=\"bmi\")\n",
    "plt.show()"
   ]
  },
  {
   "cell_type": "markdown",
   "id": "9982b6f9",
   "metadata": {},
   "source": [
    "## Q4. A researcher is interested in examining the relationship between the number of hours individuals spend watching television per day and their level of physical activity. The researcher collected data on both variables from a sample of 50 participants. Calculate the Pearson correlation coefficient between these two variables."
   ]
  },
  {
   "cell_type": "code",
   "execution_count": 34,
   "id": "7dfc9b3f",
   "metadata": {},
   "outputs": [
    {
     "data": {
      "text/html": [
       "<div>\n",
       "<style scoped>\n",
       "    .dataframe tbody tr th:only-of-type {\n",
       "        vertical-align: middle;\n",
       "    }\n",
       "\n",
       "    .dataframe tbody tr th {\n",
       "        vertical-align: top;\n",
       "    }\n",
       "\n",
       "    .dataframe thead th {\n",
       "        text-align: right;\n",
       "    }\n",
       "</style>\n",
       "<table border=\"1\" class=\"dataframe\">\n",
       "  <thead>\n",
       "    <tr style=\"text-align: right;\">\n",
       "      <th></th>\n",
       "      <th>tv_hours</th>\n",
       "      <th>physical_activity_level</th>\n",
       "    </tr>\n",
       "  </thead>\n",
       "  <tbody>\n",
       "    <tr>\n",
       "      <th>0</th>\n",
       "      <td>3.303981</td>\n",
       "      <td>4.814101</td>\n",
       "    </tr>\n",
       "    <tr>\n",
       "      <th>1</th>\n",
       "      <td>7.611813</td>\n",
       "      <td>2.337918</td>\n",
       "    </tr>\n",
       "    <tr>\n",
       "      <th>2</th>\n",
       "      <td>6.848416</td>\n",
       "      <td>2.386177</td>\n",
       "    </tr>\n",
       "    <tr>\n",
       "      <th>3</th>\n",
       "      <td>6.280824</td>\n",
       "      <td>2.274693</td>\n",
       "    </tr>\n",
       "    <tr>\n",
       "      <th>4</th>\n",
       "      <td>2.890526</td>\n",
       "      <td>3.100440</td>\n",
       "    </tr>\n",
       "  </tbody>\n",
       "</table>\n",
       "</div>"
      ],
      "text/plain": [
       "   tv_hours  physical_activity_level\n",
       "0  3.303981                 4.814101\n",
       "1  7.611813                 2.337918\n",
       "2  6.848416                 2.386177\n",
       "3  6.280824                 2.274693\n",
       "4  2.890526                 3.100440"
      ]
     },
     "execution_count": 34,
     "metadata": {},
     "output_type": "execute_result"
    }
   ],
   "source": [
    "np.random.seed(47)\n",
    "\n",
    "n = 50\n",
    "tv_hours = np.random.normal(loc=5,scale=2,size=n)\n",
    "physical_activity = 15/tv_hours + np.random.normal(loc=0, scale=1, size=n)\n",
    "\n",
    "df = pd.DataFrame({\n",
    "    \"tv_hours\" : tv_hours,\n",
    "    \"physical_activity_level\" : physical_activity\n",
    "})\n",
    "df.head()"
   ]
  },
  {
   "cell_type": "code",
   "execution_count": 35,
   "id": "5d59d9cf",
   "metadata": {},
   "outputs": [
    {
     "data": {
      "text/html": [
       "<div>\n",
       "<style scoped>\n",
       "    .dataframe tbody tr th:only-of-type {\n",
       "        vertical-align: middle;\n",
       "    }\n",
       "\n",
       "    .dataframe tbody tr th {\n",
       "        vertical-align: top;\n",
       "    }\n",
       "\n",
       "    .dataframe thead th {\n",
       "        text-align: right;\n",
       "    }\n",
       "</style>\n",
       "<table border=\"1\" class=\"dataframe\">\n",
       "  <thead>\n",
       "    <tr style=\"text-align: right;\">\n",
       "      <th></th>\n",
       "      <th>tv_hours</th>\n",
       "      <th>physical_activity_level</th>\n",
       "    </tr>\n",
       "  </thead>\n",
       "  <tbody>\n",
       "    <tr>\n",
       "      <th>tv_hours</th>\n",
       "      <td>1.0000</td>\n",
       "      <td>-0.6736</td>\n",
       "    </tr>\n",
       "    <tr>\n",
       "      <th>physical_activity_level</th>\n",
       "      <td>-0.6736</td>\n",
       "      <td>1.0000</td>\n",
       "    </tr>\n",
       "  </tbody>\n",
       "</table>\n",
       "</div>"
      ],
      "text/plain": [
       "                         tv_hours  physical_activity_level\n",
       "tv_hours                   1.0000                  -0.6736\n",
       "physical_activity_level   -0.6736                   1.0000"
      ]
     },
     "execution_count": 35,
     "metadata": {},
     "output_type": "execute_result"
    }
   ],
   "source": [
    "pearson = df.corr(method=\"pearson\")\n",
    "pearson"
   ]
  },
  {
   "cell_type": "markdown",
   "id": "4ca784be",
   "metadata": {},
   "source": [
    "So we can observe that physical activity and the number of hours of watching tv are strongly and inversely correlated."
   ]
  },
  {
   "cell_type": "code",
   "execution_count": 36,
   "id": "f6a6f2a9",
   "metadata": {},
   "outputs": [
    {
     "data": {
      "image/png": "[encoded data removed]",
      "text/plain": [
       "<Figure size 432x288 with 1 Axes>"
      ]
     },
     "metadata": {
      "needs_background": "light"
     },
     "output_type": "display_data"
    }
   ],
   "source": [
    "sns.scatterplot(data=df, x=\"tv_hours\",y=\"physical_activity_level\")\n",
    "plt.show()"
   ]
  },
  {
   "cell_type": "markdown",
   "id": "5e0b0efd",
   "metadata": {},
   "source": [
    "## Q5. A survey was conducted to examine the relationship between age and preference for a particular brand of soft drink. The survey results are shown below:\n",
    "\n",
    "|Age(Years)| Soft drink Preference|\n",
    "|---|---|\n",
    "|25| Coke|\n",
    "|42| Pepsi|\n",
    "|37|Mountain dew|\n",
    "|19|Coke|\n",
    "|31|Pepsi|\n",
    "|28|Coke|"
   ]
  },
  {
   "cell_type": "code",
   "execution_count": 37,
   "id": "b4d59e88",
   "metadata": {},
   "outputs": [
    {
     "data": {
      "text/html": [
       "<div>\n",
       "<style scoped>\n",
       "    .dataframe tbody tr th:only-of-type {\n",
       "        vertical-align: middle;\n",
       "    }\n",
       "\n",
       "    .dataframe tbody tr th {\n",
       "        vertical-align: top;\n",
       "    }\n",
       "\n",
       "    .dataframe thead th {\n",
       "        text-align: right;\n",
       "    }\n",
       "</style>\n",
       "<table border=\"1\" class=\"dataframe\">\n",
       "  <thead>\n",
       "    <tr style=\"text-align: right;\">\n",
       "      <th></th>\n",
       "      <th>age</th>\n",
       "      <th>preference</th>\n",
       "    </tr>\n",
       "  </thead>\n",
       "  <tbody>\n",
       "    <tr>\n",
       "      <th>0</th>\n",
       "      <td>25</td>\n",
       "      <td>Coke</td>\n",
       "    </tr>\n",
       "    <tr>\n",
       "      <th>1</th>\n",
       "      <td>42</td>\n",
       "      <td>Pepsi</td>\n",
       "    </tr>\n",
       "    <tr>\n",
       "      <th>2</th>\n",
       "      <td>37</td>\n",
       "      <td>Mountain dew</td>\n",
       "    </tr>\n",
       "    <tr>\n",
       "      <th>3</th>\n",
       "      <td>19</td>\n",
       "      <td>Coke</td>\n",
       "    </tr>\n",
       "    <tr>\n",
       "      <th>4</th>\n",
       "      <td>31</td>\n",
       "      <td>Pepsi</td>\n",
       "    </tr>\n",
       "  </tbody>\n",
       "</table>\n",
       "</div>"
      ],
      "text/plain": [
       "   age    preference\n",
       "0   25          Coke\n",
       "1   42         Pepsi\n",
       "2   37  Mountain dew\n",
       "3   19          Coke\n",
       "4   31         Pepsi"
      ]
     },
     "execution_count": 37,
     "metadata": {},
     "output_type": "execute_result"
    }
   ],
   "source": [
    "df = pd.DataFrame({\n",
    "    \"age\" : [25,42,37,19,31,28],\n",
    "    \"preference\" : [\"Coke\",\"Pepsi\",\"Mountain dew\",\"Coke\",\"Pepsi\",\"Coke\"]\n",
    "})\n",
    "df.head()"
   ]
  },
  {
   "attachments": {
    "image.png": {
     "image/png": "[encoded data removed]"
    }
   },
   "cell_type": "markdown",
   "id": "6ddb435b",
   "metadata": {},
   "source": [
    "Here we need to determine the realtionship between age and the preference for soft drink. So here one is a continuous numerical variable and the other is a categorical variable.\n",
    "\n",
    "Various techniques are known for conducting correlation tests, some of which are Pearson and Spearman correlations. Still, these techniques do not help conduct correlation tests between continuous and categorical variables.\n",
    "\n",
    "<u>Table for Guidance</u>\n",
    "\n",
    "![image.png](attachment:image.png)\n",
    "\n",
    "If we want to calculate the correlation between categorical and continuous variables, then the ANOVA test can be used for the same. Also, the logistic regression approach is better for calculating the correlation if the target column is categorical. Other than these, the point biserial methods can also be used to calculate the correlation between categorical and continuous variables.\n",
    "\n",
    "#### Performing One Way ANOVA"
   ]
  },
  {
   "cell_type": "code",
   "execution_count": 45,
   "id": "e9faad32",
   "metadata": {},
   "outputs": [
    {
     "name": "stdout",
     "output_type": "stream",
     "text": [
      "F-statistic: 3.524390243902438\n",
      "p-value: 0.1631217391539759\n"
     ]
    }
   ],
   "source": [
    "from scipy.stats import f_oneway\n",
    "\n",
    "coke = df[df[\"preference\"] == \"Coke\"][\"age\"]\n",
    "pepsi = df[df[\"preference\"] == \"Pepsi\"][\"age\"]\n",
    "mountain_dew = df[df[\"preference\"] == \"Mountain dew\"][\"age\"]\n",
    "\n",
    "f_stats, p_val = f_oneway(coke, pepsi, mountain_dew)\n",
    "print('F-statistic:', f_stats)\n",
    "print('p-value:', p_val)"
   ]
  },
  {
   "cell_type": "code",
   "execution_count": 48,
   "id": "bd043f5b",
   "metadata": {},
   "outputs": [
    {
     "name": "stdout",
     "output_type": "stream",
     "text": [
      "FAIL to reject the Null Hypothesis\n",
      "Conclusion : Age and Soft Drink Preference are INDEPENDENT of each other\n"
     ]
    }
   ],
   "source": [
    "# Assuming confidence interval alpha = 0.05\n",
    "alpha = 0.05\n",
    "\n",
    "if p_val < alpha:\n",
    "    print('Reject the Null Hypothesis')\n",
    "    print('Conclusion : Age and Soft Drink Preference are DEPENDENT of each other')\n",
    "else:\n",
    "    print('FAIL to reject the Null Hypothesis')\n",
    "    print('Conclusion : Age and Soft Drink Preference are INDEPENDENT of each other')"
   ]
  },
  {
   "cell_type": "code",
   "execution_count": 52,
   "id": "fb69651f",
   "metadata": {},
   "outputs": [
    {
     "data": {
      "image/png": "[encoded data removed]",
      "text/plain": [
       "<Figure size 432x288 with 1 Axes>"
      ]
     },
     "metadata": {
      "needs_background": "light"
     },
     "output_type": "display_data"
    }
   ],
   "source": [
    "sns.boxplot(data=df, x=\"age\", y=\"preference\")\n",
    "plt.show()"
   ]
  },
  {
   "cell_type": "markdown",
   "id": "c7cab630",
   "metadata": {},
   "source": [
    "## Q6. A company is interested in examining the relationship between the number of sales calls made per day and the number of sales made per week. The company collected data on both variables from a sample of 30 sales representatives. Calculate the Pearson correlation coefficient between these two variables."
   ]
  },
  {
   "cell_type": "code",
   "execution_count": 57,
   "id": "2567f19a",
   "metadata": {},
   "outputs": [
    {
     "data": {
      "text/html": [
       "<div>\n",
       "<style scoped>\n",
       "    .dataframe tbody tr th:only-of-type {\n",
       "        vertical-align: middle;\n",
       "    }\n",
       "\n",
       "    .dataframe tbody tr th {\n",
       "        vertical-align: top;\n",
       "    }\n",
       "\n",
       "    .dataframe thead th {\n",
       "        text-align: right;\n",
       "    }\n",
       "</style>\n",
       "<table border=\"1\" class=\"dataframe\">\n",
       "  <thead>\n",
       "    <tr style=\"text-align: right;\">\n",
       "      <th></th>\n",
       "      <th>sales_calls</th>\n",
       "      <th>sales_per_week</th>\n",
       "    </tr>\n",
       "  </thead>\n",
       "  <tbody>\n",
       "    <tr>\n",
       "      <th>0</th>\n",
       "      <td>12</td>\n",
       "      <td>1.0</td>\n",
       "    </tr>\n",
       "    <tr>\n",
       "      <th>1</th>\n",
       "      <td>11</td>\n",
       "      <td>2.0</td>\n",
       "    </tr>\n",
       "    <tr>\n",
       "      <th>2</th>\n",
       "      <td>12</td>\n",
       "      <td>1.0</td>\n",
       "    </tr>\n",
       "    <tr>\n",
       "      <th>3</th>\n",
       "      <td>13</td>\n",
       "      <td>2.0</td>\n",
       "    </tr>\n",
       "    <tr>\n",
       "      <th>4</th>\n",
       "      <td>13</td>\n",
       "      <td>1.0</td>\n",
       "    </tr>\n",
       "  </tbody>\n",
       "</table>\n",
       "</div>"
      ],
      "text/plain": [
       "   sales_calls  sales_per_week\n",
       "0           12             1.0\n",
       "1           11             2.0\n",
       "2           12             1.0\n",
       "3           13             2.0\n",
       "4           13             1.0"
      ]
     },
     "execution_count": 57,
     "metadata": {},
     "output_type": "execute_result"
    }
   ],
   "source": [
    "np.random.seed(47)\n",
    "\n",
    "n = 30\n",
    "calls = np.random.randint(low=5,high=15,size=n)\n",
    "sales_per_week = np.round(calls * np.random.uniform(0.05, 0.2, size=n), decimals=0)\n",
    "\n",
    "\n",
    "df = pd.DataFrame({\n",
    "    \"sales_calls\" : calls,\n",
    "    \"sales_per_week\": sales_per_week\n",
    "})\n",
    "\n",
    "df.head()"
   ]
  },
  {
   "cell_type": "code",
   "execution_count": 58,
   "id": "0840f3b1",
   "metadata": {},
   "outputs": [
    {
     "data": {
      "text/html": [
       "<div>\n",
       "<style scoped>\n",
       "    .dataframe tbody tr th:only-of-type {\n",
       "        vertical-align: middle;\n",
       "    }\n",
       "\n",
       "    .dataframe tbody tr th {\n",
       "        vertical-align: top;\n",
       "    }\n",
       "\n",
       "    .dataframe thead th {\n",
       "        text-align: right;\n",
       "    }\n",
       "</style>\n",
       "<table border=\"1\" class=\"dataframe\">\n",
       "  <thead>\n",
       "    <tr style=\"text-align: right;\">\n",
       "      <th></th>\n",
       "      <th>sales_calls</th>\n",
       "      <th>sales_per_week</th>\n",
       "    </tr>\n",
       "  </thead>\n",
       "  <tbody>\n",
       "    <tr>\n",
       "      <th>sales_calls</th>\n",
       "      <td>1.000000</td>\n",
       "      <td>0.488587</td>\n",
       "    </tr>\n",
       "    <tr>\n",
       "      <th>sales_per_week</th>\n",
       "      <td>0.488587</td>\n",
       "      <td>1.000000</td>\n",
       "    </tr>\n",
       "  </tbody>\n",
       "</table>\n",
       "</div>"
      ],
      "text/plain": [
       "                sales_calls  sales_per_week\n",
       "sales_calls        1.000000        0.488587\n",
       "sales_per_week     0.488587        1.000000"
      ]
     },
     "execution_count": 58,
     "metadata": {},
     "output_type": "execute_result"
    }
   ],
   "source": [
    "pearson = df.corr(method=\"pearson\")\n",
    "pearson"
   ]
  },
  {
   "cell_type": "markdown",
   "id": "ebaf64f0",
   "metadata": {},
   "source": [
    "This shows that they are moderately correlated but not a strong one."
   ]
  },
  {
   "cell_type": "code",
   "execution_count": 65,
   "id": "d857f1de",
   "metadata": {},
   "outputs": [
    {
     "data": {
      "image/png": "[encoded data removed]",
      "text/plain": [
       "<Figure size 432x288 with 1 Axes>"
      ]
     },
     "metadata": {
      "needs_background": "light"
     },
     "output_type": "display_data"
    }
   ],
   "source": [
    "sns.regplot(data=df, x=\"sales_calls\", y=\"sales_per_week\", line_kws={'color':'red'})\n",
    "plt.show()"
   ]
  }
 ],
 "metadata": {
  "kernelspec": {
   "display_name": "Python 3 (ipykernel)",
   "language": "python",
   "name": "python3"
  },
  "language_info": {
   "codemirror_mode": {
    "name": "ipython",
    "version": 3
   },
   "file_extension": ".py",
   "mimetype": "text/x-python",
   "name": "python",
   "nbconvert_exporter": "python",
   "pygments_lexer": "ipython3",
   "version": "3.9.12"
  }
 },
 "nbformat": 4,
 "nbformat_minor": 5
}
