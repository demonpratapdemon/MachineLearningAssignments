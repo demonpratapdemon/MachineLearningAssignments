{
 "cells": [
  {
   "cell_type": "code",
   "execution_count": 2,
   "id": "5b830f6d-792b-4370-96f5-b7925180c137",
   "metadata": {},
   "outputs": [],
   "source": [
    "import numpy as np\n",
    "list_ = ['1', '2', '3', '4', '5']\n",
    "array_list = np.array(object = list_)"
   ]
  },
  {
   "cell_type": "markdown",
   "id": "ac5f39ff-38de-4f8a-8ff1-74363bf3f78e",
   "metadata": {},
   "source": [
    "**Q1. Is there any difference in the data type of variables list_ and array_list? If there is then write a code\n",
    "to print the data types of both the variables.**"
   ]
  },
  {
   "cell_type": "markdown",
   "id": "16e64e1e-d902-44d6-a581-60d8f35a99b0",
   "metadata": {},
   "source": [
    "Yes there is a difference in the data types for both the variables.  \n",
    "list_ is a variable of type \"list\"  \n",
    "array_list is a variable of type \"numpy array of string\""
   ]
  },
  {
   "cell_type": "code",
   "execution_count": 7,
   "id": "18b995b0-bce3-4b20-b607-afecbf10e776",
   "metadata": {},
   "outputs": [
    {
     "name": "stdout",
     "output_type": "stream",
     "text": [
      "<class 'list'>\n",
      "<class 'numpy.ndarray'>\n"
     ]
    }
   ],
   "source": [
    "print(type(list_))\n",
    "print(type(array_list))"
   ]
  },
  {
   "cell_type": "markdown",
   "id": "e27ebca0-23ef-4b31-a218-7848d02ecb95",
   "metadata": {},
   "source": [
    "**Q2. Write a code to print the data type of each and every element of both the variables list_ and\n",
    "array_list.**"
   ]
  },
  {
   "cell_type": "code",
   "execution_count": 12,
   "id": "896ec512-5296-4e8f-8451-6a179acca2eb",
   "metadata": {},
   "outputs": [
    {
     "name": "stdout",
     "output_type": "stream",
     "text": [
      "<class 'str'>\n",
      "<class 'str'>\n",
      "<class 'str'>\n",
      "<class 'str'>\n",
      "<class 'str'>\n",
      "********************************\n",
      "<class 'numpy.str_'>\n",
      "<class 'numpy.str_'>\n",
      "<class 'numpy.str_'>\n",
      "<class 'numpy.str_'>\n",
      "<class 'numpy.str_'>\n"
     ]
    }
   ],
   "source": [
    "for val in list_:\n",
    "    print(type(val))\n",
    "    \n",
    "print(\"********************************\")\n",
    "\n",
    "for val in array_list:\n",
    "    print(type(val))"
   ]
  },
  {
   "cell_type": "markdown",
   "id": "014fb746-aac7-4170-a2b6-4a2e050c539f",
   "metadata": {},
   "source": [
    "**Q3. Considering the following changes in the variable, array_list:  \n",
    "array_list = np.array(object = list_, dtype = int)  \n",
    "Will there be any difference in the data type of the elements present in both the variables, list_ and\n",
    "array_list? If so then print the data types of each and every element present in both the variables, list_\n",
    "and array_list.**"
   ]
  },
  {
   "cell_type": "markdown",
   "id": "58a4c292-c6cc-4c8c-ac86-ed0c67ec99b2",
   "metadata": {},
   "source": [
    "Yes there will be change in the data type of the elements since we specifically mention the \"dtype\". So the values of the list will be convereted to integer."
   ]
  },
  {
   "cell_type": "code",
   "execution_count": 17,
   "id": "dd81b743-4fcf-45ed-840a-90a88d95fc40",
   "metadata": {},
   "outputs": [
    {
     "name": "stdout",
     "output_type": "stream",
     "text": [
      "<class 'str'>\n",
      "<class 'str'>\n",
      "<class 'str'>\n",
      "<class 'str'>\n",
      "<class 'str'>\n",
      "********************************\n",
      "<class 'numpy.int64'>\n",
      "<class 'numpy.int64'>\n",
      "<class 'numpy.int64'>\n",
      "<class 'numpy.int64'>\n",
      "<class 'numpy.int64'>\n"
     ]
    }
   ],
   "source": [
    "array_list = np.array(object = list_, dtype = int)\n",
    "\n",
    "for val in list_:\n",
    "    print(type(val))\n",
    "    \n",
    "print(\"********************************\")\n",
    "\n",
    "for val in array_list:\n",
    "    print(type(val))"
   ]
  },
  {
   "cell_type": "markdown",
   "id": "275d9f24-7d71-4aac-9755-aa0cfe5a184a",
   "metadata": {},
   "source": [
    "**Consider the below code to answer further questions:  \n",
    "import numpy as np  \n",
    "num_list = [ [ 1 , 2 , 3 ] , [ 4 , 5 , 6 ] ]  \n",
    "num_array = np.array(object = num_list)**"
   ]
  },
  {
   "cell_type": "code",
   "execution_count": 1,
   "id": "173d151e-878c-4f05-a2bd-e9faaea81d78",
   "metadata": {},
   "outputs": [],
   "source": [
    "import numpy as np\n",
    "num_list = [ [ 1 , 2 , 3 ] , [ 4 , 5 , 6 ] ]\n",
    "num_array = np.array(object = num_list)"
   ]
  },
  {
   "cell_type": "markdown",
   "id": "d1d5bfdf-9592-47eb-9b1e-d36d0c935542",
   "metadata": {},
   "source": [
    "**Q4. Write a code to find the following characteristics of variable, num_array:  \n",
    "(i) shape  \n",
    "(ii) size**"
   ]
  },
  {
   "cell_type": "code",
   "execution_count": 3,
   "id": "f829956e-16cf-41b8-969a-758fc8dd8b59",
   "metadata": {},
   "outputs": [
    {
     "name": "stdout",
     "output_type": "stream",
     "text": [
      "(2, 3)\n",
      "6\n"
     ]
    }
   ],
   "source": [
    "print(num_array.shape)\n",
    "print(num_array.size)"
   ]
  },
  {
   "cell_type": "markdown",
   "id": "e5439f18-ac2e-42fd-86aa-c939e46adf9f",
   "metadata": {},
   "source": [
    "**Q5. Write a code to create numpy array of 3*3 matrix containing zeros only, using a numpy array\n",
    "creation function.\n",
    "[Hint: The size of the array will be 9 and the shape will be (3,3).]**"
   ]
  },
  {
   "cell_type": "code",
   "execution_count": 6,
   "id": "63618e2b-6158-47bb-8585-c2c090e835b8",
   "metadata": {},
   "outputs": [
    {
     "data": {
      "text/plain": [
       "array([[0., 0., 0.],\n",
       "       [0., 0., 0.],\n",
       "       [0., 0., 0.]])"
      ]
     },
     "execution_count": 6,
     "metadata": {},
     "output_type": "execute_result"
    }
   ],
   "source": [
    "arr_zero = np.zeros((3,3))\n",
    "arr_zero"
   ]
  },
  {
   "cell_type": "markdown",
   "id": "2e84ebb0-6c54-4727-b277-8d28b67868c0",
   "metadata": {},
   "source": [
    "**Q6. Create an identity matrix of shape (5,5) using numpy functions?\n",
    "[Hint: An identity matrix is a matrix containing 1 diagonally and other elements will be 0.]**"
   ]
  },
  {
   "cell_type": "code",
   "execution_count": 8,
   "id": "172c979d-433d-43ad-b96d-33c016050a57",
   "metadata": {},
   "outputs": [
    {
     "data": {
      "text/plain": [
       "array([[1., 0., 0., 0., 0.],\n",
       "       [0., 1., 0., 0., 0.],\n",
       "       [0., 0., 1., 0., 0.],\n",
       "       [0., 0., 0., 1., 0.],\n",
       "       [0., 0., 0., 0., 1.]])"
      ]
     },
     "execution_count": 8,
     "metadata": {},
     "output_type": "execute_result"
    }
   ],
   "source": [
    "identity = np.eye(5)\n",
    "identity"
   ]
  }
 ],
 "metadata": {
  "kernelspec": {
   "display_name": "Python 3 (ipykernel)",
   "language": "python",
   "name": "python3"
  },
  "language_info": {
   "codemirror_mode": {
    "name": "ipython",
    "version": 3
   },
   "file_extension": ".py",
   "mimetype": "text/x-python",
   "name": "python",
   "nbconvert_exporter": "python",
   "pygments_lexer": "ipython3",
   "version": "3.10.8"
  }
 },
 "nbformat": 4,
 "nbformat_minor": 5
}
